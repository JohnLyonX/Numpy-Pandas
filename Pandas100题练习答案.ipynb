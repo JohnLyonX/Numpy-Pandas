{
 "cells": [
  {
   "cell_type": "code",
   "execution_count": 54,
   "id": "initial_id",
   "metadata": {
    "collapsed": true,
    "ExecuteTime": {
     "end_time": "2023-12-15T09:41:38.547619Z",
     "start_time": "2023-12-15T09:41:38.506514Z"
    }
   },
   "outputs": [],
   "source": [
    "import pandas as pd\n",
    "import numpy as np\n",
    "from pandas import DataFrame\n",
    "import seaborn as sns"
   ]
  },
  {
   "cell_type": "code",
   "execution_count": 55,
   "outputs": [
    {
     "data": {
      "text/plain": "  grammer  score\n0  Python    1.0\n1       C    2.0\n2    Java    NaN\n3      GO    4.0\n4     NaN    5.0\n5     SQL    6.0\n6     PHP    7.0\n7  Python   10.0",
      "text/html": "<div>\n<style scoped>\n    .dataframe tbody tr th:only-of-type {\n        vertical-align: middle;\n    }\n\n    .dataframe tbody tr th {\n        vertical-align: top;\n    }\n\n    .dataframe thead th {\n        text-align: right;\n    }\n</style>\n<table border=\"1\" class=\"dataframe\">\n  <thead>\n    <tr style=\"text-align: right;\">\n      <th></th>\n      <th>grammer</th>\n      <th>score</th>\n    </tr>\n  </thead>\n  <tbody>\n    <tr>\n      <th>0</th>\n      <td>Python</td>\n      <td>1.0</td>\n    </tr>\n    <tr>\n      <th>1</th>\n      <td>C</td>\n      <td>2.0</td>\n    </tr>\n    <tr>\n      <th>2</th>\n      <td>Java</td>\n      <td>NaN</td>\n    </tr>\n    <tr>\n      <th>3</th>\n      <td>GO</td>\n      <td>4.0</td>\n    </tr>\n    <tr>\n      <th>4</th>\n      <td>NaN</td>\n      <td>5.0</td>\n    </tr>\n    <tr>\n      <th>5</th>\n      <td>SQL</td>\n      <td>6.0</td>\n    </tr>\n    <tr>\n      <th>6</th>\n      <td>PHP</td>\n      <td>7.0</td>\n    </tr>\n    <tr>\n      <th>7</th>\n      <td>Python</td>\n      <td>10.0</td>\n    </tr>\n  </tbody>\n</table>\n</div>"
     },
     "execution_count": 55,
     "metadata": {},
     "output_type": "execute_result"
    }
   ],
   "source": [
    "#1.将下面的字典创建为DataFrame\n",
    "data = {\"grammer\": [\"Python\", \"C\", \"Java\", \"GO\", np.nan, \"SQL\", \"PHP\", \"Python\"],\n",
    "        \"score\": [1, 2, np.nan, 4, 5, 6, 7, 10]}\n",
    "df = DataFrame(data)\n",
    "df"
   ],
   "metadata": {
    "collapsed": false,
    "ExecuteTime": {
     "end_time": "2023-12-15T09:41:38.612547Z",
     "start_time": "2023-12-15T09:41:38.550939Z"
    }
   },
   "id": "326fa39d30af6d97"
  },
  {
   "cell_type": "code",
   "execution_count": 56,
   "outputs": [
    {
     "data": {
      "text/plain": "  grammer  score\n0  Python    1.0\n7  Python   10.0",
      "text/html": "<div>\n<style scoped>\n    .dataframe tbody tr th:only-of-type {\n        vertical-align: middle;\n    }\n\n    .dataframe tbody tr th {\n        vertical-align: top;\n    }\n\n    .dataframe thead th {\n        text-align: right;\n    }\n</style>\n<table border=\"1\" class=\"dataframe\">\n  <thead>\n    <tr style=\"text-align: right;\">\n      <th></th>\n      <th>grammer</th>\n      <th>score</th>\n    </tr>\n  </thead>\n  <tbody>\n    <tr>\n      <th>0</th>\n      <td>Python</td>\n      <td>1.0</td>\n    </tr>\n    <tr>\n      <th>7</th>\n      <td>Python</td>\n      <td>10.0</td>\n    </tr>\n  </tbody>\n</table>\n</div>"
     },
     "execution_count": 56,
     "metadata": {},
     "output_type": "execute_result"
    }
   ],
   "source": [
    "#2.提取含有字符串\"Python\"的行\n",
    "df[df['grammer'] == 'Python']"
   ],
   "metadata": {
    "collapsed": false,
    "ExecuteTime": {
     "end_time": "2023-12-15T09:41:38.667568Z",
     "start_time": "2023-12-15T09:41:38.615148Z"
    }
   },
   "id": "3489da23f7449da2"
  },
  {
   "cell_type": "code",
   "execution_count": 57,
   "outputs": [
    {
     "data": {
      "text/plain": "Index(['grammer', 'score'], dtype='object')"
     },
     "execution_count": 57,
     "metadata": {},
     "output_type": "execute_result"
    }
   ],
   "source": [
    "#3.打印输出df的所有列名\n",
    "df.columns"
   ],
   "metadata": {
    "collapsed": false,
    "ExecuteTime": {
     "end_time": "2023-12-15T09:41:38.686968Z",
     "start_time": "2023-12-15T09:41:38.654133Z"
    }
   },
   "id": "f252f99240c105ae"
  },
  {
   "cell_type": "code",
   "execution_count": 58,
   "outputs": [
    {
     "data": {
      "text/plain": "  grammer  popularity\n0  Python         1.0\n1       C         2.0\n2    Java         NaN\n3      GO         4.0\n4     NaN         5.0\n5     SQL         6.0\n6     PHP         7.0\n7  Python        10.0",
      "text/html": "<div>\n<style scoped>\n    .dataframe tbody tr th:only-of-type {\n        vertical-align: middle;\n    }\n\n    .dataframe tbody tr th {\n        vertical-align: top;\n    }\n\n    .dataframe thead th {\n        text-align: right;\n    }\n</style>\n<table border=\"1\" class=\"dataframe\">\n  <thead>\n    <tr style=\"text-align: right;\">\n      <th></th>\n      <th>grammer</th>\n      <th>popularity</th>\n    </tr>\n  </thead>\n  <tbody>\n    <tr>\n      <th>0</th>\n      <td>Python</td>\n      <td>1.0</td>\n    </tr>\n    <tr>\n      <th>1</th>\n      <td>C</td>\n      <td>2.0</td>\n    </tr>\n    <tr>\n      <th>2</th>\n      <td>Java</td>\n      <td>NaN</td>\n    </tr>\n    <tr>\n      <th>3</th>\n      <td>GO</td>\n      <td>4.0</td>\n    </tr>\n    <tr>\n      <th>4</th>\n      <td>NaN</td>\n      <td>5.0</td>\n    </tr>\n    <tr>\n      <th>5</th>\n      <td>SQL</td>\n      <td>6.0</td>\n    </tr>\n    <tr>\n      <th>6</th>\n      <td>PHP</td>\n      <td>7.0</td>\n    </tr>\n    <tr>\n      <th>7</th>\n      <td>Python</td>\n      <td>10.0</td>\n    </tr>\n  </tbody>\n</table>\n</div>"
     },
     "execution_count": 58,
     "metadata": {},
     "output_type": "execute_result"
    }
   ],
   "source": [
    "#4.修改第二列列名为’popularity’\n",
    "df = df.rename(columns={'score': 'popularity'})\n",
    "df"
   ],
   "metadata": {
    "collapsed": false,
    "ExecuteTime": {
     "end_time": "2023-12-15T09:41:38.728934Z",
     "start_time": "2023-12-15T09:41:38.689778Z"
    }
   },
   "id": "149800a167acbaf5"
  },
  {
   "cell_type": "code",
   "execution_count": 59,
   "outputs": [
    {
     "data": {
      "text/plain": "grammer\nPython    2\nC         1\nJava      1\nGO        1\nSQL       1\nPHP       1\nName: count, dtype: int64"
     },
     "execution_count": 59,
     "metadata": {},
     "output_type": "execute_result"
    }
   ],
   "source": [
    "#5.统计grammer列中每种编程语言出现的次数\n",
    "df['grammer'].value_counts()"
   ],
   "metadata": {
    "collapsed": false,
    "ExecuteTime": {
     "end_time": "2023-12-15T09:41:38.780596Z",
     "start_time": "2023-12-15T09:41:38.729828Z"
    }
   },
   "id": "6b6c5cbd9128e71b"
  },
  {
   "cell_type": "code",
   "execution_count": 60,
   "outputs": [
    {
     "data": {
      "text/plain": "  grammer  popularity\n0  Python         1.0\n1       C         2.0\n2    Java         NaN\n3      GO         4.0\n4     NaN         5.0\n5     SQL         6.0\n6     PHP         7.0\n7  Python        10.0",
      "text/html": "<div>\n<style scoped>\n    .dataframe tbody tr th:only-of-type {\n        vertical-align: middle;\n    }\n\n    .dataframe tbody tr th {\n        vertical-align: top;\n    }\n\n    .dataframe thead th {\n        text-align: right;\n    }\n</style>\n<table border=\"1\" class=\"dataframe\">\n  <thead>\n    <tr style=\"text-align: right;\">\n      <th></th>\n      <th>grammer</th>\n      <th>popularity</th>\n    </tr>\n  </thead>\n  <tbody>\n    <tr>\n      <th>0</th>\n      <td>Python</td>\n      <td>1.0</td>\n    </tr>\n    <tr>\n      <th>1</th>\n      <td>C</td>\n      <td>2.0</td>\n    </tr>\n    <tr>\n      <th>2</th>\n      <td>Java</td>\n      <td>NaN</td>\n    </tr>\n    <tr>\n      <th>3</th>\n      <td>GO</td>\n      <td>4.0</td>\n    </tr>\n    <tr>\n      <th>4</th>\n      <td>NaN</td>\n      <td>5.0</td>\n    </tr>\n    <tr>\n      <th>5</th>\n      <td>SQL</td>\n      <td>6.0</td>\n    </tr>\n    <tr>\n      <th>6</th>\n      <td>PHP</td>\n      <td>7.0</td>\n    </tr>\n    <tr>\n      <th>7</th>\n      <td>Python</td>\n      <td>10.0</td>\n    </tr>\n  </tbody>\n</table>\n</div>"
     },
     "execution_count": 60,
     "metadata": {},
     "output_type": "execute_result"
    }
   ],
   "source": [
    "# 将空值用上下值的平均值填充 (2 + 4) / 2 = 3\n",
    "df['popularity'].fillna(df['popularity'].interpolate())\n",
    "df"
   ],
   "metadata": {
    "collapsed": false,
    "ExecuteTime": {
     "end_time": "2023-12-15T09:41:38.813585Z",
     "start_time": "2023-12-15T09:41:38.776490Z"
    }
   },
   "id": "3ef0a3323a8ce18f"
  },
  {
   "cell_type": "code",
   "execution_count": 61,
   "outputs": [
    {
     "data": {
      "text/plain": "  grammer  popularity\n3      GO         4.0\n4     NaN         5.0\n5     SQL         6.0\n6     PHP         7.0\n7  Python        10.0",
      "text/html": "<div>\n<style scoped>\n    .dataframe tbody tr th:only-of-type {\n        vertical-align: middle;\n    }\n\n    .dataframe tbody tr th {\n        vertical-align: top;\n    }\n\n    .dataframe thead th {\n        text-align: right;\n    }\n</style>\n<table border=\"1\" class=\"dataframe\">\n  <thead>\n    <tr style=\"text-align: right;\">\n      <th></th>\n      <th>grammer</th>\n      <th>popularity</th>\n    </tr>\n  </thead>\n  <tbody>\n    <tr>\n      <th>3</th>\n      <td>GO</td>\n      <td>4.0</td>\n    </tr>\n    <tr>\n      <th>4</th>\n      <td>NaN</td>\n      <td>5.0</td>\n    </tr>\n    <tr>\n      <th>5</th>\n      <td>SQL</td>\n      <td>6.0</td>\n    </tr>\n    <tr>\n      <th>6</th>\n      <td>PHP</td>\n      <td>7.0</td>\n    </tr>\n    <tr>\n      <th>7</th>\n      <td>Python</td>\n      <td>10.0</td>\n    </tr>\n  </tbody>\n</table>\n</div>"
     },
     "execution_count": 61,
     "metadata": {},
     "output_type": "execute_result"
    }
   ],
   "source": [
    "df[df['popularity'] > 3]"
   ],
   "metadata": {
    "collapsed": false,
    "ExecuteTime": {
     "end_time": "2023-12-15T09:41:38.849465Z",
     "start_time": "2023-12-15T09:41:38.816407Z"
    }
   },
   "id": "e200d9f04ce1349d"
  },
  {
   "cell_type": "code",
   "execution_count": 62,
   "outputs": [
    {
     "data": {
      "text/plain": "0    Python\n1         C\n2      Java\n3        GO\n4       NaN\n5       SQL\n6       PHP\nName: grammer, dtype: object"
     },
     "execution_count": 62,
     "metadata": {},
     "output_type": "execute_result"
    }
   ],
   "source": [
    "#8.按照grammer列进行去除重复值\n",
    "df['grammer'].drop_duplicates()"
   ],
   "metadata": {
    "collapsed": false,
    "ExecuteTime": {
     "end_time": "2023-12-15T09:41:38.884191Z",
     "start_time": "2023-12-15T09:41:38.850006Z"
    }
   },
   "id": "1392ea172ffddccc"
  },
  {
   "cell_type": "code",
   "execution_count": 63,
   "outputs": [
    {
     "data": {
      "text/plain": "5.0"
     },
     "execution_count": 63,
     "metadata": {},
     "output_type": "execute_result"
    }
   ],
   "source": [
    "#9.计算popularity列平均值\n",
    "df['popularity'].mean()"
   ],
   "metadata": {
    "collapsed": false,
    "ExecuteTime": {
     "end_time": "2023-12-15T09:41:38.915769Z",
     "start_time": "2023-12-15T09:41:38.872669Z"
    }
   },
   "id": "9b27b7902adb9569"
  },
  {
   "cell_type": "code",
   "execution_count": 64,
   "outputs": [],
   "source": [
    "#10.将grammer列转换为list\n",
    "li = list(df['grammer'])\n",
    "li2 = df['grammer'].to_list"
   ],
   "metadata": {
    "collapsed": false,
    "ExecuteTime": {
     "end_time": "2023-12-15T09:41:38.957151Z",
     "start_time": "2023-12-15T09:41:38.907717Z"
    }
   },
   "id": "1d1fcc3d5113018"
  },
  {
   "cell_type": "code",
   "execution_count": 65,
   "outputs": [],
   "source": [
    "#11.将DataFrame保存为EXCEL\n",
    "df.to_excel('name.xlsx')"
   ],
   "metadata": {
    "collapsed": false,
    "ExecuteTime": {
     "end_time": "2023-12-15T09:41:38.972699Z",
     "start_time": "2023-12-15T09:41:38.951780Z"
    }
   },
   "id": "a6f517b03fb241e5"
  },
  {
   "cell_type": "code",
   "execution_count": 66,
   "outputs": [
    {
     "data": {
      "text/plain": "(8, 2)"
     },
     "execution_count": 66,
     "metadata": {},
     "output_type": "execute_result"
    }
   ],
   "source": [
    "#12.查看数据行列数\n",
    "df.shape"
   ],
   "metadata": {
    "collapsed": false,
    "ExecuteTime": {
     "end_time": "2023-12-15T09:41:38.980048Z",
     "start_time": "2023-12-15T09:41:38.973074Z"
    }
   },
   "id": "91a4024d98126bc3"
  },
  {
   "cell_type": "code",
   "execution_count": 67,
   "outputs": [
    {
     "data": {
      "text/plain": "  grammer  popularity\n3      GO         4.0\n4     NaN         5.0\n5     SQL         6.0",
      "text/html": "<div>\n<style scoped>\n    .dataframe tbody tr th:only-of-type {\n        vertical-align: middle;\n    }\n\n    .dataframe tbody tr th {\n        vertical-align: top;\n    }\n\n    .dataframe thead th {\n        text-align: right;\n    }\n</style>\n<table border=\"1\" class=\"dataframe\">\n  <thead>\n    <tr style=\"text-align: right;\">\n      <th></th>\n      <th>grammer</th>\n      <th>popularity</th>\n    </tr>\n  </thead>\n  <tbody>\n    <tr>\n      <th>3</th>\n      <td>GO</td>\n      <td>4.0</td>\n    </tr>\n    <tr>\n      <th>4</th>\n      <td>NaN</td>\n      <td>5.0</td>\n    </tr>\n    <tr>\n      <th>5</th>\n      <td>SQL</td>\n      <td>6.0</td>\n    </tr>\n  </tbody>\n</table>\n</div>"
     },
     "execution_count": 67,
     "metadata": {},
     "output_type": "execute_result"
    }
   ],
   "source": [
    "#13.提取popularity列值大于3小于7的行\n",
    "df[(df['popularity'] > 3) & (df['popularity'] < 7)]"
   ],
   "metadata": {
    "collapsed": false,
    "ExecuteTime": {
     "end_time": "2023-12-15T09:41:38.991198Z",
     "start_time": "2023-12-15T09:41:38.978297Z"
    }
   },
   "id": "cd18dd78af7c14df"
  },
  {
   "cell_type": "code",
   "execution_count": 68,
   "outputs": [
    {
     "data": {
      "text/plain": "   popularity grammer\n0         1.0  Python\n1         2.0       C\n2         NaN    Java\n3         4.0      GO\n4         5.0     NaN\n5         6.0     SQL\n6         7.0     PHP\n7        10.0  Python",
      "text/html": "<div>\n<style scoped>\n    .dataframe tbody tr th:only-of-type {\n        vertical-align: middle;\n    }\n\n    .dataframe tbody tr th {\n        vertical-align: top;\n    }\n\n    .dataframe thead th {\n        text-align: right;\n    }\n</style>\n<table border=\"1\" class=\"dataframe\">\n  <thead>\n    <tr style=\"text-align: right;\">\n      <th></th>\n      <th>popularity</th>\n      <th>grammer</th>\n    </tr>\n  </thead>\n  <tbody>\n    <tr>\n      <th>0</th>\n      <td>1.0</td>\n      <td>Python</td>\n    </tr>\n    <tr>\n      <th>1</th>\n      <td>2.0</td>\n      <td>C</td>\n    </tr>\n    <tr>\n      <th>2</th>\n      <td>NaN</td>\n      <td>Java</td>\n    </tr>\n    <tr>\n      <th>3</th>\n      <td>4.0</td>\n      <td>GO</td>\n    </tr>\n    <tr>\n      <th>4</th>\n      <td>5.0</td>\n      <td>NaN</td>\n    </tr>\n    <tr>\n      <th>5</th>\n      <td>6.0</td>\n      <td>SQL</td>\n    </tr>\n    <tr>\n      <th>6</th>\n      <td>7.0</td>\n      <td>PHP</td>\n    </tr>\n    <tr>\n      <th>7</th>\n      <td>10.0</td>\n      <td>Python</td>\n    </tr>\n  </tbody>\n</table>\n</div>"
     },
     "execution_count": 68,
     "metadata": {},
     "output_type": "execute_result"
    }
   ],
   "source": [
    "new_col = ['popularity', 'grammer']\n",
    "df[new_col]"
   ],
   "metadata": {
    "collapsed": false,
    "ExecuteTime": {
     "end_time": "2023-12-15T09:41:38.995963Z",
     "start_time": "2023-12-15T09:41:38.985720Z"
    }
   },
   "id": "aeee6fd39958cddd"
  },
  {
   "cell_type": "code",
   "execution_count": 69,
   "outputs": [
    {
     "data": {
      "text/plain": "7"
     },
     "execution_count": 69,
     "metadata": {},
     "output_type": "execute_result"
    }
   ],
   "source": [
    "#15.提取popularity列最大值所在行\n",
    "max_df = df['popularity'].index.max()\n",
    "max_df"
   ],
   "metadata": {
    "collapsed": false,
    "ExecuteTime": {
     "end_time": "2023-12-15T09:41:39.014344Z",
     "start_time": "2023-12-15T09:41:38.996664Z"
    }
   },
   "id": "c695b621f3fe6975"
  },
  {
   "cell_type": "code",
   "execution_count": 70,
   "outputs": [
    {
     "data": {
      "text/plain": "  grammer  popularity\n3      GO         4.0\n4     NaN         5.0\n5     SQL         6.0\n6     PHP         7.0\n7  Python        10.0",
      "text/html": "<div>\n<style scoped>\n    .dataframe tbody tr th:only-of-type {\n        vertical-align: middle;\n    }\n\n    .dataframe tbody tr th {\n        vertical-align: top;\n    }\n\n    .dataframe thead th {\n        text-align: right;\n    }\n</style>\n<table border=\"1\" class=\"dataframe\">\n  <thead>\n    <tr style=\"text-align: right;\">\n      <th></th>\n      <th>grammer</th>\n      <th>popularity</th>\n    </tr>\n  </thead>\n  <tbody>\n    <tr>\n      <th>3</th>\n      <td>GO</td>\n      <td>4.0</td>\n    </tr>\n    <tr>\n      <th>4</th>\n      <td>NaN</td>\n      <td>5.0</td>\n    </tr>\n    <tr>\n      <th>5</th>\n      <td>SQL</td>\n      <td>6.0</td>\n    </tr>\n    <tr>\n      <th>6</th>\n      <td>PHP</td>\n      <td>7.0</td>\n    </tr>\n    <tr>\n      <th>7</th>\n      <td>Python</td>\n      <td>10.0</td>\n    </tr>\n  </tbody>\n</table>\n</div>"
     },
     "execution_count": 70,
     "metadata": {},
     "output_type": "execute_result"
    }
   ],
   "source": [
    "#16.查看最后5行数据\n",
    "df.tail(5)"
   ],
   "metadata": {
    "collapsed": false,
    "ExecuteTime": {
     "end_time": "2023-12-15T09:41:39.056740Z",
     "start_time": "2023-12-15T09:41:39.015727Z"
    }
   },
   "id": "7480df0013f83d11"
  },
  {
   "cell_type": "code",
   "execution_count": 71,
   "outputs": [],
   "source": [
    "#17.删除最后一行数据\n",
    "df.drop(df.index[-1], inplace=True)  #inplace表示在原数据上进行修改"
   ],
   "metadata": {
    "collapsed": false,
    "ExecuteTime": {
     "end_time": "2023-12-15T09:41:39.100887Z",
     "start_time": "2023-12-15T09:41:39.050590Z"
    }
   },
   "id": "f7e336b5fa73c7ce"
  },
  {
   "cell_type": "code",
   "execution_count": 72,
   "outputs": [],
   "source": [
    "#18.添加一行数据[‘Perl’,6.6]\n",
    "df.loc[8] = ['Perl', 6.6]"
   ],
   "metadata": {
    "collapsed": false,
    "ExecuteTime": {
     "end_time": "2023-12-15T09:41:39.115638Z",
     "start_time": "2023-12-15T09:41:39.102627Z"
    }
   },
   "id": "a406c4ac11d6a478"
  },
  {
   "cell_type": "code",
   "execution_count": 73,
   "outputs": [
    {
     "data": {
      "text/plain": "  grammer  popularity\n0  Python         1.0\n1       C         2.0\n3      GO         4.0\n4     NaN         5.0\n5     SQL         6.0\n8    Perl         6.6\n6     PHP         7.0\n2    Java         NaN",
      "text/html": "<div>\n<style scoped>\n    .dataframe tbody tr th:only-of-type {\n        vertical-align: middle;\n    }\n\n    .dataframe tbody tr th {\n        vertical-align: top;\n    }\n\n    .dataframe thead th {\n        text-align: right;\n    }\n</style>\n<table border=\"1\" class=\"dataframe\">\n  <thead>\n    <tr style=\"text-align: right;\">\n      <th></th>\n      <th>grammer</th>\n      <th>popularity</th>\n    </tr>\n  </thead>\n  <tbody>\n    <tr>\n      <th>0</th>\n      <td>Python</td>\n      <td>1.0</td>\n    </tr>\n    <tr>\n      <th>1</th>\n      <td>C</td>\n      <td>2.0</td>\n    </tr>\n    <tr>\n      <th>3</th>\n      <td>GO</td>\n      <td>4.0</td>\n    </tr>\n    <tr>\n      <th>4</th>\n      <td>NaN</td>\n      <td>5.0</td>\n    </tr>\n    <tr>\n      <th>5</th>\n      <td>SQL</td>\n      <td>6.0</td>\n    </tr>\n    <tr>\n      <th>8</th>\n      <td>Perl</td>\n      <td>6.6</td>\n    </tr>\n    <tr>\n      <th>6</th>\n      <td>PHP</td>\n      <td>7.0</td>\n    </tr>\n    <tr>\n      <th>2</th>\n      <td>Java</td>\n      <td>NaN</td>\n    </tr>\n  </tbody>\n</table>\n</div>"
     },
     "execution_count": 73,
     "metadata": {},
     "output_type": "execute_result"
    }
   ],
   "source": [
    "#19.对数据按照\"popularity\"列值的大小进行排序\n",
    "df.sort_values(by='popularity')"
   ],
   "metadata": {
    "collapsed": false,
    "ExecuteTime": {
     "end_time": "2023-12-15T09:41:39.147407Z",
     "start_time": "2023-12-15T09:41:39.118268Z"
    }
   },
   "id": "94005ca1fb577639"
  },
  {
   "cell_type": "code",
   "execution_count": 74,
   "outputs": [
    {
     "data": {
      "text/plain": "[6, 1, 4, 2, 3, 3, 4]"
     },
     "execution_count": 74,
     "metadata": {},
     "output_type": "execute_result"
    }
   ],
   "source": [
    "#20.统计grammer列每个字符串的长度\n",
    "result_drop = df['grammer'].dropna().str.len()\n",
    "list(result_drop)"
   ],
   "metadata": {
    "collapsed": false,
    "ExecuteTime": {
     "end_time": "2023-12-15T09:41:39.173492Z",
     "start_time": "2023-12-15T09:41:39.148085Z"
    }
   },
   "id": "7e6310649f390526"
  },
  {
   "cell_type": "code",
   "execution_count": 75,
   "outputs": [
    {
     "data": {
      "text/plain": "             createTime education    salary\n0    2020/3/16 11:30:18         本科  20k-35k\n1    2020/3/16 11:30:19         本科  20k-35k\n2    2020/3/16 11:30:20         不限  13k-40k\n3    2020/3/16 11:30:21         本科  10k-20k\n4    2020/3/16 11:30:22         本科  10k-20k\n..                  ...        ...      ...\n162  2020/3/16 11:30:28         本科  10k-18k\n163  2020/3/16 11:30:29         硕士  30k-50k\n164  2020/3/16 11:30:30         本科  20k-50k\n165  2020/3/16 11:30:31         本科  15k-24k\n166  2020/3/16 11:30:32         本科  24k-40k\n\n[167 rows x 3 columns]",
      "text/html": "<div>\n<style scoped>\n    .dataframe tbody tr th:only-of-type {\n        vertical-align: middle;\n    }\n\n    .dataframe tbody tr th {\n        vertical-align: top;\n    }\n\n    .dataframe thead th {\n        text-align: right;\n    }\n</style>\n<table border=\"1\" class=\"dataframe\">\n  <thead>\n    <tr style=\"text-align: right;\">\n      <th></th>\n      <th>createTime</th>\n      <th>education</th>\n      <th>salary</th>\n    </tr>\n  </thead>\n  <tbody>\n    <tr>\n      <th>0</th>\n      <td>2020/3/16 11:30:18</td>\n      <td>本科</td>\n      <td>20k-35k</td>\n    </tr>\n    <tr>\n      <th>1</th>\n      <td>2020/3/16 11:30:19</td>\n      <td>本科</td>\n      <td>20k-35k</td>\n    </tr>\n    <tr>\n      <th>2</th>\n      <td>2020/3/16 11:30:20</td>\n      <td>不限</td>\n      <td>13k-40k</td>\n    </tr>\n    <tr>\n      <th>3</th>\n      <td>2020/3/16 11:30:21</td>\n      <td>本科</td>\n      <td>10k-20k</td>\n    </tr>\n    <tr>\n      <th>4</th>\n      <td>2020/3/16 11:30:22</td>\n      <td>本科</td>\n      <td>10k-20k</td>\n    </tr>\n    <tr>\n      <th>...</th>\n      <td>...</td>\n      <td>...</td>\n      <td>...</td>\n    </tr>\n    <tr>\n      <th>162</th>\n      <td>2020/3/16 11:30:28</td>\n      <td>本科</td>\n      <td>10k-18k</td>\n    </tr>\n    <tr>\n      <th>163</th>\n      <td>2020/3/16 11:30:29</td>\n      <td>硕士</td>\n      <td>30k-50k</td>\n    </tr>\n    <tr>\n      <th>164</th>\n      <td>2020/3/16 11:30:30</td>\n      <td>本科</td>\n      <td>20k-50k</td>\n    </tr>\n    <tr>\n      <th>165</th>\n      <td>2020/3/16 11:30:31</td>\n      <td>本科</td>\n      <td>15k-24k</td>\n    </tr>\n    <tr>\n      <th>166</th>\n      <td>2020/3/16 11:30:32</td>\n      <td>本科</td>\n      <td>24k-40k</td>\n    </tr>\n  </tbody>\n</table>\n<p>167 rows × 3 columns</p>\n</div>"
     },
     "execution_count": 75,
     "metadata": {},
     "output_type": "execute_result"
    }
   ],
   "source": [
    "#21.读取本地EXCEL数据pandas120.xlsx\n",
    "df = pd.read_excel('pandas120.xlsx')\n",
    "df"
   ],
   "metadata": {
    "collapsed": false,
    "ExecuteTime": {
     "end_time": "2023-12-15T09:41:39.237092Z",
     "start_time": "2023-12-15T09:41:39.162343Z"
    }
   },
   "id": "a0f71800202c45e1"
  },
  {
   "cell_type": "code",
   "execution_count": 76,
   "outputs": [
    {
     "data": {
      "text/plain": "           createTime education    salary\n0  2020/3/16 11:30:18         本科  20k-35k\n1  2020/3/16 11:30:19         本科  20k-35k\n2  2020/3/16 11:30:20         不限  13k-40k\n3  2020/3/16 11:30:21         本科  10k-20k\n4  2020/3/16 11:30:22         本科  10k-20k",
      "text/html": "<div>\n<style scoped>\n    .dataframe tbody tr th:only-of-type {\n        vertical-align: middle;\n    }\n\n    .dataframe tbody tr th {\n        vertical-align: top;\n    }\n\n    .dataframe thead th {\n        text-align: right;\n    }\n</style>\n<table border=\"1\" class=\"dataframe\">\n  <thead>\n    <tr style=\"text-align: right;\">\n      <th></th>\n      <th>createTime</th>\n      <th>education</th>\n      <th>salary</th>\n    </tr>\n  </thead>\n  <tbody>\n    <tr>\n      <th>0</th>\n      <td>2020/3/16 11:30:18</td>\n      <td>本科</td>\n      <td>20k-35k</td>\n    </tr>\n    <tr>\n      <th>1</th>\n      <td>2020/3/16 11:30:19</td>\n      <td>本科</td>\n      <td>20k-35k</td>\n    </tr>\n    <tr>\n      <th>2</th>\n      <td>2020/3/16 11:30:20</td>\n      <td>不限</td>\n      <td>13k-40k</td>\n    </tr>\n    <tr>\n      <th>3</th>\n      <td>2020/3/16 11:30:21</td>\n      <td>本科</td>\n      <td>10k-20k</td>\n    </tr>\n    <tr>\n      <th>4</th>\n      <td>2020/3/16 11:30:22</td>\n      <td>本科</td>\n      <td>10k-20k</td>\n    </tr>\n  </tbody>\n</table>\n</div>"
     },
     "execution_count": 76,
     "metadata": {},
     "output_type": "execute_result"
    }
   ],
   "source": [
    "#22.查看df数据前5行\n",
    "df.head(5)"
   ],
   "metadata": {
    "collapsed": false,
    "ExecuteTime": {
     "end_time": "2023-12-15T09:41:39.249573Z",
     "start_time": "2023-12-15T09:41:39.188954Z"
    }
   },
   "id": "683ba35e4d57b870"
  },
  {
   "cell_type": "code",
   "execution_count": 77,
   "outputs": [],
   "source": [
    "#23.将salary列数据转换为最大值与最小值的平均值\n",
    "# 假设你的DataFrame是df，列名是'salary'\n",
    "df[['min_salary', 'max_salary']] = df['salary'].str.split('-', expand=True)\n",
    "\n",
    "# 将新生成的min_salary和max_salary列转换为数字\n",
    "df['min_salary'] = df['min_salary'].str.extract('(\\d+)').astype(int)\n",
    "df['max_salary'] = df['max_salary'].str.extract('(\\d+)').astype(int)\n",
    "\n",
    "# df.drop(columns='salary')\n",
    "\n",
    "df['salary'] = (df['min_salary'] + df['max_salary']) / 2"
   ],
   "metadata": {
    "collapsed": false,
    "ExecuteTime": {
     "end_time": "2023-12-15T09:41:39.271806Z",
     "start_time": "2023-12-15T09:41:39.253023Z"
    }
   },
   "id": "a1253dc3fa6fcf6f"
  },
  {
   "cell_type": "code",
   "execution_count": 78,
   "outputs": [
    {
     "data": {
      "text/plain": "             createTime education    salary  min_salary  max_salary\n0    2020/3/16 11:30:18         本科  27500.0          20          35\n1    2020/3/16 11:30:19         本科  27500.0          20          35\n2    2020/3/16 11:30:20         不限  26500.0          13          40\n3    2020/3/16 11:30:21         本科  15000.0          10          20\n4    2020/3/16 11:30:22         本科  15000.0          10          20\n..                  ...        ...      ...         ...         ...\n162  2020/3/16 11:30:28         本科  14000.0          10          18\n163  2020/3/16 11:30:29         硕士  40000.0          30          50\n164  2020/3/16 11:30:30         本科  35000.0          20          50\n165  2020/3/16 11:30:31         本科  19500.0          15          24\n166  2020/3/16 11:30:32         本科  32000.0          24          40\n\n[167 rows x 5 columns]",
      "text/html": "<div>\n<style scoped>\n    .dataframe tbody tr th:only-of-type {\n        vertical-align: middle;\n    }\n\n    .dataframe tbody tr th {\n        vertical-align: top;\n    }\n\n    .dataframe thead th {\n        text-align: right;\n    }\n</style>\n<table border=\"1\" class=\"dataframe\">\n  <thead>\n    <tr style=\"text-align: right;\">\n      <th></th>\n      <th>createTime</th>\n      <th>education</th>\n      <th>salary</th>\n      <th>min_salary</th>\n      <th>max_salary</th>\n    </tr>\n  </thead>\n  <tbody>\n    <tr>\n      <th>0</th>\n      <td>2020/3/16 11:30:18</td>\n      <td>本科</td>\n      <td>27500.0</td>\n      <td>20</td>\n      <td>35</td>\n    </tr>\n    <tr>\n      <th>1</th>\n      <td>2020/3/16 11:30:19</td>\n      <td>本科</td>\n      <td>27500.0</td>\n      <td>20</td>\n      <td>35</td>\n    </tr>\n    <tr>\n      <th>2</th>\n      <td>2020/3/16 11:30:20</td>\n      <td>不限</td>\n      <td>26500.0</td>\n      <td>13</td>\n      <td>40</td>\n    </tr>\n    <tr>\n      <th>3</th>\n      <td>2020/3/16 11:30:21</td>\n      <td>本科</td>\n      <td>15000.0</td>\n      <td>10</td>\n      <td>20</td>\n    </tr>\n    <tr>\n      <th>4</th>\n      <td>2020/3/16 11:30:22</td>\n      <td>本科</td>\n      <td>15000.0</td>\n      <td>10</td>\n      <td>20</td>\n    </tr>\n    <tr>\n      <th>...</th>\n      <td>...</td>\n      <td>...</td>\n      <td>...</td>\n      <td>...</td>\n      <td>...</td>\n    </tr>\n    <tr>\n      <th>162</th>\n      <td>2020/3/16 11:30:28</td>\n      <td>本科</td>\n      <td>14000.0</td>\n      <td>10</td>\n      <td>18</td>\n    </tr>\n    <tr>\n      <th>163</th>\n      <td>2020/3/16 11:30:29</td>\n      <td>硕士</td>\n      <td>40000.0</td>\n      <td>30</td>\n      <td>50</td>\n    </tr>\n    <tr>\n      <th>164</th>\n      <td>2020/3/16 11:30:30</td>\n      <td>本科</td>\n      <td>35000.0</td>\n      <td>20</td>\n      <td>50</td>\n    </tr>\n    <tr>\n      <th>165</th>\n      <td>2020/3/16 11:30:31</td>\n      <td>本科</td>\n      <td>19500.0</td>\n      <td>15</td>\n      <td>24</td>\n    </tr>\n    <tr>\n      <th>166</th>\n      <td>2020/3/16 11:30:32</td>\n      <td>本科</td>\n      <td>32000.0</td>\n      <td>24</td>\n      <td>40</td>\n    </tr>\n  </tbody>\n</table>\n<p>167 rows × 5 columns</p>\n</div>"
     },
     "execution_count": 78,
     "metadata": {},
     "output_type": "execute_result"
    }
   ],
   "source": [
    "df['salary'] = df['salary'] * 1000\n",
    "df"
   ],
   "metadata": {
    "collapsed": false,
    "ExecuteTime": {
     "end_time": "2023-12-15T09:41:39.324464Z",
     "start_time": "2023-12-15T09:41:39.274515Z"
    }
   },
   "id": "b29fdb098ba5bdaa"
  },
  {
   "cell_type": "code",
   "execution_count": 79,
   "outputs": [
    {
     "data": {
      "text/plain": "education \n不限    26181.818182\n大专    20045.454545\n本科    25533.613445\n硕士    47233.333333\nName: salary, dtype: float64"
     },
     "execution_count": 79,
     "metadata": {},
     "output_type": "execute_result"
    }
   ],
   "source": [
    "#24.将数据根据学历进行分组并计算平均薪资\n",
    "education = df['education ']\n",
    "df.groupby(education)['salary'].mean()"
   ],
   "metadata": {
    "collapsed": false,
    "ExecuteTime": {
     "end_time": "2023-12-15T09:41:39.380227Z",
     "start_time": "2023-12-15T09:41:39.307443Z"
    }
   },
   "id": "8ce66f0e917401be"
  },
  {
   "cell_type": "code",
   "execution_count": 80,
   "outputs": [],
   "source": [
    "#25.将createTime列时间转换为月-日的形式\n",
    "df['createTime'] = pd.to_datetime(df['createTime'])\n",
    "# 创建一个新列，包含月-日的形式\n",
    "df['createTime'] = df['createTime'].dt.strftime('%m-%d')"
   ],
   "metadata": {
    "collapsed": false,
    "ExecuteTime": {
     "end_time": "2023-12-15T09:41:39.404400Z",
     "start_time": "2023-12-15T09:41:39.383051Z"
    }
   },
   "id": "a4fe1fa7096d2316"
  },
  {
   "cell_type": "code",
   "execution_count": 81,
   "outputs": [
    {
     "name": "stdout",
     "output_type": "stream",
     "text": [
      "<class 'pandas.core.frame.DataFrame'>\n",
      "RangeIndex: 167 entries, 0 to 166\n",
      "Data columns (total 5 columns):\n",
      " #   Column      Non-Null Count  Dtype  \n",
      "---  ------      --------------  -----  \n",
      " 0   createTime  167 non-null    object \n",
      " 1   education   167 non-null    object \n",
      " 2   salary      167 non-null    float64\n",
      " 3   min_salary  167 non-null    int64  \n",
      " 4   max_salary  167 non-null    int64  \n",
      "dtypes: float64(1), int64(2), object(2)\n",
      "memory usage: 6.7+ KB\n"
     ]
    }
   ],
   "source": [
    "#26.查看索引、数据类型和内存信息\n",
    "df.index\n",
    "df.columns\n",
    "df.info()"
   ],
   "metadata": {
    "collapsed": false,
    "ExecuteTime": {
     "end_time": "2023-12-15T09:41:39.445010Z",
     "start_time": "2023-12-15T09:41:39.406028Z"
    }
   },
   "id": "72c3a454a9cfe29a"
  },
  {
   "cell_type": "code",
   "execution_count": 82,
   "outputs": [
    {
     "data": {
      "text/plain": "             salary  min_salary  max_salary\ncount    167.000000  167.000000  167.000000\nmean   27206.586826   19.682635   34.730539\nstd     9912.303039    8.894353   12.382186\nmin    14000.000000   10.000000   10.000000\n25%    21500.000000   13.000000   27.000000\n50%    27000.000000   20.000000   35.000000\n75%    32000.000000   23.000000   40.000000\nmax    65000.000000   60.000000   80.000000",
      "text/html": "<div>\n<style scoped>\n    .dataframe tbody tr th:only-of-type {\n        vertical-align: middle;\n    }\n\n    .dataframe tbody tr th {\n        vertical-align: top;\n    }\n\n    .dataframe thead th {\n        text-align: right;\n    }\n</style>\n<table border=\"1\" class=\"dataframe\">\n  <thead>\n    <tr style=\"text-align: right;\">\n      <th></th>\n      <th>salary</th>\n      <th>min_salary</th>\n      <th>max_salary</th>\n    </tr>\n  </thead>\n  <tbody>\n    <tr>\n      <th>count</th>\n      <td>167.000000</td>\n      <td>167.000000</td>\n      <td>167.000000</td>\n    </tr>\n    <tr>\n      <th>mean</th>\n      <td>27206.586826</td>\n      <td>19.682635</td>\n      <td>34.730539</td>\n    </tr>\n    <tr>\n      <th>std</th>\n      <td>9912.303039</td>\n      <td>8.894353</td>\n      <td>12.382186</td>\n    </tr>\n    <tr>\n      <th>min</th>\n      <td>14000.000000</td>\n      <td>10.000000</td>\n      <td>10.000000</td>\n    </tr>\n    <tr>\n      <th>25%</th>\n      <td>21500.000000</td>\n      <td>13.000000</td>\n      <td>27.000000</td>\n    </tr>\n    <tr>\n      <th>50%</th>\n      <td>27000.000000</td>\n      <td>20.000000</td>\n      <td>35.000000</td>\n    </tr>\n    <tr>\n      <th>75%</th>\n      <td>32000.000000</td>\n      <td>23.000000</td>\n      <td>40.000000</td>\n    </tr>\n    <tr>\n      <th>max</th>\n      <td>65000.000000</td>\n      <td>60.000000</td>\n      <td>80.000000</td>\n    </tr>\n  </tbody>\n</table>\n</div>"
     },
     "execution_count": 82,
     "metadata": {},
     "output_type": "execute_result"
    }
   ],
   "source": [
    "#27.查看数值型列的汇总统计\n",
    "df.describe()"
   ],
   "metadata": {
    "collapsed": false,
    "ExecuteTime": {
     "end_time": "2023-12-15T09:41:39.455656Z",
     "start_time": "2023-12-15T09:41:39.445693Z"
    }
   },
   "id": "f3877ded6336e6b3"
  },
  {
   "cell_type": "code",
   "execution_count": 83,
   "outputs": [
    {
     "data": {
      "text/plain": "    createTime education    salary  min_salary  max_salary categories\n0        03-16         本科  27500.0          20          35          高\n1        03-16         本科  27500.0          20          35          高\n2        03-16         不限  26500.0          13          40          高\n3        03-16         本科  15000.0          10          20          中\n4        03-16         本科  15000.0          10          20          中\n..         ...        ...      ...         ...         ...        ...\n162      03-16         本科  14000.0          10          18          中\n163      03-16         硕士  40000.0          30          50          高\n164      03-16         本科  35000.0          20          50          高\n165      03-16         本科  19500.0          15          24          中\n166      03-16         本科  32000.0          24          40          高\n\n[167 rows x 6 columns]",
      "text/html": "<div>\n<style scoped>\n    .dataframe tbody tr th:only-of-type {\n        vertical-align: middle;\n    }\n\n    .dataframe tbody tr th {\n        vertical-align: top;\n    }\n\n    .dataframe thead th {\n        text-align: right;\n    }\n</style>\n<table border=\"1\" class=\"dataframe\">\n  <thead>\n    <tr style=\"text-align: right;\">\n      <th></th>\n      <th>createTime</th>\n      <th>education</th>\n      <th>salary</th>\n      <th>min_salary</th>\n      <th>max_salary</th>\n      <th>categories</th>\n    </tr>\n  </thead>\n  <tbody>\n    <tr>\n      <th>0</th>\n      <td>03-16</td>\n      <td>本科</td>\n      <td>27500.0</td>\n      <td>20</td>\n      <td>35</td>\n      <td>高</td>\n    </tr>\n    <tr>\n      <th>1</th>\n      <td>03-16</td>\n      <td>本科</td>\n      <td>27500.0</td>\n      <td>20</td>\n      <td>35</td>\n      <td>高</td>\n    </tr>\n    <tr>\n      <th>2</th>\n      <td>03-16</td>\n      <td>不限</td>\n      <td>26500.0</td>\n      <td>13</td>\n      <td>40</td>\n      <td>高</td>\n    </tr>\n    <tr>\n      <th>3</th>\n      <td>03-16</td>\n      <td>本科</td>\n      <td>15000.0</td>\n      <td>10</td>\n      <td>20</td>\n      <td>中</td>\n    </tr>\n    <tr>\n      <th>4</th>\n      <td>03-16</td>\n      <td>本科</td>\n      <td>15000.0</td>\n      <td>10</td>\n      <td>20</td>\n      <td>中</td>\n    </tr>\n    <tr>\n      <th>...</th>\n      <td>...</td>\n      <td>...</td>\n      <td>...</td>\n      <td>...</td>\n      <td>...</td>\n      <td>...</td>\n    </tr>\n    <tr>\n      <th>162</th>\n      <td>03-16</td>\n      <td>本科</td>\n      <td>14000.0</td>\n      <td>10</td>\n      <td>18</td>\n      <td>中</td>\n    </tr>\n    <tr>\n      <th>163</th>\n      <td>03-16</td>\n      <td>硕士</td>\n      <td>40000.0</td>\n      <td>30</td>\n      <td>50</td>\n      <td>高</td>\n    </tr>\n    <tr>\n      <th>164</th>\n      <td>03-16</td>\n      <td>本科</td>\n      <td>35000.0</td>\n      <td>20</td>\n      <td>50</td>\n      <td>高</td>\n    </tr>\n    <tr>\n      <th>165</th>\n      <td>03-16</td>\n      <td>本科</td>\n      <td>19500.0</td>\n      <td>15</td>\n      <td>24</td>\n      <td>中</td>\n    </tr>\n    <tr>\n      <th>166</th>\n      <td>03-16</td>\n      <td>本科</td>\n      <td>32000.0</td>\n      <td>24</td>\n      <td>40</td>\n      <td>高</td>\n    </tr>\n  </tbody>\n</table>\n<p>167 rows × 6 columns</p>\n</div>"
     },
     "execution_count": 83,
     "metadata": {},
     "output_type": "execute_result"
    }
   ],
   "source": [
    "#28.新增一列categories根据salary将数据分为三组\n",
    "bins = [0, 5000, 20000, 50000]\n",
    "group_names = ['低', '中', '高']\n",
    "df['categories'] = pd.cut(df['salary'], bins, labels=group_names)\n",
    "df"
   ],
   "metadata": {
    "collapsed": false,
    "ExecuteTime": {
     "end_time": "2023-12-15T09:41:39.469293Z",
     "start_time": "2023-12-15T09:41:39.459602Z"
    }
   },
   "id": "54977c47235f9775"
  },
  {
   "cell_type": "code",
   "execution_count": 84,
   "outputs": [
    {
     "data": {
      "text/plain": "    createTime education    salary  min_salary  max_salary categories\n6        03-16         硕士  65000.0          50          80        NaN\n109      03-16         硕士  65000.0          60          70        NaN\n154      03-16         硕士  60000.0          50          70        NaN\n118      03-16         本科  60000.0          50          70        NaN\n31       03-16         本科  55000.0          50          60        NaN\n..         ...        ...      ...         ...         ...        ...\n162      03-16         本科  14000.0          10          18          中\n127      03-16         本科  14000.0          10          18          中\n57       03-16         本科  14000.0          10          18          中\n143      03-16         本科  14000.0          10          18          中\n83       03-16         本科  14000.0          10          18          中\n\n[167 rows x 6 columns]",
      "text/html": "<div>\n<style scoped>\n    .dataframe tbody tr th:only-of-type {\n        vertical-align: middle;\n    }\n\n    .dataframe tbody tr th {\n        vertical-align: top;\n    }\n\n    .dataframe thead th {\n        text-align: right;\n    }\n</style>\n<table border=\"1\" class=\"dataframe\">\n  <thead>\n    <tr style=\"text-align: right;\">\n      <th></th>\n      <th>createTime</th>\n      <th>education</th>\n      <th>salary</th>\n      <th>min_salary</th>\n      <th>max_salary</th>\n      <th>categories</th>\n    </tr>\n  </thead>\n  <tbody>\n    <tr>\n      <th>6</th>\n      <td>03-16</td>\n      <td>硕士</td>\n      <td>65000.0</td>\n      <td>50</td>\n      <td>80</td>\n      <td>NaN</td>\n    </tr>\n    <tr>\n      <th>109</th>\n      <td>03-16</td>\n      <td>硕士</td>\n      <td>65000.0</td>\n      <td>60</td>\n      <td>70</td>\n      <td>NaN</td>\n    </tr>\n    <tr>\n      <th>154</th>\n      <td>03-16</td>\n      <td>硕士</td>\n      <td>60000.0</td>\n      <td>50</td>\n      <td>70</td>\n      <td>NaN</td>\n    </tr>\n    <tr>\n      <th>118</th>\n      <td>03-16</td>\n      <td>本科</td>\n      <td>60000.0</td>\n      <td>50</td>\n      <td>70</td>\n      <td>NaN</td>\n    </tr>\n    <tr>\n      <th>31</th>\n      <td>03-16</td>\n      <td>本科</td>\n      <td>55000.0</td>\n      <td>50</td>\n      <td>60</td>\n      <td>NaN</td>\n    </tr>\n    <tr>\n      <th>...</th>\n      <td>...</td>\n      <td>...</td>\n      <td>...</td>\n      <td>...</td>\n      <td>...</td>\n      <td>...</td>\n    </tr>\n    <tr>\n      <th>162</th>\n      <td>03-16</td>\n      <td>本科</td>\n      <td>14000.0</td>\n      <td>10</td>\n      <td>18</td>\n      <td>中</td>\n    </tr>\n    <tr>\n      <th>127</th>\n      <td>03-16</td>\n      <td>本科</td>\n      <td>14000.0</td>\n      <td>10</td>\n      <td>18</td>\n      <td>中</td>\n    </tr>\n    <tr>\n      <th>57</th>\n      <td>03-16</td>\n      <td>本科</td>\n      <td>14000.0</td>\n      <td>10</td>\n      <td>18</td>\n      <td>中</td>\n    </tr>\n    <tr>\n      <th>143</th>\n      <td>03-16</td>\n      <td>本科</td>\n      <td>14000.0</td>\n      <td>10</td>\n      <td>18</td>\n      <td>中</td>\n    </tr>\n    <tr>\n      <th>83</th>\n      <td>03-16</td>\n      <td>本科</td>\n      <td>14000.0</td>\n      <td>10</td>\n      <td>18</td>\n      <td>中</td>\n    </tr>\n  </tbody>\n</table>\n<p>167 rows × 6 columns</p>\n</div>"
     },
     "execution_count": 84,
     "metadata": {},
     "output_type": "execute_result"
    }
   ],
   "source": [
    "#29.按照salary列对数据降序排列\n",
    "df.sort_values(by='salary', ascending=False)"
   ],
   "metadata": {
    "collapsed": false,
    "ExecuteTime": {
     "end_time": "2023-12-15T09:41:39.492334Z",
     "start_time": "2023-12-15T09:41:39.470953Z"
    }
   },
   "id": "3316f9eac17265b2"
  },
  {
   "cell_type": "code",
   "execution_count": 85,
   "outputs": [
    {
     "data": {
      "text/plain": "createTime      03-16\neducation          硕士\nsalary        40000.0\nmin_salary         30\nmax_salary         50\ncategories          高\nName: 32, dtype: object"
     },
     "execution_count": 85,
     "metadata": {},
     "output_type": "execute_result"
    }
   ],
   "source": [
    "#30.取出第33行数据\n",
    "df.iloc[32]"
   ],
   "metadata": {
    "collapsed": false,
    "ExecuteTime": {
     "end_time": "2023-12-15T09:41:39.533013Z",
     "start_time": "2023-12-15T09:41:39.491868Z"
    }
   },
   "id": "ae62a5c758e4e6a6"
  },
  {
   "cell_type": "code",
   "execution_count": 86,
   "outputs": [
    {
     "data": {
      "text/plain": "27000.0"
     },
     "execution_count": 86,
     "metadata": {},
     "output_type": "execute_result"
    }
   ],
   "source": [
    "#31.计算salary列的中位数\n",
    "df['salary'].median()"
   ],
   "metadata": {
    "collapsed": false,
    "ExecuteTime": {
     "end_time": "2023-12-15T09:41:39.578179Z",
     "start_time": "2023-12-15T09:41:39.522674Z"
    }
   },
   "id": "7ce76f360ba0651"
  },
  {
   "cell_type": "code",
   "execution_count": 87,
   "outputs": [
    {
     "data": {
      "text/plain": "<Figure size 640x480 with 1 Axes>",
      "image/png": "[encoded data removed]"
     },
     "metadata": {},
     "output_type": "display_data"
    }
   ],
   "source": [
    "#32.绘制薪资水平频率分布直方图\n",
    "import matplotlib.pyplot as plt\n",
    "\n",
    "df['salary'].plot(kind='hist')\n",
    "plt.show()"
   ],
   "metadata": {
    "collapsed": false,
    "ExecuteTime": {
     "end_time": "2023-12-15T09:41:39.633428Z",
     "start_time": "2023-12-15T09:41:39.567120Z"
    }
   },
   "id": "ff07cb5a960a8c0d"
  },
  {
   "cell_type": "code",
   "execution_count": 88,
   "outputs": [
    {
     "data": {
      "text/plain": "<Axes: xlabel='salary', ylabel='Density'>"
     },
     "execution_count": 88,
     "metadata": {},
     "output_type": "execute_result"
    },
    {
     "data": {
      "text/plain": "<Figure size 640x480 with 1 Axes>",
      "image/png": "[encoded data removed]"
     },
     "metadata": {},
     "output_type": "display_data"
    }
   ],
   "source": [
    "#33.绘制薪资水平密度曲线\n",
    "sns.set(style=\"whitegrid\")\n",
    "sns.kdeplot(df['salary'], fill=True)"
   ],
   "metadata": {
    "collapsed": false,
    "ExecuteTime": {
     "end_time": "2023-12-15T09:41:39.709503Z",
     "start_time": "2023-12-15T09:41:39.627691Z"
    }
   },
   "id": "c46b919ec550db1"
  },
  {
   "cell_type": "code",
   "execution_count": 89,
   "outputs": [
    {
     "data": {
      "text/plain": "    createTime education    salary  min_salary  max_salary\n0        03-16         本科  27500.0          20          35\n1        03-16         本科  27500.0          20          35\n2        03-16         不限  26500.0          13          40\n3        03-16         本科  15000.0          10          20\n4        03-16         本科  15000.0          10          20\n..         ...        ...      ...         ...         ...\n162      03-16         本科  14000.0          10          18\n163      03-16         硕士  40000.0          30          50\n164      03-16         本科  35000.0          20          50\n165      03-16         本科  19500.0          15          24\n166      03-16         本科  32000.0          24          40\n\n[167 rows x 5 columns]",
      "text/html": "<div>\n<style scoped>\n    .dataframe tbody tr th:only-of-type {\n        vertical-align: middle;\n    }\n\n    .dataframe tbody tr th {\n        vertical-align: top;\n    }\n\n    .dataframe thead th {\n        text-align: right;\n    }\n</style>\n<table border=\"1\" class=\"dataframe\">\n  <thead>\n    <tr style=\"text-align: right;\">\n      <th></th>\n      <th>createTime</th>\n      <th>education</th>\n      <th>salary</th>\n      <th>min_salary</th>\n      <th>max_salary</th>\n    </tr>\n  </thead>\n  <tbody>\n    <tr>\n      <th>0</th>\n      <td>03-16</td>\n      <td>本科</td>\n      <td>27500.0</td>\n      <td>20</td>\n      <td>35</td>\n    </tr>\n    <tr>\n      <th>1</th>\n      <td>03-16</td>\n      <td>本科</td>\n      <td>27500.0</td>\n      <td>20</td>\n      <td>35</td>\n    </tr>\n    <tr>\n      <th>2</th>\n      <td>03-16</td>\n      <td>不限</td>\n      <td>26500.0</td>\n      <td>13</td>\n      <td>40</td>\n    </tr>\n    <tr>\n      <th>3</th>\n      <td>03-16</td>\n      <td>本科</td>\n      <td>15000.0</td>\n      <td>10</td>\n      <td>20</td>\n    </tr>\n    <tr>\n      <th>4</th>\n      <td>03-16</td>\n      <td>本科</td>\n      <td>15000.0</td>\n      <td>10</td>\n      <td>20</td>\n    </tr>\n    <tr>\n      <th>...</th>\n      <td>...</td>\n      <td>...</td>\n      <td>...</td>\n      <td>...</td>\n      <td>...</td>\n    </tr>\n    <tr>\n      <th>162</th>\n      <td>03-16</td>\n      <td>本科</td>\n      <td>14000.0</td>\n      <td>10</td>\n      <td>18</td>\n    </tr>\n    <tr>\n      <th>163</th>\n      <td>03-16</td>\n      <td>硕士</td>\n      <td>40000.0</td>\n      <td>30</td>\n      <td>50</td>\n    </tr>\n    <tr>\n      <th>164</th>\n      <td>03-16</td>\n      <td>本科</td>\n      <td>35000.0</td>\n      <td>20</td>\n      <td>50</td>\n    </tr>\n    <tr>\n      <th>165</th>\n      <td>03-16</td>\n      <td>本科</td>\n      <td>19500.0</td>\n      <td>15</td>\n      <td>24</td>\n    </tr>\n    <tr>\n      <th>166</th>\n      <td>03-16</td>\n      <td>本科</td>\n      <td>32000.0</td>\n      <td>24</td>\n      <td>40</td>\n    </tr>\n  </tbody>\n</table>\n<p>167 rows × 5 columns</p>\n</div>"
     },
     "execution_count": 89,
     "metadata": {},
     "output_type": "execute_result"
    }
   ],
   "source": [
    "#34.删除最后一列categories\n",
    "df.drop(columns='categories')"
   ],
   "metadata": {
    "collapsed": false,
    "ExecuteTime": {
     "end_time": "2023-12-15T09:41:39.715879Z",
     "start_time": "2023-12-15T09:41:39.712526Z"
    }
   },
   "id": "e1e8bdd27b85d531"
  },
  {
   "cell_type": "code",
   "execution_count": 90,
   "outputs": [
    {
     "data": {
      "text/plain": "    createTime education    salary  min_salary  max_salary categories     test\n0        03-16         本科  27500.0          20          35          高  03-16本科\n1        03-16         本科  27500.0          20          35          高  03-16本科\n2        03-16         不限  26500.0          13          40          高  03-16不限\n3        03-16         本科  15000.0          10          20          中  03-16本科\n4        03-16         本科  15000.0          10          20          中  03-16本科\n..         ...        ...      ...         ...         ...        ...      ...\n162      03-16         本科  14000.0          10          18          中  03-16本科\n163      03-16         硕士  40000.0          30          50          高  03-16硕士\n164      03-16         本科  35000.0          20          50          高  03-16本科\n165      03-16         本科  19500.0          15          24          中  03-16本科\n166      03-16         本科  32000.0          24          40          高  03-16本科\n\n[167 rows x 7 columns]",
      "text/html": "<div>\n<style scoped>\n    .dataframe tbody tr th:only-of-type {\n        vertical-align: middle;\n    }\n\n    .dataframe tbody tr th {\n        vertical-align: top;\n    }\n\n    .dataframe thead th {\n        text-align: right;\n    }\n</style>\n<table border=\"1\" class=\"dataframe\">\n  <thead>\n    <tr style=\"text-align: right;\">\n      <th></th>\n      <th>createTime</th>\n      <th>education</th>\n      <th>salary</th>\n      <th>min_salary</th>\n      <th>max_salary</th>\n      <th>categories</th>\n      <th>test</th>\n    </tr>\n  </thead>\n  <tbody>\n    <tr>\n      <th>0</th>\n      <td>03-16</td>\n      <td>本科</td>\n      <td>27500.0</td>\n      <td>20</td>\n      <td>35</td>\n      <td>高</td>\n      <td>03-16本科</td>\n    </tr>\n    <tr>\n      <th>1</th>\n      <td>03-16</td>\n      <td>本科</td>\n      <td>27500.0</td>\n      <td>20</td>\n      <td>35</td>\n      <td>高</td>\n      <td>03-16本科</td>\n    </tr>\n    <tr>\n      <th>2</th>\n      <td>03-16</td>\n      <td>不限</td>\n      <td>26500.0</td>\n      <td>13</td>\n      <td>40</td>\n      <td>高</td>\n      <td>03-16不限</td>\n    </tr>\n    <tr>\n      <th>3</th>\n      <td>03-16</td>\n      <td>本科</td>\n      <td>15000.0</td>\n      <td>10</td>\n      <td>20</td>\n      <td>中</td>\n      <td>03-16本科</td>\n    </tr>\n    <tr>\n      <th>4</th>\n      <td>03-16</td>\n      <td>本科</td>\n      <td>15000.0</td>\n      <td>10</td>\n      <td>20</td>\n      <td>中</td>\n      <td>03-16本科</td>\n    </tr>\n    <tr>\n      <th>...</th>\n      <td>...</td>\n      <td>...</td>\n      <td>...</td>\n      <td>...</td>\n      <td>...</td>\n      <td>...</td>\n      <td>...</td>\n    </tr>\n    <tr>\n      <th>162</th>\n      <td>03-16</td>\n      <td>本科</td>\n      <td>14000.0</td>\n      <td>10</td>\n      <td>18</td>\n      <td>中</td>\n      <td>03-16本科</td>\n    </tr>\n    <tr>\n      <th>163</th>\n      <td>03-16</td>\n      <td>硕士</td>\n      <td>40000.0</td>\n      <td>30</td>\n      <td>50</td>\n      <td>高</td>\n      <td>03-16硕士</td>\n    </tr>\n    <tr>\n      <th>164</th>\n      <td>03-16</td>\n      <td>本科</td>\n      <td>35000.0</td>\n      <td>20</td>\n      <td>50</td>\n      <td>高</td>\n      <td>03-16本科</td>\n    </tr>\n    <tr>\n      <th>165</th>\n      <td>03-16</td>\n      <td>本科</td>\n      <td>19500.0</td>\n      <td>15</td>\n      <td>24</td>\n      <td>中</td>\n      <td>03-16本科</td>\n    </tr>\n    <tr>\n      <th>166</th>\n      <td>03-16</td>\n      <td>本科</td>\n      <td>32000.0</td>\n      <td>24</td>\n      <td>40</td>\n      <td>高</td>\n      <td>03-16本科</td>\n    </tr>\n  </tbody>\n</table>\n<p>167 rows × 7 columns</p>\n</div>"
     },
     "execution_count": 90,
     "metadata": {},
     "output_type": "execute_result"
    }
   ],
   "source": [
    "#35.将df的第一列与第二列合并为新的一列test\n",
    "df['test'] = df['createTime'] + df[('education ')]\n",
    "df"
   ],
   "metadata": {
    "collapsed": false,
    "ExecuteTime": {
     "end_time": "2023-12-15T09:41:39.795726Z",
     "start_time": "2023-12-15T09:41:39.719473Z"
    }
   },
   "id": "775368c2bc48279b"
  },
  {
   "cell_type": "code",
   "execution_count": 91,
   "outputs": [
    {
     "data": {
      "text/plain": "    createTime education    salary  min_salary  max_salary categories  \\\n0        03-16         本科  27500.0          20          35          高   \n1        03-16         本科  27500.0          20          35          高   \n2        03-16         不限  26500.0          13          40          高   \n3        03-16         本科  15000.0          10          20          中   \n4        03-16         本科  15000.0          10          20          中   \n..         ...        ...      ...         ...         ...        ...   \n162      03-16         本科  14000.0          10          18          中   \n163      03-16         硕士  40000.0          30          50          高   \n164      03-16         本科  35000.0          20          50          高   \n165      03-16         本科  19500.0          15          24          中   \n166      03-16         本科  32000.0          24          40          高   \n\n        test      test1  \n0    03-16本科  本科27500.0  \n1    03-16本科  本科27500.0  \n2    03-16不限  不限26500.0  \n3    03-16本科  本科15000.0  \n4    03-16本科  本科15000.0  \n..       ...        ...  \n162  03-16本科  本科14000.0  \n163  03-16硕士  硕士40000.0  \n164  03-16本科  本科35000.0  \n165  03-16本科  本科19500.0  \n166  03-16本科  本科32000.0  \n\n[167 rows x 8 columns]",
      "text/html": "<div>\n<style scoped>\n    .dataframe tbody tr th:only-of-type {\n        vertical-align: middle;\n    }\n\n    .dataframe tbody tr th {\n        vertical-align: top;\n    }\n\n    .dataframe thead th {\n        text-align: right;\n    }\n</style>\n<table border=\"1\" class=\"dataframe\">\n  <thead>\n    <tr style=\"text-align: right;\">\n      <th></th>\n      <th>createTime</th>\n      <th>education</th>\n      <th>salary</th>\n      <th>min_salary</th>\n      <th>max_salary</th>\n      <th>categories</th>\n      <th>test</th>\n      <th>test1</th>\n    </tr>\n  </thead>\n  <tbody>\n    <tr>\n      <th>0</th>\n      <td>03-16</td>\n      <td>本科</td>\n      <td>27500.0</td>\n      <td>20</td>\n      <td>35</td>\n      <td>高</td>\n      <td>03-16本科</td>\n      <td>本科27500.0</td>\n    </tr>\n    <tr>\n      <th>1</th>\n      <td>03-16</td>\n      <td>本科</td>\n      <td>27500.0</td>\n      <td>20</td>\n      <td>35</td>\n      <td>高</td>\n      <td>03-16本科</td>\n      <td>本科27500.0</td>\n    </tr>\n    <tr>\n      <th>2</th>\n      <td>03-16</td>\n      <td>不限</td>\n      <td>26500.0</td>\n      <td>13</td>\n      <td>40</td>\n      <td>高</td>\n      <td>03-16不限</td>\n      <td>不限26500.0</td>\n    </tr>\n    <tr>\n      <th>3</th>\n      <td>03-16</td>\n      <td>本科</td>\n      <td>15000.0</td>\n      <td>10</td>\n      <td>20</td>\n      <td>中</td>\n      <td>03-16本科</td>\n      <td>本科15000.0</td>\n    </tr>\n    <tr>\n      <th>4</th>\n      <td>03-16</td>\n      <td>本科</td>\n      <td>15000.0</td>\n      <td>10</td>\n      <td>20</td>\n      <td>中</td>\n      <td>03-16本科</td>\n      <td>本科15000.0</td>\n    </tr>\n    <tr>\n      <th>...</th>\n      <td>...</td>\n      <td>...</td>\n      <td>...</td>\n      <td>...</td>\n      <td>...</td>\n      <td>...</td>\n      <td>...</td>\n      <td>...</td>\n    </tr>\n    <tr>\n      <th>162</th>\n      <td>03-16</td>\n      <td>本科</td>\n      <td>14000.0</td>\n      <td>10</td>\n      <td>18</td>\n      <td>中</td>\n      <td>03-16本科</td>\n      <td>本科14000.0</td>\n    </tr>\n    <tr>\n      <th>163</th>\n      <td>03-16</td>\n      <td>硕士</td>\n      <td>40000.0</td>\n      <td>30</td>\n      <td>50</td>\n      <td>高</td>\n      <td>03-16硕士</td>\n      <td>硕士40000.0</td>\n    </tr>\n    <tr>\n      <th>164</th>\n      <td>03-16</td>\n      <td>本科</td>\n      <td>35000.0</td>\n      <td>20</td>\n      <td>50</td>\n      <td>高</td>\n      <td>03-16本科</td>\n      <td>本科35000.0</td>\n    </tr>\n    <tr>\n      <th>165</th>\n      <td>03-16</td>\n      <td>本科</td>\n      <td>19500.0</td>\n      <td>15</td>\n      <td>24</td>\n      <td>中</td>\n      <td>03-16本科</td>\n      <td>本科19500.0</td>\n    </tr>\n    <tr>\n      <th>166</th>\n      <td>03-16</td>\n      <td>本科</td>\n      <td>32000.0</td>\n      <td>24</td>\n      <td>40</td>\n      <td>高</td>\n      <td>03-16本科</td>\n      <td>本科32000.0</td>\n    </tr>\n  </tbody>\n</table>\n<p>167 rows × 8 columns</p>\n</div>"
     },
     "execution_count": 91,
     "metadata": {},
     "output_type": "execute_result"
    }
   ],
   "source": [
    "#36.将education列与salary列合并为新的一列test1\n",
    "df['test1'] = df['education '] + df['salary'].astype(str)\n",
    "df"
   ],
   "metadata": {
    "collapsed": false,
    "ExecuteTime": {
     "end_time": "2023-12-15T09:41:39.796819Z",
     "start_time": "2023-12-15T09:41:39.726979Z"
    }
   },
   "id": "84d54578f29529e8"
  },
  {
   "cell_type": "code",
   "execution_count": 92,
   "outputs": [
    {
     "data": {
      "text/plain": "51000.0"
     },
     "execution_count": 92,
     "metadata": {},
     "output_type": "execute_result"
    }
   ],
   "source": [
    "#37.计算salary最大值与最小值之差\n",
    "df['salary'].max() - df['salary'].min()"
   ],
   "metadata": {
    "collapsed": false,
    "ExecuteTime": {
     "end_time": "2023-12-15T09:41:39.797567Z",
     "start_time": "2023-12-15T09:41:39.730925Z"
    }
   },
   "id": "2efc5f2c95572663"
  },
  {
   "cell_type": "code",
   "execution_count": 93,
   "outputs": [
    {
     "data": {
      "text/plain": "createTime        03-16\neducation            本科\nsalary          27500.0\nmin_salary           20\nmax_salary           35\ncategories            高\ntest            03-16本科\ntest1         本科27500.0\ncreateTime        03-16\neducation            本科\nsalary          32000.0\nmin_salary           24\nmax_salary           40\ncategories            高\ntest            03-16本科\ntest1         本科32000.0\ndtype: object"
     },
     "execution_count": 93,
     "metadata": {},
     "output_type": "execute_result"
    }
   ],
   "source": [
    "#38.将第一行与最后一行拼接\n",
    "result = pd.concat([df.iloc[0], df.iloc[-1]])\n",
    "result"
   ],
   "metadata": {
    "collapsed": false,
    "ExecuteTime": {
     "end_time": "2023-12-15T09:41:39.798311Z",
     "start_time": "2023-12-15T09:41:39.740215Z"
    }
   },
   "id": "7f64f01658dc27f0"
  },
  {
   "cell_type": "code",
   "execution_count": 94,
   "outputs": [
    {
     "data": {
      "text/plain": "    createTime education    salary  min_salary  max_salary categories  \\\n0        03-16         本科  27500.0          20          35          高   \n1        03-16         本科  27500.0          20          35          高   \n2        03-16         不限  26500.0          13          40          高   \n3        03-16         本科  15000.0          10          20          中   \n4        03-16         本科  15000.0          10          20          中   \n..         ...        ...      ...         ...         ...        ...   \n162      03-16         本科  14000.0          10          18          中   \n163      03-16         硕士  40000.0          30          50          高   \n164      03-16         本科  35000.0          20          50          高   \n165      03-16         本科  19500.0          15          24          中   \n166      03-16         本科  15000.0          10          20          中   \n\n        test      test1  \n0    03-16本科  本科27500.0  \n1    03-16本科  本科27500.0  \n2    03-16不限  不限26500.0  \n3    03-16本科  本科15000.0  \n4    03-16本科  本科15000.0  \n..       ...        ...  \n162  03-16本科  本科14000.0  \n163  03-16硕士  硕士40000.0  \n164  03-16本科  本科35000.0  \n165  03-16本科  本科19500.0  \n166  03-16本科  本科15000.0  \n\n[167 rows x 8 columns]",
      "text/html": "<div>\n<style scoped>\n    .dataframe tbody tr th:only-of-type {\n        vertical-align: middle;\n    }\n\n    .dataframe tbody tr th {\n        vertical-align: top;\n    }\n\n    .dataframe thead th {\n        text-align: right;\n    }\n</style>\n<table border=\"1\" class=\"dataframe\">\n  <thead>\n    <tr style=\"text-align: right;\">\n      <th></th>\n      <th>createTime</th>\n      <th>education</th>\n      <th>salary</th>\n      <th>min_salary</th>\n      <th>max_salary</th>\n      <th>categories</th>\n      <th>test</th>\n      <th>test1</th>\n    </tr>\n  </thead>\n  <tbody>\n    <tr>\n      <th>0</th>\n      <td>03-16</td>\n      <td>本科</td>\n      <td>27500.0</td>\n      <td>20</td>\n      <td>35</td>\n      <td>高</td>\n      <td>03-16本科</td>\n      <td>本科27500.0</td>\n    </tr>\n    <tr>\n      <th>1</th>\n      <td>03-16</td>\n      <td>本科</td>\n      <td>27500.0</td>\n      <td>20</td>\n      <td>35</td>\n      <td>高</td>\n      <td>03-16本科</td>\n      <td>本科27500.0</td>\n    </tr>\n    <tr>\n      <th>2</th>\n      <td>03-16</td>\n      <td>不限</td>\n      <td>26500.0</td>\n      <td>13</td>\n      <td>40</td>\n      <td>高</td>\n      <td>03-16不限</td>\n      <td>不限26500.0</td>\n    </tr>\n    <tr>\n      <th>3</th>\n      <td>03-16</td>\n      <td>本科</td>\n      <td>15000.0</td>\n      <td>10</td>\n      <td>20</td>\n      <td>中</td>\n      <td>03-16本科</td>\n      <td>本科15000.0</td>\n    </tr>\n    <tr>\n      <th>4</th>\n      <td>03-16</td>\n      <td>本科</td>\n      <td>15000.0</td>\n      <td>10</td>\n      <td>20</td>\n      <td>中</td>\n      <td>03-16本科</td>\n      <td>本科15000.0</td>\n    </tr>\n    <tr>\n      <th>...</th>\n      <td>...</td>\n      <td>...</td>\n      <td>...</td>\n      <td>...</td>\n      <td>...</td>\n      <td>...</td>\n      <td>...</td>\n      <td>...</td>\n    </tr>\n    <tr>\n      <th>162</th>\n      <td>03-16</td>\n      <td>本科</td>\n      <td>14000.0</td>\n      <td>10</td>\n      <td>18</td>\n      <td>中</td>\n      <td>03-16本科</td>\n      <td>本科14000.0</td>\n    </tr>\n    <tr>\n      <th>163</th>\n      <td>03-16</td>\n      <td>硕士</td>\n      <td>40000.0</td>\n      <td>30</td>\n      <td>50</td>\n      <td>高</td>\n      <td>03-16硕士</td>\n      <td>硕士40000.0</td>\n    </tr>\n    <tr>\n      <th>164</th>\n      <td>03-16</td>\n      <td>本科</td>\n      <td>35000.0</td>\n      <td>20</td>\n      <td>50</td>\n      <td>高</td>\n      <td>03-16本科</td>\n      <td>本科35000.0</td>\n    </tr>\n    <tr>\n      <th>165</th>\n      <td>03-16</td>\n      <td>本科</td>\n      <td>19500.0</td>\n      <td>15</td>\n      <td>24</td>\n      <td>中</td>\n      <td>03-16本科</td>\n      <td>本科19500.0</td>\n    </tr>\n    <tr>\n      <th>166</th>\n      <td>03-16</td>\n      <td>本科</td>\n      <td>15000.0</td>\n      <td>10</td>\n      <td>20</td>\n      <td>中</td>\n      <td>03-16本科</td>\n      <td>本科15000.0</td>\n    </tr>\n  </tbody>\n</table>\n<p>167 rows × 8 columns</p>\n</div>"
     },
     "execution_count": 94,
     "metadata": {},
     "output_type": "execute_result"
    }
   ],
   "source": [
    "#39.将第8行数据添加至末尾\n",
    "df.iloc[-1] = df.iloc[7]\n",
    "df"
   ],
   "metadata": {
    "collapsed": false,
    "ExecuteTime": {
     "end_time": "2023-12-15T09:41:39.799128Z",
     "start_time": "2023-12-15T09:41:39.746105Z"
    }
   },
   "id": "b944032ab59be439"
  },
  {
   "cell_type": "code",
   "execution_count": 95,
   "outputs": [
    {
     "data": {
      "text/plain": "createTime      object\neducation       object\nsalary         float64\nmin_salary       int64\nmax_salary       int64\ncategories    category\ntest            object\ntest1           object\ndtype: object"
     },
     "execution_count": 95,
     "metadata": {},
     "output_type": "execute_result"
    }
   ],
   "source": [
    "#40.查看每列的数据类型\n",
    "df.dtypes"
   ],
   "metadata": {
    "collapsed": false,
    "ExecuteTime": {
     "end_time": "2023-12-15T09:41:39.799800Z",
     "start_time": "2023-12-15T09:41:39.749141Z"
    }
   },
   "id": "23442d2cf3141a0c"
  },
  {
   "cell_type": "code",
   "execution_count": 96,
   "outputs": [
    {
     "data": {
      "text/plain": "           education    salary  min_salary  max_salary categories     test  \\\ncreateTime                                                                   \n03-16              本科  27500.0          20          35          高  03-16本科   \n03-16              本科  27500.0          20          35          高  03-16本科   \n03-16              不限  26500.0          13          40          高  03-16不限   \n03-16              本科  15000.0          10          20          中  03-16本科   \n03-16              本科  15000.0          10          20          中  03-16本科   \n...               ...      ...         ...         ...        ...      ...   \n03-16              本科  14000.0          10          18          中  03-16本科   \n03-16              硕士  40000.0          30          50          高  03-16硕士   \n03-16              本科  35000.0          20          50          高  03-16本科   \n03-16              本科  19500.0          15          24          中  03-16本科   \n03-16              本科  15000.0          10          20          中  03-16本科   \n\n                test1  \ncreateTime             \n03-16       本科27500.0  \n03-16       本科27500.0  \n03-16       不限26500.0  \n03-16       本科15000.0  \n03-16       本科15000.0  \n...               ...  \n03-16       本科14000.0  \n03-16       硕士40000.0  \n03-16       本科35000.0  \n03-16       本科19500.0  \n03-16       本科15000.0  \n\n[167 rows x 7 columns]",
      "text/html": "<div>\n<style scoped>\n    .dataframe tbody tr th:only-of-type {\n        vertical-align: middle;\n    }\n\n    .dataframe tbody tr th {\n        vertical-align: top;\n    }\n\n    .dataframe thead th {\n        text-align: right;\n    }\n</style>\n<table border=\"1\" class=\"dataframe\">\n  <thead>\n    <tr style=\"text-align: right;\">\n      <th></th>\n      <th>education</th>\n      <th>salary</th>\n      <th>min_salary</th>\n      <th>max_salary</th>\n      <th>categories</th>\n      <th>test</th>\n      <th>test1</th>\n    </tr>\n    <tr>\n      <th>createTime</th>\n      <th></th>\n      <th></th>\n      <th></th>\n      <th></th>\n      <th></th>\n      <th></th>\n      <th></th>\n    </tr>\n  </thead>\n  <tbody>\n    <tr>\n      <th>03-16</th>\n      <td>本科</td>\n      <td>27500.0</td>\n      <td>20</td>\n      <td>35</td>\n      <td>高</td>\n      <td>03-16本科</td>\n      <td>本科27500.0</td>\n    </tr>\n    <tr>\n      <th>03-16</th>\n      <td>本科</td>\n      <td>27500.0</td>\n      <td>20</td>\n      <td>35</td>\n      <td>高</td>\n      <td>03-16本科</td>\n      <td>本科27500.0</td>\n    </tr>\n    <tr>\n      <th>03-16</th>\n      <td>不限</td>\n      <td>26500.0</td>\n      <td>13</td>\n      <td>40</td>\n      <td>高</td>\n      <td>03-16不限</td>\n      <td>不限26500.0</td>\n    </tr>\n    <tr>\n      <th>03-16</th>\n      <td>本科</td>\n      <td>15000.0</td>\n      <td>10</td>\n      <td>20</td>\n      <td>中</td>\n      <td>03-16本科</td>\n      <td>本科15000.0</td>\n    </tr>\n    <tr>\n      <th>03-16</th>\n      <td>本科</td>\n      <td>15000.0</td>\n      <td>10</td>\n      <td>20</td>\n      <td>中</td>\n      <td>03-16本科</td>\n      <td>本科15000.0</td>\n    </tr>\n    <tr>\n      <th>...</th>\n      <td>...</td>\n      <td>...</td>\n      <td>...</td>\n      <td>...</td>\n      <td>...</td>\n      <td>...</td>\n      <td>...</td>\n    </tr>\n    <tr>\n      <th>03-16</th>\n      <td>本科</td>\n      <td>14000.0</td>\n      <td>10</td>\n      <td>18</td>\n      <td>中</td>\n      <td>03-16本科</td>\n      <td>本科14000.0</td>\n    </tr>\n    <tr>\n      <th>03-16</th>\n      <td>硕士</td>\n      <td>40000.0</td>\n      <td>30</td>\n      <td>50</td>\n      <td>高</td>\n      <td>03-16硕士</td>\n      <td>硕士40000.0</td>\n    </tr>\n    <tr>\n      <th>03-16</th>\n      <td>本科</td>\n      <td>35000.0</td>\n      <td>20</td>\n      <td>50</td>\n      <td>高</td>\n      <td>03-16本科</td>\n      <td>本科35000.0</td>\n    </tr>\n    <tr>\n      <th>03-16</th>\n      <td>本科</td>\n      <td>19500.0</td>\n      <td>15</td>\n      <td>24</td>\n      <td>中</td>\n      <td>03-16本科</td>\n      <td>本科19500.0</td>\n    </tr>\n    <tr>\n      <th>03-16</th>\n      <td>本科</td>\n      <td>15000.0</td>\n      <td>10</td>\n      <td>20</td>\n      <td>中</td>\n      <td>03-16本科</td>\n      <td>本科15000.0</td>\n    </tr>\n  </tbody>\n</table>\n<p>167 rows × 7 columns</p>\n</div>"
     },
     "execution_count": 96,
     "metadata": {},
     "output_type": "execute_result"
    }
   ],
   "source": [
    "#41.将createTime列设置为索引\n",
    "df.set_index('createTime')"
   ],
   "metadata": {
    "collapsed": false,
    "ExecuteTime": {
     "end_time": "2023-12-15T09:41:39.800701Z",
     "start_time": "2023-12-15T09:41:39.754430Z"
    }
   },
   "id": "d3a7420deb2aac5d"
  },
  {
   "cell_type": "code",
   "execution_count": 147,
   "outputs": [
    {
     "data": {
      "text/plain": "            0         1         2         3         4         5         6  \\\n0    1.837301  0.168418  0.298460  2.363493 -0.522933 -1.247295  0.338935   \n1    0.961224  1.621053 -0.625166  1.215202  1.548008  0.394468 -1.383451   \n2   -0.462882  0.801353 -1.493288 -0.008547  0.132240  1.660832 -1.057661   \n3    1.929808 -0.873525  1.892211  0.431709  0.078624  0.602832  2.002304   \n4    1.182408  0.284371 -1.516352 -1.025153  0.709479  0.231961  0.540420   \n..        ...       ...       ...       ...       ...       ...       ...   \n162 -0.235381  0.807631 -0.660154 -0.204252  2.273061 -0.779796  1.076339   \n163 -0.474519 -0.779125 -0.292332 -1.138905  1.702824  1.187882  0.392666   \n164 -0.072629 -0.920636  0.048034 -0.440606 -0.424299 -0.404818  1.401005   \n165 -1.335924 -2.273181  0.593311 -0.865266  0.679874  2.674340 -1.303020   \n166 -1.875063 -1.629121  0.341167 -2.164640  0.211781  0.306337  0.345555   \n\n            7  \n0   -1.784440  \n1   -0.270851  \n2   -2.541846  \n3    2.993500  \n4    0.447215  \n..        ...  \n162  0.791554  \n163  0.274288  \n164  0.573807  \n165 -0.878873  \n166  2.102982  \n\n[167 rows x 8 columns]",
      "text/html": "<div>\n<style scoped>\n    .dataframe tbody tr th:only-of-type {\n        vertical-align: middle;\n    }\n\n    .dataframe tbody tr th {\n        vertical-align: top;\n    }\n\n    .dataframe thead th {\n        text-align: right;\n    }\n</style>\n<table border=\"1\" class=\"dataframe\">\n  <thead>\n    <tr style=\"text-align: right;\">\n      <th></th>\n      <th>0</th>\n      <th>1</th>\n      <th>2</th>\n      <th>3</th>\n      <th>4</th>\n      <th>5</th>\n      <th>6</th>\n      <th>7</th>\n    </tr>\n  </thead>\n  <tbody>\n    <tr>\n      <th>0</th>\n      <td>1.837301</td>\n      <td>0.168418</td>\n      <td>0.298460</td>\n      <td>2.363493</td>\n      <td>-0.522933</td>\n      <td>-1.247295</td>\n      <td>0.338935</td>\n      <td>-1.784440</td>\n    </tr>\n    <tr>\n      <th>1</th>\n      <td>0.961224</td>\n      <td>1.621053</td>\n      <td>-0.625166</td>\n      <td>1.215202</td>\n      <td>1.548008</td>\n      <td>0.394468</td>\n      <td>-1.383451</td>\n      <td>-0.270851</td>\n    </tr>\n    <tr>\n      <th>2</th>\n      <td>-0.462882</td>\n      <td>0.801353</td>\n      <td>-1.493288</td>\n      <td>-0.008547</td>\n      <td>0.132240</td>\n      <td>1.660832</td>\n      <td>-1.057661</td>\n      <td>-2.541846</td>\n    </tr>\n    <tr>\n      <th>3</th>\n      <td>1.929808</td>\n      <td>-0.873525</td>\n      <td>1.892211</td>\n      <td>0.431709</td>\n      <td>0.078624</td>\n      <td>0.602832</td>\n      <td>2.002304</td>\n      <td>2.993500</td>\n    </tr>\n    <tr>\n      <th>4</th>\n      <td>1.182408</td>\n      <td>0.284371</td>\n      <td>-1.516352</td>\n      <td>-1.025153</td>\n      <td>0.709479</td>\n      <td>0.231961</td>\n      <td>0.540420</td>\n      <td>0.447215</td>\n    </tr>\n    <tr>\n      <th>...</th>\n      <td>...</td>\n      <td>...</td>\n      <td>...</td>\n      <td>...</td>\n      <td>...</td>\n      <td>...</td>\n      <td>...</td>\n      <td>...</td>\n    </tr>\n    <tr>\n      <th>162</th>\n      <td>-0.235381</td>\n      <td>0.807631</td>\n      <td>-0.660154</td>\n      <td>-0.204252</td>\n      <td>2.273061</td>\n      <td>-0.779796</td>\n      <td>1.076339</td>\n      <td>0.791554</td>\n    </tr>\n    <tr>\n      <th>163</th>\n      <td>-0.474519</td>\n      <td>-0.779125</td>\n      <td>-0.292332</td>\n      <td>-1.138905</td>\n      <td>1.702824</td>\n      <td>1.187882</td>\n      <td>0.392666</td>\n      <td>0.274288</td>\n    </tr>\n    <tr>\n      <th>164</th>\n      <td>-0.072629</td>\n      <td>-0.920636</td>\n      <td>0.048034</td>\n      <td>-0.440606</td>\n      <td>-0.424299</td>\n      <td>-0.404818</td>\n      <td>1.401005</td>\n      <td>0.573807</td>\n    </tr>\n    <tr>\n      <th>165</th>\n      <td>-1.335924</td>\n      <td>-2.273181</td>\n      <td>0.593311</td>\n      <td>-0.865266</td>\n      <td>0.679874</td>\n      <td>2.674340</td>\n      <td>-1.303020</td>\n      <td>-0.878873</td>\n    </tr>\n    <tr>\n      <th>166</th>\n      <td>-1.875063</td>\n      <td>-1.629121</td>\n      <td>0.341167</td>\n      <td>-2.164640</td>\n      <td>0.211781</td>\n      <td>0.306337</td>\n      <td>0.345555</td>\n      <td>2.102982</td>\n    </tr>\n  </tbody>\n</table>\n<p>167 rows × 8 columns</p>\n</div>"
     },
     "execution_count": 147,
     "metadata": {},
     "output_type": "execute_result"
    }
   ],
   "source": [
    "#42.生成一个和df长度相同的随机数dataframe\n",
    "df2 = pd.DataFrame(np.random.randn(len(df), len(df.columns)))\n",
    "df2"
   ],
   "metadata": {
    "collapsed": false,
    "ExecuteTime": {
     "end_time": "2023-12-15T09:57:03.343288Z",
     "start_time": "2023-12-15T09:57:03.325826Z"
    }
   },
   "id": "229a54670d7426cf"
  },
  {
   "cell_type": "code",
   "execution_count": 151,
   "outputs": [
    {
     "data": {
      "text/plain": "    createTime education    salary  min_salary  max_salary categories  \\\n0        03-16         本科  27500.0          20          35          高   \n1        03-16         本科  27500.0          20          35          高   \n2        03-16         不限  26500.0          13          40          高   \n3        03-16         本科  15000.0          10          20          中   \n4        03-16         本科  15000.0          10          20          中   \n..         ...        ...      ...         ...         ...        ...   \n162      03-16         本科  14000.0          10          18          中   \n163      03-16         硕士  40000.0          30          50          高   \n164      03-16         本科  35000.0          20          50          高   \n165      03-16         本科  19500.0          15          24          中   \n166      03-16         本科  15000.0          10          20          中   \n\n        test      test1         0         1         2         3         4  \\\n0    03-16本科  本科27500.0  1.837301  0.168418  0.298460  2.363493 -0.522933   \n1    03-16本科  本科27500.0  0.961224  1.621053 -0.625166  1.215202  1.548008   \n2    03-16不限  不限26500.0 -0.462882  0.801353 -1.493288 -0.008547  0.132240   \n3    03-16本科  本科15000.0  1.929808 -0.873525  1.892211  0.431709  0.078624   \n4    03-16本科  本科15000.0  1.182408  0.284371 -1.516352 -1.025153  0.709479   \n..       ...        ...       ...       ...       ...       ...       ...   \n162  03-16本科  本科14000.0 -0.235381  0.807631 -0.660154 -0.204252  2.273061   \n163  03-16硕士  硕士40000.0 -0.474519 -0.779125 -0.292332 -1.138905  1.702824   \n164  03-16本科  本科35000.0 -0.072629 -0.920636  0.048034 -0.440606 -0.424299   \n165  03-16本科  本科19500.0 -1.335924 -2.273181  0.593311 -0.865266  0.679874   \n166  03-16本科  本科15000.0 -1.875063 -1.629121  0.341167 -2.164640  0.211781   \n\n            5         6         7  \n0   -1.247295  0.338935 -1.784440  \n1    0.394468 -1.383451 -0.270851  \n2    1.660832 -1.057661 -2.541846  \n3    0.602832  2.002304  2.993500  \n4    0.231961  0.540420  0.447215  \n..        ...       ...       ...  \n162 -0.779796  1.076339  0.791554  \n163  1.187882  0.392666  0.274288  \n164 -0.404818  1.401005  0.573807  \n165  2.674340 -1.303020 -0.878873  \n166  0.306337  0.345555  2.102982  \n\n[167 rows x 16 columns]",
      "text/html": "<div>\n<style scoped>\n    .dataframe tbody tr th:only-of-type {\n        vertical-align: middle;\n    }\n\n    .dataframe tbody tr th {\n        vertical-align: top;\n    }\n\n    .dataframe thead th {\n        text-align: right;\n    }\n</style>\n<table border=\"1\" class=\"dataframe\">\n  <thead>\n    <tr style=\"text-align: right;\">\n      <th></th>\n      <th>createTime</th>\n      <th>education</th>\n      <th>salary</th>\n      <th>min_salary</th>\n      <th>max_salary</th>\n      <th>categories</th>\n      <th>test</th>\n      <th>test1</th>\n      <th>0</th>\n      <th>1</th>\n      <th>2</th>\n      <th>3</th>\n      <th>4</th>\n      <th>5</th>\n      <th>6</th>\n      <th>7</th>\n    </tr>\n  </thead>\n  <tbody>\n    <tr>\n      <th>0</th>\n      <td>03-16</td>\n      <td>本科</td>\n      <td>27500.0</td>\n      <td>20</td>\n      <td>35</td>\n      <td>高</td>\n      <td>03-16本科</td>\n      <td>本科27500.0</td>\n      <td>1.837301</td>\n      <td>0.168418</td>\n      <td>0.298460</td>\n      <td>2.363493</td>\n      <td>-0.522933</td>\n      <td>-1.247295</td>\n      <td>0.338935</td>\n      <td>-1.784440</td>\n    </tr>\n    <tr>\n      <th>1</th>\n      <td>03-16</td>\n      <td>本科</td>\n      <td>27500.0</td>\n      <td>20</td>\n      <td>35</td>\n      <td>高</td>\n      <td>03-16本科</td>\n      <td>本科27500.0</td>\n      <td>0.961224</td>\n      <td>1.621053</td>\n      <td>-0.625166</td>\n      <td>1.215202</td>\n      <td>1.548008</td>\n      <td>0.394468</td>\n      <td>-1.383451</td>\n      <td>-0.270851</td>\n    </tr>\n    <tr>\n      <th>2</th>\n      <td>03-16</td>\n      <td>不限</td>\n      <td>26500.0</td>\n      <td>13</td>\n      <td>40</td>\n      <td>高</td>\n      <td>03-16不限</td>\n      <td>不限26500.0</td>\n      <td>-0.462882</td>\n      <td>0.801353</td>\n      <td>-1.493288</td>\n      <td>-0.008547</td>\n      <td>0.132240</td>\n      <td>1.660832</td>\n      <td>-1.057661</td>\n      <td>-2.541846</td>\n    </tr>\n    <tr>\n      <th>3</th>\n      <td>03-16</td>\n      <td>本科</td>\n      <td>15000.0</td>\n      <td>10</td>\n      <td>20</td>\n      <td>中</td>\n      <td>03-16本科</td>\n      <td>本科15000.0</td>\n      <td>1.929808</td>\n      <td>-0.873525</td>\n      <td>1.892211</td>\n      <td>0.431709</td>\n      <td>0.078624</td>\n      <td>0.602832</td>\n      <td>2.002304</td>\n      <td>2.993500</td>\n    </tr>\n    <tr>\n      <th>4</th>\n      <td>03-16</td>\n      <td>本科</td>\n      <td>15000.0</td>\n      <td>10</td>\n      <td>20</td>\n      <td>中</td>\n      <td>03-16本科</td>\n      <td>本科15000.0</td>\n      <td>1.182408</td>\n      <td>0.284371</td>\n      <td>-1.516352</td>\n      <td>-1.025153</td>\n      <td>0.709479</td>\n      <td>0.231961</td>\n      <td>0.540420</td>\n      <td>0.447215</td>\n    </tr>\n    <tr>\n      <th>...</th>\n      <td>...</td>\n      <td>...</td>\n      <td>...</td>\n      <td>...</td>\n      <td>...</td>\n      <td>...</td>\n      <td>...</td>\n      <td>...</td>\n      <td>...</td>\n      <td>...</td>\n      <td>...</td>\n      <td>...</td>\n      <td>...</td>\n      <td>...</td>\n      <td>...</td>\n      <td>...</td>\n    </tr>\n    <tr>\n      <th>162</th>\n      <td>03-16</td>\n      <td>本科</td>\n      <td>14000.0</td>\n      <td>10</td>\n      <td>18</td>\n      <td>中</td>\n      <td>03-16本科</td>\n      <td>本科14000.0</td>\n      <td>-0.235381</td>\n      <td>0.807631</td>\n      <td>-0.660154</td>\n      <td>-0.204252</td>\n      <td>2.273061</td>\n      <td>-0.779796</td>\n      <td>1.076339</td>\n      <td>0.791554</td>\n    </tr>\n    <tr>\n      <th>163</th>\n      <td>03-16</td>\n      <td>硕士</td>\n      <td>40000.0</td>\n      <td>30</td>\n      <td>50</td>\n      <td>高</td>\n      <td>03-16硕士</td>\n      <td>硕士40000.0</td>\n      <td>-0.474519</td>\n      <td>-0.779125</td>\n      <td>-0.292332</td>\n      <td>-1.138905</td>\n      <td>1.702824</td>\n      <td>1.187882</td>\n      <td>0.392666</td>\n      <td>0.274288</td>\n    </tr>\n    <tr>\n      <th>164</th>\n      <td>03-16</td>\n      <td>本科</td>\n      <td>35000.0</td>\n      <td>20</td>\n      <td>50</td>\n      <td>高</td>\n      <td>03-16本科</td>\n      <td>本科35000.0</td>\n      <td>-0.072629</td>\n      <td>-0.920636</td>\n      <td>0.048034</td>\n      <td>-0.440606</td>\n      <td>-0.424299</td>\n      <td>-0.404818</td>\n      <td>1.401005</td>\n      <td>0.573807</td>\n    </tr>\n    <tr>\n      <th>165</th>\n      <td>03-16</td>\n      <td>本科</td>\n      <td>19500.0</td>\n      <td>15</td>\n      <td>24</td>\n      <td>中</td>\n      <td>03-16本科</td>\n      <td>本科19500.0</td>\n      <td>-1.335924</td>\n      <td>-2.273181</td>\n      <td>0.593311</td>\n      <td>-0.865266</td>\n      <td>0.679874</td>\n      <td>2.674340</td>\n      <td>-1.303020</td>\n      <td>-0.878873</td>\n    </tr>\n    <tr>\n      <th>166</th>\n      <td>03-16</td>\n      <td>本科</td>\n      <td>15000.0</td>\n      <td>10</td>\n      <td>20</td>\n      <td>中</td>\n      <td>03-16本科</td>\n      <td>本科15000.0</td>\n      <td>-1.875063</td>\n      <td>-1.629121</td>\n      <td>0.341167</td>\n      <td>-2.164640</td>\n      <td>0.211781</td>\n      <td>0.306337</td>\n      <td>0.345555</td>\n      <td>2.102982</td>\n    </tr>\n  </tbody>\n</table>\n<p>167 rows × 16 columns</p>\n</div>"
     },
     "execution_count": 151,
     "metadata": {},
     "output_type": "execute_result"
    }
   ],
   "source": [
    "#43.将上一题生成的dataframe与df合并\n",
    "df3 = pd.merge(df, df2, left_index=True, right_index=True)\n",
    "df3"
   ],
   "metadata": {
    "collapsed": false,
    "ExecuteTime": {
     "end_time": "2023-12-15T11:04:31.238977Z",
     "start_time": "2023-12-15T11:04:31.222570Z"
    }
   },
   "id": "c92cce324d587e1f"
  },
  {
   "cell_type": "code",
   "execution_count": 157,
   "outputs": [
    {
     "data": {
      "text/plain": "    createTime education    salary  min_salary  max_salary categories  \\\n0        03-16         本科  27500.0          20          35          高   \n1        03-16         本科  27500.0          20          35          高   \n2        03-16         不限  26500.0          13          40          高   \n3        03-16         本科  15000.0          10          20          中   \n4        03-16         本科  15000.0          10          20          中   \n..         ...        ...      ...         ...         ...        ...   \n162      03-16         本科  14000.0          10          18          中   \n163      03-16         硕士  40000.0          30          50          高   \n164      03-16         本科  35000.0          20          50          高   \n165      03-16         本科  19500.0          15          24          中   \n166      03-16         本科  15000.0          10          20          中   \n\n        test      test1         0         1         2         3         4  \\\n0    03-16本科  本科27500.0  1.837301  0.168418  0.298460  2.363493 -0.522933   \n1    03-16本科  本科27500.0  0.961224  1.621053 -0.625166  1.215202  1.548008   \n2    03-16不限  不限26500.0 -0.462882  0.801353 -1.493288 -0.008547  0.132240   \n3    03-16本科  本科15000.0  1.929808 -0.873525  1.892211  0.431709  0.078624   \n4    03-16本科  本科15000.0  1.182408  0.284371 -1.516352 -1.025153  0.709479   \n..       ...        ...       ...       ...       ...       ...       ...   \n162  03-16本科  本科14000.0 -0.235381  0.807631 -0.660154 -0.204252  2.273061   \n163  03-16硕士  硕士40000.0 -0.474519 -0.779125 -0.292332 -1.138905  1.702824   \n164  03-16本科  本科35000.0 -0.072629 -0.920636  0.048034 -0.440606 -0.424299   \n165  03-16本科  本科19500.0 -1.335924 -2.273181  0.593311 -0.865266  0.679874   \n166  03-16本科  本科15000.0 -1.875063 -1.629121  0.341167 -2.164640  0.211781   \n\n            5         6         7           new  \n0   -1.247295  0.338935 -1.784440  27498.162699  \n1    0.394468 -1.383451 -0.270851  27499.038776  \n2    1.660832 -1.057661 -2.541846  26500.462882  \n3    0.602832  2.002304  2.993500  14998.070192  \n4    0.231961  0.540420  0.447215  14998.817592  \n..        ...       ...       ...           ...  \n162 -0.779796  1.076339  0.791554  14000.235381  \n163  1.187882  0.392666  0.274288  40000.474519  \n164 -0.404818  1.401005  0.573807  35000.072629  \n165  2.674340 -1.303020 -0.878873  19501.335924  \n166  0.306337  0.345555  2.102982  15001.875063  \n\n[167 rows x 17 columns]",
      "text/html": "<div>\n<style scoped>\n    .dataframe tbody tr th:only-of-type {\n        vertical-align: middle;\n    }\n\n    .dataframe tbody tr th {\n        vertical-align: top;\n    }\n\n    .dataframe thead th {\n        text-align: right;\n    }\n</style>\n<table border=\"1\" class=\"dataframe\">\n  <thead>\n    <tr style=\"text-align: right;\">\n      <th></th>\n      <th>createTime</th>\n      <th>education</th>\n      <th>salary</th>\n      <th>min_salary</th>\n      <th>max_salary</th>\n      <th>categories</th>\n      <th>test</th>\n      <th>test1</th>\n      <th>0</th>\n      <th>1</th>\n      <th>2</th>\n      <th>3</th>\n      <th>4</th>\n      <th>5</th>\n      <th>6</th>\n      <th>7</th>\n      <th>new</th>\n    </tr>\n  </thead>\n  <tbody>\n    <tr>\n      <th>0</th>\n      <td>03-16</td>\n      <td>本科</td>\n      <td>27500.0</td>\n      <td>20</td>\n      <td>35</td>\n      <td>高</td>\n      <td>03-16本科</td>\n      <td>本科27500.0</td>\n      <td>1.837301</td>\n      <td>0.168418</td>\n      <td>0.298460</td>\n      <td>2.363493</td>\n      <td>-0.522933</td>\n      <td>-1.247295</td>\n      <td>0.338935</td>\n      <td>-1.784440</td>\n      <td>27498.162699</td>\n    </tr>\n    <tr>\n      <th>1</th>\n      <td>03-16</td>\n      <td>本科</td>\n      <td>27500.0</td>\n      <td>20</td>\n      <td>35</td>\n      <td>高</td>\n      <td>03-16本科</td>\n      <td>本科27500.0</td>\n      <td>0.961224</td>\n      <td>1.621053</td>\n      <td>-0.625166</td>\n      <td>1.215202</td>\n      <td>1.548008</td>\n      <td>0.394468</td>\n      <td>-1.383451</td>\n      <td>-0.270851</td>\n      <td>27499.038776</td>\n    </tr>\n    <tr>\n      <th>2</th>\n      <td>03-16</td>\n      <td>不限</td>\n      <td>26500.0</td>\n      <td>13</td>\n      <td>40</td>\n      <td>高</td>\n      <td>03-16不限</td>\n      <td>不限26500.0</td>\n      <td>-0.462882</td>\n      <td>0.801353</td>\n      <td>-1.493288</td>\n      <td>-0.008547</td>\n      <td>0.132240</td>\n      <td>1.660832</td>\n      <td>-1.057661</td>\n      <td>-2.541846</td>\n      <td>26500.462882</td>\n    </tr>\n    <tr>\n      <th>3</th>\n      <td>03-16</td>\n      <td>本科</td>\n      <td>15000.0</td>\n      <td>10</td>\n      <td>20</td>\n      <td>中</td>\n      <td>03-16本科</td>\n      <td>本科15000.0</td>\n      <td>1.929808</td>\n      <td>-0.873525</td>\n      <td>1.892211</td>\n      <td>0.431709</td>\n      <td>0.078624</td>\n      <td>0.602832</td>\n      <td>2.002304</td>\n      <td>2.993500</td>\n      <td>14998.070192</td>\n    </tr>\n    <tr>\n      <th>4</th>\n      <td>03-16</td>\n      <td>本科</td>\n      <td>15000.0</td>\n      <td>10</td>\n      <td>20</td>\n      <td>中</td>\n      <td>03-16本科</td>\n      <td>本科15000.0</td>\n      <td>1.182408</td>\n      <td>0.284371</td>\n      <td>-1.516352</td>\n      <td>-1.025153</td>\n      <td>0.709479</td>\n      <td>0.231961</td>\n      <td>0.540420</td>\n      <td>0.447215</td>\n      <td>14998.817592</td>\n    </tr>\n    <tr>\n      <th>...</th>\n      <td>...</td>\n      <td>...</td>\n      <td>...</td>\n      <td>...</td>\n      <td>...</td>\n      <td>...</td>\n      <td>...</td>\n      <td>...</td>\n      <td>...</td>\n      <td>...</td>\n      <td>...</td>\n      <td>...</td>\n      <td>...</td>\n      <td>...</td>\n      <td>...</td>\n      <td>...</td>\n      <td>...</td>\n    </tr>\n    <tr>\n      <th>162</th>\n      <td>03-16</td>\n      <td>本科</td>\n      <td>14000.0</td>\n      <td>10</td>\n      <td>18</td>\n      <td>中</td>\n      <td>03-16本科</td>\n      <td>本科14000.0</td>\n      <td>-0.235381</td>\n      <td>0.807631</td>\n      <td>-0.660154</td>\n      <td>-0.204252</td>\n      <td>2.273061</td>\n      <td>-0.779796</td>\n      <td>1.076339</td>\n      <td>0.791554</td>\n      <td>14000.235381</td>\n    </tr>\n    <tr>\n      <th>163</th>\n      <td>03-16</td>\n      <td>硕士</td>\n      <td>40000.0</td>\n      <td>30</td>\n      <td>50</td>\n      <td>高</td>\n      <td>03-16硕士</td>\n      <td>硕士40000.0</td>\n      <td>-0.474519</td>\n      <td>-0.779125</td>\n      <td>-0.292332</td>\n      <td>-1.138905</td>\n      <td>1.702824</td>\n      <td>1.187882</td>\n      <td>0.392666</td>\n      <td>0.274288</td>\n      <td>40000.474519</td>\n    </tr>\n    <tr>\n      <th>164</th>\n      <td>03-16</td>\n      <td>本科</td>\n      <td>35000.0</td>\n      <td>20</td>\n      <td>50</td>\n      <td>高</td>\n      <td>03-16本科</td>\n      <td>本科35000.0</td>\n      <td>-0.072629</td>\n      <td>-0.920636</td>\n      <td>0.048034</td>\n      <td>-0.440606</td>\n      <td>-0.424299</td>\n      <td>-0.404818</td>\n      <td>1.401005</td>\n      <td>0.573807</td>\n      <td>35000.072629</td>\n    </tr>\n    <tr>\n      <th>165</th>\n      <td>03-16</td>\n      <td>本科</td>\n      <td>19500.0</td>\n      <td>15</td>\n      <td>24</td>\n      <td>中</td>\n      <td>03-16本科</td>\n      <td>本科19500.0</td>\n      <td>-1.335924</td>\n      <td>-2.273181</td>\n      <td>0.593311</td>\n      <td>-0.865266</td>\n      <td>0.679874</td>\n      <td>2.674340</td>\n      <td>-1.303020</td>\n      <td>-0.878873</td>\n      <td>19501.335924</td>\n    </tr>\n    <tr>\n      <th>166</th>\n      <td>03-16</td>\n      <td>本科</td>\n      <td>15000.0</td>\n      <td>10</td>\n      <td>20</td>\n      <td>中</td>\n      <td>03-16本科</td>\n      <td>本科15000.0</td>\n      <td>-1.875063</td>\n      <td>-1.629121</td>\n      <td>0.341167</td>\n      <td>-2.164640</td>\n      <td>0.211781</td>\n      <td>0.306337</td>\n      <td>0.345555</td>\n      <td>2.102982</td>\n      <td>15001.875063</td>\n    </tr>\n  </tbody>\n</table>\n<p>167 rows × 17 columns</p>\n</div>"
     },
     "execution_count": 157,
     "metadata": {},
     "output_type": "execute_result"
    }
   ],
   "source": [
    "#44.生成新的一列new为salary列减去之前生成随机数列\n",
    "df3['new'] = df3['salary'] - df3[0]\n",
    "df3"
   ],
   "metadata": {
    "collapsed": false,
    "ExecuteTime": {
     "end_time": "2023-12-15T11:05:29.011448Z",
     "start_time": "2023-12-15T11:05:29.007685Z"
    }
   },
   "id": "b318259d7f033a67"
  },
  {
   "cell_type": "code",
   "execution_count": 158,
   "outputs": [
    {
     "data": {
      "text/plain": "createTime    False\neducation     False\nsalary        False\nmin_salary    False\nmax_salary    False\ncategories     True\ntest          False\ntest1         False\n0             False\n1             False\n2             False\n3             False\n4             False\n5             False\n6             False\n7             False\nnew           False\ndtype: bool"
     },
     "execution_count": 158,
     "metadata": {},
     "output_type": "execute_result"
    }
   ],
   "source": [
    "#45.检查数据中是否含有任何缺失值\n",
    "df3.isnull().any()"
   ],
   "metadata": {
    "collapsed": false,
    "ExecuteTime": {
     "end_time": "2023-12-15T11:06:46.689865Z",
     "start_time": "2023-12-15T11:06:46.680595Z"
    }
   },
   "id": "4eb6a7956eb239ff"
  },
  {
   "cell_type": "code",
   "execution_count": 159,
   "outputs": [],
   "source": [
    "#46.将salary列类型转换为浮点数\n",
    "df3['salary'] = df3['salary'].astype(float)"
   ],
   "metadata": {
    "collapsed": false,
    "ExecuteTime": {
     "end_time": "2023-12-15T11:07:03.235883Z",
     "start_time": "2023-12-15T11:07:03.233404Z"
    }
   },
   "id": "168246e654fec142"
  },
  {
   "cell_type": "code",
   "execution_count": 170,
   "outputs": [
    {
     "data": {
      "text/plain": "167"
     },
     "execution_count": 170,
     "metadata": {},
     "output_type": "execute_result"
    }
   ],
   "source": [
    "#47.计算salary大于10000的次数\n",
    "len(df3[df3['salary'] > 10000])"
   ],
   "metadata": {
    "collapsed": false,
    "ExecuteTime": {
     "end_time": "2023-12-15T11:09:25.654499Z",
     "start_time": "2023-12-15T11:09:25.650396Z"
    }
   },
   "id": "c3c226cf3e1cab12"
  },
  {
   "cell_type": "code",
   "execution_count": 171,
   "outputs": [
    {
     "data": {
      "text/plain": "education \n本科    119\n不限     22\n硕士     15\n大专     11\nName: count, dtype: int64"
     },
     "execution_count": 171,
     "metadata": {},
     "output_type": "execute_result"
    }
   ],
   "source": [
    "#48.查看每种学历出现的次数\n",
    "df3['education '].value_counts()"
   ],
   "metadata": {
    "collapsed": false,
    "ExecuteTime": {
     "end_time": "2023-12-15T11:09:48.834083Z",
     "start_time": "2023-12-15T11:09:48.829437Z"
    }
   },
   "id": "1b93bab5792d3386"
  },
  {
   "cell_type": "code",
   "execution_count": 172,
   "outputs": [
    {
     "data": {
      "text/plain": "4"
     },
     "execution_count": 172,
     "metadata": {},
     "output_type": "execute_result"
    }
   ],
   "source": [
    "#49.查看education列共有几种学历\n",
    "df3['education '].nunique()"
   ],
   "metadata": {
    "collapsed": false,
    "ExecuteTime": {
     "end_time": "2023-12-15T11:09:59.762939Z",
     "start_time": "2023-12-15T11:09:59.759358Z"
    }
   },
   "id": "60ffd750da37c9df"
  },
  {
   "cell_type": "code",
   "execution_count": 173,
   "outputs": [
    {
     "data": {
      "text/plain": "    createTime education    salary  min_salary  max_salary categories  \\\n159      03-16         不限  26500.0          13          40          高   \n163      03-16         硕士  40000.0          30          50          高   \n164      03-16         本科  35000.0          20          50          高   \n\n        test      test1         0         1         2         3         4  \\\n159  03-16不限  不限26500.0 -0.172117 -0.226067  1.125480 -0.179085 -0.884258   \n163  03-16硕士  硕士40000.0 -0.474519 -0.779125 -0.292332 -1.138905  1.702824   \n164  03-16本科  本科35000.0 -0.072629 -0.920636  0.048034 -0.440606 -0.424299   \n\n            5         6         7           new  \n159  0.640328  1.132892 -1.202708  26500.172117  \n163  1.187882  0.392666  0.274288  40000.474519  \n164 -0.404818  1.401005  0.573807  35000.072629  ",
      "text/html": "<div>\n<style scoped>\n    .dataframe tbody tr th:only-of-type {\n        vertical-align: middle;\n    }\n\n    .dataframe tbody tr th {\n        vertical-align: top;\n    }\n\n    .dataframe thead th {\n        text-align: right;\n    }\n</style>\n<table border=\"1\" class=\"dataframe\">\n  <thead>\n    <tr style=\"text-align: right;\">\n      <th></th>\n      <th>createTime</th>\n      <th>education</th>\n      <th>salary</th>\n      <th>min_salary</th>\n      <th>max_salary</th>\n      <th>categories</th>\n      <th>test</th>\n      <th>test1</th>\n      <th>0</th>\n      <th>1</th>\n      <th>2</th>\n      <th>3</th>\n      <th>4</th>\n      <th>5</th>\n      <th>6</th>\n      <th>7</th>\n      <th>new</th>\n    </tr>\n  </thead>\n  <tbody>\n    <tr>\n      <th>159</th>\n      <td>03-16</td>\n      <td>不限</td>\n      <td>26500.0</td>\n      <td>13</td>\n      <td>40</td>\n      <td>高</td>\n      <td>03-16不限</td>\n      <td>不限26500.0</td>\n      <td>-0.172117</td>\n      <td>-0.226067</td>\n      <td>1.125480</td>\n      <td>-0.179085</td>\n      <td>-0.884258</td>\n      <td>0.640328</td>\n      <td>1.132892</td>\n      <td>-1.202708</td>\n      <td>26500.172117</td>\n    </tr>\n    <tr>\n      <th>163</th>\n      <td>03-16</td>\n      <td>硕士</td>\n      <td>40000.0</td>\n      <td>30</td>\n      <td>50</td>\n      <td>高</td>\n      <td>03-16硕士</td>\n      <td>硕士40000.0</td>\n      <td>-0.474519</td>\n      <td>-0.779125</td>\n      <td>-0.292332</td>\n      <td>-1.138905</td>\n      <td>1.702824</td>\n      <td>1.187882</td>\n      <td>0.392666</td>\n      <td>0.274288</td>\n      <td>40000.474519</td>\n    </tr>\n    <tr>\n      <th>164</th>\n      <td>03-16</td>\n      <td>本科</td>\n      <td>35000.0</td>\n      <td>20</td>\n      <td>50</td>\n      <td>高</td>\n      <td>03-16本科</td>\n      <td>本科35000.0</td>\n      <td>-0.072629</td>\n      <td>-0.920636</td>\n      <td>0.048034</td>\n      <td>-0.440606</td>\n      <td>-0.424299</td>\n      <td>-0.404818</td>\n      <td>1.401005</td>\n      <td>0.573807</td>\n      <td>35000.072629</td>\n    </tr>\n  </tbody>\n</table>\n</div>"
     },
     "execution_count": 173,
     "metadata": {},
     "output_type": "execute_result"
    }
   ],
   "source": [
    "#50.提取salary与new列的和大于40000的最后3行\n",
    "df3[(df3['salary'] + df3['new']) > 40000].tail(3)"
   ],
   "metadata": {
    "collapsed": false,
    "ExecuteTime": {
     "end_time": "2023-12-15T11:11:07.405953Z",
     "start_time": "2023-12-15T11:11:07.401655Z"
    }
   },
   "id": "650f586cc0db3465"
  },
  {
   "cell_type": "code",
   "execution_count": 178,
   "outputs": [
    {
     "data": {
      "text/plain": "a    1.0\nb    6.0\nc    8.0\nd    6.0\ndtype: float64"
     },
     "execution_count": 178,
     "metadata": {},
     "output_type": "execute_result"
    }
   ],
   "source": [
    "# 51.创建serA数据：1，2，3；指定索引为a,b,c\n",
    "# 创建serB数据：4，5，6；指定索引为b,c,d\n",
    "# 创建serC为serA和serB相加的值\n",
    "data_a = [1, 2, 3]\n",
    "index_a = ['a', 'b', 'c']\n",
    "serA = pd.Series(data_a, index=index_a)\n",
    "\n",
    "data_b = [4, 5, 6]\n",
    "index_b = ['b', 'c', 'd']\n",
    "serB = pd.Series(data_b, index=index_b)\n",
    "\n",
    "serC = serA.add(serB, fill_value=0)  # add() Series进行相加的方法 fill_value=0表示缺失值用0填充\n",
    "serC"
   ],
   "metadata": {
    "collapsed": false,
    "ExecuteTime": {
     "end_time": "2023-12-15T11:14:31.112747Z",
     "start_time": "2023-12-15T11:14:31.089542Z"
    }
   },
   "id": "9921fce66d52cf22"
  },
  {
   "cell_type": "code",
   "execution_count": 181,
   "outputs": [
    {
     "ename": "ConnectionResetError",
     "evalue": "[Errno 54] Connection reset by peer",
     "output_type": "error",
     "traceback": [
      "\u001B[0;31m---------------------------------------------------------------------------\u001B[0m",
      "\u001B[0;31mConnectionResetError\u001B[0m                      Traceback (most recent call last)",
      "Cell \u001B[0;32mIn[181], line 2\u001B[0m\n\u001B[1;32m      1\u001B[0m \u001B[38;5;66;03m#52.通过pd读取http://192.168.105.242/test.php数据创建dataframe,命名df2\u001B[39;00m\n\u001B[0;32m----> 2\u001B[0m df2 \u001B[38;5;241m=\u001B[39m pd\u001B[38;5;241m.\u001B[39mread_csv(\u001B[38;5;124m'\u001B[39m\u001B[38;5;124mhttp://192.168.105.242/test.php\u001B[39m\u001B[38;5;124m'\u001B[39m)\n\u001B[1;32m      3\u001B[0m df2\n",
      "File \u001B[0;32m~/anaconda3/envs/Bigdata/lib/python3.11/site-packages/pandas/io/parsers/readers.py:912\u001B[0m, in \u001B[0;36mread_csv\u001B[0;34m(filepath_or_buffer, sep, delimiter, header, names, index_col, usecols, dtype, engine, converters, true_values, false_values, skipinitialspace, skiprows, skipfooter, nrows, na_values, keep_default_na, na_filter, verbose, skip_blank_lines, parse_dates, infer_datetime_format, keep_date_col, date_parser, date_format, dayfirst, cache_dates, iterator, chunksize, compression, thousands, decimal, lineterminator, quotechar, quoting, doublequote, escapechar, comment, encoding, encoding_errors, dialect, on_bad_lines, delim_whitespace, low_memory, memory_map, float_precision, storage_options, dtype_backend)\u001B[0m\n\u001B[1;32m    899\u001B[0m kwds_defaults \u001B[38;5;241m=\u001B[39m _refine_defaults_read(\n\u001B[1;32m    900\u001B[0m     dialect,\n\u001B[1;32m    901\u001B[0m     delimiter,\n\u001B[0;32m   (...)\u001B[0m\n\u001B[1;32m    908\u001B[0m     dtype_backend\u001B[38;5;241m=\u001B[39mdtype_backend,\n\u001B[1;32m    909\u001B[0m )\n\u001B[1;32m    910\u001B[0m kwds\u001B[38;5;241m.\u001B[39mupdate(kwds_defaults)\n\u001B[0;32m--> 912\u001B[0m \u001B[38;5;28;01mreturn\u001B[39;00m _read(filepath_or_buffer, kwds)\n",
      "File \u001B[0;32m~/anaconda3/envs/Bigdata/lib/python3.11/site-packages/pandas/io/parsers/readers.py:577\u001B[0m, in \u001B[0;36m_read\u001B[0;34m(filepath_or_buffer, kwds)\u001B[0m\n\u001B[1;32m    574\u001B[0m _validate_names(kwds\u001B[38;5;241m.\u001B[39mget(\u001B[38;5;124m\"\u001B[39m\u001B[38;5;124mnames\u001B[39m\u001B[38;5;124m\"\u001B[39m, \u001B[38;5;28;01mNone\u001B[39;00m))\n\u001B[1;32m    576\u001B[0m \u001B[38;5;66;03m# Create the parser.\u001B[39;00m\n\u001B[0;32m--> 577\u001B[0m parser \u001B[38;5;241m=\u001B[39m TextFileReader(filepath_or_buffer, \u001B[38;5;241m*\u001B[39m\u001B[38;5;241m*\u001B[39mkwds)\n\u001B[1;32m    579\u001B[0m \u001B[38;5;28;01mif\u001B[39;00m chunksize \u001B[38;5;129;01mor\u001B[39;00m iterator:\n\u001B[1;32m    580\u001B[0m     \u001B[38;5;28;01mreturn\u001B[39;00m parser\n",
      "File \u001B[0;32m~/anaconda3/envs/Bigdata/lib/python3.11/site-packages/pandas/io/parsers/readers.py:1407\u001B[0m, in \u001B[0;36mTextFileReader.__init__\u001B[0;34m(self, f, engine, **kwds)\u001B[0m\n\u001B[1;32m   1404\u001B[0m     \u001B[38;5;28mself\u001B[39m\u001B[38;5;241m.\u001B[39moptions[\u001B[38;5;124m\"\u001B[39m\u001B[38;5;124mhas_index_names\u001B[39m\u001B[38;5;124m\"\u001B[39m] \u001B[38;5;241m=\u001B[39m kwds[\u001B[38;5;124m\"\u001B[39m\u001B[38;5;124mhas_index_names\u001B[39m\u001B[38;5;124m\"\u001B[39m]\n\u001B[1;32m   1406\u001B[0m \u001B[38;5;28mself\u001B[39m\u001B[38;5;241m.\u001B[39mhandles: IOHandles \u001B[38;5;241m|\u001B[39m \u001B[38;5;28;01mNone\u001B[39;00m \u001B[38;5;241m=\u001B[39m \u001B[38;5;28;01mNone\u001B[39;00m\n\u001B[0;32m-> 1407\u001B[0m \u001B[38;5;28mself\u001B[39m\u001B[38;5;241m.\u001B[39m_engine \u001B[38;5;241m=\u001B[39m \u001B[38;5;28mself\u001B[39m\u001B[38;5;241m.\u001B[39m_make_engine(f, \u001B[38;5;28mself\u001B[39m\u001B[38;5;241m.\u001B[39mengine)\n",
      "File \u001B[0;32m~/anaconda3/envs/Bigdata/lib/python3.11/site-packages/pandas/io/parsers/readers.py:1661\u001B[0m, in \u001B[0;36mTextFileReader._make_engine\u001B[0;34m(self, f, engine)\u001B[0m\n\u001B[1;32m   1659\u001B[0m     \u001B[38;5;28;01mif\u001B[39;00m \u001B[38;5;124m\"\u001B[39m\u001B[38;5;124mb\u001B[39m\u001B[38;5;124m\"\u001B[39m \u001B[38;5;129;01mnot\u001B[39;00m \u001B[38;5;129;01min\u001B[39;00m mode:\n\u001B[1;32m   1660\u001B[0m         mode \u001B[38;5;241m+\u001B[39m\u001B[38;5;241m=\u001B[39m \u001B[38;5;124m\"\u001B[39m\u001B[38;5;124mb\u001B[39m\u001B[38;5;124m\"\u001B[39m\n\u001B[0;32m-> 1661\u001B[0m \u001B[38;5;28mself\u001B[39m\u001B[38;5;241m.\u001B[39mhandles \u001B[38;5;241m=\u001B[39m get_handle(\n\u001B[1;32m   1662\u001B[0m     f,\n\u001B[1;32m   1663\u001B[0m     mode,\n\u001B[1;32m   1664\u001B[0m     encoding\u001B[38;5;241m=\u001B[39m\u001B[38;5;28mself\u001B[39m\u001B[38;5;241m.\u001B[39moptions\u001B[38;5;241m.\u001B[39mget(\u001B[38;5;124m\"\u001B[39m\u001B[38;5;124mencoding\u001B[39m\u001B[38;5;124m\"\u001B[39m, \u001B[38;5;28;01mNone\u001B[39;00m),\n\u001B[1;32m   1665\u001B[0m     compression\u001B[38;5;241m=\u001B[39m\u001B[38;5;28mself\u001B[39m\u001B[38;5;241m.\u001B[39moptions\u001B[38;5;241m.\u001B[39mget(\u001B[38;5;124m\"\u001B[39m\u001B[38;5;124mcompression\u001B[39m\u001B[38;5;124m\"\u001B[39m, \u001B[38;5;28;01mNone\u001B[39;00m),\n\u001B[1;32m   1666\u001B[0m     memory_map\u001B[38;5;241m=\u001B[39m\u001B[38;5;28mself\u001B[39m\u001B[38;5;241m.\u001B[39moptions\u001B[38;5;241m.\u001B[39mget(\u001B[38;5;124m\"\u001B[39m\u001B[38;5;124mmemory_map\u001B[39m\u001B[38;5;124m\"\u001B[39m, \u001B[38;5;28;01mFalse\u001B[39;00m),\n\u001B[1;32m   1667\u001B[0m     is_text\u001B[38;5;241m=\u001B[39mis_text,\n\u001B[1;32m   1668\u001B[0m     errors\u001B[38;5;241m=\u001B[39m\u001B[38;5;28mself\u001B[39m\u001B[38;5;241m.\u001B[39moptions\u001B[38;5;241m.\u001B[39mget(\u001B[38;5;124m\"\u001B[39m\u001B[38;5;124mencoding_errors\u001B[39m\u001B[38;5;124m\"\u001B[39m, \u001B[38;5;124m\"\u001B[39m\u001B[38;5;124mstrict\u001B[39m\u001B[38;5;124m\"\u001B[39m),\n\u001B[1;32m   1669\u001B[0m     storage_options\u001B[38;5;241m=\u001B[39m\u001B[38;5;28mself\u001B[39m\u001B[38;5;241m.\u001B[39moptions\u001B[38;5;241m.\u001B[39mget(\u001B[38;5;124m\"\u001B[39m\u001B[38;5;124mstorage_options\u001B[39m\u001B[38;5;124m\"\u001B[39m, \u001B[38;5;28;01mNone\u001B[39;00m),\n\u001B[1;32m   1670\u001B[0m )\n\u001B[1;32m   1671\u001B[0m \u001B[38;5;28;01massert\u001B[39;00m \u001B[38;5;28mself\u001B[39m\u001B[38;5;241m.\u001B[39mhandles \u001B[38;5;129;01mis\u001B[39;00m \u001B[38;5;129;01mnot\u001B[39;00m \u001B[38;5;28;01mNone\u001B[39;00m\n\u001B[1;32m   1672\u001B[0m f \u001B[38;5;241m=\u001B[39m \u001B[38;5;28mself\u001B[39m\u001B[38;5;241m.\u001B[39mhandles\u001B[38;5;241m.\u001B[39mhandle\n",
      "File \u001B[0;32m~/anaconda3/envs/Bigdata/lib/python3.11/site-packages/pandas/io/common.py:716\u001B[0m, in \u001B[0;36mget_handle\u001B[0;34m(path_or_buf, mode, encoding, compression, memory_map, is_text, errors, storage_options)\u001B[0m\n\u001B[1;32m    713\u001B[0m     codecs\u001B[38;5;241m.\u001B[39mlookup_error(errors)\n\u001B[1;32m    715\u001B[0m \u001B[38;5;66;03m# open URLs\u001B[39;00m\n\u001B[0;32m--> 716\u001B[0m ioargs \u001B[38;5;241m=\u001B[39m _get_filepath_or_buffer(\n\u001B[1;32m    717\u001B[0m     path_or_buf,\n\u001B[1;32m    718\u001B[0m     encoding\u001B[38;5;241m=\u001B[39mencoding,\n\u001B[1;32m    719\u001B[0m     compression\u001B[38;5;241m=\u001B[39mcompression,\n\u001B[1;32m    720\u001B[0m     mode\u001B[38;5;241m=\u001B[39mmode,\n\u001B[1;32m    721\u001B[0m     storage_options\u001B[38;5;241m=\u001B[39mstorage_options,\n\u001B[1;32m    722\u001B[0m )\n\u001B[1;32m    724\u001B[0m handle \u001B[38;5;241m=\u001B[39m ioargs\u001B[38;5;241m.\u001B[39mfilepath_or_buffer\n\u001B[1;32m    725\u001B[0m handles: \u001B[38;5;28mlist\u001B[39m[BaseBuffer]\n",
      "File \u001B[0;32m~/anaconda3/envs/Bigdata/lib/python3.11/site-packages/pandas/io/common.py:368\u001B[0m, in \u001B[0;36m_get_filepath_or_buffer\u001B[0;34m(filepath_or_buffer, encoding, compression, mode, storage_options)\u001B[0m\n\u001B[1;32m    366\u001B[0m \u001B[38;5;66;03m# assuming storage_options is to be interpreted as headers\u001B[39;00m\n\u001B[1;32m    367\u001B[0m req_info \u001B[38;5;241m=\u001B[39m urllib\u001B[38;5;241m.\u001B[39mrequest\u001B[38;5;241m.\u001B[39mRequest(filepath_or_buffer, headers\u001B[38;5;241m=\u001B[39mstorage_options)\n\u001B[0;32m--> 368\u001B[0m \u001B[38;5;28;01mwith\u001B[39;00m urlopen(req_info) \u001B[38;5;28;01mas\u001B[39;00m req:\n\u001B[1;32m    369\u001B[0m     content_encoding \u001B[38;5;241m=\u001B[39m req\u001B[38;5;241m.\u001B[39mheaders\u001B[38;5;241m.\u001B[39mget(\u001B[38;5;124m\"\u001B[39m\u001B[38;5;124mContent-Encoding\u001B[39m\u001B[38;5;124m\"\u001B[39m, \u001B[38;5;28;01mNone\u001B[39;00m)\n\u001B[1;32m    370\u001B[0m     \u001B[38;5;28;01mif\u001B[39;00m content_encoding \u001B[38;5;241m==\u001B[39m \u001B[38;5;124m\"\u001B[39m\u001B[38;5;124mgzip\u001B[39m\u001B[38;5;124m\"\u001B[39m:\n\u001B[1;32m    371\u001B[0m         \u001B[38;5;66;03m# Override compression based on Content-Encoding header\u001B[39;00m\n",
      "File \u001B[0;32m~/anaconda3/envs/Bigdata/lib/python3.11/site-packages/pandas/io/common.py:270\u001B[0m, in \u001B[0;36murlopen\u001B[0;34m(*args, **kwargs)\u001B[0m\n\u001B[1;32m    264\u001B[0m \u001B[38;5;250m\u001B[39m\u001B[38;5;124;03m\"\"\"\u001B[39;00m\n\u001B[1;32m    265\u001B[0m \u001B[38;5;124;03mLazy-import wrapper for stdlib urlopen, as that imports a big chunk of\u001B[39;00m\n\u001B[1;32m    266\u001B[0m \u001B[38;5;124;03mthe stdlib.\u001B[39;00m\n\u001B[1;32m    267\u001B[0m \u001B[38;5;124;03m\"\"\"\u001B[39;00m\n\u001B[1;32m    268\u001B[0m \u001B[38;5;28;01mimport\u001B[39;00m \u001B[38;5;21;01murllib\u001B[39;00m\u001B[38;5;21;01m.\u001B[39;00m\u001B[38;5;21;01mrequest\u001B[39;00m\n\u001B[0;32m--> 270\u001B[0m \u001B[38;5;28;01mreturn\u001B[39;00m urllib\u001B[38;5;241m.\u001B[39mrequest\u001B[38;5;241m.\u001B[39murlopen(\u001B[38;5;241m*\u001B[39margs, \u001B[38;5;241m*\u001B[39m\u001B[38;5;241m*\u001B[39mkwargs)\n",
      "File \u001B[0;32m~/anaconda3/envs/Bigdata/lib/python3.11/urllib/request.py:216\u001B[0m, in \u001B[0;36murlopen\u001B[0;34m(url, data, timeout, cafile, capath, cadefault, context)\u001B[0m\n\u001B[1;32m    214\u001B[0m \u001B[38;5;28;01melse\u001B[39;00m:\n\u001B[1;32m    215\u001B[0m     opener \u001B[38;5;241m=\u001B[39m _opener\n\u001B[0;32m--> 216\u001B[0m \u001B[38;5;28;01mreturn\u001B[39;00m opener\u001B[38;5;241m.\u001B[39mopen(url, data, timeout)\n",
      "File \u001B[0;32m~/anaconda3/envs/Bigdata/lib/python3.11/urllib/request.py:519\u001B[0m, in \u001B[0;36mOpenerDirector.open\u001B[0;34m(self, fullurl, data, timeout)\u001B[0m\n\u001B[1;32m    516\u001B[0m     req \u001B[38;5;241m=\u001B[39m meth(req)\n\u001B[1;32m    518\u001B[0m sys\u001B[38;5;241m.\u001B[39maudit(\u001B[38;5;124m'\u001B[39m\u001B[38;5;124murllib.Request\u001B[39m\u001B[38;5;124m'\u001B[39m, req\u001B[38;5;241m.\u001B[39mfull_url, req\u001B[38;5;241m.\u001B[39mdata, req\u001B[38;5;241m.\u001B[39mheaders, req\u001B[38;5;241m.\u001B[39mget_method())\n\u001B[0;32m--> 519\u001B[0m response \u001B[38;5;241m=\u001B[39m \u001B[38;5;28mself\u001B[39m\u001B[38;5;241m.\u001B[39m_open(req, data)\n\u001B[1;32m    521\u001B[0m \u001B[38;5;66;03m# post-process response\u001B[39;00m\n\u001B[1;32m    522\u001B[0m meth_name \u001B[38;5;241m=\u001B[39m protocol\u001B[38;5;241m+\u001B[39m\u001B[38;5;124m\"\u001B[39m\u001B[38;5;124m_response\u001B[39m\u001B[38;5;124m\"\u001B[39m\n",
      "File \u001B[0;32m~/anaconda3/envs/Bigdata/lib/python3.11/urllib/request.py:536\u001B[0m, in \u001B[0;36mOpenerDirector._open\u001B[0;34m(self, req, data)\u001B[0m\n\u001B[1;32m    533\u001B[0m     \u001B[38;5;28;01mreturn\u001B[39;00m result\n\u001B[1;32m    535\u001B[0m protocol \u001B[38;5;241m=\u001B[39m req\u001B[38;5;241m.\u001B[39mtype\n\u001B[0;32m--> 536\u001B[0m result \u001B[38;5;241m=\u001B[39m \u001B[38;5;28mself\u001B[39m\u001B[38;5;241m.\u001B[39m_call_chain(\u001B[38;5;28mself\u001B[39m\u001B[38;5;241m.\u001B[39mhandle_open, protocol, protocol \u001B[38;5;241m+\u001B[39m\n\u001B[1;32m    537\u001B[0m                           \u001B[38;5;124m'\u001B[39m\u001B[38;5;124m_open\u001B[39m\u001B[38;5;124m'\u001B[39m, req)\n\u001B[1;32m    538\u001B[0m \u001B[38;5;28;01mif\u001B[39;00m result:\n\u001B[1;32m    539\u001B[0m     \u001B[38;5;28;01mreturn\u001B[39;00m result\n",
      "File \u001B[0;32m~/anaconda3/envs/Bigdata/lib/python3.11/urllib/request.py:496\u001B[0m, in \u001B[0;36mOpenerDirector._call_chain\u001B[0;34m(self, chain, kind, meth_name, *args)\u001B[0m\n\u001B[1;32m    494\u001B[0m \u001B[38;5;28;01mfor\u001B[39;00m handler \u001B[38;5;129;01min\u001B[39;00m handlers:\n\u001B[1;32m    495\u001B[0m     func \u001B[38;5;241m=\u001B[39m \u001B[38;5;28mgetattr\u001B[39m(handler, meth_name)\n\u001B[0;32m--> 496\u001B[0m     result \u001B[38;5;241m=\u001B[39m func(\u001B[38;5;241m*\u001B[39margs)\n\u001B[1;32m    497\u001B[0m     \u001B[38;5;28;01mif\u001B[39;00m result \u001B[38;5;129;01mis\u001B[39;00m \u001B[38;5;129;01mnot\u001B[39;00m \u001B[38;5;28;01mNone\u001B[39;00m:\n\u001B[1;32m    498\u001B[0m         \u001B[38;5;28;01mreturn\u001B[39;00m result\n",
      "File \u001B[0;32m~/anaconda3/envs/Bigdata/lib/python3.11/urllib/request.py:1377\u001B[0m, in \u001B[0;36mHTTPHandler.http_open\u001B[0;34m(self, req)\u001B[0m\n\u001B[1;32m   1376\u001B[0m \u001B[38;5;28;01mdef\u001B[39;00m \u001B[38;5;21mhttp_open\u001B[39m(\u001B[38;5;28mself\u001B[39m, req):\n\u001B[0;32m-> 1377\u001B[0m     \u001B[38;5;28;01mreturn\u001B[39;00m \u001B[38;5;28mself\u001B[39m\u001B[38;5;241m.\u001B[39mdo_open(http\u001B[38;5;241m.\u001B[39mclient\u001B[38;5;241m.\u001B[39mHTTPConnection, req)\n",
      "File \u001B[0;32m~/anaconda3/envs/Bigdata/lib/python3.11/urllib/request.py:1352\u001B[0m, in \u001B[0;36mAbstractHTTPHandler.do_open\u001B[0;34m(self, http_class, req, **http_conn_args)\u001B[0m\n\u001B[1;32m   1350\u001B[0m     \u001B[38;5;28;01mexcept\u001B[39;00m \u001B[38;5;167;01mOSError\u001B[39;00m \u001B[38;5;28;01mas\u001B[39;00m err: \u001B[38;5;66;03m# timeout error\u001B[39;00m\n\u001B[1;32m   1351\u001B[0m         \u001B[38;5;28;01mraise\u001B[39;00m URLError(err)\n\u001B[0;32m-> 1352\u001B[0m     r \u001B[38;5;241m=\u001B[39m h\u001B[38;5;241m.\u001B[39mgetresponse()\n\u001B[1;32m   1353\u001B[0m \u001B[38;5;28;01mexcept\u001B[39;00m:\n\u001B[1;32m   1354\u001B[0m     h\u001B[38;5;241m.\u001B[39mclose()\n",
      "File \u001B[0;32m~/anaconda3/envs/Bigdata/lib/python3.11/http/client.py:1378\u001B[0m, in \u001B[0;36mHTTPConnection.getresponse\u001B[0;34m(self)\u001B[0m\n\u001B[1;32m   1376\u001B[0m \u001B[38;5;28;01mtry\u001B[39;00m:\n\u001B[1;32m   1377\u001B[0m     \u001B[38;5;28;01mtry\u001B[39;00m:\n\u001B[0;32m-> 1378\u001B[0m         response\u001B[38;5;241m.\u001B[39mbegin()\n\u001B[1;32m   1379\u001B[0m     \u001B[38;5;28;01mexcept\u001B[39;00m \u001B[38;5;167;01mConnectionError\u001B[39;00m:\n\u001B[1;32m   1380\u001B[0m         \u001B[38;5;28mself\u001B[39m\u001B[38;5;241m.\u001B[39mclose()\n",
      "File \u001B[0;32m~/anaconda3/envs/Bigdata/lib/python3.11/http/client.py:318\u001B[0m, in \u001B[0;36mHTTPResponse.begin\u001B[0;34m(self)\u001B[0m\n\u001B[1;32m    316\u001B[0m \u001B[38;5;66;03m# read until we get a non-100 response\u001B[39;00m\n\u001B[1;32m    317\u001B[0m \u001B[38;5;28;01mwhile\u001B[39;00m \u001B[38;5;28;01mTrue\u001B[39;00m:\n\u001B[0;32m--> 318\u001B[0m     version, status, reason \u001B[38;5;241m=\u001B[39m \u001B[38;5;28mself\u001B[39m\u001B[38;5;241m.\u001B[39m_read_status()\n\u001B[1;32m    319\u001B[0m     \u001B[38;5;28;01mif\u001B[39;00m status \u001B[38;5;241m!=\u001B[39m CONTINUE:\n\u001B[1;32m    320\u001B[0m         \u001B[38;5;28;01mbreak\u001B[39;00m\n",
      "File \u001B[0;32m~/anaconda3/envs/Bigdata/lib/python3.11/http/client.py:279\u001B[0m, in \u001B[0;36mHTTPResponse._read_status\u001B[0;34m(self)\u001B[0m\n\u001B[1;32m    278\u001B[0m \u001B[38;5;28;01mdef\u001B[39;00m \u001B[38;5;21m_read_status\u001B[39m(\u001B[38;5;28mself\u001B[39m):\n\u001B[0;32m--> 279\u001B[0m     line \u001B[38;5;241m=\u001B[39m \u001B[38;5;28mstr\u001B[39m(\u001B[38;5;28mself\u001B[39m\u001B[38;5;241m.\u001B[39mfp\u001B[38;5;241m.\u001B[39mreadline(_MAXLINE \u001B[38;5;241m+\u001B[39m \u001B[38;5;241m1\u001B[39m), \u001B[38;5;124m\"\u001B[39m\u001B[38;5;124miso-8859-1\u001B[39m\u001B[38;5;124m\"\u001B[39m)\n\u001B[1;32m    280\u001B[0m     \u001B[38;5;28;01mif\u001B[39;00m \u001B[38;5;28mlen\u001B[39m(line) \u001B[38;5;241m>\u001B[39m _MAXLINE:\n\u001B[1;32m    281\u001B[0m         \u001B[38;5;28;01mraise\u001B[39;00m LineTooLong(\u001B[38;5;124m\"\u001B[39m\u001B[38;5;124mstatus line\u001B[39m\u001B[38;5;124m\"\u001B[39m)\n",
      "File \u001B[0;32m~/anaconda3/envs/Bigdata/lib/python3.11/socket.py:706\u001B[0m, in \u001B[0;36mSocketIO.readinto\u001B[0;34m(self, b)\u001B[0m\n\u001B[1;32m    704\u001B[0m \u001B[38;5;28;01mwhile\u001B[39;00m \u001B[38;5;28;01mTrue\u001B[39;00m:\n\u001B[1;32m    705\u001B[0m     \u001B[38;5;28;01mtry\u001B[39;00m:\n\u001B[0;32m--> 706\u001B[0m         \u001B[38;5;28;01mreturn\u001B[39;00m \u001B[38;5;28mself\u001B[39m\u001B[38;5;241m.\u001B[39m_sock\u001B[38;5;241m.\u001B[39mrecv_into(b)\n\u001B[1;32m    707\u001B[0m     \u001B[38;5;28;01mexcept\u001B[39;00m timeout:\n\u001B[1;32m    708\u001B[0m         \u001B[38;5;28mself\u001B[39m\u001B[38;5;241m.\u001B[39m_timeout_occurred \u001B[38;5;241m=\u001B[39m \u001B[38;5;28;01mTrue\u001B[39;00m\n",
      "\u001B[0;31mConnectionResetError\u001B[0m: [Errno 54] Connection reset by peer"
     ]
    }
   ],
   "source": [
    "#52.通过pd读取http://192.168.105.242/test.php数据创建dataframe,命名df2\n",
    "df2 = pd.read_csv('http://192.168.105.242/test.php')\n",
    "df2"
   ],
   "metadata": {
    "collapsed": false,
    "ExecuteTime": {
     "end_time": "2023-12-15T11:17:02.723044Z",
     "start_time": "2023-12-15T11:16:57.590132Z"
    }
   },
   "id": "986a0c4d12a31fd2"
  },
  {
   "cell_type": "code",
   "execution_count": null,
   "outputs": [],
   "source": [
    "#53.查看每一列的均值\n",
    "df2.mean()"
   ],
   "metadata": {
    "collapsed": false
   },
   "id": "2abc265c1ca34455"
  },
  {
   "cell_type": "code",
   "execution_count": null,
   "outputs": [],
   "source": [
    "#54.查看回每一列的中位数\n",
    "df2.median()"
   ],
   "metadata": {
    "collapsed": false
   },
   "id": "29c012a4ae119c46"
  },
  {
   "cell_type": "code",
   "execution_count": null,
   "outputs": [],
   "source": [
    "#55.获取行索引\n",
    "df2.index"
   ],
   "metadata": {
    "collapsed": false
   },
   "id": "16d2e72397b0c693"
  },
  {
   "cell_type": "code",
   "execution_count": null,
   "outputs": [],
   "source": [
    "#56.获取列索引\n",
    "df2.columns"
   ],
   "metadata": {
    "collapsed": false
   },
   "id": "e7d1d7a3070a800e"
  },
  {
   "cell_type": "code",
   "execution_count": null,
   "outputs": [],
   "source": [
    "#57.排序，index降序排\n",
    "df2.sort_index(ascending=False)"
   ],
   "metadata": {
    "collapsed": false
   },
   "id": "83d392d2403c746b"
  },
  {
   "cell_type": "code",
   "execution_count": null,
   "outputs": [],
   "source": [
    "#58.排序, column升序排\n",
    "df2.sort_index(axis=1)"
   ],
   "metadata": {
    "collapsed": false
   },
   "id": "fb901be00f629d08"
  },
  {
   "cell_type": "code",
   "execution_count": null,
   "outputs": [],
   "source": [
    "#59.用for循环逐行读取数据，打印输出year\n",
    "for index, row in df2.iterrows():\n",
    "    print(row['year'])"
   ],
   "metadata": {
    "collapsed": false
   },
   "id": "323c2a0bb4dc4abe"
  },
  {
   "cell_type": "code",
   "execution_count": null,
   "outputs": [],
   "source": [
    "#60.输出数据到df3.xlsx（输出包括标题和索引）\n",
    "df2.to_excel('df3.xlsx')"
   ],
   "metadata": {
    "collapsed": false
   },
   "id": "212d37f7bc2d56cd"
  },
  {
   "cell_type": "code",
   "execution_count": null,
   "outputs": [],
   "source": [
    "#61.创建dataframe数据df3读取自sample.csv\n",
    "df3 = pd.read_csv('sample.csv')"
   ],
   "metadata": {
    "collapsed": false
   },
   "id": "8676c5b134ca52a5"
  },
  {
   "cell_type": "code",
   "execution_count": null,
   "outputs": [],
   "source": [
    "#62筛选显示前4行，StockCode列DataFrame数据\n",
    "df3['StockCode'].head(4)"
   ],
   "metadata": {
    "collapsed": false
   },
   "id": "90b1e848507024d0"
  },
  {
   "cell_type": "code",
   "execution_count": 183,
   "outputs": [
    {
     "ename": "KeyError",
     "evalue": "'StockCode'",
     "output_type": "error",
     "traceback": [
      "\u001B[0;31m---------------------------------------------------------------------------\u001B[0m",
      "\u001B[0;31mKeyError\u001B[0m                                  Traceback (most recent call last)",
      "File \u001B[0;32m~/anaconda3/envs/Bigdata/lib/python3.11/site-packages/pandas/core/indexes/base.py:3653\u001B[0m, in \u001B[0;36mIndex.get_loc\u001B[0;34m(self, key)\u001B[0m\n\u001B[1;32m   3652\u001B[0m \u001B[38;5;28;01mtry\u001B[39;00m:\n\u001B[0;32m-> 3653\u001B[0m     \u001B[38;5;28;01mreturn\u001B[39;00m \u001B[38;5;28mself\u001B[39m\u001B[38;5;241m.\u001B[39m_engine\u001B[38;5;241m.\u001B[39mget_loc(casted_key)\n\u001B[1;32m   3654\u001B[0m \u001B[38;5;28;01mexcept\u001B[39;00m \u001B[38;5;167;01mKeyError\u001B[39;00m \u001B[38;5;28;01mas\u001B[39;00m err:\n",
      "File \u001B[0;32m~/anaconda3/envs/Bigdata/lib/python3.11/site-packages/pandas/_libs/index.pyx:147\u001B[0m, in \u001B[0;36mpandas._libs.index.IndexEngine.get_loc\u001B[0;34m()\u001B[0m\n",
      "File \u001B[0;32m~/anaconda3/envs/Bigdata/lib/python3.11/site-packages/pandas/_libs/index.pyx:176\u001B[0m, in \u001B[0;36mpandas._libs.index.IndexEngine.get_loc\u001B[0;34m()\u001B[0m\n",
      "File \u001B[0;32mpandas/_libs/hashtable_class_helper.pxi:7080\u001B[0m, in \u001B[0;36mpandas._libs.hashtable.PyObjectHashTable.get_item\u001B[0;34m()\u001B[0m\n",
      "File \u001B[0;32mpandas/_libs/hashtable_class_helper.pxi:7088\u001B[0m, in \u001B[0;36mpandas._libs.hashtable.PyObjectHashTable.get_item\u001B[0;34m()\u001B[0m\n",
      "\u001B[0;31mKeyError\u001B[0m: 'StockCode'",
      "\nThe above exception was the direct cause of the following exception:\n",
      "\u001B[0;31mKeyError\u001B[0m                                  Traceback (most recent call last)",
      "Cell \u001B[0;32mIn[183], line 2\u001B[0m\n\u001B[1;32m      1\u001B[0m \u001B[38;5;66;03m#63.筛选数据,条件:  StockCode 为 71053\u001B[39;00m\n\u001B[0;32m----> 2\u001B[0m df3[df3[\u001B[38;5;124m'\u001B[39m\u001B[38;5;124mStockCode\u001B[39m\u001B[38;5;124m'\u001B[39m] \u001B[38;5;241m==\u001B[39m \u001B[38;5;241m71053\u001B[39m]\n",
      "File \u001B[0;32m~/anaconda3/envs/Bigdata/lib/python3.11/site-packages/pandas/core/frame.py:3761\u001B[0m, in \u001B[0;36mDataFrame.__getitem__\u001B[0;34m(self, key)\u001B[0m\n\u001B[1;32m   3759\u001B[0m \u001B[38;5;28;01mif\u001B[39;00m \u001B[38;5;28mself\u001B[39m\u001B[38;5;241m.\u001B[39mcolumns\u001B[38;5;241m.\u001B[39mnlevels \u001B[38;5;241m>\u001B[39m \u001B[38;5;241m1\u001B[39m:\n\u001B[1;32m   3760\u001B[0m     \u001B[38;5;28;01mreturn\u001B[39;00m \u001B[38;5;28mself\u001B[39m\u001B[38;5;241m.\u001B[39m_getitem_multilevel(key)\n\u001B[0;32m-> 3761\u001B[0m indexer \u001B[38;5;241m=\u001B[39m \u001B[38;5;28mself\u001B[39m\u001B[38;5;241m.\u001B[39mcolumns\u001B[38;5;241m.\u001B[39mget_loc(key)\n\u001B[1;32m   3762\u001B[0m \u001B[38;5;28;01mif\u001B[39;00m is_integer(indexer):\n\u001B[1;32m   3763\u001B[0m     indexer \u001B[38;5;241m=\u001B[39m [indexer]\n",
      "File \u001B[0;32m~/anaconda3/envs/Bigdata/lib/python3.11/site-packages/pandas/core/indexes/base.py:3655\u001B[0m, in \u001B[0;36mIndex.get_loc\u001B[0;34m(self, key)\u001B[0m\n\u001B[1;32m   3653\u001B[0m     \u001B[38;5;28;01mreturn\u001B[39;00m \u001B[38;5;28mself\u001B[39m\u001B[38;5;241m.\u001B[39m_engine\u001B[38;5;241m.\u001B[39mget_loc(casted_key)\n\u001B[1;32m   3654\u001B[0m \u001B[38;5;28;01mexcept\u001B[39;00m \u001B[38;5;167;01mKeyError\u001B[39;00m \u001B[38;5;28;01mas\u001B[39;00m err:\n\u001B[0;32m-> 3655\u001B[0m     \u001B[38;5;28;01mraise\u001B[39;00m \u001B[38;5;167;01mKeyError\u001B[39;00m(key) \u001B[38;5;28;01mfrom\u001B[39;00m \u001B[38;5;21;01merr\u001B[39;00m\n\u001B[1;32m   3656\u001B[0m \u001B[38;5;28;01mexcept\u001B[39;00m \u001B[38;5;167;01mTypeError\u001B[39;00m:\n\u001B[1;32m   3657\u001B[0m     \u001B[38;5;66;03m# If we have a listlike key, _check_indexing_error will raise\u001B[39;00m\n\u001B[1;32m   3658\u001B[0m     \u001B[38;5;66;03m#  InvalidIndexError. Otherwise we fall through and re-raise\u001B[39;00m\n\u001B[1;32m   3659\u001B[0m     \u001B[38;5;66;03m#  the TypeError.\u001B[39;00m\n\u001B[1;32m   3660\u001B[0m     \u001B[38;5;28mself\u001B[39m\u001B[38;5;241m.\u001B[39m_check_indexing_error(key)\n",
      "\u001B[0;31mKeyError\u001B[0m: 'StockCode'"
     ]
    }
   ],
   "source": [
    "#63.筛选数据,条件:  StockCode 为 71053\n",
    "df3[df3['StockCode'] == 71053]"
   ],
   "metadata": {
    "collapsed": false,
    "ExecuteTime": {
     "end_time": "2023-12-15T11:23:30.373073Z",
     "start_time": "2023-12-15T11:23:30.346990Z"
    }
   },
   "id": "b3dab88fa73af252"
  },
  {
   "cell_type": "code",
   "execution_count": 182,
   "outputs": [
    {
     "data": {
      "text/plain": "    createTime education    salary  min_salary  max_salary categories  \\\n0        03-16         本科  27500.0          20          35          高   \n2        03-16         不限  26500.0          13          40          高   \n4        03-16         本科  15000.0          10          20          中   \n6        03-16         硕士  65000.0          50          80        NaN   \n8        03-16         本科  14000.0          10          18          中   \n..         ...        ...      ...         ...         ...        ...   \n158      03-16         本科  27500.0          20          35          高   \n160      03-16         本科  15000.0          10          20          中   \n162      03-16         本科  14000.0          10          18          中   \n164      03-16         本科  35000.0          20          50          高   \n166      03-16         本科  15000.0          10          20          中   \n\n        test      test1         0         1         2         3         4  \\\n0    03-16本科  本科27500.0  1.837301  0.168418  0.298460  2.363493 -0.522933   \n2    03-16不限  不限26500.0 -0.462882  0.801353 -1.493288 -0.008547  0.132240   \n4    03-16本科  本科15000.0  1.182408  0.284371 -1.516352 -1.025153  0.709479   \n6    03-16硕士  硕士65000.0 -1.085995 -0.358586 -0.041343  0.101345 -0.164038   \n8    03-16本科  本科14000.0  0.234043 -0.509082 -0.728211  0.557030  0.278468   \n..       ...        ...       ...       ...       ...       ...       ...   \n158  03-16本科  本科27500.0  1.491075 -0.374343 -0.384661  1.547370  0.022217   \n160  03-16本科  本科15000.0  1.191668 -0.159282  0.904782  0.807014  2.840957   \n162  03-16本科  本科14000.0 -0.235381  0.807631 -0.660154 -0.204252  2.273061   \n164  03-16本科  本科35000.0 -0.072629 -0.920636  0.048034 -0.440606 -0.424299   \n166  03-16本科  本科15000.0 -1.875063 -1.629121  0.341167 -2.164640  0.211781   \n\n            5         6         7           new  \n0   -1.247295  0.338935 -1.784440  27498.162699  \n2    1.660832 -1.057661 -2.541846  26500.462882  \n4    0.231961  0.540420  0.447215  14998.817592  \n6   -0.945385  0.397654  0.797994  65001.085995  \n8    0.980287  0.453009  0.208037  13999.765957  \n..        ...       ...       ...           ...  \n158 -0.283190  0.095454  0.978614  27498.508925  \n160  1.115137  0.573759 -0.417114  14998.808332  \n162 -0.779796  1.076339  0.791554  14000.235381  \n164 -0.404818  1.401005  0.573807  35000.072629  \n166  0.306337  0.345555  2.102982  15001.875063  \n\n[84 rows x 17 columns]",
      "text/html": "<div>\n<style scoped>\n    .dataframe tbody tr th:only-of-type {\n        vertical-align: middle;\n    }\n\n    .dataframe tbody tr th {\n        vertical-align: top;\n    }\n\n    .dataframe thead th {\n        text-align: right;\n    }\n</style>\n<table border=\"1\" class=\"dataframe\">\n  <thead>\n    <tr style=\"text-align: right;\">\n      <th></th>\n      <th>createTime</th>\n      <th>education</th>\n      <th>salary</th>\n      <th>min_salary</th>\n      <th>max_salary</th>\n      <th>categories</th>\n      <th>test</th>\n      <th>test1</th>\n      <th>0</th>\n      <th>1</th>\n      <th>2</th>\n      <th>3</th>\n      <th>4</th>\n      <th>5</th>\n      <th>6</th>\n      <th>7</th>\n      <th>new</th>\n    </tr>\n  </thead>\n  <tbody>\n    <tr>\n      <th>0</th>\n      <td>03-16</td>\n      <td>本科</td>\n      <td>27500.0</td>\n      <td>20</td>\n      <td>35</td>\n      <td>高</td>\n      <td>03-16本科</td>\n      <td>本科27500.0</td>\n      <td>1.837301</td>\n      <td>0.168418</td>\n      <td>0.298460</td>\n      <td>2.363493</td>\n      <td>-0.522933</td>\n      <td>-1.247295</td>\n      <td>0.338935</td>\n      <td>-1.784440</td>\n      <td>27498.162699</td>\n    </tr>\n    <tr>\n      <th>2</th>\n      <td>03-16</td>\n      <td>不限</td>\n      <td>26500.0</td>\n      <td>13</td>\n      <td>40</td>\n      <td>高</td>\n      <td>03-16不限</td>\n      <td>不限26500.0</td>\n      <td>-0.462882</td>\n      <td>0.801353</td>\n      <td>-1.493288</td>\n      <td>-0.008547</td>\n      <td>0.132240</td>\n      <td>1.660832</td>\n      <td>-1.057661</td>\n      <td>-2.541846</td>\n      <td>26500.462882</td>\n    </tr>\n    <tr>\n      <th>4</th>\n      <td>03-16</td>\n      <td>本科</td>\n      <td>15000.0</td>\n      <td>10</td>\n      <td>20</td>\n      <td>中</td>\n      <td>03-16本科</td>\n      <td>本科15000.0</td>\n      <td>1.182408</td>\n      <td>0.284371</td>\n      <td>-1.516352</td>\n      <td>-1.025153</td>\n      <td>0.709479</td>\n      <td>0.231961</td>\n      <td>0.540420</td>\n      <td>0.447215</td>\n      <td>14998.817592</td>\n    </tr>\n    <tr>\n      <th>6</th>\n      <td>03-16</td>\n      <td>硕士</td>\n      <td>65000.0</td>\n      <td>50</td>\n      <td>80</td>\n      <td>NaN</td>\n      <td>03-16硕士</td>\n      <td>硕士65000.0</td>\n      <td>-1.085995</td>\n      <td>-0.358586</td>\n      <td>-0.041343</td>\n      <td>0.101345</td>\n      <td>-0.164038</td>\n      <td>-0.945385</td>\n      <td>0.397654</td>\n      <td>0.797994</td>\n      <td>65001.085995</td>\n    </tr>\n    <tr>\n      <th>8</th>\n      <td>03-16</td>\n      <td>本科</td>\n      <td>14000.0</td>\n      <td>10</td>\n      <td>18</td>\n      <td>中</td>\n      <td>03-16本科</td>\n      <td>本科14000.0</td>\n      <td>0.234043</td>\n      <td>-0.509082</td>\n      <td>-0.728211</td>\n      <td>0.557030</td>\n      <td>0.278468</td>\n      <td>0.980287</td>\n      <td>0.453009</td>\n      <td>0.208037</td>\n      <td>13999.765957</td>\n    </tr>\n    <tr>\n      <th>...</th>\n      <td>...</td>\n      <td>...</td>\n      <td>...</td>\n      <td>...</td>\n      <td>...</td>\n      <td>...</td>\n      <td>...</td>\n      <td>...</td>\n      <td>...</td>\n      <td>...</td>\n      <td>...</td>\n      <td>...</td>\n      <td>...</td>\n      <td>...</td>\n      <td>...</td>\n      <td>...</td>\n      <td>...</td>\n    </tr>\n    <tr>\n      <th>158</th>\n      <td>03-16</td>\n      <td>本科</td>\n      <td>27500.0</td>\n      <td>20</td>\n      <td>35</td>\n      <td>高</td>\n      <td>03-16本科</td>\n      <td>本科27500.0</td>\n      <td>1.491075</td>\n      <td>-0.374343</td>\n      <td>-0.384661</td>\n      <td>1.547370</td>\n      <td>0.022217</td>\n      <td>-0.283190</td>\n      <td>0.095454</td>\n      <td>0.978614</td>\n      <td>27498.508925</td>\n    </tr>\n    <tr>\n      <th>160</th>\n      <td>03-16</td>\n      <td>本科</td>\n      <td>15000.0</td>\n      <td>10</td>\n      <td>20</td>\n      <td>中</td>\n      <td>03-16本科</td>\n      <td>本科15000.0</td>\n      <td>1.191668</td>\n      <td>-0.159282</td>\n      <td>0.904782</td>\n      <td>0.807014</td>\n      <td>2.840957</td>\n      <td>1.115137</td>\n      <td>0.573759</td>\n      <td>-0.417114</td>\n      <td>14998.808332</td>\n    </tr>\n    <tr>\n      <th>162</th>\n      <td>03-16</td>\n      <td>本科</td>\n      <td>14000.0</td>\n      <td>10</td>\n      <td>18</td>\n      <td>中</td>\n      <td>03-16本科</td>\n      <td>本科14000.0</td>\n      <td>-0.235381</td>\n      <td>0.807631</td>\n      <td>-0.660154</td>\n      <td>-0.204252</td>\n      <td>2.273061</td>\n      <td>-0.779796</td>\n      <td>1.076339</td>\n      <td>0.791554</td>\n      <td>14000.235381</td>\n    </tr>\n    <tr>\n      <th>164</th>\n      <td>03-16</td>\n      <td>本科</td>\n      <td>35000.0</td>\n      <td>20</td>\n      <td>50</td>\n      <td>高</td>\n      <td>03-16本科</td>\n      <td>本科35000.0</td>\n      <td>-0.072629</td>\n      <td>-0.920636</td>\n      <td>0.048034</td>\n      <td>-0.440606</td>\n      <td>-0.424299</td>\n      <td>-0.404818</td>\n      <td>1.401005</td>\n      <td>0.573807</td>\n      <td>35000.072629</td>\n    </tr>\n    <tr>\n      <th>166</th>\n      <td>03-16</td>\n      <td>本科</td>\n      <td>15000.0</td>\n      <td>10</td>\n      <td>20</td>\n      <td>中</td>\n      <td>03-16本科</td>\n      <td>本科15000.0</td>\n      <td>-1.875063</td>\n      <td>-1.629121</td>\n      <td>0.341167</td>\n      <td>-2.164640</td>\n      <td>0.211781</td>\n      <td>0.306337</td>\n      <td>0.345555</td>\n      <td>2.102982</td>\n      <td>15001.875063</td>\n    </tr>\n  </tbody>\n</table>\n<p>84 rows × 17 columns</p>\n</div>"
     },
     "execution_count": 182,
     "metadata": {},
     "output_type": "execute_result"
    }
   ],
   "source": [
    "#64.筛选索引偶数行\n",
    "df3.iloc[::2]"
   ],
   "metadata": {
    "collapsed": false,
    "ExecuteTime": {
     "end_time": "2023-12-15T11:23:27.059896Z",
     "start_time": "2023-12-15T11:23:27.056140Z"
    }
   },
   "id": "235a78711b88f534"
  },
  {
   "cell_type": "code",
   "execution_count": 186,
   "outputs": [
    {
     "data": {
      "text/plain": "                             Price                              Quantity  \\\nProduct                        CPU Maintenance Monitor Software      CPU   \nManager       Rep                                                          \nDebra Henley  Craig Booker   32500        5000       0    10000        2   \n              Daniel Hilton  52500           0       0    10000        4   \n              John Smith     35000        5000       0        0        1   \nFred Anderson Cedric Moss    47500        5000       0    10000        3   \n              Wendy Yule     82500        7000    5000        0        7   \n\n                                                          \nProduct                     Maintenance Monitor Software  \nManager       Rep                                         \nDebra Henley  Craig Booker            2       0        1  \n              Daniel Hilton           0       0        1  \n              John Smith              2       0        0  \nFred Anderson Cedric Moss             1       0        1  \n              Wendy Yule              3       2        0  ",
      "text/html": "<div>\n<style scoped>\n    .dataframe tbody tr th:only-of-type {\n        vertical-align: middle;\n    }\n\n    .dataframe tbody tr th {\n        vertical-align: top;\n    }\n\n    .dataframe thead tr th {\n        text-align: left;\n    }\n\n    .dataframe thead tr:last-of-type th {\n        text-align: right;\n    }\n</style>\n<table border=\"1\" class=\"dataframe\">\n  <thead>\n    <tr>\n      <th></th>\n      <th></th>\n      <th colspan=\"4\" halign=\"left\">Price</th>\n      <th colspan=\"4\" halign=\"left\">Quantity</th>\n    </tr>\n    <tr>\n      <th></th>\n      <th>Product</th>\n      <th>CPU</th>\n      <th>Maintenance</th>\n      <th>Monitor</th>\n      <th>Software</th>\n      <th>CPU</th>\n      <th>Maintenance</th>\n      <th>Monitor</th>\n      <th>Software</th>\n    </tr>\n    <tr>\n      <th>Manager</th>\n      <th>Rep</th>\n      <th></th>\n      <th></th>\n      <th></th>\n      <th></th>\n      <th></th>\n      <th></th>\n      <th></th>\n      <th></th>\n    </tr>\n  </thead>\n  <tbody>\n    <tr>\n      <th rowspan=\"3\" valign=\"top\">Debra Henley</th>\n      <th>Craig Booker</th>\n      <td>32500</td>\n      <td>5000</td>\n      <td>0</td>\n      <td>10000</td>\n      <td>2</td>\n      <td>2</td>\n      <td>0</td>\n      <td>1</td>\n    </tr>\n    <tr>\n      <th>Daniel Hilton</th>\n      <td>52500</td>\n      <td>0</td>\n      <td>0</td>\n      <td>10000</td>\n      <td>4</td>\n      <td>0</td>\n      <td>0</td>\n      <td>1</td>\n    </tr>\n    <tr>\n      <th>John Smith</th>\n      <td>35000</td>\n      <td>5000</td>\n      <td>0</td>\n      <td>0</td>\n      <td>1</td>\n      <td>2</td>\n      <td>0</td>\n      <td>0</td>\n    </tr>\n    <tr>\n      <th rowspan=\"2\" valign=\"top\">Fred Anderson</th>\n      <th>Cedric Moss</th>\n      <td>47500</td>\n      <td>5000</td>\n      <td>0</td>\n      <td>10000</td>\n      <td>3</td>\n      <td>1</td>\n      <td>0</td>\n      <td>1</td>\n    </tr>\n    <tr>\n      <th>Wendy Yule</th>\n      <td>82500</td>\n      <td>7000</td>\n      <td>5000</td>\n      <td>0</td>\n      <td>7</td>\n      <td>3</td>\n      <td>2</td>\n      <td>0</td>\n    </tr>\n  </tbody>\n</table>\n</div>"
     },
     "execution_count": 186,
     "metadata": {},
     "output_type": "execute_result"
    }
   ],
   "source": [
    "#65建立数据透视表，索引index：Manager,Rep ，指定 统计value为Price,Quantity，统计方式Price为平均，Quantity为求各，统计columns为Product,显示相关产品销售情况对缺失值填充0\n",
    "df_65 = pd.read_excel('sales-funnel.xlsx')\n",
    "pd.pivot_table(df_65, index=['Manager', 'Rep'], values=['Price', 'Quantity'],\n",
    "               aggfunc={'Price': np.mean, 'Quantity': np.sum}, columns=['Product'], fill_value=0)"
   ],
   "metadata": {
    "collapsed": false,
    "ExecuteTime": {
     "end_time": "2023-12-15T11:27:14.193484Z",
     "start_time": "2023-12-15T11:27:14.163307Z"
    }
   },
   "id": "6750514cb633a40a"
  },
  {
   "cell_type": "code",
   "execution_count": 187,
   "outputs": [
    {
     "data": {
      "text/plain": "  lkey  value_x rkey  value_y\n0  foo        1  foo        5\n1  bar        2  bar        6\n2  baz        3  baz        7",
      "text/html": "<div>\n<style scoped>\n    .dataframe tbody tr th:only-of-type {\n        vertical-align: middle;\n    }\n\n    .dataframe tbody tr th {\n        vertical-align: top;\n    }\n\n    .dataframe thead th {\n        text-align: right;\n    }\n</style>\n<table border=\"1\" class=\"dataframe\">\n  <thead>\n    <tr style=\"text-align: right;\">\n      <th></th>\n      <th>lkey</th>\n      <th>value_x</th>\n      <th>rkey</th>\n      <th>value_y</th>\n    </tr>\n  </thead>\n  <tbody>\n    <tr>\n      <th>0</th>\n      <td>foo</td>\n      <td>1</td>\n      <td>foo</td>\n      <td>5</td>\n    </tr>\n    <tr>\n      <th>1</th>\n      <td>bar</td>\n      <td>2</td>\n      <td>bar</td>\n      <td>6</td>\n    </tr>\n    <tr>\n      <th>2</th>\n      <td>baz</td>\n      <td>3</td>\n      <td>baz</td>\n      <td>7</td>\n    </tr>\n  </tbody>\n</table>\n</div>"
     },
     "execution_count": 187,
     "metadata": {},
     "output_type": "execute_result"
    }
   ],
   "source": [
    "#66.DataFrame内连接操作，left_on='lkey',right_on='rkey'\n",
    "df1 = pd.DataFrame({'lkey': ['foo', 'bar', 'baz', 'lemon'],\n",
    "                    'value': [1, 2, 3, 5]})\n",
    "df2 = pd.DataFrame({'rkey': ['foo', 'bar', 'baz', 'jack'],\n",
    "                    'value': [5, 6, 7, 8]})\n",
    "pd.merge(df1, df2, left_on='lkey', right_on='rkey')"
   ],
   "metadata": {
    "collapsed": false,
    "ExecuteTime": {
     "end_time": "2023-12-15T11:27:16.017009Z",
     "start_time": "2023-12-15T11:27:16.003127Z"
    }
   },
   "id": "a3a34affddf75164"
  },
  {
   "cell_type": "code",
   "execution_count": 188,
   "outputs": [
    {
     "data": {
      "text/plain": "    lkey  value_x rkey  value_y\n0    foo        1  foo      5.0\n1    bar        2  bar      6.0\n2    baz        3  baz      7.0\n3  lemon        5  NaN      NaN",
      "text/html": "<div>\n<style scoped>\n    .dataframe tbody tr th:only-of-type {\n        vertical-align: middle;\n    }\n\n    .dataframe tbody tr th {\n        vertical-align: top;\n    }\n\n    .dataframe thead th {\n        text-align: right;\n    }\n</style>\n<table border=\"1\" class=\"dataframe\">\n  <thead>\n    <tr style=\"text-align: right;\">\n      <th></th>\n      <th>lkey</th>\n      <th>value_x</th>\n      <th>rkey</th>\n      <th>value_y</th>\n    </tr>\n  </thead>\n  <tbody>\n    <tr>\n      <th>0</th>\n      <td>foo</td>\n      <td>1</td>\n      <td>foo</td>\n      <td>5.0</td>\n    </tr>\n    <tr>\n      <th>1</th>\n      <td>bar</td>\n      <td>2</td>\n      <td>bar</td>\n      <td>6.0</td>\n    </tr>\n    <tr>\n      <th>2</th>\n      <td>baz</td>\n      <td>3</td>\n      <td>baz</td>\n      <td>7.0</td>\n    </tr>\n    <tr>\n      <th>3</th>\n      <td>lemon</td>\n      <td>5</td>\n      <td>NaN</td>\n      <td>NaN</td>\n    </tr>\n  </tbody>\n</table>\n</div>"
     },
     "execution_count": 188,
     "metadata": {},
     "output_type": "execute_result"
    }
   ],
   "source": [
    "#67.DataFrame左连接操作，left_on='lkey',right_on='rkey'\n",
    "pd.merge(df1, df2, left_on='lkey', right_on='rkey', how='left')"
   ],
   "metadata": {
    "collapsed": false,
    "ExecuteTime": {
     "end_time": "2023-12-15T11:27:48.571586Z",
     "start_time": "2023-12-15T11:27:48.563111Z"
    }
   },
   "id": "7cfc03a87545a274"
  },
  {
   "cell_type": "code",
   "execution_count": 189,
   "outputs": [
    {
     "data": {
      "text/plain": "  lkey  value_x  rkey  value_y\n0  foo      1.0   foo        5\n1  bar      2.0   bar        6\n2  baz      3.0   baz        7\n3  NaN      NaN  jack        8",
      "text/html": "<div>\n<style scoped>\n    .dataframe tbody tr th:only-of-type {\n        vertical-align: middle;\n    }\n\n    .dataframe tbody tr th {\n        vertical-align: top;\n    }\n\n    .dataframe thead th {\n        text-align: right;\n    }\n</style>\n<table border=\"1\" class=\"dataframe\">\n  <thead>\n    <tr style=\"text-align: right;\">\n      <th></th>\n      <th>lkey</th>\n      <th>value_x</th>\n      <th>rkey</th>\n      <th>value_y</th>\n    </tr>\n  </thead>\n  <tbody>\n    <tr>\n      <th>0</th>\n      <td>foo</td>\n      <td>1.0</td>\n      <td>foo</td>\n      <td>5</td>\n    </tr>\n    <tr>\n      <th>1</th>\n      <td>bar</td>\n      <td>2.0</td>\n      <td>bar</td>\n      <td>6</td>\n    </tr>\n    <tr>\n      <th>2</th>\n      <td>baz</td>\n      <td>3.0</td>\n      <td>baz</td>\n      <td>7</td>\n    </tr>\n    <tr>\n      <th>3</th>\n      <td>NaN</td>\n      <td>NaN</td>\n      <td>jack</td>\n      <td>8</td>\n    </tr>\n  </tbody>\n</table>\n</div>"
     },
     "execution_count": 189,
     "metadata": {},
     "output_type": "execute_result"
    }
   ],
   "source": [
    "#68.DataFrame右连接操作，left_on='lkey',right_on='rkey'\n",
    "pd.merge(df1, df2, left_on='lkey', right_on='rkey', how='right')  # how表示要保留的行"
   ],
   "metadata": {
    "collapsed": false,
    "ExecuteTime": {
     "end_time": "2023-12-15T11:27:50.881342Z",
     "start_time": "2023-12-15T11:27:50.862143Z"
    }
   },
   "id": "1feaadb273d0224a"
  },
  {
   "cell_type": "code",
   "execution_count": null,
   "outputs": [],
   "source": [
    "#69.计算不同公司员工的平均年龄和平均薪水\n",
    "data = pd.read_csv('groupby.csv')\n",
    "data.groupby('Company').mean()"
   ],
   "metadata": {
    "collapsed": false
   },
   "id": "ad7d716873843ef4"
  },
  {
   "cell_type": "code",
   "execution_count": null,
   "outputs": [],
   "source": [
    "#70.计算不同公司员工的平均年龄和平均薪水\n",
    "data.groupby('Company').agg({'Age': np.mean, 'Salary': np.mean})  # agg用于聚合"
   ],
   "metadata": {
    "collapsed": false
   },
   "id": "6816991774783825"
  },
  {
   "cell_type": "code",
   "execution_count": null,
   "outputs": [],
   "source": [
    "#71. 计算不同公司员工的平均年龄以及薪水的中位数\n",
    "data.groupby('Company').agg({'Age': np.mean, 'Salary': np.median})"
   ],
   "metadata": {
    "collapsed": false
   },
   "id": "563886dabaeb2c8b"
  },
  {
   "cell_type": "code",
   "execution_count": null,
   "outputs": [],
   "source": [
    "#72.计算不同公司员工的平均年龄以及薪水的中位数，均值，总人数\n",
    "data.groupby('Company').agg({'Age': np.mean, 'Salary': np.median, 'Name': np.size})"
   ],
   "metadata": {
    "collapsed": false
   },
   "id": "100784050ee74482"
  },
  {
   "cell_type": "code",
   "execution_count": 193,
   "outputs": [
    {
     "data": {
      "text/plain": "      Name      City  Val\n0    Alice   Seattle  4.0\n1      Bob   Seattle  3.0\n2  Mallory  Portland  3.0\n3  Mallory   Seattle  NaN\n4      Bob   Seattle  NaN\n5  Mallory  Portland  4.0",
      "text/html": "<div>\n<style scoped>\n    .dataframe tbody tr th:only-of-type {\n        vertical-align: middle;\n    }\n\n    .dataframe tbody tr th {\n        vertical-align: top;\n    }\n\n    .dataframe thead th {\n        text-align: right;\n    }\n</style>\n<table border=\"1\" class=\"dataframe\">\n  <thead>\n    <tr style=\"text-align: right;\">\n      <th></th>\n      <th>Name</th>\n      <th>City</th>\n      <th>Val</th>\n    </tr>\n  </thead>\n  <tbody>\n    <tr>\n      <th>0</th>\n      <td>Alice</td>\n      <td>Seattle</td>\n      <td>4.0</td>\n    </tr>\n    <tr>\n      <th>1</th>\n      <td>Bob</td>\n      <td>Seattle</td>\n      <td>3.0</td>\n    </tr>\n    <tr>\n      <th>2</th>\n      <td>Mallory</td>\n      <td>Portland</td>\n      <td>3.0</td>\n    </tr>\n    <tr>\n      <th>3</th>\n      <td>Mallory</td>\n      <td>Seattle</td>\n      <td>NaN</td>\n    </tr>\n    <tr>\n      <th>4</th>\n      <td>Bob</td>\n      <td>Seattle</td>\n      <td>NaN</td>\n    </tr>\n    <tr>\n      <th>5</th>\n      <td>Mallory</td>\n      <td>Portland</td>\n      <td>4.0</td>\n    </tr>\n  </tbody>\n</table>\n</div>"
     },
     "execution_count": 193,
     "metadata": {},
     "output_type": "execute_result"
    }
   ],
   "source": [
    "#73.  对city分组，对val进行不包含NaN值和包含NaN值分别进行计数，并统计人员数量（name不重复计数）\n",
    "df_c = pd.DataFrame({\"Name\": [\"Alice\", \"Bob\", \"Mallory\", \"Mallory\", \"Bob\", \"Mallory\"],\n",
    "                     \"City\": [\"Seattle\", \"Seattle\", \"Portland\", \"Seattle\", \"Seattle\", \"Portland\"],\n",
    "                     \"Val\": [4, 3, 3, np.nan, np.nan, 4]})\n",
    "df_c.groupby('City')['Val'].agg([np.size, np.count_nonzero])\n",
    "# 统计每个城市中不重复的 'Name' 的人员数量\n",
    "result['count_unique_names'] = df_c.groupby('City')['Name'].nunique()\n",
    "\n",
    "# 重命名列名\n",
    "result.columns = ['count_val_notna', 'count_val_withna', 'count_unique_names']\n",
    "df_c"
   ],
   "metadata": {
    "collapsed": false,
    "ExecuteTime": {
     "end_time": "2023-12-15T11:40:36.435886Z",
     "start_time": "2023-12-15T11:40:36.422253Z"
    }
   },
   "id": "e1fa3cd5630b62ac"
  },
  {
   "cell_type": "code",
   "execution_count": 196,
   "outputs": [
    {
     "data": {
      "text/plain": "    height  weight  smoker gender  age   color\n0      178      52   False      -   89   black\n1      182      55   False      0   81   white\n2      169      64   False      0   26  yellow\n3      189      73   False      1   63  yellow\n4      177      80   False      0   75   white\n..     ...     ...     ...    ...  ...     ...\n95     168      48    True      1   22  yellow\n96     185      80    True      0   49  yellow\n97     159      82    True      0   40   white\n98     154      59   False      1   16   white\n99     165      72   False      1   74  yellow\n\n[100 rows x 6 columns]",
      "text/html": "<div>\n<style scoped>\n    .dataframe tbody tr th:only-of-type {\n        vertical-align: middle;\n    }\n\n    .dataframe tbody tr th {\n        vertical-align: top;\n    }\n\n    .dataframe thead th {\n        text-align: right;\n    }\n</style>\n<table border=\"1\" class=\"dataframe\">\n  <thead>\n    <tr style=\"text-align: right;\">\n      <th></th>\n      <th>height</th>\n      <th>weight</th>\n      <th>smoker</th>\n      <th>gender</th>\n      <th>age</th>\n      <th>color</th>\n    </tr>\n  </thead>\n  <tbody>\n    <tr>\n      <th>0</th>\n      <td>178</td>\n      <td>52</td>\n      <td>False</td>\n      <td>-</td>\n      <td>89</td>\n      <td>black</td>\n    </tr>\n    <tr>\n      <th>1</th>\n      <td>182</td>\n      <td>55</td>\n      <td>False</td>\n      <td>0</td>\n      <td>81</td>\n      <td>white</td>\n    </tr>\n    <tr>\n      <th>2</th>\n      <td>169</td>\n      <td>64</td>\n      <td>False</td>\n      <td>0</td>\n      <td>26</td>\n      <td>yellow</td>\n    </tr>\n    <tr>\n      <th>3</th>\n      <td>189</td>\n      <td>73</td>\n      <td>False</td>\n      <td>1</td>\n      <td>63</td>\n      <td>yellow</td>\n    </tr>\n    <tr>\n      <th>4</th>\n      <td>177</td>\n      <td>80</td>\n      <td>False</td>\n      <td>0</td>\n      <td>75</td>\n      <td>white</td>\n    </tr>\n    <tr>\n      <th>...</th>\n      <td>...</td>\n      <td>...</td>\n      <td>...</td>\n      <td>...</td>\n      <td>...</td>\n      <td>...</td>\n    </tr>\n    <tr>\n      <th>95</th>\n      <td>168</td>\n      <td>48</td>\n      <td>True</td>\n      <td>1</td>\n      <td>22</td>\n      <td>yellow</td>\n    </tr>\n    <tr>\n      <th>96</th>\n      <td>185</td>\n      <td>80</td>\n      <td>True</td>\n      <td>0</td>\n      <td>49</td>\n      <td>yellow</td>\n    </tr>\n    <tr>\n      <th>97</th>\n      <td>159</td>\n      <td>82</td>\n      <td>True</td>\n      <td>0</td>\n      <td>40</td>\n      <td>white</td>\n    </tr>\n    <tr>\n      <th>98</th>\n      <td>154</td>\n      <td>59</td>\n      <td>False</td>\n      <td>1</td>\n      <td>16</td>\n      <td>white</td>\n    </tr>\n    <tr>\n      <th>99</th>\n      <td>165</td>\n      <td>72</td>\n      <td>False</td>\n      <td>1</td>\n      <td>74</td>\n      <td>yellow</td>\n    </tr>\n  </tbody>\n</table>\n<p>100 rows × 6 columns</p>\n</div>"
     },
     "execution_count": 196,
     "metadata": {},
     "output_type": "execute_result"
    }
   ],
   "source": [
    "#74.把data 的 gender做替换， 男  --> 1，女  --> 0，其它值NaN\n",
    "data = pd.read_csv('map.csv')\n",
    "data['gender'].replace(['男', '女'], [1, 0], inplace=True)\n",
    "data"
   ],
   "metadata": {
    "collapsed": false,
    "ExecuteTime": {
     "end_time": "2023-12-15T11:45:09.858875Z",
     "start_time": "2023-12-15T11:45:09.848176Z"
    }
   },
   "id": "fb9211777e2abc69"
  },
  {
   "cell_type": "code",
   "execution_count": 198,
   "outputs": [
    {
     "data": {
      "text/plain": "    名称    金额    合计\n0  产品1  0.00  0.37\n1  产品2  0.48  0.28\n2  产品3  0.00     C\n3  产品4  0.74  0.57\n4  产品5  0.00  0.06",
      "text/html": "<div>\n<style scoped>\n    .dataframe tbody tr th:only-of-type {\n        vertical-align: middle;\n    }\n\n    .dataframe tbody tr th {\n        vertical-align: top;\n    }\n\n    .dataframe thead th {\n        text-align: right;\n    }\n</style>\n<table border=\"1\" class=\"dataframe\">\n  <thead>\n    <tr style=\"text-align: right;\">\n      <th></th>\n      <th>名称</th>\n      <th>金额</th>\n      <th>合计</th>\n    </tr>\n  </thead>\n  <tbody>\n    <tr>\n      <th>0</th>\n      <td>产品1</td>\n      <td>0.00</td>\n      <td>0.37</td>\n    </tr>\n    <tr>\n      <th>1</th>\n      <td>产品2</td>\n      <td>0.48</td>\n      <td>0.28</td>\n    </tr>\n    <tr>\n      <th>2</th>\n      <td>产品3</td>\n      <td>0.00</td>\n      <td>C</td>\n    </tr>\n    <tr>\n      <th>3</th>\n      <td>产品4</td>\n      <td>0.74</td>\n      <td>0.57</td>\n    </tr>\n    <tr>\n      <th>4</th>\n      <td>产品5</td>\n      <td>0.00</td>\n      <td>0.06</td>\n    </tr>\n  </tbody>\n</table>\n</div>"
     },
     "execution_count": 198,
     "metadata": {},
     "output_type": "execute_result"
    }
   ],
   "source": [
    "#75.把df中的F替换为0,其它值保持不变\n",
    "df = pd.DataFrame(\n",
    "    {\n",
    "        '名称': ['产品1', '产品2', '产品3', '产品4', '产品5'],\n",
    "        '金额': [0, 0.48, 'F', 0.74, 0],\n",
    "        '合计': [0.37, 0.28, 'C', 0.57, 0.06],\n",
    "    }\n",
    ")\n",
    "df.replace('F', 0, inplace=True)\n",
    "df"
   ],
   "metadata": {
    "collapsed": false,
    "ExecuteTime": {
     "end_time": "2023-12-15T11:46:02.254168Z",
     "start_time": "2023-12-15T11:46:02.239776Z"
    }
   },
   "id": "73eb4f271aded052"
  },
  {
   "cell_type": "code",
   "execution_count": 204,
   "outputs": [
    {
     "data": {
      "text/plain": "    score range\n0      34   不合格\n1      41   不合格\n2      81    优秀\n3      99    满分\n4      33   不合格\n5      64    合格\n6      64    合格\n7      38   不合格\n8      91    满分\n9      96    满分\n10     70    良好\n11     46   不合格\n12     93    满分\n13     45   不合格\n14     44   不合格\n15     74    良好\n16     38   不合格\n17     30   不合格\n18     26   不合格\n19     55   不合格",
      "text/html": "<div>\n<style scoped>\n    .dataframe tbody tr th:only-of-type {\n        vertical-align: middle;\n    }\n\n    .dataframe tbody tr th {\n        vertical-align: top;\n    }\n\n    .dataframe thead th {\n        text-align: right;\n    }\n</style>\n<table border=\"1\" class=\"dataframe\">\n  <thead>\n    <tr style=\"text-align: right;\">\n      <th></th>\n      <th>score</th>\n      <th>range</th>\n    </tr>\n  </thead>\n  <tbody>\n    <tr>\n      <th>0</th>\n      <td>34</td>\n      <td>不合格</td>\n    </tr>\n    <tr>\n      <th>1</th>\n      <td>41</td>\n      <td>不合格</td>\n    </tr>\n    <tr>\n      <th>2</th>\n      <td>81</td>\n      <td>优秀</td>\n    </tr>\n    <tr>\n      <th>3</th>\n      <td>99</td>\n      <td>满分</td>\n    </tr>\n    <tr>\n      <th>4</th>\n      <td>33</td>\n      <td>不合格</td>\n    </tr>\n    <tr>\n      <th>5</th>\n      <td>64</td>\n      <td>合格</td>\n    </tr>\n    <tr>\n      <th>6</th>\n      <td>64</td>\n      <td>合格</td>\n    </tr>\n    <tr>\n      <th>7</th>\n      <td>38</td>\n      <td>不合格</td>\n    </tr>\n    <tr>\n      <th>8</th>\n      <td>91</td>\n      <td>满分</td>\n    </tr>\n    <tr>\n      <th>9</th>\n      <td>96</td>\n      <td>满分</td>\n    </tr>\n    <tr>\n      <th>10</th>\n      <td>70</td>\n      <td>良好</td>\n    </tr>\n    <tr>\n      <th>11</th>\n      <td>46</td>\n      <td>不合格</td>\n    </tr>\n    <tr>\n      <th>12</th>\n      <td>93</td>\n      <td>满分</td>\n    </tr>\n    <tr>\n      <th>13</th>\n      <td>45</td>\n      <td>不合格</td>\n    </tr>\n    <tr>\n      <th>14</th>\n      <td>44</td>\n      <td>不合格</td>\n    </tr>\n    <tr>\n      <th>15</th>\n      <td>74</td>\n      <td>良好</td>\n    </tr>\n    <tr>\n      <th>16</th>\n      <td>38</td>\n      <td>不合格</td>\n    </tr>\n    <tr>\n      <th>17</th>\n      <td>30</td>\n      <td>不合格</td>\n    </tr>\n    <tr>\n      <th>18</th>\n      <td>26</td>\n      <td>不合格</td>\n    </tr>\n    <tr>\n      <th>19</th>\n      <td>55</td>\n      <td>不合格</td>\n    </tr>\n  </tbody>\n</table>\n</div>"
     },
     "execution_count": 204,
     "metadata": {},
     "output_type": "execute_result"
    }
   ],
   "source": [
    "#76.对s成绩进行分箱并打标，分箱中0-60（不含）打标为不合格，60-70（不含）为合格，70-80良好，80-90为优秀，打标结果生成一列range\n",
    "score = np.random.randint(25, 100, size=20)\n",
    "s = pd.DataFrame(score, columns=['score'])\n",
    "# 定义分箱的边界\n",
    "bins = [0, 60, 70, 80, 90, 100]\n",
    "\n",
    "# 定义对应的标签\n",
    "labels = ['不合格', '合格', '良好', '优秀', '满分']\n",
    "\n",
    "# 使用 pd.cut 进行分箱并打标\n",
    "s['range'] = pd.cut(s['score'], bins=bins, labels=labels, right=False)  # right表示右边为闭区间\n",
    "s"
   ],
   "metadata": {
    "collapsed": false,
    "ExecuteTime": {
     "end_time": "2023-12-15T11:50:30.209414Z",
     "start_time": "2023-12-15T11:50:30.197986Z"
    }
   },
   "id": "1247ef96277cc6fc"
  },
  {
   "cell_type": "code",
   "execution_count": 205,
   "outputs": [
    {
     "data": {
      "text/plain": "range\n不合格    11\n满分      4\n合格      2\n良好      2\n优秀      1\nName: count, dtype: int64"
     },
     "execution_count": 205,
     "metadata": {},
     "output_type": "execute_result"
    }
   ],
   "source": [
    "#77.对s各成绩段数量进行统计\n",
    "s['range'].value_counts()"
   ],
   "metadata": {
    "collapsed": false,
    "ExecuteTime": {
     "end_time": "2023-12-15T11:51:32.447597Z",
     "start_time": "2023-12-15T11:51:32.437301Z"
    }
   },
   "id": "9f627ff6afefe26d"
  },
  {
   "cell_type": "code",
   "execution_count": 207,
   "outputs": [
    {
     "data": {
      "text/plain": "  name nation  score   date_from     date_to  total_score\n0   张宇     汉族    600  2019-04-01  2019-04-10          600\n1   陈林     汉族    650  2019-05-20  2019-05-31          650\n2   刘冬     回族    560  2019-05-01  2019-05-02          570",
      "text/html": "<div>\n<style scoped>\n    .dataframe tbody tr th:only-of-type {\n        vertical-align: middle;\n    }\n\n    .dataframe tbody tr th {\n        vertical-align: top;\n    }\n\n    .dataframe thead th {\n        text-align: right;\n    }\n</style>\n<table border=\"1\" class=\"dataframe\">\n  <thead>\n    <tr style=\"text-align: right;\">\n      <th></th>\n      <th>name</th>\n      <th>nation</th>\n      <th>score</th>\n      <th>date_from</th>\n      <th>date_to</th>\n      <th>total_score</th>\n    </tr>\n  </thead>\n  <tbody>\n    <tr>\n      <th>0</th>\n      <td>张宇</td>\n      <td>汉族</td>\n      <td>600</td>\n      <td>2019-04-01</td>\n      <td>2019-04-10</td>\n      <td>600</td>\n    </tr>\n    <tr>\n      <th>1</th>\n      <td>陈林</td>\n      <td>汉族</td>\n      <td>650</td>\n      <td>2019-05-20</td>\n      <td>2019-05-31</td>\n      <td>650</td>\n    </tr>\n    <tr>\n      <th>2</th>\n      <td>刘冬</td>\n      <td>回族</td>\n      <td>560</td>\n      <td>2019-05-01</td>\n      <td>2019-05-02</td>\n      <td>570</td>\n    </tr>\n  </tbody>\n</table>\n</div>"
     },
     "execution_count": 207,
     "metadata": {},
     "output_type": "execute_result"
    }
   ],
   "source": [
    "#78.增加一列total_score，如果民族不是汉族，则在score分数上加10分，不然值就是score\n",
    "df = pd.read_csv('apply.csv')\n",
    "\n",
    "\n",
    "def add_score(x):\n",
    "    if x['nation'] != '汉族':\n",
    "        return x['score'] + 10\n",
    "    else:\n",
    "        return x['score']\n",
    "\n",
    "\n",
    "df['total_score'] = df.apply(add_score, axis=1)\n",
    "df"
   ],
   "metadata": {
    "collapsed": false,
    "ExecuteTime": {
     "end_time": "2023-12-15T11:53:20.937861Z",
     "start_time": "2023-12-15T11:53:20.926635Z"
    }
   },
   "id": "4274ce3fb8b955e2"
  },
  {
   "cell_type": "code",
   "execution_count": 209,
   "outputs": [
    {
     "data": {
      "text/plain": "  name nation  score  date_from    date_to  interval\n0   张宇     汉族    600 2019-04-01 2019-04-10         9\n1   陈林     汉族    650 2019-05-20 2019-05-31        11\n2   刘冬     回族    560 2019-05-01 2019-05-02         1",
      "text/html": "<div>\n<style scoped>\n    .dataframe tbody tr th:only-of-type {\n        vertical-align: middle;\n    }\n\n    .dataframe tbody tr th {\n        vertical-align: top;\n    }\n\n    .dataframe thead th {\n        text-align: right;\n    }\n</style>\n<table border=\"1\" class=\"dataframe\">\n  <thead>\n    <tr style=\"text-align: right;\">\n      <th></th>\n      <th>name</th>\n      <th>nation</th>\n      <th>score</th>\n      <th>date_from</th>\n      <th>date_to</th>\n      <th>interval</th>\n    </tr>\n  </thead>\n  <tbody>\n    <tr>\n      <th>0</th>\n      <td>张宇</td>\n      <td>汉族</td>\n      <td>600</td>\n      <td>2019-04-01</td>\n      <td>2019-04-10</td>\n      <td>9</td>\n    </tr>\n    <tr>\n      <th>1</th>\n      <td>陈林</td>\n      <td>汉族</td>\n      <td>650</td>\n      <td>2019-05-20</td>\n      <td>2019-05-31</td>\n      <td>11</td>\n    </tr>\n    <tr>\n      <th>2</th>\n      <td>刘冬</td>\n      <td>回族</td>\n      <td>560</td>\n      <td>2019-05-01</td>\n      <td>2019-05-02</td>\n      <td>1</td>\n    </tr>\n  </tbody>\n</table>\n</div>"
     },
     "execution_count": 209,
     "metadata": {},
     "output_type": "execute_result"
    }
   ],
   "source": [
    "#79.增加一列interval，值为date_from到date_to的间隔天数\n",
    "import pandas as pd\n",
    "\n",
    "# 假设 'apply.csv' 包含 'date_from' 和 'date_to' 列\n",
    "df = pd.read_csv('apply.csv')\n",
    "\n",
    "# 将 'date_from' 和 'date_to' 转换为日期对象\n",
    "df['date_from'] = pd.to_datetime(df['date_from'])\n",
    "df['date_to'] = pd.to_datetime(df['date_to'])\n",
    "\n",
    "# 计算两列之间的间隔天数，创建新列 'interval'\n",
    "df['interval'] = (df['date_to'] - df['date_from']).dt.days\n",
    "df"
   ],
   "metadata": {
    "collapsed": false,
    "ExecuteTime": {
     "end_time": "2023-12-15T11:55:38.900145Z",
     "start_time": "2023-12-15T11:55:38.882112Z"
    }
   },
   "id": "b235d7a5fd622078"
  },
  {
   "cell_type": "code",
   "execution_count": null,
   "outputs": [],
   "source": [
    "#80.增加一列label,如果score >=600 且 interval<=15 则打个标签 --> 1,否则为 0\n",
    "df['label'] = df.apply(lambda x: 1 if x['score'] >= 600 and x['interval'] <= 15 else 0, axis=1)"
   ],
   "metadata": {
    "collapsed": false
   },
   "id": "7be011792a50c56e"
  },
  {
   "cell_type": "code",
   "execution_count": 211,
   "outputs": [
    {
     "data": {
      "text/plain": "  company  gender  age\nA       B  female   40\nB       A  female   31\nC       B    male   28\nD       B    male   28",
      "text/html": "<div>\n<style scoped>\n    .dataframe tbody tr th:only-of-type {\n        vertical-align: middle;\n    }\n\n    .dataframe tbody tr th {\n        vertical-align: top;\n    }\n\n    .dataframe thead th {\n        text-align: right;\n    }\n</style>\n<table border=\"1\" class=\"dataframe\">\n  <thead>\n    <tr style=\"text-align: right;\">\n      <th></th>\n      <th>company</th>\n      <th>gender</th>\n      <th>age</th>\n    </tr>\n  </thead>\n  <tbody>\n    <tr>\n      <th>A</th>\n      <td>B</td>\n      <td>female</td>\n      <td>40</td>\n    </tr>\n    <tr>\n      <th>B</th>\n      <td>A</td>\n      <td>female</td>\n      <td>31</td>\n    </tr>\n    <tr>\n      <th>C</th>\n      <td>B</td>\n      <td>male</td>\n      <td>28</td>\n    </tr>\n    <tr>\n      <th>D</th>\n      <td>B</td>\n      <td>male</td>\n      <td>28</td>\n    </tr>\n  </tbody>\n</table>\n</div>"
     },
     "execution_count": 211,
     "metadata": {},
     "output_type": "execute_result"
    }
   ],
   "source": [
    "#81.将列名 num --> age将索引 0-3 --> A-D\n",
    "data = {'company': ['B', 'A', 'B', 'B'],\n",
    "        'gender': ['female', 'female', 'male', 'male'],\n",
    "        'num': [40, 31, 28, 28]}\n",
    "df = pd.DataFrame(data)\n",
    "df.rename(columns={'num': 'age'}, index={0: 'A', 1: 'B', 2: 'C', 3: 'D'}, inplace=True)\n",
    "df"
   ],
   "metadata": {
    "collapsed": false,
    "ExecuteTime": {
     "end_time": "2023-12-15T11:56:58.347178Z",
     "start_time": "2023-12-15T11:56:58.329021Z"
    }
   },
   "id": "2d7082e824cd0667"
  },
  {
   "cell_type": "code",
   "execution_count": 212,
   "outputs": [],
   "source": [
    "#82.清除company重复值, 保留最后那条记录。\n",
    "df.drop_duplicates(subset=['company'], keep='last', inplace=True)"
   ],
   "metadata": {
    "collapsed": false,
    "ExecuteTime": {
     "end_time": "2023-12-15T11:57:15.066033Z",
     "start_time": "2023-12-15T11:57:15.054495Z"
    }
   },
   "id": "704f57990dda6a95"
  },
  {
   "cell_type": "code",
   "execution_count": null,
   "outputs": [],
   "source": [
    "#83.删除第一行和age列\n",
    "df.drop(index='A', columns='age', inplace=True)"
   ],
   "metadata": {
    "collapsed": false
   },
   "id": "3b3d9101bad90d2b"
  },
  {
   "cell_type": "code",
   "execution_count": 213,
   "outputs": [
    {
     "data": {
      "text/plain": "  company  gender  age\nB       A  female   31",
      "text/html": "<div>\n<style scoped>\n    .dataframe tbody tr th:only-of-type {\n        vertical-align: middle;\n    }\n\n    .dataframe tbody tr th {\n        vertical-align: top;\n    }\n\n    .dataframe thead th {\n        text-align: right;\n    }\n</style>\n<table border=\"1\" class=\"dataframe\">\n  <thead>\n    <tr style=\"text-align: right;\">\n      <th></th>\n      <th>company</th>\n      <th>gender</th>\n      <th>age</th>\n    </tr>\n  </thead>\n  <tbody>\n    <tr>\n      <th>B</th>\n      <td>A</td>\n      <td>female</td>\n      <td>31</td>\n    </tr>\n  </tbody>\n</table>\n</div>"
     },
     "execution_count": 213,
     "metadata": {},
     "output_type": "execute_result"
    }
   ],
   "source": [
    "#84.筛选gender为female的记录。\n",
    "female_records = df[df['gender'] == 'female']\n",
    "female_records"
   ],
   "metadata": {
    "collapsed": false,
    "ExecuteTime": {
     "end_time": "2023-12-15T11:58:48.630988Z",
     "start_time": "2023-12-15T11:58:48.613563Z"
    }
   },
   "id": "8c0b59b803fc945f"
  },
  {
   "cell_type": "code",
   "execution_count": 214,
   "outputs": [
    {
     "data": {
      "text/plain": "  company gender   age\n3     NaN   male  28.0",
      "text/html": "<div>\n<style scoped>\n    .dataframe tbody tr th:only-of-type {\n        vertical-align: middle;\n    }\n\n    .dataframe tbody tr th {\n        vertical-align: top;\n    }\n\n    .dataframe thead th {\n        text-align: right;\n    }\n</style>\n<table border=\"1\" class=\"dataframe\">\n  <thead>\n    <tr style=\"text-align: right;\">\n      <th></th>\n      <th>company</th>\n      <th>gender</th>\n      <th>age</th>\n    </tr>\n  </thead>\n  <tbody>\n    <tr>\n      <th>3</th>\n      <td>NaN</td>\n      <td>male</td>\n      <td>28.0</td>\n    </tr>\n  </tbody>\n</table>\n</div>"
     },
     "execution_count": 214,
     "metadata": {},
     "output_type": "execute_result"
    }
   ],
   "source": [
    "#85.筛选出company为NaN的记录\n",
    "data = {'company': ['B', 'A', 'B', np.nan],\n",
    "        'gender': ['female', 'female', 'male', 'male'],\n",
    "        'age': [40, 31, np.nan, 28]}\n",
    "df = pd.DataFrame(data)\n",
    "df[df['company'].isnull()]"
   ],
   "metadata": {
    "collapsed": false,
    "ExecuteTime": {
     "end_time": "2023-12-15T11:59:23.574710Z",
     "start_time": "2023-12-15T11:59:23.562211Z"
    }
   },
   "id": "bdabda6d2790f5dc"
  },
  {
   "cell_type": "code",
   "execution_count": 215,
   "outputs": [],
   "source": [
    "#86.填充age缺失的数据， 值采用age前后年龄记录的平均值\n",
    "df.age.fillna((df.age.shift() + df.age.shift(-1)) / 2, inplace=True)  #shift()表示向下移动一行"
   ],
   "metadata": {
    "collapsed": false,
    "ExecuteTime": {
     "end_time": "2023-12-15T12:00:08.757734Z",
     "start_time": "2023-12-15T12:00:08.745069Z"
    }
   },
   "id": "c20145cd181c7559"
  },
  {
   "cell_type": "code",
   "execution_count": 302,
   "outputs": [
    {
     "data": {
      "text/plain": "         Date        High         Low        Open       Close   Volume  \\\n0  2020-09-01   92.190002   88.290001   91.599998   91.779999  3083999   \n1  2020-09-02   93.379997   90.290001   92.000000   92.459999  2568645   \n2  2020-09-03   94.809998   90.150002   92.550003   91.290001  3335166   \n3  2020-09-04   90.989998   86.930000   90.290001   87.870003  4285280   \n4  2020-09-07   88.900002   84.300003   88.040001   85.000000  4511719   \n5  2020-09-08   87.180000   83.599998   86.320000   85.620003  3740871   \n6  2020-09-09   86.820000   82.680000   86.000000   83.290001  3306328   \n7  2020-09-10   87.879997   83.169998   84.790001   86.010002  3891146   \n8  2020-09-11   90.290001   85.220001   85.690002   89.300003  2904152   \n9  2020-09-14   98.230003   94.080002   96.000000   98.230003  2084249   \n10 2020-09-15  101.879997   96.879997   99.000000   98.550003  8120064   \n11 2020-09-16  101.790001   99.190002   99.190002  100.480003  3881575   \n12 2020-09-17  101.290001   97.139999   97.459999   99.889999  4280569   \n13 2020-09-18  101.550003   96.660004   97.010002  100.570000  3069485   \n14 2020-09-21  100.900002   97.830002  100.900002  100.510002  2164425   \n15 2020-09-22  101.489998   98.589996   99.309998   99.540001  1953586   \n16 2020-09-23  104.080002   99.260002  100.500000  102.500000  3163928   \n17 2020-09-24  104.470001   97.639999   97.639999  102.699997  2383659   \n18 2020-09-25  105.449997  101.099998  103.900002  104.209999  2365031   \n19 2020-09-28  106.599998  102.000000  105.000000  104.330002  2548302   \n20 2020-09-29  105.279999  101.000000  105.279999  104.089996  1930338   \n21 2020-09-30  105.500000  102.529999  105.000000  103.190002  1960074   \n22 2020-10-09  103.800003   99.269997  102.150002  102.860001  4655026   \n23 2020-10-12  107.580002  102.059998  103.379997  105.800003  3283534   \n24 2020-10-13  108.589996  105.379997  106.809998  106.000000  1960767   \n25 2020-10-14  107.900002  105.180000  105.180000  106.919998  2351664   \n26 2020-10-15  108.230003  105.089996  108.000000  106.949997  1791109   \n27 2020-10-16  109.660004  104.989998  108.400002  106.510002  1872907   \n28 2020-10-19  107.300003  103.000000  107.000000  103.000000  1918300   \n29 2020-10-20  107.000000  103.059998  103.910004  106.910004  2074356   \n30 2020-10-21  106.410004  103.199997  105.519997  103.919998  1875918   \n31 2020-10-22  104.790001   99.879997  103.790001  103.349998  2208162   \n32 2020-10-23  106.300003   99.260002  103.349998   99.870003  2198071   \n33 2020-10-26  103.940002   96.000000   97.440002  102.059998  2682845   \n34 2020-10-27  103.879997  101.720001  102.059998  102.809998   985927   \n\n     Adj Close  \n0    91.779999  \n1    92.459999  \n2    91.290001  \n3    87.870003  \n4    85.000000  \n5    85.620003  \n6    83.290001  \n7    86.010002  \n8    89.300003  \n9    98.230003  \n10   98.550003  \n11  100.480003  \n12   99.889999  \n13  100.570000  \n14  100.510002  \n15   99.540001  \n16  102.500000  \n17  102.699997  \n18  104.209999  \n19  104.330002  \n20  104.089996  \n21  103.190002  \n22  102.860001  \n23  105.800003  \n24  106.000000  \n25  106.919998  \n26  106.949997  \n27  106.510002  \n28  103.000000  \n29  106.910004  \n30  103.919998  \n31  103.349998  \n32   99.870003  \n33  102.059998  \n34  102.809998  ",
      "text/html": "<div>\n<style scoped>\n    .dataframe tbody tr th:only-of-type {\n        vertical-align: middle;\n    }\n\n    .dataframe tbody tr th {\n        vertical-align: top;\n    }\n\n    .dataframe thead th {\n        text-align: right;\n    }\n</style>\n<table border=\"1\" class=\"dataframe\">\n  <thead>\n    <tr style=\"text-align: right;\">\n      <th></th>\n      <th>Date</th>\n      <th>High</th>\n      <th>Low</th>\n      <th>Open</th>\n      <th>Close</th>\n      <th>Volume</th>\n      <th>Adj Close</th>\n    </tr>\n  </thead>\n  <tbody>\n    <tr>\n      <th>0</th>\n      <td>2020-09-01</td>\n      <td>92.190002</td>\n      <td>88.290001</td>\n      <td>91.599998</td>\n      <td>91.779999</td>\n      <td>3083999</td>\n      <td>91.779999</td>\n    </tr>\n    <tr>\n      <th>1</th>\n      <td>2020-09-02</td>\n      <td>93.379997</td>\n      <td>90.290001</td>\n      <td>92.000000</td>\n      <td>92.459999</td>\n      <td>2568645</td>\n      <td>92.459999</td>\n    </tr>\n    <tr>\n      <th>2</th>\n      <td>2020-09-03</td>\n      <td>94.809998</td>\n      <td>90.150002</td>\n      <td>92.550003</td>\n      <td>91.290001</td>\n      <td>3335166</td>\n      <td>91.290001</td>\n    </tr>\n    <tr>\n      <th>3</th>\n      <td>2020-09-04</td>\n      <td>90.989998</td>\n      <td>86.930000</td>\n      <td>90.290001</td>\n      <td>87.870003</td>\n      <td>4285280</td>\n      <td>87.870003</td>\n    </tr>\n    <tr>\n      <th>4</th>\n      <td>2020-09-07</td>\n      <td>88.900002</td>\n      <td>84.300003</td>\n      <td>88.040001</td>\n      <td>85.000000</td>\n      <td>4511719</td>\n      <td>85.000000</td>\n    </tr>\n    <tr>\n      <th>5</th>\n      <td>2020-09-08</td>\n      <td>87.180000</td>\n      <td>83.599998</td>\n      <td>86.320000</td>\n      <td>85.620003</td>\n      <td>3740871</td>\n      <td>85.620003</td>\n    </tr>\n    <tr>\n      <th>6</th>\n      <td>2020-09-09</td>\n      <td>86.820000</td>\n      <td>82.680000</td>\n      <td>86.000000</td>\n      <td>83.290001</td>\n      <td>3306328</td>\n      <td>83.290001</td>\n    </tr>\n    <tr>\n      <th>7</th>\n      <td>2020-09-10</td>\n      <td>87.879997</td>\n      <td>83.169998</td>\n      <td>84.790001</td>\n      <td>86.010002</td>\n      <td>3891146</td>\n      <td>86.010002</td>\n    </tr>\n    <tr>\n      <th>8</th>\n      <td>2020-09-11</td>\n      <td>90.290001</td>\n      <td>85.220001</td>\n      <td>85.690002</td>\n      <td>89.300003</td>\n      <td>2904152</td>\n      <td>89.300003</td>\n    </tr>\n    <tr>\n      <th>9</th>\n      <td>2020-09-14</td>\n      <td>98.230003</td>\n      <td>94.080002</td>\n      <td>96.000000</td>\n      <td>98.230003</td>\n      <td>2084249</td>\n      <td>98.230003</td>\n    </tr>\n    <tr>\n      <th>10</th>\n      <td>2020-09-15</td>\n      <td>101.879997</td>\n      <td>96.879997</td>\n      <td>99.000000</td>\n      <td>98.550003</td>\n      <td>8120064</td>\n      <td>98.550003</td>\n    </tr>\n    <tr>\n      <th>11</th>\n      <td>2020-09-16</td>\n      <td>101.790001</td>\n      <td>99.190002</td>\n      <td>99.190002</td>\n      <td>100.480003</td>\n      <td>3881575</td>\n      <td>100.480003</td>\n    </tr>\n    <tr>\n      <th>12</th>\n      <td>2020-09-17</td>\n      <td>101.290001</td>\n      <td>97.139999</td>\n      <td>97.459999</td>\n      <td>99.889999</td>\n      <td>4280569</td>\n      <td>99.889999</td>\n    </tr>\n    <tr>\n      <th>13</th>\n      <td>2020-09-18</td>\n      <td>101.550003</td>\n      <td>96.660004</td>\n      <td>97.010002</td>\n      <td>100.570000</td>\n      <td>3069485</td>\n      <td>100.570000</td>\n    </tr>\n    <tr>\n      <th>14</th>\n      <td>2020-09-21</td>\n      <td>100.900002</td>\n      <td>97.830002</td>\n      <td>100.900002</td>\n      <td>100.510002</td>\n      <td>2164425</td>\n      <td>100.510002</td>\n    </tr>\n    <tr>\n      <th>15</th>\n      <td>2020-09-22</td>\n      <td>101.489998</td>\n      <td>98.589996</td>\n      <td>99.309998</td>\n      <td>99.540001</td>\n      <td>1953586</td>\n      <td>99.540001</td>\n    </tr>\n    <tr>\n      <th>16</th>\n      <td>2020-09-23</td>\n      <td>104.080002</td>\n      <td>99.260002</td>\n      <td>100.500000</td>\n      <td>102.500000</td>\n      <td>3163928</td>\n      <td>102.500000</td>\n    </tr>\n    <tr>\n      <th>17</th>\n      <td>2020-09-24</td>\n      <td>104.470001</td>\n      <td>97.639999</td>\n      <td>97.639999</td>\n      <td>102.699997</td>\n      <td>2383659</td>\n      <td>102.699997</td>\n    </tr>\n    <tr>\n      <th>18</th>\n      <td>2020-09-25</td>\n      <td>105.449997</td>\n      <td>101.099998</td>\n      <td>103.900002</td>\n      <td>104.209999</td>\n      <td>2365031</td>\n      <td>104.209999</td>\n    </tr>\n    <tr>\n      <th>19</th>\n      <td>2020-09-28</td>\n      <td>106.599998</td>\n      <td>102.000000</td>\n      <td>105.000000</td>\n      <td>104.330002</td>\n      <td>2548302</td>\n      <td>104.330002</td>\n    </tr>\n    <tr>\n      <th>20</th>\n      <td>2020-09-29</td>\n      <td>105.279999</td>\n      <td>101.000000</td>\n      <td>105.279999</td>\n      <td>104.089996</td>\n      <td>1930338</td>\n      <td>104.089996</td>\n    </tr>\n    <tr>\n      <th>21</th>\n      <td>2020-09-30</td>\n      <td>105.500000</td>\n      <td>102.529999</td>\n      <td>105.000000</td>\n      <td>103.190002</td>\n      <td>1960074</td>\n      <td>103.190002</td>\n    </tr>\n    <tr>\n      <th>22</th>\n      <td>2020-10-09</td>\n      <td>103.800003</td>\n      <td>99.269997</td>\n      <td>102.150002</td>\n      <td>102.860001</td>\n      <td>4655026</td>\n      <td>102.860001</td>\n    </tr>\n    <tr>\n      <th>23</th>\n      <td>2020-10-12</td>\n      <td>107.580002</td>\n      <td>102.059998</td>\n      <td>103.379997</td>\n      <td>105.800003</td>\n      <td>3283534</td>\n      <td>105.800003</td>\n    </tr>\n    <tr>\n      <th>24</th>\n      <td>2020-10-13</td>\n      <td>108.589996</td>\n      <td>105.379997</td>\n      <td>106.809998</td>\n      <td>106.000000</td>\n      <td>1960767</td>\n      <td>106.000000</td>\n    </tr>\n    <tr>\n      <th>25</th>\n      <td>2020-10-14</td>\n      <td>107.900002</td>\n      <td>105.180000</td>\n      <td>105.180000</td>\n      <td>106.919998</td>\n      <td>2351664</td>\n      <td>106.919998</td>\n    </tr>\n    <tr>\n      <th>26</th>\n      <td>2020-10-15</td>\n      <td>108.230003</td>\n      <td>105.089996</td>\n      <td>108.000000</td>\n      <td>106.949997</td>\n      <td>1791109</td>\n      <td>106.949997</td>\n    </tr>\n    <tr>\n      <th>27</th>\n      <td>2020-10-16</td>\n      <td>109.660004</td>\n      <td>104.989998</td>\n      <td>108.400002</td>\n      <td>106.510002</td>\n      <td>1872907</td>\n      <td>106.510002</td>\n    </tr>\n    <tr>\n      <th>28</th>\n      <td>2020-10-19</td>\n      <td>107.300003</td>\n      <td>103.000000</td>\n      <td>107.000000</td>\n      <td>103.000000</td>\n      <td>1918300</td>\n      <td>103.000000</td>\n    </tr>\n    <tr>\n      <th>29</th>\n      <td>2020-10-20</td>\n      <td>107.000000</td>\n      <td>103.059998</td>\n      <td>103.910004</td>\n      <td>106.910004</td>\n      <td>2074356</td>\n      <td>106.910004</td>\n    </tr>\n    <tr>\n      <th>30</th>\n      <td>2020-10-21</td>\n      <td>106.410004</td>\n      <td>103.199997</td>\n      <td>105.519997</td>\n      <td>103.919998</td>\n      <td>1875918</td>\n      <td>103.919998</td>\n    </tr>\n    <tr>\n      <th>31</th>\n      <td>2020-10-22</td>\n      <td>104.790001</td>\n      <td>99.879997</td>\n      <td>103.790001</td>\n      <td>103.349998</td>\n      <td>2208162</td>\n      <td>103.349998</td>\n    </tr>\n    <tr>\n      <th>32</th>\n      <td>2020-10-23</td>\n      <td>106.300003</td>\n      <td>99.260002</td>\n      <td>103.349998</td>\n      <td>99.870003</td>\n      <td>2198071</td>\n      <td>99.870003</td>\n    </tr>\n    <tr>\n      <th>33</th>\n      <td>2020-10-26</td>\n      <td>103.940002</td>\n      <td>96.000000</td>\n      <td>97.440002</td>\n      <td>102.059998</td>\n      <td>2682845</td>\n      <td>102.059998</td>\n    </tr>\n    <tr>\n      <th>34</th>\n      <td>2020-10-27</td>\n      <td>103.879997</td>\n      <td>101.720001</td>\n      <td>102.059998</td>\n      <td>102.809998</td>\n      <td>985927</td>\n      <td>102.809998</td>\n    </tr>\n  </tbody>\n</table>\n</div>"
     },
     "execution_count": 302,
     "metadata": {},
     "output_type": "execute_result"
    }
   ],
   "source": [
    "# 读文件“600132.csv”中的股票数据，利用Python和Matplotlib绘制2020年9月收盘价线型图，为每个数据点加标识“*”\n",
    "import matplotlib.pyplot as plt\n",
    "\n",
    "df_plt = pd.read_csv('600132.csv')  # parse_dates=True表示将日期转换为日期格式\n",
    "df_plt['Date'] = pd.to_datetime(df_plt['Date'])\n",
    "df_plt"
   ],
   "metadata": {
    "collapsed": false,
    "ExecuteTime": {
     "end_time": "2023-12-15T12:28:36.700972Z",
     "start_time": "2023-12-15T12:28:36.693846Z"
    }
   },
   "id": "f553622c690b2e69"
  },
  {
   "cell_type": "code",
   "execution_count": 310,
   "outputs": [
    {
     "data": {
      "text/plain": "<Figure size 8000x8000 with 0 Axes>"
     },
     "execution_count": 310,
     "metadata": {},
     "output_type": "execute_result"
    },
    {
     "data": {
      "text/plain": "<Figure size 640x480 with 1 Axes>",
      "image/png": "[encoded data removed]"
     },
     "metadata": {},
     "output_type": "display_data"
    },
    {
     "data": {
      "text/plain": "<Figure size 8000x8000 with 0 Axes>"
     },
     "metadata": {},
     "output_type": "display_data"
    }
   ],
   "source": [
    "df_plt = df_plt[(df_plt['Date'] >= '2020-09-01') & (df_plt['Date'] <= '2020-09-30')]\n",
    "plt.plot(df_plt['Date'], df_plt['Close'], marker='*', color='b')\n",
    "plt.grid(False)\n",
    "plt.xticks(df_plt['Date'],rotation=45)  # Rotate and adjust alignment\n",
    "plt.figure(figsize=(100, 100), dpi=80)"
   ],
   "metadata": {
    "collapsed": false,
    "ExecuteTime": {
     "end_time": "2023-12-15T12:50:38.555283Z",
     "start_time": "2023-12-15T12:50:38.386531Z"
    }
   },
   "id": "44f86954a4bf70b2"
  },
  {
   "cell_type": "code",
   "execution_count": 311,
   "outputs": [
    {
     "data": {
      "text/plain": "([<matplotlib.axis.XTick at 0x3aeed5090>,\n  <matplotlib.axis.XTick at 0x3aee9c6d0>,\n  <matplotlib.axis.XTick at 0x3aef8c0d0>,\n  <matplotlib.axis.XTick at 0x3be4b4710>,\n  <matplotlib.axis.XTick at 0x3be4b6990>,\n  <matplotlib.axis.XTick at 0x3be4b7ed0>,\n  <matplotlib.axis.XTick at 0x3be4bde50>,\n  <matplotlib.axis.XTick at 0x3be4bfe90>,\n  <matplotlib.axis.XTick at 0x3be4cdf90>,\n  <matplotlib.axis.XTick at 0x3be4cfcd0>,\n  <matplotlib.axis.XTick at 0x3be4d1e50>,\n  <matplotlib.axis.XTick at 0x3be4b7910>,\n  <matplotlib.axis.XTick at 0x3be4d3fd0>,\n  <matplotlib.axis.XTick at 0x3be4d6090>,\n  <matplotlib.axis.XTick at 0x3be4d7f90>,\n  <matplotlib.axis.XTick at 0x3be4da010>,\n  <matplotlib.axis.XTick at 0x3be4d6710>,\n  <matplotlib.axis.XTick at 0x3af00e550>,\n  <matplotlib.axis.XTick at 0x3be4e1510>,\n  <matplotlib.axis.XTick at 0x3be4e3610>,\n  <matplotlib.axis.XTick at 0x3be4f1650>,\n  <matplotlib.axis.XTick at 0x3be4f3710>],\n [Text(18506.0, 0, '2020-09-01'),\n  Text(18507.0, 0, '2020-09-02'),\n  Text(18508.0, 0, '2020-09-03'),\n  Text(18509.0, 0, '2020-09-04'),\n  Text(18512.0, 0, '2020-09-07'),\n  Text(18513.0, 0, '2020-09-08'),\n  Text(18514.0, 0, '2020-09-09'),\n  Text(18515.0, 0, '2020-09-10'),\n  Text(18516.0, 0, '2020-09-11'),\n  Text(18519.0, 0, '2020-09-14'),\n  Text(18520.0, 0, '2020-09-15'),\n  Text(18521.0, 0, '2020-09-16'),\n  Text(18522.0, 0, '2020-09-17'),\n  Text(18523.0, 0, '2020-09-18'),\n  Text(18526.0, 0, '2020-09-21'),\n  Text(18527.0, 0, '2020-09-22'),\n  Text(18528.0, 0, '2020-09-23'),\n  Text(18529.0, 0, '2020-09-24'),\n  Text(18530.0, 0, '2020-09-25'),\n  Text(18533.0, 0, '2020-09-28'),\n  Text(18534.0, 0, '2020-09-29'),\n  Text(18535.0, 0, '2020-09-30')])"
     },
     "execution_count": 311,
     "metadata": {},
     "output_type": "execute_result"
    },
    {
     "data": {
      "text/plain": "<Figure size 640x480 with 1 Axes>",
      "image/png": "[encoded data removed]"
     },
     "metadata": {},
     "output_type": "display_data"
    }
   ],
   "source": [
    "# 绘制每天成交量的柱形图\n",
    "# 绘制柱形图\n",
    "plt.bar(df_plt['Date'], df_plt['Volume'], color='blue')\n",
    "plt.xticks(df_plt['Date'],rotation=45)  # 旋转 x 轴标签以提高可读性"
   ],
   "metadata": {
    "collapsed": false,
    "ExecuteTime": {
     "end_time": "2023-12-15T12:50:49.571106Z",
     "start_time": "2023-12-15T12:50:49.336372Z"
    }
   },
   "id": "b908b175b2e10344"
  },
  {
   "cell_type": "code",
   "execution_count": 342,
   "outputs": [
    {
     "data": {
      "text/plain": "Text(0.5, 0, '')"
     },
     "execution_count": 342,
     "metadata": {},
     "output_type": "execute_result"
    },
    {
     "data": {
      "text/plain": "<Figure size 640x480 with 1 Axes>",
      "image/png": "[encoded data removed]"
     },
     "metadata": {},
     "output_type": "display_data"
    }
   ],
   "source": [
    "# Pandas是专门用于数据分析的库，其提供的read_csv()方法可以方便的读取csv格式的文件中的数据到Pandas中的DataFrame中。\n",
    "df_plt = pd.read_csv('600132.csv')\n",
    "df_plt.plot(x = 'Date', y = 'Volume', kind='bar', legend='')\n",
    "plt.xticks([])\n",
    "plt.grid(False)\n",
    "plt.xlabel('')"
   ],
   "metadata": {
    "collapsed": false,
    "ExecuteTime": {
     "end_time": "2023-12-15T12:59:59.795120Z",
     "start_time": "2023-12-15T12:59:59.713149Z"
    }
   },
   "id": "c1244375fdb2edcc"
  }
 ],
 "metadata": {
  "kernelspec": {
   "name": "python3",
   "language": "python",
   "display_name": "Python 3 (ipykernel)"
  },
  "language_info": {
   "codemirror_mode": {
    "name": "ipython",
    "version": 2
   },
   "file_extension": ".py",
   "mimetype": "text/x-python",
   "name": "python",
   "nbconvert_exporter": "python",
   "pygments_lexer": "ipython2",
   "version": "2.7.6"
  }
 },
 "nbformat": 4,
 "nbformat_minor": 5
}
