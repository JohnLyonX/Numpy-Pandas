{
 "cells": [
  {
   "cell_type": "code",
   "execution_count": 15,
   "id": "initial_id",
   "metadata": {
    "ExecuteTime": {
     "end_time": "2023-12-01T01:41:01.026162Z",
     "start_time": "2023-12-01T01:41:00.970375Z"
    },
    "collapsed": true
   },
   "outputs": [],
   "source": [
    "import pandas as pd\n",
    "import numpy as np\n",
    "from pandas import DataFrame"
   ]
  },
  {
   "cell_type": "markdown",
   "id": "61c28c5e3e59c9c6",
   "metadata": {},
   "source": [
    "#### 替换操作\n",
    "  - 替换操作可以同步作用于Series和DataFrame中\n",
    "  - 单值替换\n",
    "    - 普通替换: 替换所有符合要求的元素: to_replace=15,value='e'\n",
    "    - 按照指定单值替换: to_replace={列标签: 替换值} value='value'\n",
    "  - 多值替换\n",
    "    - 列表替换: to_replace=[] value=[]\n",
    "    - 字典替换(推荐) to_replace=(to_replace:value,to_replace:value)"
   ]
  },
  {
   "cell_type": "code",
   "execution_count": 16,
   "id": "f688a01a46128ba8",
   "metadata": {
    "ExecuteTime": {
     "end_time": "2023-12-01T01:41:01.026526Z",
     "start_time": "2023-12-01T01:41:00.995264Z"
    }
   },
   "outputs": [
    {
     "data": {
      "text/html": [
       "<div>\n",
       "<style scoped>\n",
       "    .dataframe tbody tr th:only-of-type {\n",
       "        vertical-align: middle;\n",
       "    }\n",
       "\n",
       "    .dataframe tbody tr th {\n",
       "        vertical-align: top;\n",
       "    }\n",
       "\n",
       "    .dataframe thead th {\n",
       "        text-align: right;\n",
       "    }\n",
       "</style>\n",
       "<table border=\"1\" class=\"dataframe\">\n",
       "  <thead>\n",
       "    <tr style=\"text-align: right;\">\n",
       "      <th></th>\n",
       "      <th>0</th>\n",
       "      <th>1</th>\n",
       "      <th>2</th>\n",
       "      <th>3</th>\n",
       "      <th>4</th>\n",
       "      <th>5</th>\n",
       "    </tr>\n",
       "  </thead>\n",
       "  <tbody>\n",
       "    <tr>\n",
       "      <th>0</th>\n",
       "      <td>96</td>\n",
       "      <td>79</td>\n",
       "      <td>70</td>\n",
       "      <td>39</td>\n",
       "      <td>27</td>\n",
       "      <td>41</td>\n",
       "    </tr>\n",
       "    <tr>\n",
       "      <th>1</th>\n",
       "      <td>20</td>\n",
       "      <td>13</td>\n",
       "      <td>95</td>\n",
       "      <td>68</td>\n",
       "      <td>47</td>\n",
       "      <td>58</td>\n",
       "    </tr>\n",
       "    <tr>\n",
       "      <th>2</th>\n",
       "      <td>47</td>\n",
       "      <td>92</td>\n",
       "      <td>95</td>\n",
       "      <td>71</td>\n",
       "      <td>37</td>\n",
       "      <td>37</td>\n",
       "    </tr>\n",
       "    <tr>\n",
       "      <th>3</th>\n",
       "      <td>7</td>\n",
       "      <td>92</td>\n",
       "      <td>89</td>\n",
       "      <td>17</td>\n",
       "      <td>72</td>\n",
       "      <td>16</td>\n",
       "    </tr>\n",
       "    <tr>\n",
       "      <th>4</th>\n",
       "      <td>42</td>\n",
       "      <td>85</td>\n",
       "      <td>45</td>\n",
       "      <td>84</td>\n",
       "      <td>7</td>\n",
       "      <td>21</td>\n",
       "    </tr>\n",
       "  </tbody>\n",
       "</table>\n",
       "</div>"
      ],
      "text/plain": [
       "    0   1   2   3   4   5\n",
       "0  96  79  70  39  27  41\n",
       "1  20  13  95  68  47  58\n",
       "2  47  92  95  71  37  37\n",
       "3   7  92  89  17  72  16\n",
       "4  42  85  45  84   7  21"
      ]
     },
     "execution_count": 16,
     "metadata": {},
     "output_type": "execute_result"
    }
   ],
   "source": [
    "df = DataFrame(np.random.randint(0,100,size=(5,6)))\n",
    "df"
   ]
  },
  {
   "cell_type": "code",
   "execution_count": 17,
   "id": "9f123f100d956f57",
   "metadata": {
    "ExecuteTime": {
     "end_time": "2023-12-01T01:41:01.113893Z",
     "start_time": "2023-12-01T01:41:01.023469Z"
    }
   },
   "outputs": [
    {
     "data": {
      "text/html": [
       "<div>\n",
       "<style scoped>\n",
       "    .dataframe tbody tr th:only-of-type {\n",
       "        vertical-align: middle;\n",
       "    }\n",
       "\n",
       "    .dataframe tbody tr th {\n",
       "        vertical-align: top;\n",
       "    }\n",
       "\n",
       "    .dataframe thead th {\n",
       "        text-align: right;\n",
       "    }\n",
       "</style>\n",
       "<table border=\"1\" class=\"dataframe\">\n",
       "  <thead>\n",
       "    <tr style=\"text-align: right;\">\n",
       "      <th></th>\n",
       "      <th>0</th>\n",
       "      <th>1</th>\n",
       "      <th>2</th>\n",
       "      <th>3</th>\n",
       "      <th>4</th>\n",
       "      <th>5</th>\n",
       "    </tr>\n",
       "  </thead>\n",
       "  <tbody>\n",
       "    <tr>\n",
       "      <th>0</th>\n",
       "      <td>96</td>\n",
       "      <td>79</td>\n",
       "      <td>70</td>\n",
       "      <td>39</td>\n",
       "      <td>27</td>\n",
       "      <td>41</td>\n",
       "    </tr>\n",
       "    <tr>\n",
       "      <th>1</th>\n",
       "      <td>20</td>\n",
       "      <td>13</td>\n",
       "      <td>95</td>\n",
       "      <td>68</td>\n",
       "      <td>47</td>\n",
       "      <td>58</td>\n",
       "    </tr>\n",
       "    <tr>\n",
       "      <th>2</th>\n",
       "      <td>47</td>\n",
       "      <td>92</td>\n",
       "      <td>95</td>\n",
       "      <td>71</td>\n",
       "      <td>37</td>\n",
       "      <td>37</td>\n",
       "    </tr>\n",
       "    <tr>\n",
       "      <th>3</th>\n",
       "      <td>7</td>\n",
       "      <td>92</td>\n",
       "      <td>89</td>\n",
       "      <td>17</td>\n",
       "      <td>72</td>\n",
       "      <td>Two</td>\n",
       "    </tr>\n",
       "    <tr>\n",
       "      <th>4</th>\n",
       "      <td>42</td>\n",
       "      <td>85</td>\n",
       "      <td>45</td>\n",
       "      <td>84</td>\n",
       "      <td>7</td>\n",
       "      <td>21</td>\n",
       "    </tr>\n",
       "  </tbody>\n",
       "</table>\n",
       "</div>"
      ],
      "text/plain": [
       "    0   1   2   3   4    5\n",
       "0  96  79  70  39  27   41\n",
       "1  20  13  95  68  47   58\n",
       "2  47  92  95  71  37   37\n",
       "3   7  92  89  17  72  Two\n",
       "4  42  85  45  84   7   21"
      ]
     },
     "execution_count": 17,
     "metadata": {},
     "output_type": "execute_result"
    }
   ],
   "source": [
    "df.replace(to_replace=16,value='Two') # 把16的值都进行替换"
   ]
  },
  {
   "cell_type": "code",
   "execution_count": 18,
   "id": "d62d02d11461d656",
   "metadata": {
    "ExecuteTime": {
     "end_time": "2023-12-01T01:41:01.114111Z",
     "start_time": "2023-12-01T01:41:01.085393Z"
    }
   },
   "outputs": [
    {
     "data": {
      "text/html": [
       "<div>\n",
       "<style scoped>\n",
       "    .dataframe tbody tr th:only-of-type {\n",
       "        vertical-align: middle;\n",
       "    }\n",
       "\n",
       "    .dataframe tbody tr th {\n",
       "        vertical-align: top;\n",
       "    }\n",
       "\n",
       "    .dataframe thead th {\n",
       "        text-align: right;\n",
       "    }\n",
       "</style>\n",
       "<table border=\"1\" class=\"dataframe\">\n",
       "  <thead>\n",
       "    <tr style=\"text-align: right;\">\n",
       "      <th></th>\n",
       "      <th>0</th>\n",
       "      <th>1</th>\n",
       "      <th>2</th>\n",
       "      <th>3</th>\n",
       "      <th>4</th>\n",
       "      <th>5</th>\n",
       "    </tr>\n",
       "  </thead>\n",
       "  <tbody>\n",
       "    <tr>\n",
       "      <th>0</th>\n",
       "      <td>96</td>\n",
       "      <td>79</td>\n",
       "      <td>70</td>\n",
       "      <td>39</td>\n",
       "      <td>27</td>\n",
       "      <td>41</td>\n",
       "    </tr>\n",
       "    <tr>\n",
       "      <th>1</th>\n",
       "      <td>20</td>\n",
       "      <td>13</td>\n",
       "      <td>95</td>\n",
       "      <td>68</td>\n",
       "      <td>47</td>\n",
       "      <td>58</td>\n",
       "    </tr>\n",
       "    <tr>\n",
       "      <th>2</th>\n",
       "      <td>47</td>\n",
       "      <td>92</td>\n",
       "      <td>95</td>\n",
       "      <td>71</td>\n",
       "      <td>37</td>\n",
       "      <td>37</td>\n",
       "    </tr>\n",
       "    <tr>\n",
       "      <th>3</th>\n",
       "      <td>7</td>\n",
       "      <td>92</td>\n",
       "      <td>89</td>\n",
       "      <td>17</td>\n",
       "      <td>72</td>\n",
       "      <td>16</td>\n",
       "    </tr>\n",
       "    <tr>\n",
       "      <th>4</th>\n",
       "      <td>42</td>\n",
       "      <td>85</td>\n",
       "      <td>45</td>\n",
       "      <td>84</td>\n",
       "      <td>7</td>\n",
       "      <td>21</td>\n",
       "    </tr>\n",
       "  </tbody>\n",
       "</table>\n",
       "</div>"
      ],
      "text/plain": [
       "    0   1   2   3   4   5\n",
       "0  96  79  70  39  27  41\n",
       "1  20  13  95  68  47  58\n",
       "2  47  92  95  71  37  37\n",
       "3   7  92  89  17  72  16\n",
       "4  42  85  45  84   7  21"
      ]
     },
     "execution_count": 18,
     "metadata": {},
     "output_type": "execute_result"
    }
   ],
   "source": [
    "df.replace(to_replace={62:'John'}) # 把62的值都进行替换 "
   ]
  },
  {
   "cell_type": "code",
   "execution_count": 19,
   "id": "27a7cd6c87cd5ce5",
   "metadata": {
    "ExecuteTime": {
     "end_time": "2023-12-01T01:41:01.114362Z",
     "start_time": "2023-12-01T01:41:01.085459Z"
    }
   },
   "outputs": [
    {
     "data": {
      "text/html": [
       "<div>\n",
       "<style scoped>\n",
       "    .dataframe tbody tr th:only-of-type {\n",
       "        vertical-align: middle;\n",
       "    }\n",
       "\n",
       "    .dataframe tbody tr th {\n",
       "        vertical-align: top;\n",
       "    }\n",
       "\n",
       "    .dataframe thead th {\n",
       "        text-align: right;\n",
       "    }\n",
       "</style>\n",
       "<table border=\"1\" class=\"dataframe\">\n",
       "  <thead>\n",
       "    <tr style=\"text-align: right;\">\n",
       "      <th></th>\n",
       "      <th>0</th>\n",
       "      <th>1</th>\n",
       "      <th>2</th>\n",
       "      <th>3</th>\n",
       "      <th>4</th>\n",
       "      <th>5</th>\n",
       "    </tr>\n",
       "  </thead>\n",
       "  <tbody>\n",
       "    <tr>\n",
       "      <th>0</th>\n",
       "      <td>96</td>\n",
       "      <td>79</td>\n",
       "      <td>70</td>\n",
       "      <td>39</td>\n",
       "      <td>27</td>\n",
       "      <td>41</td>\n",
       "    </tr>\n",
       "    <tr>\n",
       "      <th>1</th>\n",
       "      <td>20</td>\n",
       "      <td>13</td>\n",
       "      <td>95</td>\n",
       "      <td>68</td>\n",
       "      <td>47</td>\n",
       "      <td>58</td>\n",
       "    </tr>\n",
       "    <tr>\n",
       "      <th>2</th>\n",
       "      <td>47</td>\n",
       "      <td>92</td>\n",
       "      <td>95</td>\n",
       "      <td>71</td>\n",
       "      <td>37</td>\n",
       "      <td>37</td>\n",
       "    </tr>\n",
       "    <tr>\n",
       "      <th>3</th>\n",
       "      <td>7</td>\n",
       "      <td>92</td>\n",
       "      <td>89</td>\n",
       "      <td>17</td>\n",
       "      <td>72</td>\n",
       "      <td>16</td>\n",
       "    </tr>\n",
       "    <tr>\n",
       "      <th>4</th>\n",
       "      <td>42</td>\n",
       "      <td>85</td>\n",
       "      <td>45</td>\n",
       "      <td>84</td>\n",
       "      <td>7</td>\n",
       "      <td>21</td>\n",
       "    </tr>\n",
       "  </tbody>\n",
       "</table>\n",
       "</div>"
      ],
      "text/plain": [
       "    0   1   2   3   4   5\n",
       "0  96  79  70  39  27  41\n",
       "1  20  13  95  68  47  58\n",
       "2  47  92  95  71  37  37\n",
       "3   7  92  89  17  72  16\n",
       "4  42  85  45  84   7  21"
      ]
     },
     "execution_count": 19,
     "metadata": {},
     "output_type": "execute_result"
    }
   ],
   "source": [
    "df.replace(to_replace={2:17},value='five') # 将2列的17替换为five\n",
    "# 将指定列的元素进行替换to_replace={列标签: 被替换值} value='value'"
   ]
  },
  {
   "cell_type": "markdown",
   "id": "f47f0f555e47acaf",
   "metadata": {},
   "source": [
    "### 映射操作\n",
    "  - 概念: 创建一个映射关系列表,把values元素和一个特定的标签或者字符串绑定(给一个元素值提供不同的表现形式)\n",
    "  - 创建一个df,两列分别是姓名和薪资,然后给其名字起对应的英文名"
   ]
  },
  {
   "cell_type": "code",
   "execution_count": 20,
   "id": "dbc3860f2a9cd830",
   "metadata": {
    "ExecuteTime": {
     "end_time": "2023-12-01T01:41:01.120128Z",
     "start_time": "2023-12-01T01:41:01.103666Z"
    }
   },
   "outputs": [
    {
     "data": {
      "text/html": [
       "<div>\n",
       "<style scoped>\n",
       "    .dataframe tbody tr th:only-of-type {\n",
       "        vertical-align: middle;\n",
       "    }\n",
       "\n",
       "    .dataframe tbody tr th {\n",
       "        vertical-align: top;\n",
       "    }\n",
       "\n",
       "    .dataframe thead th {\n",
       "        text-align: right;\n",
       "    }\n",
       "</style>\n",
       "<table border=\"1\" class=\"dataframe\">\n",
       "  <thead>\n",
       "    <tr style=\"text-align: right;\">\n",
       "      <th></th>\n",
       "      <th>name</th>\n",
       "      <th>salary</th>\n",
       "    </tr>\n",
       "  </thead>\n",
       "  <tbody>\n",
       "    <tr>\n",
       "      <th>0</th>\n",
       "      <td>John</td>\n",
       "      <td>10000</td>\n",
       "    </tr>\n",
       "    <tr>\n",
       "      <th>1</th>\n",
       "      <td>Jack</td>\n",
       "      <td>4500</td>\n",
       "    </tr>\n",
       "    <tr>\n",
       "      <th>2</th>\n",
       "      <td>Tom</td>\n",
       "      <td>8000</td>\n",
       "    </tr>\n",
       "    <tr>\n",
       "      <th>3</th>\n",
       "      <td>Marry</td>\n",
       "      <td>6000</td>\n",
       "    </tr>\n",
       "    <tr>\n",
       "      <th>4</th>\n",
       "      <td>Zack</td>\n",
       "      <td>7000</td>\n",
       "    </tr>\n",
       "  </tbody>\n",
       "</table>\n",
       "</div>"
      ],
      "text/plain": [
       "    name  salary\n",
       "0   John   10000\n",
       "1   Jack    4500\n",
       "2    Tom    8000\n",
       "3  Marry    6000\n",
       "4   Zack    7000"
      ]
     },
     "execution_count": 20,
     "metadata": {},
     "output_type": "execute_result"
    }
   ],
   "source": [
    "dic = {\n",
    "    'name': ['John','Jack','Tom','Marry','Zack'],\n",
    "    'salary': [10000,4500,8000,6000,7000]\n",
    "}\n",
    "df = DataFrame(dic)\n",
    "df"
   ]
  },
  {
   "cell_type": "code",
   "execution_count": 21,
   "id": "d30916eedf12f7cf",
   "metadata": {
    "ExecuteTime": {
     "end_time": "2023-12-01T01:41:01.194411Z",
     "start_time": "2023-12-01T01:41:01.120374Z"
    }
   },
   "outputs": [],
   "source": [
    "# 创建一个映射关系列表\n",
    "dic = {\n",
    "    'John': '约翰',\n",
    "    'Jack': '杰克',\n",
    "    'Tom': '汤姆',\n",
    "    'Marry': '玛丽',\n",
    "    'Zack': '扎克'\n",
    "}\n",
    "df['e_name'] = df['name'].map(dic) # 将name列的值进行映射"
   ]
  },
  {
   "cell_type": "markdown",
   "id": "7005e3f44bbcc6e1",
   "metadata": {},
   "source": [
    "- map是一个Series的方法,只能被Series调用"
   ]
  },
  {
   "cell_type": "markdown",
   "id": "9a5ecd14c4b7da49",
   "metadata": {},
   "source": [
    "### 运算工具\n",
    "  - 超过3000部分的钱缴纳50%的税,计算每个人的税后薪资"
   ]
  },
  {
   "cell_type": "code",
   "execution_count": 22,
   "id": "fa934fc975ec7ebf",
   "metadata": {
    "ExecuteTime": {
     "end_time": "2023-12-01T01:41:01.194754Z",
     "start_time": "2023-12-01T01:41:01.136348Z"
    }
   },
   "outputs": [
    {
     "data": {
      "text/html": [
       "<div>\n",
       "<style scoped>\n",
       "    .dataframe tbody tr th:only-of-type {\n",
       "        vertical-align: middle;\n",
       "    }\n",
       "\n",
       "    .dataframe tbody tr th {\n",
       "        vertical-align: top;\n",
       "    }\n",
       "\n",
       "    .dataframe thead th {\n",
       "        text-align: right;\n",
       "    }\n",
       "</style>\n",
       "<table border=\"1\" class=\"dataframe\">\n",
       "  <thead>\n",
       "    <tr style=\"text-align: right;\">\n",
       "      <th></th>\n",
       "      <th>name</th>\n",
       "      <th>salary</th>\n",
       "      <th>e_name</th>\n",
       "    </tr>\n",
       "  </thead>\n",
       "  <tbody>\n",
       "    <tr>\n",
       "      <th>0</th>\n",
       "      <td>John</td>\n",
       "      <td>10000</td>\n",
       "      <td>约翰</td>\n",
       "    </tr>\n",
       "    <tr>\n",
       "      <th>1</th>\n",
       "      <td>Jack</td>\n",
       "      <td>4500</td>\n",
       "      <td>杰克</td>\n",
       "    </tr>\n",
       "    <tr>\n",
       "      <th>2</th>\n",
       "      <td>Tom</td>\n",
       "      <td>8000</td>\n",
       "      <td>汤姆</td>\n",
       "    </tr>\n",
       "    <tr>\n",
       "      <th>3</th>\n",
       "      <td>Marry</td>\n",
       "      <td>6000</td>\n",
       "      <td>玛丽</td>\n",
       "    </tr>\n",
       "    <tr>\n",
       "      <th>4</th>\n",
       "      <td>Zack</td>\n",
       "      <td>7000</td>\n",
       "      <td>扎克</td>\n",
       "    </tr>\n",
       "  </tbody>\n",
       "</table>\n",
       "</div>"
      ],
      "text/plain": [
       "    name  salary e_name\n",
       "0   John   10000     约翰\n",
       "1   Jack    4500     杰克\n",
       "2    Tom    8000     汤姆\n",
       "3  Marry    6000     玛丽\n",
       "4   Zack    7000     扎克"
      ]
     },
     "execution_count": 22,
     "metadata": {},
     "output_type": "execute_result"
    }
   ],
   "source": [
    "df"
   ]
  },
  {
   "cell_type": "code",
   "execution_count": 23,
   "id": "397dc7609c41e438",
   "metadata": {
    "ExecuteTime": {
     "end_time": "2023-12-01T01:41:01.195404Z",
     "start_time": "2023-12-01T01:41:01.153381Z"
    }
   },
   "outputs": [
    {
     "data": {
      "text/plain": [
       "0    6500.0\n",
       "1    3750.0\n",
       "2    5500.0\n",
       "3    4500.0\n",
       "4    5000.0\n",
       "Name: salary, dtype: float64"
      ]
     },
     "execution_count": 23,
     "metadata": {},
     "output_type": "execute_result"
    }
   ],
   "source": [
    "def after_sal(s):\n",
    "    return s - (s-3000)*0.5\n",
    "df['salary'].map(after_sal) # salary的每个元素都会被传入到after_sal函数中"
   ]
  },
  {
   "cell_type": "markdown",
   "id": "8a79df97fbd81721",
   "metadata": {},
   "source": [
    "### 排序实现的随机抽样\n",
    "  - take()\n",
    "  - np.random.permutation()"
   ]
  },
  {
   "cell_type": "code",
   "execution_count": 24,
   "id": "5bc5e57e26b1a81a",
   "metadata": {
    "ExecuteTime": {
     "end_time": "2023-12-01T01:41:01.274996Z",
     "start_time": "2023-12-01T01:41:01.178602Z"
    }
   },
   "outputs": [
    {
     "data": {
      "text/html": [
       "<div>\n",
       "<style scoped>\n",
       "    .dataframe tbody tr th:only-of-type {\n",
       "        vertical-align: middle;\n",
       "    }\n",
       "\n",
       "    .dataframe tbody tr th {\n",
       "        vertical-align: top;\n",
       "    }\n",
       "\n",
       "    .dataframe thead th {\n",
       "        text-align: right;\n",
       "    }\n",
       "</style>\n",
       "<table border=\"1\" class=\"dataframe\">\n",
       "  <thead>\n",
       "    <tr style=\"text-align: right;\">\n",
       "      <th></th>\n",
       "      <th>A</th>\n",
       "      <th>B</th>\n",
       "      <th>C</th>\n",
       "    </tr>\n",
       "  </thead>\n",
       "  <tbody>\n",
       "    <tr>\n",
       "      <th>0</th>\n",
       "      <td>60</td>\n",
       "      <td>34</td>\n",
       "      <td>68</td>\n",
       "    </tr>\n",
       "    <tr>\n",
       "      <th>1</th>\n",
       "      <td>73</td>\n",
       "      <td>25</td>\n",
       "      <td>73</td>\n",
       "    </tr>\n",
       "    <tr>\n",
       "      <th>2</th>\n",
       "      <td>54</td>\n",
       "      <td>87</td>\n",
       "      <td>81</td>\n",
       "    </tr>\n",
       "    <tr>\n",
       "      <th>3</th>\n",
       "      <td>51</td>\n",
       "      <td>12</td>\n",
       "      <td>6</td>\n",
       "    </tr>\n",
       "    <tr>\n",
       "      <th>4</th>\n",
       "      <td>47</td>\n",
       "      <td>84</td>\n",
       "      <td>6</td>\n",
       "    </tr>\n",
       "    <tr>\n",
       "      <th>...</th>\n",
       "      <td>...</td>\n",
       "      <td>...</td>\n",
       "      <td>...</td>\n",
       "    </tr>\n",
       "    <tr>\n",
       "      <th>95</th>\n",
       "      <td>75</td>\n",
       "      <td>77</td>\n",
       "      <td>53</td>\n",
       "    </tr>\n",
       "    <tr>\n",
       "      <th>96</th>\n",
       "      <td>99</td>\n",
       "      <td>84</td>\n",
       "      <td>17</td>\n",
       "    </tr>\n",
       "    <tr>\n",
       "      <th>97</th>\n",
       "      <td>92</td>\n",
       "      <td>34</td>\n",
       "      <td>27</td>\n",
       "    </tr>\n",
       "    <tr>\n",
       "      <th>98</th>\n",
       "      <td>45</td>\n",
       "      <td>48</td>\n",
       "      <td>99</td>\n",
       "    </tr>\n",
       "    <tr>\n",
       "      <th>99</th>\n",
       "      <td>20</td>\n",
       "      <td>90</td>\n",
       "      <td>22</td>\n",
       "    </tr>\n",
       "  </tbody>\n",
       "</table>\n",
       "<p>100 rows × 3 columns</p>\n",
       "</div>"
      ],
      "text/plain": [
       "     A   B   C\n",
       "0   60  34  68\n",
       "1   73  25  73\n",
       "2   54  87  81\n",
       "3   51  12   6\n",
       "4   47  84   6\n",
       "..  ..  ..  ..\n",
       "95  75  77  53\n",
       "96  99  84  17\n",
       "97  92  34  27\n",
       "98  45  48  99\n",
       "99  20  90  22\n",
       "\n",
       "[100 rows x 3 columns]"
      ]
     },
     "execution_count": 24,
     "metadata": {},
     "output_type": "execute_result"
    }
   ],
   "source": [
    "df = DataFrame(np.random.randint(0,100,size=(100,3)),columns=['A','B','C'])\n",
    "df"
   ]
  },
  {
   "cell_type": "code",
   "execution_count": 25,
   "id": "d1beef821b77ba4d",
   "metadata": {
    "ExecuteTime": {
     "end_time": "2023-12-01T01:41:01.285395Z",
     "start_time": "2023-12-01T01:41:01.194963Z"
    }
   },
   "outputs": [
    {
     "data": {
      "text/plain": [
       "array([61, 60, 70, 92, 82, 12,  2, 47, 74,  5, 31, 95, 62, 32, 22, 45, 79,\n",
       "       41, 57, 15, 80,  6, 65, 54, 98, 13, 43,  9, 67, 17, 48, 75, 91, 68,\n",
       "       29, 55, 11, 69, 21, 99, 30, 96, 14, 46, 50, 44, 33, 77, 51, 94, 72,\n",
       "       63, 40, 42, 84, 37, 34, 27, 20, 26, 73, 52, 78, 76, 24, 28, 10,  4,\n",
       "       16, 87, 18, 58,  7, 89, 86,  1, 53,  8, 49,  0, 36, 19, 39, 38, 93,\n",
       "       90, 85, 25,  3, 83, 59, 66, 23, 81, 71, 88, 64, 56, 97, 35])"
      ]
     },
     "execution_count": 25,
     "metadata": {},
     "output_type": "execute_result"
    }
   ],
   "source": [
    "np.random.permutation(100) # 生成一个0-99的随机排列"
   ]
  },
  {
   "cell_type": "code",
   "execution_count": 26,
   "id": "f0749621c6e7d340",
   "metadata": {
    "ExecuteTime": {
     "end_time": "2023-12-01T01:41:01.305518Z",
     "start_time": "2023-12-01T01:41:01.207205Z"
    }
   },
   "outputs": [
    {
     "data": {
      "text/html": [
       "<div>\n",
       "<style scoped>\n",
       "    .dataframe tbody tr th:only-of-type {\n",
       "        vertical-align: middle;\n",
       "    }\n",
       "\n",
       "    .dataframe tbody tr th {\n",
       "        vertical-align: top;\n",
       "    }\n",
       "\n",
       "    .dataframe thead th {\n",
       "        text-align: right;\n",
       "    }\n",
       "</style>\n",
       "<table border=\"1\" class=\"dataframe\">\n",
       "  <thead>\n",
       "    <tr style=\"text-align: right;\">\n",
       "      <th></th>\n",
       "      <th>C</th>\n",
       "      <th>A</th>\n",
       "      <th>B</th>\n",
       "    </tr>\n",
       "  </thead>\n",
       "  <tbody>\n",
       "    <tr>\n",
       "      <th>0</th>\n",
       "      <td>68</td>\n",
       "      <td>60</td>\n",
       "      <td>34</td>\n",
       "    </tr>\n",
       "    <tr>\n",
       "      <th>1</th>\n",
       "      <td>73</td>\n",
       "      <td>73</td>\n",
       "      <td>25</td>\n",
       "    </tr>\n",
       "    <tr>\n",
       "      <th>2</th>\n",
       "      <td>81</td>\n",
       "      <td>54</td>\n",
       "      <td>87</td>\n",
       "    </tr>\n",
       "    <tr>\n",
       "      <th>3</th>\n",
       "      <td>6</td>\n",
       "      <td>51</td>\n",
       "      <td>12</td>\n",
       "    </tr>\n",
       "    <tr>\n",
       "      <th>4</th>\n",
       "      <td>6</td>\n",
       "      <td>47</td>\n",
       "      <td>84</td>\n",
       "    </tr>\n",
       "    <tr>\n",
       "      <th>...</th>\n",
       "      <td>...</td>\n",
       "      <td>...</td>\n",
       "      <td>...</td>\n",
       "    </tr>\n",
       "    <tr>\n",
       "      <th>95</th>\n",
       "      <td>53</td>\n",
       "      <td>75</td>\n",
       "      <td>77</td>\n",
       "    </tr>\n",
       "    <tr>\n",
       "      <th>96</th>\n",
       "      <td>17</td>\n",
       "      <td>99</td>\n",
       "      <td>84</td>\n",
       "    </tr>\n",
       "    <tr>\n",
       "      <th>97</th>\n",
       "      <td>27</td>\n",
       "      <td>92</td>\n",
       "      <td>34</td>\n",
       "    </tr>\n",
       "    <tr>\n",
       "      <th>98</th>\n",
       "      <td>99</td>\n",
       "      <td>45</td>\n",
       "      <td>48</td>\n",
       "    </tr>\n",
       "    <tr>\n",
       "      <th>99</th>\n",
       "      <td>22</td>\n",
       "      <td>20</td>\n",
       "      <td>90</td>\n",
       "    </tr>\n",
       "  </tbody>\n",
       "</table>\n",
       "<p>100 rows × 3 columns</p>\n",
       "</div>"
      ],
      "text/plain": [
       "     C   A   B\n",
       "0   68  60  34\n",
       "1   73  73  25\n",
       "2   81  54  87\n",
       "3    6  51  12\n",
       "4    6  47  84\n",
       "..  ..  ..  ..\n",
       "95  53  75  77\n",
       "96  17  99  84\n",
       "97  27  92  34\n",
       "98  99  45  48\n",
       "99  22  20  90\n",
       "\n",
       "[100 rows x 3 columns]"
      ]
     },
     "execution_count": 26,
     "metadata": {},
     "output_type": "execute_result"
    }
   ],
   "source": [
    "# 将原始数据打乱\n",
    "df.take([2,0,1],axis=1) # axis=1表示按照列进行打乱"
   ]
  },
  {
   "cell_type": "code",
   "execution_count": 27,
   "id": "47ef9f588fdc5f45",
   "metadata": {
    "ExecuteTime": {
     "end_time": "2023-12-01T01:41:01.381911Z",
     "start_time": "2023-12-01T01:41:01.216506Z"
    }
   },
   "outputs": [
    {
     "data": {
      "text/html": [
       "<div>\n",
       "<style scoped>\n",
       "    .dataframe tbody tr th:only-of-type {\n",
       "        vertical-align: middle;\n",
       "    }\n",
       "\n",
       "    .dataframe tbody tr th {\n",
       "        vertical-align: top;\n",
       "    }\n",
       "\n",
       "    .dataframe thead th {\n",
       "        text-align: right;\n",
       "    }\n",
       "</style>\n",
       "<table border=\"1\" class=\"dataframe\">\n",
       "  <thead>\n",
       "    <tr style=\"text-align: right;\">\n",
       "      <th></th>\n",
       "      <th>C</th>\n",
       "      <th>A</th>\n",
       "      <th>B</th>\n",
       "    </tr>\n",
       "  </thead>\n",
       "  <tbody>\n",
       "    <tr>\n",
       "      <th>7</th>\n",
       "      <td>54</td>\n",
       "      <td>87</td>\n",
       "      <td>31</td>\n",
       "    </tr>\n",
       "    <tr>\n",
       "      <th>75</th>\n",
       "      <td>96</td>\n",
       "      <td>33</td>\n",
       "      <td>25</td>\n",
       "    </tr>\n",
       "    <tr>\n",
       "      <th>43</th>\n",
       "      <td>41</td>\n",
       "      <td>84</td>\n",
       "      <td>7</td>\n",
       "    </tr>\n",
       "    <tr>\n",
       "      <th>62</th>\n",
       "      <td>98</td>\n",
       "      <td>82</td>\n",
       "      <td>23</td>\n",
       "    </tr>\n",
       "    <tr>\n",
       "      <th>48</th>\n",
       "      <td>7</td>\n",
       "      <td>19</td>\n",
       "      <td>65</td>\n",
       "    </tr>\n",
       "    <tr>\n",
       "      <th>0</th>\n",
       "      <td>68</td>\n",
       "      <td>60</td>\n",
       "      <td>34</td>\n",
       "    </tr>\n",
       "    <tr>\n",
       "      <th>69</th>\n",
       "      <td>33</td>\n",
       "      <td>76</td>\n",
       "      <td>7</td>\n",
       "    </tr>\n",
       "    <tr>\n",
       "      <th>78</th>\n",
       "      <td>10</td>\n",
       "      <td>85</td>\n",
       "      <td>45</td>\n",
       "    </tr>\n",
       "    <tr>\n",
       "      <th>56</th>\n",
       "      <td>66</td>\n",
       "      <td>27</td>\n",
       "      <td>23</td>\n",
       "    </tr>\n",
       "    <tr>\n",
       "      <th>1</th>\n",
       "      <td>73</td>\n",
       "      <td>73</td>\n",
       "      <td>25</td>\n",
       "    </tr>\n",
       "    <tr>\n",
       "      <th>22</th>\n",
       "      <td>8</td>\n",
       "      <td>78</td>\n",
       "      <td>76</td>\n",
       "    </tr>\n",
       "    <tr>\n",
       "      <th>50</th>\n",
       "      <td>58</td>\n",
       "      <td>55</td>\n",
       "      <td>65</td>\n",
       "    </tr>\n",
       "    <tr>\n",
       "      <th>67</th>\n",
       "      <td>69</td>\n",
       "      <td>76</td>\n",
       "      <td>27</td>\n",
       "    </tr>\n",
       "    <tr>\n",
       "      <th>70</th>\n",
       "      <td>3</td>\n",
       "      <td>43</td>\n",
       "      <td>78</td>\n",
       "    </tr>\n",
       "    <tr>\n",
       "      <th>44</th>\n",
       "      <td>89</td>\n",
       "      <td>15</td>\n",
       "      <td>60</td>\n",
       "    </tr>\n",
       "    <tr>\n",
       "      <th>73</th>\n",
       "      <td>17</td>\n",
       "      <td>69</td>\n",
       "      <td>42</td>\n",
       "    </tr>\n",
       "    <tr>\n",
       "      <th>18</th>\n",
       "      <td>10</td>\n",
       "      <td>87</td>\n",
       "      <td>3</td>\n",
       "    </tr>\n",
       "    <tr>\n",
       "      <th>82</th>\n",
       "      <td>18</td>\n",
       "      <td>88</td>\n",
       "      <td>73</td>\n",
       "    </tr>\n",
       "    <tr>\n",
       "      <th>37</th>\n",
       "      <td>75</td>\n",
       "      <td>7</td>\n",
       "      <td>50</td>\n",
       "    </tr>\n",
       "    <tr>\n",
       "      <th>42</th>\n",
       "      <td>93</td>\n",
       "      <td>11</td>\n",
       "      <td>28</td>\n",
       "    </tr>\n",
       "    <tr>\n",
       "      <th>58</th>\n",
       "      <td>31</td>\n",
       "      <td>7</td>\n",
       "      <td>82</td>\n",
       "    </tr>\n",
       "    <tr>\n",
       "      <th>29</th>\n",
       "      <td>59</td>\n",
       "      <td>59</td>\n",
       "      <td>57</td>\n",
       "    </tr>\n",
       "    <tr>\n",
       "      <th>3</th>\n",
       "      <td>6</td>\n",
       "      <td>51</td>\n",
       "      <td>12</td>\n",
       "    </tr>\n",
       "    <tr>\n",
       "      <th>16</th>\n",
       "      <td>8</td>\n",
       "      <td>85</td>\n",
       "      <td>0</td>\n",
       "    </tr>\n",
       "    <tr>\n",
       "      <th>89</th>\n",
       "      <td>24</td>\n",
       "      <td>61</td>\n",
       "      <td>23</td>\n",
       "    </tr>\n",
       "    <tr>\n",
       "      <th>40</th>\n",
       "      <td>4</td>\n",
       "      <td>20</td>\n",
       "      <td>58</td>\n",
       "    </tr>\n",
       "    <tr>\n",
       "      <th>97</th>\n",
       "      <td>27</td>\n",
       "      <td>92</td>\n",
       "      <td>34</td>\n",
       "    </tr>\n",
       "    <tr>\n",
       "      <th>77</th>\n",
       "      <td>23</td>\n",
       "      <td>34</td>\n",
       "      <td>44</td>\n",
       "    </tr>\n",
       "    <tr>\n",
       "      <th>53</th>\n",
       "      <td>49</td>\n",
       "      <td>87</td>\n",
       "      <td>72</td>\n",
       "    </tr>\n",
       "    <tr>\n",
       "      <th>11</th>\n",
       "      <td>76</td>\n",
       "      <td>22</td>\n",
       "      <td>1</td>\n",
       "    </tr>\n",
       "    <tr>\n",
       "      <th>30</th>\n",
       "      <td>36</td>\n",
       "      <td>83</td>\n",
       "      <td>2</td>\n",
       "    </tr>\n",
       "    <tr>\n",
       "      <th>32</th>\n",
       "      <td>33</td>\n",
       "      <td>81</td>\n",
       "      <td>41</td>\n",
       "    </tr>\n",
       "    <tr>\n",
       "      <th>98</th>\n",
       "      <td>99</td>\n",
       "      <td>45</td>\n",
       "      <td>48</td>\n",
       "    </tr>\n",
       "    <tr>\n",
       "      <th>59</th>\n",
       "      <td>75</td>\n",
       "      <td>14</td>\n",
       "      <td>99</td>\n",
       "    </tr>\n",
       "    <tr>\n",
       "      <th>74</th>\n",
       "      <td>5</td>\n",
       "      <td>88</td>\n",
       "      <td>7</td>\n",
       "    </tr>\n",
       "    <tr>\n",
       "      <th>45</th>\n",
       "      <td>88</td>\n",
       "      <td>10</td>\n",
       "      <td>51</td>\n",
       "    </tr>\n",
       "    <tr>\n",
       "      <th>83</th>\n",
       "      <td>90</td>\n",
       "      <td>3</td>\n",
       "      <td>63</td>\n",
       "    </tr>\n",
       "    <tr>\n",
       "      <th>91</th>\n",
       "      <td>11</td>\n",
       "      <td>11</td>\n",
       "      <td>56</td>\n",
       "    </tr>\n",
       "    <tr>\n",
       "      <th>26</th>\n",
       "      <td>80</td>\n",
       "      <td>95</td>\n",
       "      <td>8</td>\n",
       "    </tr>\n",
       "    <tr>\n",
       "      <th>2</th>\n",
       "      <td>81</td>\n",
       "      <td>54</td>\n",
       "      <td>87</td>\n",
       "    </tr>\n",
       "    <tr>\n",
       "      <th>80</th>\n",
       "      <td>64</td>\n",
       "      <td>63</td>\n",
       "      <td>72</td>\n",
       "    </tr>\n",
       "    <tr>\n",
       "      <th>88</th>\n",
       "      <td>47</td>\n",
       "      <td>92</td>\n",
       "      <td>69</td>\n",
       "    </tr>\n",
       "    <tr>\n",
       "      <th>28</th>\n",
       "      <td>45</td>\n",
       "      <td>78</td>\n",
       "      <td>58</td>\n",
       "    </tr>\n",
       "    <tr>\n",
       "      <th>20</th>\n",
       "      <td>80</td>\n",
       "      <td>21</td>\n",
       "      <td>90</td>\n",
       "    </tr>\n",
       "    <tr>\n",
       "      <th>79</th>\n",
       "      <td>26</td>\n",
       "      <td>20</td>\n",
       "      <td>84</td>\n",
       "    </tr>\n",
       "    <tr>\n",
       "      <th>24</th>\n",
       "      <td>20</td>\n",
       "      <td>95</td>\n",
       "      <td>16</td>\n",
       "    </tr>\n",
       "    <tr>\n",
       "      <th>63</th>\n",
       "      <td>93</td>\n",
       "      <td>67</td>\n",
       "      <td>28</td>\n",
       "    </tr>\n",
       "    <tr>\n",
       "      <th>72</th>\n",
       "      <td>53</td>\n",
       "      <td>47</td>\n",
       "      <td>73</td>\n",
       "    </tr>\n",
       "    <tr>\n",
       "      <th>68</th>\n",
       "      <td>59</td>\n",
       "      <td>58</td>\n",
       "      <td>7</td>\n",
       "    </tr>\n",
       "    <tr>\n",
       "      <th>6</th>\n",
       "      <td>79</td>\n",
       "      <td>64</td>\n",
       "      <td>59</td>\n",
       "    </tr>\n",
       "  </tbody>\n",
       "</table>\n",
       "</div>"
      ],
      "text/plain": [
       "     C   A   B\n",
       "7   54  87  31\n",
       "75  96  33  25\n",
       "43  41  84   7\n",
       "62  98  82  23\n",
       "48   7  19  65\n",
       "0   68  60  34\n",
       "69  33  76   7\n",
       "78  10  85  45\n",
       "56  66  27  23\n",
       "1   73  73  25\n",
       "22   8  78  76\n",
       "50  58  55  65\n",
       "67  69  76  27\n",
       "70   3  43  78\n",
       "44  89  15  60\n",
       "73  17  69  42\n",
       "18  10  87   3\n",
       "82  18  88  73\n",
       "37  75   7  50\n",
       "42  93  11  28\n",
       "58  31   7  82\n",
       "29  59  59  57\n",
       "3    6  51  12\n",
       "16   8  85   0\n",
       "89  24  61  23\n",
       "40   4  20  58\n",
       "97  27  92  34\n",
       "77  23  34  44\n",
       "53  49  87  72\n",
       "11  76  22   1\n",
       "30  36  83   2\n",
       "32  33  81  41\n",
       "98  99  45  48\n",
       "59  75  14  99\n",
       "74   5  88   7\n",
       "45  88  10  51\n",
       "83  90   3  63\n",
       "91  11  11  56\n",
       "26  80  95   8\n",
       "2   81  54  87\n",
       "80  64  63  72\n",
       "88  47  92  69\n",
       "28  45  78  58\n",
       "20  80  21  90\n",
       "79  26  20  84\n",
       "24  20  95  16\n",
       "63  93  67  28\n",
       "72  53  47  73\n",
       "68  59  58   7\n",
       "6   79  64  59"
      ]
     },
     "execution_count": 27,
     "metadata": {},
     "output_type": "execute_result"
    }
   ],
   "source": [
    "# 将行和列都打乱,并且随机抽取50行\n",
    "df.take(np.random.permutation(3),axis=1).take(np.random.permutation(100),axis=0)[0:50]\n"
   ]
  },
  {
   "cell_type": "markdown",
   "id": "c22f1efda98102ff",
   "metadata": {},
   "source": [
    "### 数据的分类处理\n",
    "  - 数据分类处理的核心\n",
    "    - groupby()\n",
    "    - groups属性查看分组情况"
   ]
  },
  {
   "cell_type": "code",
   "execution_count": 28,
   "id": "4cb5372b0d4a2a27",
   "metadata": {
    "ExecuteTime": {
     "end_time": "2023-12-01T01:41:01.383140Z",
     "start_time": "2023-12-01T01:41:01.249040Z"
    }
   },
   "outputs": [
    {
     "data": {
      "text/html": [
       "<div>\n",
       "<style scoped>\n",
       "    .dataframe tbody tr th:only-of-type {\n",
       "        vertical-align: middle;\n",
       "    }\n",
       "\n",
       "    .dataframe tbody tr th {\n",
       "        vertical-align: top;\n",
       "    }\n",
       "\n",
       "    .dataframe thead th {\n",
       "        text-align: right;\n",
       "    }\n",
       "</style>\n",
       "<table border=\"1\" class=\"dataframe\">\n",
       "  <thead>\n",
       "    <tr style=\"text-align: right;\">\n",
       "      <th></th>\n",
       "      <th>item</th>\n",
       "      <th>price</th>\n",
       "      <th>color</th>\n",
       "      <th>weight</th>\n",
       "    </tr>\n",
       "  </thead>\n",
       "  <tbody>\n",
       "    <tr>\n",
       "      <th>0</th>\n",
       "      <td>苹果</td>\n",
       "      <td>4.0</td>\n",
       "      <td>red</td>\n",
       "      <td>12</td>\n",
       "    </tr>\n",
       "    <tr>\n",
       "      <th>1</th>\n",
       "      <td>香蕉</td>\n",
       "      <td>3.0</td>\n",
       "      <td>yellow</td>\n",
       "      <td>20</td>\n",
       "    </tr>\n",
       "    <tr>\n",
       "      <th>2</th>\n",
       "      <td>橘子</td>\n",
       "      <td>3.5</td>\n",
       "      <td>yellow</td>\n",
       "      <td>21</td>\n",
       "    </tr>\n",
       "    <tr>\n",
       "      <th>3</th>\n",
       "      <td>苹果</td>\n",
       "      <td>4.5</td>\n",
       "      <td>green</td>\n",
       "      <td>15</td>\n",
       "    </tr>\n",
       "    <tr>\n",
       "      <th>4</th>\n",
       "      <td>香蕉</td>\n",
       "      <td>3.2</td>\n",
       "      <td>green</td>\n",
       "      <td>16</td>\n",
       "    </tr>\n",
       "    <tr>\n",
       "      <th>5</th>\n",
       "      <td>橘子</td>\n",
       "      <td>3.8</td>\n",
       "      <td>yellow</td>\n",
       "      <td>19</td>\n",
       "    </tr>\n",
       "  </tbody>\n",
       "</table>\n",
       "</div>"
      ],
      "text/plain": [
       "  item  price   color  weight\n",
       "0   苹果    4.0     red      12\n",
       "1   香蕉    3.0  yellow      20\n",
       "2   橘子    3.5  yellow      21\n",
       "3   苹果    4.5   green      15\n",
       "4   香蕉    3.2   green      16\n",
       "5   橘子    3.8  yellow      19"
      ]
     },
     "execution_count": 28,
     "metadata": {},
     "output_type": "execute_result"
    }
   ],
   "source": [
    "df = DataFrame({'item':['苹果','香蕉','橘子','苹果','香蕉','橘子'],\n",
    "                'price':[4,3,3.5,4.5,3.2,3.8],\n",
    "                'color':['red','yellow','yellow','green','green','yellow'],\n",
    "                'weight':[12,20,21,15,16,19]})\n",
    "df"
   ]
  },
  {
   "cell_type": "code",
   "execution_count": 29,
   "id": "4176256d6c9b1929",
   "metadata": {
    "ExecuteTime": {
     "end_time": "2023-12-01T01:41:01.384573Z",
     "start_time": "2023-12-01T01:41:01.271611Z"
    }
   },
   "outputs": [
    {
     "data": {
      "text/plain": [
       "<pandas.core.groupby.generic.DataFrameGroupBy object at 0x7f7eca218520>"
      ]
     },
     "execution_count": 29,
     "metadata": {},
     "output_type": "execute_result"
    }
   ],
   "source": [
    "# 对水果的种类进行分组\n",
    "df.groupby(by='item')"
   ]
  },
  {
   "cell_type": "code",
   "execution_count": 30,
   "id": "968555ac77916182",
   "metadata": {
    "ExecuteTime": {
     "end_time": "2023-12-01T01:41:01.386026Z",
     "start_time": "2023-12-01T01:41:01.288656Z"
    }
   },
   "outputs": [
    {
     "data": {
      "text/plain": [
       "{'橘子': [2, 5], '苹果': [0, 3], '香蕉': [1, 4]}"
      ]
     },
     "execution_count": 30,
     "metadata": {},
     "output_type": "execute_result"
    }
   ],
   "source": [
    "# 查看详细的分组情况\n",
    "df.groupby(by='item').groups"
   ]
  },
  {
   "cell_type": "code",
   "execution_count": 31,
   "id": "9edb10ec12d7d57a",
   "metadata": {
    "ExecuteTime": {
     "end_time": "2023-12-01T01:41:01.386162Z",
     "start_time": "2023-12-01T01:41:01.307780Z"
    }
   },
   "outputs": [
    {
     "data": {
      "text/plain": [
       "item\n",
       "橘子    3.65\n",
       "苹果    4.25\n",
       "香蕉    3.10\n",
       "Name: price, dtype: float64"
      ]
     },
     "execution_count": 31,
     "metadata": {},
     "output_type": "execute_result"
    }
   ],
   "source": [
    "# 计算出每一种水果的平均价值\n",
    "df.groupby(by='item')['price'].mean()"
   ]
  },
  {
   "cell_type": "code",
   "execution_count": 32,
   "id": "418c96271810ead4",
   "metadata": {
    "ExecuteTime": {
     "end_time": "2023-12-01T01:41:01.386240Z",
     "start_time": "2023-12-01T01:41:01.323914Z"
    }
   },
   "outputs": [
    {
     "data": {
      "text/plain": [
       "color\n",
       "green     15.5\n",
       "red       12.0\n",
       "yellow    20.0\n",
       "Name: weight, dtype: float64"
      ]
     },
     "execution_count": 32,
     "metadata": {},
     "output_type": "execute_result"
    }
   ],
   "source": [
    "# 计算每一种颜色对应水果的平均重量\n",
    "df.groupby(by='color')['weight'].mean()"
   ]
  },
  {
   "cell_type": "code",
   "execution_count": 33,
   "id": "1ca7228303ce05f",
   "metadata": {
    "ExecuteTime": {
     "end_time": "2023-12-01T01:41:01.429814Z",
     "start_time": "2023-12-01T01:41:01.348610Z"
    }
   },
   "outputs": [
    {
     "data": {
      "text/html": [
       "<div>\n",
       "<style scoped>\n",
       "    .dataframe tbody tr th:only-of-type {\n",
       "        vertical-align: middle;\n",
       "    }\n",
       "\n",
       "    .dataframe tbody tr th {\n",
       "        vertical-align: top;\n",
       "    }\n",
       "\n",
       "    .dataframe thead th {\n",
       "        text-align: right;\n",
       "    }\n",
       "</style>\n",
       "<table border=\"1\" class=\"dataframe\">\n",
       "  <thead>\n",
       "    <tr style=\"text-align: right;\">\n",
       "      <th></th>\n",
       "      <th>item</th>\n",
       "      <th>price</th>\n",
       "      <th>color</th>\n",
       "      <th>weight</th>\n",
       "    </tr>\n",
       "  </thead>\n",
       "  <tbody>\n",
       "    <tr>\n",
       "      <th>0</th>\n",
       "      <td>苹果</td>\n",
       "      <td>4.0</td>\n",
       "      <td>red</td>\n",
       "      <td>12</td>\n",
       "    </tr>\n",
       "    <tr>\n",
       "      <th>1</th>\n",
       "      <td>香蕉</td>\n",
       "      <td>3.0</td>\n",
       "      <td>yellow</td>\n",
       "      <td>20</td>\n",
       "    </tr>\n",
       "    <tr>\n",
       "      <th>2</th>\n",
       "      <td>橘子</td>\n",
       "      <td>3.5</td>\n",
       "      <td>yellow</td>\n",
       "      <td>21</td>\n",
       "    </tr>\n",
       "    <tr>\n",
       "      <th>3</th>\n",
       "      <td>苹果</td>\n",
       "      <td>4.5</td>\n",
       "      <td>green</td>\n",
       "      <td>15</td>\n",
       "    </tr>\n",
       "    <tr>\n",
       "      <th>4</th>\n",
       "      <td>香蕉</td>\n",
       "      <td>3.2</td>\n",
       "      <td>green</td>\n",
       "      <td>16</td>\n",
       "    </tr>\n",
       "    <tr>\n",
       "      <th>5</th>\n",
       "      <td>橘子</td>\n",
       "      <td>3.8</td>\n",
       "      <td>yellow</td>\n",
       "      <td>19</td>\n",
       "    </tr>\n",
       "  </tbody>\n",
       "</table>\n",
       "</div>"
      ],
      "text/plain": [
       "  item  price   color  weight\n",
       "0   苹果    4.0     red      12\n",
       "1   香蕉    3.0  yellow      20\n",
       "2   橘子    3.5  yellow      21\n",
       "3   苹果    4.5   green      15\n",
       "4   香蕉    3.2   green      16\n",
       "5   橘子    3.8  yellow      19"
      ]
     },
     "execution_count": 33,
     "metadata": {},
     "output_type": "execute_result"
    }
   ],
   "source": [
    "df"
   ]
  },
  {
   "cell_type": "code",
   "execution_count": 34,
   "id": "543c2b849cf47657",
   "metadata": {
    "ExecuteTime": {
     "end_time": "2023-12-01T01:41:01.446108Z",
     "start_time": "2023-12-01T01:41:01.386257Z"
    }
   },
   "outputs": [
    {
     "data": {
      "text/html": [
       "<div>\n",
       "<style scoped>\n",
       "    .dataframe tbody tr th:only-of-type {\n",
       "        vertical-align: middle;\n",
       "    }\n",
       "\n",
       "    .dataframe tbody tr th {\n",
       "        vertical-align: top;\n",
       "    }\n",
       "\n",
       "    .dataframe thead th {\n",
       "        text-align: right;\n",
       "    }\n",
       "</style>\n",
       "<table border=\"1\" class=\"dataframe\">\n",
       "  <thead>\n",
       "    <tr style=\"text-align: right;\">\n",
       "      <th></th>\n",
       "      <th>item</th>\n",
       "      <th>price</th>\n",
       "      <th>color</th>\n",
       "      <th>weight</th>\n",
       "      <th>总数据</th>\n",
       "    </tr>\n",
       "  </thead>\n",
       "  <tbody>\n",
       "    <tr>\n",
       "      <th>0</th>\n",
       "      <td>苹果</td>\n",
       "      <td>4.0</td>\n",
       "      <td>red</td>\n",
       "      <td>12</td>\n",
       "      <td>12.0</td>\n",
       "    </tr>\n",
       "    <tr>\n",
       "      <th>1</th>\n",
       "      <td>香蕉</td>\n",
       "      <td>3.0</td>\n",
       "      <td>yellow</td>\n",
       "      <td>20</td>\n",
       "      <td>20.0</td>\n",
       "    </tr>\n",
       "    <tr>\n",
       "      <th>2</th>\n",
       "      <td>橘子</td>\n",
       "      <td>3.5</td>\n",
       "      <td>yellow</td>\n",
       "      <td>21</td>\n",
       "      <td>20.0</td>\n",
       "    </tr>\n",
       "    <tr>\n",
       "      <th>3</th>\n",
       "      <td>苹果</td>\n",
       "      <td>4.5</td>\n",
       "      <td>green</td>\n",
       "      <td>15</td>\n",
       "      <td>15.5</td>\n",
       "    </tr>\n",
       "    <tr>\n",
       "      <th>4</th>\n",
       "      <td>香蕉</td>\n",
       "      <td>3.2</td>\n",
       "      <td>green</td>\n",
       "      <td>16</td>\n",
       "      <td>15.5</td>\n",
       "    </tr>\n",
       "    <tr>\n",
       "      <th>5</th>\n",
       "      <td>橘子</td>\n",
       "      <td>3.8</td>\n",
       "      <td>yellow</td>\n",
       "      <td>19</td>\n",
       "      <td>20.0</td>\n",
       "    </tr>\n",
       "  </tbody>\n",
       "</table>\n",
       "</div>"
      ],
      "text/plain": [
       "  item  price   color  weight   总数据\n",
       "0   苹果    4.0     red      12  12.0\n",
       "1   香蕉    3.0  yellow      20  20.0\n",
       "2   橘子    3.5  yellow      21  20.0\n",
       "3   苹果    4.5   green      15  15.5\n",
       "4   香蕉    3.2   green      16  15.5\n",
       "5   橘子    3.8  yellow      19  20.0"
      ]
     },
     "execution_count": 34,
     "metadata": {},
     "output_type": "execute_result"
    }
   ],
   "source": [
    "# 将计算出的平均重量汇总到源数据\n",
    "df_dic = df.groupby(by='color')['weight'].mean().to_dict() # to_dict()将Series转换为字典\n",
    "df['总数据'] = df['color'].map(df_dic)\n",
    "df"
   ]
  },
  {
   "cell_type": "markdown",
   "id": "8b9b9c80cdbf087c",
   "metadata": {},
   "source": [
    "### 高级数据聚合\n",
    "  - 使用groupby()分组后,也可以使用transform()和apply()提供自定义函数实现更多运算\n",
    "  - df.groupby('item')['price'].sum() <==> df.groupby('item')['price'].apply(sum)\n",
    "  - transform()和apply()都可以进行运算\n",
    "  - transform()和apply()也可以传入一个lambda表达式 "
   ]
  },
  {
   "cell_type": "code",
   "execution_count": 35,
   "id": "1bd7ee41643d6666",
   "metadata": {
    "ExecuteTime": {
     "end_time": "2023-12-01T01:41:01.539517Z",
     "start_time": "2023-12-01T01:41:01.388422Z"
    }
   },
   "outputs": [],
   "source": [
    "def sup_sum(a):\n",
    "    summ = 0\n",
    "    for i in a:\n",
    "        summ += i\n",
    "        return summ"
   ]
  },
  {
   "cell_type": "code",
   "execution_count": 36,
   "id": "92dfb2c4b95a995f",
   "metadata": {
    "ExecuteTime": {
     "end_time": "2023-12-01T01:41:01.539759Z",
     "start_time": "2023-12-01T01:41:01.426377Z"
    }
   },
   "outputs": [
    {
     "data": {
      "text/plain": [
       "item\n",
       "橘子    3.5\n",
       "苹果    4.0\n",
       "香蕉    3.0\n",
       "Name: price, dtype: float64"
      ]
     },
     "execution_count": 36,
     "metadata": {},
     "output_type": "execute_result"
    }
   ],
   "source": [
    "# 如果你想要对分组后的数据进行运算调用 my_mean函数, 那么就需要使用apply()函数\n",
    "# 为什么要使用apply()函数呢? 不可以直接.my_mean()吗?\n",
    "# 通常来说,使用“.”来调用方法的话,那么这个方法必须是需要被调用的对象的方法,所以我们需要使用apply()函数或者transform()函数\n",
    "df.groupby(by='item')['price'].apply(sup_sum)"
   ]
  },
  {
   "cell_type": "markdown",
   "id": "237968004bc1f2e6",
   "metadata": {},
   "source": [
    "### 数据加载"
   ]
  },
  {
   "cell_type": "code",
   "execution_count": 37,
   "id": "db97a9addc1f087c",
   "metadata": {
    "ExecuteTime": {
     "end_time": "2023-12-01T01:41:01.997574Z",
     "start_time": "2023-12-01T01:41:01.427821Z"
    }
   },
   "outputs": [
    {
     "data": {
      "text/html": [
       "<div>\n",
       "<style scoped>\n",
       "    .dataframe tbody tr th:only-of-type {\n",
       "        vertical-align: middle;\n",
       "    }\n",
       "\n",
       "    .dataframe tbody tr th {\n",
       "        vertical-align: top;\n",
       "    }\n",
       "\n",
       "    .dataframe thead th {\n",
       "        text-align: right;\n",
       "    }\n",
       "</style>\n",
       "<table border=\"1\" class=\"dataframe\">\n",
       "  <thead>\n",
       "    <tr style=\"text-align: right;\">\n",
       "      <th></th>\n",
       "      <th>20</th>\n",
       "      <th>1</th>\n",
       "      <th>3</th>\n",
       "      <th>Masselmani, Mrs. Fatima</th>\n",
       "      <th>female</th>\n",
       "      <th>Unnamed: 5</th>\n",
       "      <th>0</th>\n",
       "      <th>0.1</th>\n",
       "      <th>2649</th>\n",
       "      <th>7.225</th>\n",
       "      <th>Unnamed: 10</th>\n",
       "      <th>C</th>\n",
       "    </tr>\n",
       "  </thead>\n",
       "  <tbody>\n",
       "    <tr>\n",
       "      <th>0</th>\n",
       "      <td>21</td>\n",
       "      <td>0</td>\n",
       "      <td>2</td>\n",
       "      <td>Fynney, Mr. Joseph J</td>\n",
       "      <td>male</td>\n",
       "      <td>35.0</td>\n",
       "      <td>0</td>\n",
       "      <td>0</td>\n",
       "      <td>239865</td>\n",
       "      <td>26.0000</td>\n",
       "      <td>NaN</td>\n",
       "      <td>S</td>\n",
       "    </tr>\n",
       "    <tr>\n",
       "      <th>1</th>\n",
       "      <td>22</td>\n",
       "      <td>1</td>\n",
       "      <td>2</td>\n",
       "      <td>Beesley, Mr. Lawrence</td>\n",
       "      <td>male</td>\n",
       "      <td>34.0</td>\n",
       "      <td>0</td>\n",
       "      <td>0</td>\n",
       "      <td>248698</td>\n",
       "      <td>13.0000</td>\n",
       "      <td>D56</td>\n",
       "      <td>S</td>\n",
       "    </tr>\n",
       "    <tr>\n",
       "      <th>2</th>\n",
       "      <td>23</td>\n",
       "      <td>1</td>\n",
       "      <td>3</td>\n",
       "      <td>McGowan, Miss. Anna \"Annie\"</td>\n",
       "      <td>female</td>\n",
       "      <td>15.0</td>\n",
       "      <td>0</td>\n",
       "      <td>0</td>\n",
       "      <td>330923</td>\n",
       "      <td>8.0292</td>\n",
       "      <td>NaN</td>\n",
       "      <td>Q</td>\n",
       "    </tr>\n",
       "    <tr>\n",
       "      <th>3</th>\n",
       "      <td>24</td>\n",
       "      <td>1</td>\n",
       "      <td>1</td>\n",
       "      <td>Sloper, Mr. William Thompson</td>\n",
       "      <td>male</td>\n",
       "      <td>28.0</td>\n",
       "      <td>0</td>\n",
       "      <td>0</td>\n",
       "      <td>113788</td>\n",
       "      <td>35.5000</td>\n",
       "      <td>A6</td>\n",
       "      <td>S</td>\n",
       "    </tr>\n",
       "    <tr>\n",
       "      <th>4</th>\n",
       "      <td>25</td>\n",
       "      <td>0</td>\n",
       "      <td>3</td>\n",
       "      <td>Palsson, Miss. Torborg Danira</td>\n",
       "      <td>female</td>\n",
       "      <td>8.0</td>\n",
       "      <td>3</td>\n",
       "      <td>1</td>\n",
       "      <td>349909</td>\n",
       "      <td>21.0750</td>\n",
       "      <td>NaN</td>\n",
       "      <td>S</td>\n",
       "    </tr>\n",
       "    <tr>\n",
       "      <th>...</th>\n",
       "      <td>...</td>\n",
       "      <td>...</td>\n",
       "      <td>...</td>\n",
       "      <td>...</td>\n",
       "      <td>...</td>\n",
       "      <td>...</td>\n",
       "      <td>...</td>\n",
       "      <td>...</td>\n",
       "      <td>...</td>\n",
       "      <td>...</td>\n",
       "      <td>...</td>\n",
       "      <td>...</td>\n",
       "    </tr>\n",
       "    <tr>\n",
       "      <th>866</th>\n",
       "      <td>887</td>\n",
       "      <td>0</td>\n",
       "      <td>2</td>\n",
       "      <td>Montvila, Rev. Juozas</td>\n",
       "      <td>male</td>\n",
       "      <td>27.0</td>\n",
       "      <td>0</td>\n",
       "      <td>0</td>\n",
       "      <td>211536</td>\n",
       "      <td>13.0000</td>\n",
       "      <td>NaN</td>\n",
       "      <td>S</td>\n",
       "    </tr>\n",
       "    <tr>\n",
       "      <th>867</th>\n",
       "      <td>888</td>\n",
       "      <td>1</td>\n",
       "      <td>1</td>\n",
       "      <td>Graham, Miss. Margaret Edith</td>\n",
       "      <td>female</td>\n",
       "      <td>19.0</td>\n",
       "      <td>0</td>\n",
       "      <td>0</td>\n",
       "      <td>112053</td>\n",
       "      <td>30.0000</td>\n",
       "      <td>B42</td>\n",
       "      <td>S</td>\n",
       "    </tr>\n",
       "    <tr>\n",
       "      <th>868</th>\n",
       "      <td>889</td>\n",
       "      <td>0</td>\n",
       "      <td>3</td>\n",
       "      <td>Johnston, Miss. Catherine Helen \"Carrie\"</td>\n",
       "      <td>female</td>\n",
       "      <td>NaN</td>\n",
       "      <td>1</td>\n",
       "      <td>2</td>\n",
       "      <td>W./C. 6607</td>\n",
       "      <td>23.4500</td>\n",
       "      <td>NaN</td>\n",
       "      <td>S</td>\n",
       "    </tr>\n",
       "    <tr>\n",
       "      <th>869</th>\n",
       "      <td>890</td>\n",
       "      <td>1</td>\n",
       "      <td>1</td>\n",
       "      <td>Behr, Mr. Karl Howell</td>\n",
       "      <td>male</td>\n",
       "      <td>26.0</td>\n",
       "      <td>0</td>\n",
       "      <td>0</td>\n",
       "      <td>111369</td>\n",
       "      <td>30.0000</td>\n",
       "      <td>C148</td>\n",
       "      <td>C</td>\n",
       "    </tr>\n",
       "    <tr>\n",
       "      <th>870</th>\n",
       "      <td>891</td>\n",
       "      <td>0</td>\n",
       "      <td>3</td>\n",
       "      <td>Dooley, Mr. Patrick</td>\n",
       "      <td>male</td>\n",
       "      <td>32.0</td>\n",
       "      <td>0</td>\n",
       "      <td>0</td>\n",
       "      <td>370376</td>\n",
       "      <td>7.7500</td>\n",
       "      <td>NaN</td>\n",
       "      <td>Q</td>\n",
       "    </tr>\n",
       "  </tbody>\n",
       "</table>\n",
       "<p>871 rows × 12 columns</p>\n",
       "</div>"
      ],
      "text/plain": [
       "      20  1  3                   Masselmani, Mrs. Fatima  female  Unnamed: 5  \\\n",
       "0     21  0  2                      Fynney, Mr. Joseph J    male        35.0   \n",
       "1     22  1  2                     Beesley, Mr. Lawrence    male        34.0   \n",
       "2     23  1  3               McGowan, Miss. Anna \"Annie\"  female        15.0   \n",
       "3     24  1  1              Sloper, Mr. William Thompson    male        28.0   \n",
       "4     25  0  3             Palsson, Miss. Torborg Danira  female         8.0   \n",
       "..   ... .. ..                                       ...     ...         ...   \n",
       "866  887  0  2                     Montvila, Rev. Juozas    male        27.0   \n",
       "867  888  1  1              Graham, Miss. Margaret Edith  female        19.0   \n",
       "868  889  0  3  Johnston, Miss. Catherine Helen \"Carrie\"  female         NaN   \n",
       "869  890  1  1                     Behr, Mr. Karl Howell    male        26.0   \n",
       "870  891  0  3                       Dooley, Mr. Patrick    male        32.0   \n",
       "\n",
       "     0  0.1        2649    7.225 Unnamed: 10  C  \n",
       "0    0    0      239865  26.0000         NaN  S  \n",
       "1    0    0      248698  13.0000         D56  S  \n",
       "2    0    0      330923   8.0292         NaN  Q  \n",
       "3    0    0      113788  35.5000          A6  S  \n",
       "4    3    1      349909  21.0750         NaN  S  \n",
       "..  ..  ...         ...      ...         ... ..  \n",
       "866  0    0      211536  13.0000         NaN  S  \n",
       "867  0    0      112053  30.0000         B42  S  \n",
       "868  1    2  W./C. 6607  23.4500         NaN  S  \n",
       "869  0    0      111369  30.0000        C148  C  \n",
       "870  0    0      370376   7.7500         NaN  Q  \n",
       "\n",
       "[871 rows x 12 columns]"
      ]
     },
     "execution_count": 37,
     "metadata": {},
     "output_type": "execute_result"
    }
   ],
   "source": [
    "df = pd.read_csv('https://raw.githubusercontent.com/datasciencedojo/datasets/master/titanic.csv',header=20)\n",
    "df"
   ]
  },
  {
   "cell_type": "markdown",
   "id": "7b70eb0b988a2583",
   "metadata": {},
   "source": [
    "- 读取CSV数据"
   ]
  },
  {
   "cell_type": "code",
   "execution_count": 38,
   "id": "5f71dbb1b76b62f8",
   "metadata": {
    "ExecuteTime": {
     "end_time": "2023-12-01T01:41:02.011527Z",
     "start_time": "2023-12-01T01:41:01.999718Z"
    }
   },
   "outputs": [],
   "source": [
    "# 连接数据库,获取连接对象\n",
    "import sqlite3 as sql\n",
    "connet = sql.connect('path')"
   ]
  },
  {
   "cell_type": "code",
   "execution_count": 39,
   "id": "90eab3e44c78af65",
   "metadata": {
    "ExecuteTime": {
     "end_time": "2023-12-01T01:41:02.076913Z",
     "start_time": "2023-12-01T01:41:02.023926Z"
    }
   },
   "outputs": [
    {
     "ename": "DatabaseError",
     "evalue": "Execution failed on sql 'select * from table_name': no such table: table_name",
     "output_type": "error",
     "traceback": [
      "\u001B[0;31m---------------------------------------------------------------------------\u001B[0m",
      "\u001B[0;31mOperationalError\u001B[0m                          Traceback (most recent call last)",
      "\u001B[0;32m/usr/local/lib/python3.8/dist-packages/pandas/io/sql.py\u001B[0m in \u001B[0;36mexecute\u001B[0;34m(self, sql, params)\u001B[0m\n\u001B[1;32m   2201\u001B[0m         \u001B[0;32mtry\u001B[0m\u001B[0;34m:\u001B[0m\u001B[0;34m\u001B[0m\u001B[0;34m\u001B[0m\u001B[0m\n\u001B[0;32m-> 2202\u001B[0;31m             \u001B[0mcur\u001B[0m\u001B[0;34m.\u001B[0m\u001B[0mexecute\u001B[0m\u001B[0;34m(\u001B[0m\u001B[0msql\u001B[0m\u001B[0;34m,\u001B[0m \u001B[0;34m*\u001B[0m\u001B[0margs\u001B[0m\u001B[0;34m)\u001B[0m\u001B[0;34m\u001B[0m\u001B[0;34m\u001B[0m\u001B[0m\n\u001B[0m\u001B[1;32m   2203\u001B[0m             \u001B[0;32mreturn\u001B[0m \u001B[0mcur\u001B[0m\u001B[0;34m\u001B[0m\u001B[0;34m\u001B[0m\u001B[0m\n",
      "\u001B[0;31mOperationalError\u001B[0m: no such table: table_name",
      "\nThe above exception was the direct cause of the following exception:\n",
      "\u001B[0;31mDatabaseError\u001B[0m                             Traceback (most recent call last)",
      "\u001B[0;32m<ipython-input-39-3530eb51663f>\u001B[0m in \u001B[0;36m<module>\u001B[0;34m\u001B[0m\n\u001B[1;32m      1\u001B[0m \u001B[0;31m# 读取数据库中的数据\u001B[0m\u001B[0;34m\u001B[0m\u001B[0;34m\u001B[0m\u001B[0;34m\u001B[0m\u001B[0m\n\u001B[0;32m----> 2\u001B[0;31m \u001B[0msql_df\u001B[0m \u001B[0;34m=\u001B[0m \u001B[0mpd\u001B[0m\u001B[0;34m.\u001B[0m\u001B[0mread_sql\u001B[0m\u001B[0;34m(\u001B[0m\u001B[0;34m'select * from table_name'\u001B[0m\u001B[0;34m,\u001B[0m\u001B[0mcon\u001B[0m\u001B[0;34m=\u001B[0m\u001B[0mconnet\u001B[0m\u001B[0;34m)\u001B[0m\u001B[0;34m\u001B[0m\u001B[0;34m\u001B[0m\u001B[0m\n\u001B[0m",
      "\u001B[0;32m/usr/local/lib/python3.8/dist-packages/pandas/io/sql.py\u001B[0m in \u001B[0;36mread_sql\u001B[0;34m(sql, con, index_col, coerce_float, params, parse_dates, columns, chunksize, dtype_backend, dtype)\u001B[0m\n\u001B[1;32m    633\u001B[0m     \u001B[0;32mwith\u001B[0m \u001B[0mpandasSQL_builder\u001B[0m\u001B[0;34m(\u001B[0m\u001B[0mcon\u001B[0m\u001B[0;34m)\u001B[0m \u001B[0;32mas\u001B[0m \u001B[0mpandas_sql\u001B[0m\u001B[0;34m:\u001B[0m\u001B[0;34m\u001B[0m\u001B[0;34m\u001B[0m\u001B[0m\n\u001B[1;32m    634\u001B[0m         \u001B[0;32mif\u001B[0m \u001B[0misinstance\u001B[0m\u001B[0;34m(\u001B[0m\u001B[0mpandas_sql\u001B[0m\u001B[0;34m,\u001B[0m \u001B[0mSQLiteDatabase\u001B[0m\u001B[0;34m)\u001B[0m\u001B[0;34m:\u001B[0m\u001B[0;34m\u001B[0m\u001B[0;34m\u001B[0m\u001B[0m\n\u001B[0;32m--> 635\u001B[0;31m             return pandas_sql.read_query(\n\u001B[0m\u001B[1;32m    636\u001B[0m                 \u001B[0msql\u001B[0m\u001B[0;34m,\u001B[0m\u001B[0;34m\u001B[0m\u001B[0;34m\u001B[0m\u001B[0m\n\u001B[1;32m    637\u001B[0m                 \u001B[0mindex_col\u001B[0m\u001B[0;34m=\u001B[0m\u001B[0mindex_col\u001B[0m\u001B[0;34m,\u001B[0m\u001B[0;34m\u001B[0m\u001B[0;34m\u001B[0m\u001B[0m\n",
      "\u001B[0;32m/usr/local/lib/python3.8/dist-packages/pandas/io/sql.py\u001B[0m in \u001B[0;36mread_query\u001B[0;34m(self, sql, index_col, coerce_float, parse_dates, params, chunksize, dtype, dtype_backend)\u001B[0m\n\u001B[1;32m   2264\u001B[0m         \u001B[0mdtype_backend\u001B[0m\u001B[0;34m:\u001B[0m \u001B[0mDtypeBackend\u001B[0m \u001B[0;34m|\u001B[0m \u001B[0mLiteral\u001B[0m\u001B[0;34m[\u001B[0m\u001B[0;34m\"numpy\"\u001B[0m\u001B[0;34m]\u001B[0m \u001B[0;34m=\u001B[0m \u001B[0;34m\"numpy\"\u001B[0m\u001B[0;34m,\u001B[0m\u001B[0;34m\u001B[0m\u001B[0;34m\u001B[0m\u001B[0m\n\u001B[1;32m   2265\u001B[0m     ) -> DataFrame | Iterator[DataFrame]:\n\u001B[0;32m-> 2266\u001B[0;31m         \u001B[0mcursor\u001B[0m \u001B[0;34m=\u001B[0m \u001B[0mself\u001B[0m\u001B[0;34m.\u001B[0m\u001B[0mexecute\u001B[0m\u001B[0;34m(\u001B[0m\u001B[0msql\u001B[0m\u001B[0;34m,\u001B[0m \u001B[0mparams\u001B[0m\u001B[0;34m)\u001B[0m\u001B[0;34m\u001B[0m\u001B[0;34m\u001B[0m\u001B[0m\n\u001B[0m\u001B[1;32m   2267\u001B[0m         \u001B[0mcolumns\u001B[0m \u001B[0;34m=\u001B[0m \u001B[0;34m[\u001B[0m\u001B[0mcol_desc\u001B[0m\u001B[0;34m[\u001B[0m\u001B[0;36m0\u001B[0m\u001B[0;34m]\u001B[0m \u001B[0;32mfor\u001B[0m \u001B[0mcol_desc\u001B[0m \u001B[0;32min\u001B[0m \u001B[0mcursor\u001B[0m\u001B[0;34m.\u001B[0m\u001B[0mdescription\u001B[0m\u001B[0;34m]\u001B[0m\u001B[0;34m\u001B[0m\u001B[0;34m\u001B[0m\u001B[0m\n\u001B[1;32m   2268\u001B[0m \u001B[0;34m\u001B[0m\u001B[0m\n",
      "\u001B[0;32m/usr/local/lib/python3.8/dist-packages/pandas/io/sql.py\u001B[0m in \u001B[0;36mexecute\u001B[0;34m(self, sql, params)\u001B[0m\n\u001B[1;32m   2212\u001B[0m \u001B[0;34m\u001B[0m\u001B[0m\n\u001B[1;32m   2213\u001B[0m             \u001B[0mex\u001B[0m \u001B[0;34m=\u001B[0m \u001B[0mDatabaseError\u001B[0m\u001B[0;34m(\u001B[0m\u001B[0;34mf\"Execution failed on sql '{sql}': {exc}\"\u001B[0m\u001B[0;34m)\u001B[0m\u001B[0;34m\u001B[0m\u001B[0;34m\u001B[0m\u001B[0m\n\u001B[0;32m-> 2214\u001B[0;31m             \u001B[0;32mraise\u001B[0m \u001B[0mex\u001B[0m \u001B[0;32mfrom\u001B[0m \u001B[0mexc\u001B[0m\u001B[0;34m\u001B[0m\u001B[0;34m\u001B[0m\u001B[0m\n\u001B[0m\u001B[1;32m   2215\u001B[0m \u001B[0;34m\u001B[0m\u001B[0m\n\u001B[1;32m   2216\u001B[0m     \u001B[0;34m@\u001B[0m\u001B[0mstaticmethod\u001B[0m\u001B[0;34m\u001B[0m\u001B[0;34m\u001B[0m\u001B[0m\n",
      "\u001B[0;31mDatabaseError\u001B[0m: Execution failed on sql 'select * from table_name': no such table: table_name"
     ]
    }
   ],
   "source": [
    "# 读取数据库中的数据\n",
    "sql_df = pd.read_sql('select * from table_name',con=connet)"
   ]
  },
  {
   "cell_type": "code",
   "execution_count": null,
   "id": "17e20b4b38c83101",
   "metadata": {
    "ExecuteTime": {
     "start_time": "2023-12-01T01:41:02.053826Z"
    }
   },
   "outputs": [],
   "source": [
    "# 将一个df中的数据写入到db\n",
    "df.to_sql('table_name',con=connet)"
   ]
  },
  {
   "cell_type": "markdown",
   "id": "81e689510f9b71cf",
   "metadata": {},
   "source": [
    "### 透视表\n",
    "    - 透视表是一种可以对数据动态排布并且分类汇总的表格格式.后续大多数人都在Excel使用过数据透视表,也体会过它的强大功能,而在pandas中它被称作pivot_table()"
   ]
  },
  {
   "cell_type": "code",
   "execution_count": 34,
   "id": "9eadbbb83ce12116",
   "metadata": {
    "ExecuteTime": {
     "end_time": "2023-12-01T02:25:38.497358Z",
     "start_time": "2023-12-01T02:25:38.485298Z"
    }
   },
   "outputs": [
    {
     "data": {
      "text/plain": "     对手 胜负 主客场  命中  投篮数  投篮命中率  3分命中率  篮板  助攻  得分\n0    勇士  胜   客  10   23  0.435  0.444   6  11  27\n1    国王  胜   客   8   21  0.381  0.286   3   9  27\n2    小牛  胜   主  10   19  0.526  0.462   3   7  29\n3    灰熊  负   主   8   20  0.400  0.250   5   8  22\n4   76人  胜   客  10   20  0.500  0.250   3  13  27\n5    黄蜂  胜   客   8   18  0.444  0.400  10  11  27\n6    灰熊  负   客   6   19  0.316  0.222   4   8  20\n7   76人  负   主   8   21  0.381  0.429   4   7  29\n8   尼克斯  胜   客   9   23  0.391  0.353   5   9  31\n9    老鹰  胜   客   8   15  0.533  0.545   3  11  29\n10   爵士  胜   主  19   25  0.760  0.875   2  13  56\n11   骑士  胜   主   8   21  0.381  0.429  11  13  35\n12   灰熊  胜   主  11   25  0.440  0.429   4   8  38\n13  步行者  胜   客   9   21  0.429  0.250   5  15  26\n14   猛龙  负   主   8   25  0.320  0.273   6  11  38\n15   太阳  胜   客  12   22  0.545  0.545   2   7  48\n16   灰熊  胜   客   9   20  0.450  0.500   5   7  29\n17   掘金  胜   主   6   16  0.375  0.143   8   9  21\n18  尼克斯  胜   主  12   27  0.444  0.385   2  10  37\n19   篮网  胜   主  13   20  0.650  0.615  10   8  37\n20  步行者  胜   主   8   22  0.364  0.333   8  10  29\n21   湖人  胜   客  13   22  0.591  0.444   4   9  36\n22   爵士  胜   客   8   19  0.421  0.333   5   3  29\n23  开拓者  胜   客  16   29  0.552  0.571   8   3  48\n24   鹈鹕  胜   主   8   16  0.500  0.400   1  17  26",
      "text/html": "<div>\n<style scoped>\n    .dataframe tbody tr th:only-of-type {\n        vertical-align: middle;\n    }\n\n    .dataframe tbody tr th {\n        vertical-align: top;\n    }\n\n    .dataframe thead th {\n        text-align: right;\n    }\n</style>\n<table border=\"1\" class=\"dataframe\">\n  <thead>\n    <tr style=\"text-align: right;\">\n      <th></th>\n      <th>对手</th>\n      <th>胜负</th>\n      <th>主客场</th>\n      <th>命中</th>\n      <th>投篮数</th>\n      <th>投篮命中率</th>\n      <th>3分命中率</th>\n      <th>篮板</th>\n      <th>助攻</th>\n      <th>得分</th>\n    </tr>\n  </thead>\n  <tbody>\n    <tr>\n      <th>0</th>\n      <td>勇士</td>\n      <td>胜</td>\n      <td>客</td>\n      <td>10</td>\n      <td>23</td>\n      <td>0.435</td>\n      <td>0.444</td>\n      <td>6</td>\n      <td>11</td>\n      <td>27</td>\n    </tr>\n    <tr>\n      <th>1</th>\n      <td>国王</td>\n      <td>胜</td>\n      <td>客</td>\n      <td>8</td>\n      <td>21</td>\n      <td>0.381</td>\n      <td>0.286</td>\n      <td>3</td>\n      <td>9</td>\n      <td>27</td>\n    </tr>\n    <tr>\n      <th>2</th>\n      <td>小牛</td>\n      <td>胜</td>\n      <td>主</td>\n      <td>10</td>\n      <td>19</td>\n      <td>0.526</td>\n      <td>0.462</td>\n      <td>3</td>\n      <td>7</td>\n      <td>29</td>\n    </tr>\n    <tr>\n      <th>3</th>\n      <td>灰熊</td>\n      <td>负</td>\n      <td>主</td>\n      <td>8</td>\n      <td>20</td>\n      <td>0.400</td>\n      <td>0.250</td>\n      <td>5</td>\n      <td>8</td>\n      <td>22</td>\n    </tr>\n    <tr>\n      <th>4</th>\n      <td>76人</td>\n      <td>胜</td>\n      <td>客</td>\n      <td>10</td>\n      <td>20</td>\n      <td>0.500</td>\n      <td>0.250</td>\n      <td>3</td>\n      <td>13</td>\n      <td>27</td>\n    </tr>\n    <tr>\n      <th>5</th>\n      <td>黄蜂</td>\n      <td>胜</td>\n      <td>客</td>\n      <td>8</td>\n      <td>18</td>\n      <td>0.444</td>\n      <td>0.400</td>\n      <td>10</td>\n      <td>11</td>\n      <td>27</td>\n    </tr>\n    <tr>\n      <th>6</th>\n      <td>灰熊</td>\n      <td>负</td>\n      <td>客</td>\n      <td>6</td>\n      <td>19</td>\n      <td>0.316</td>\n      <td>0.222</td>\n      <td>4</td>\n      <td>8</td>\n      <td>20</td>\n    </tr>\n    <tr>\n      <th>7</th>\n      <td>76人</td>\n      <td>负</td>\n      <td>主</td>\n      <td>8</td>\n      <td>21</td>\n      <td>0.381</td>\n      <td>0.429</td>\n      <td>4</td>\n      <td>7</td>\n      <td>29</td>\n    </tr>\n    <tr>\n      <th>8</th>\n      <td>尼克斯</td>\n      <td>胜</td>\n      <td>客</td>\n      <td>9</td>\n      <td>23</td>\n      <td>0.391</td>\n      <td>0.353</td>\n      <td>5</td>\n      <td>9</td>\n      <td>31</td>\n    </tr>\n    <tr>\n      <th>9</th>\n      <td>老鹰</td>\n      <td>胜</td>\n      <td>客</td>\n      <td>8</td>\n      <td>15</td>\n      <td>0.533</td>\n      <td>0.545</td>\n      <td>3</td>\n      <td>11</td>\n      <td>29</td>\n    </tr>\n    <tr>\n      <th>10</th>\n      <td>爵士</td>\n      <td>胜</td>\n      <td>主</td>\n      <td>19</td>\n      <td>25</td>\n      <td>0.760</td>\n      <td>0.875</td>\n      <td>2</td>\n      <td>13</td>\n      <td>56</td>\n    </tr>\n    <tr>\n      <th>11</th>\n      <td>骑士</td>\n      <td>胜</td>\n      <td>主</td>\n      <td>8</td>\n      <td>21</td>\n      <td>0.381</td>\n      <td>0.429</td>\n      <td>11</td>\n      <td>13</td>\n      <td>35</td>\n    </tr>\n    <tr>\n      <th>12</th>\n      <td>灰熊</td>\n      <td>胜</td>\n      <td>主</td>\n      <td>11</td>\n      <td>25</td>\n      <td>0.440</td>\n      <td>0.429</td>\n      <td>4</td>\n      <td>8</td>\n      <td>38</td>\n    </tr>\n    <tr>\n      <th>13</th>\n      <td>步行者</td>\n      <td>胜</td>\n      <td>客</td>\n      <td>9</td>\n      <td>21</td>\n      <td>0.429</td>\n      <td>0.250</td>\n      <td>5</td>\n      <td>15</td>\n      <td>26</td>\n    </tr>\n    <tr>\n      <th>14</th>\n      <td>猛龙</td>\n      <td>负</td>\n      <td>主</td>\n      <td>8</td>\n      <td>25</td>\n      <td>0.320</td>\n      <td>0.273</td>\n      <td>6</td>\n      <td>11</td>\n      <td>38</td>\n    </tr>\n    <tr>\n      <th>15</th>\n      <td>太阳</td>\n      <td>胜</td>\n      <td>客</td>\n      <td>12</td>\n      <td>22</td>\n      <td>0.545</td>\n      <td>0.545</td>\n      <td>2</td>\n      <td>7</td>\n      <td>48</td>\n    </tr>\n    <tr>\n      <th>16</th>\n      <td>灰熊</td>\n      <td>胜</td>\n      <td>客</td>\n      <td>9</td>\n      <td>20</td>\n      <td>0.450</td>\n      <td>0.500</td>\n      <td>5</td>\n      <td>7</td>\n      <td>29</td>\n    </tr>\n    <tr>\n      <th>17</th>\n      <td>掘金</td>\n      <td>胜</td>\n      <td>主</td>\n      <td>6</td>\n      <td>16</td>\n      <td>0.375</td>\n      <td>0.143</td>\n      <td>8</td>\n      <td>9</td>\n      <td>21</td>\n    </tr>\n    <tr>\n      <th>18</th>\n      <td>尼克斯</td>\n      <td>胜</td>\n      <td>主</td>\n      <td>12</td>\n      <td>27</td>\n      <td>0.444</td>\n      <td>0.385</td>\n      <td>2</td>\n      <td>10</td>\n      <td>37</td>\n    </tr>\n    <tr>\n      <th>19</th>\n      <td>篮网</td>\n      <td>胜</td>\n      <td>主</td>\n      <td>13</td>\n      <td>20</td>\n      <td>0.650</td>\n      <td>0.615</td>\n      <td>10</td>\n      <td>8</td>\n      <td>37</td>\n    </tr>\n    <tr>\n      <th>20</th>\n      <td>步行者</td>\n      <td>胜</td>\n      <td>主</td>\n      <td>8</td>\n      <td>22</td>\n      <td>0.364</td>\n      <td>0.333</td>\n      <td>8</td>\n      <td>10</td>\n      <td>29</td>\n    </tr>\n    <tr>\n      <th>21</th>\n      <td>湖人</td>\n      <td>胜</td>\n      <td>客</td>\n      <td>13</td>\n      <td>22</td>\n      <td>0.591</td>\n      <td>0.444</td>\n      <td>4</td>\n      <td>9</td>\n      <td>36</td>\n    </tr>\n    <tr>\n      <th>22</th>\n      <td>爵士</td>\n      <td>胜</td>\n      <td>客</td>\n      <td>8</td>\n      <td>19</td>\n      <td>0.421</td>\n      <td>0.333</td>\n      <td>5</td>\n      <td>3</td>\n      <td>29</td>\n    </tr>\n    <tr>\n      <th>23</th>\n      <td>开拓者</td>\n      <td>胜</td>\n      <td>客</td>\n      <td>16</td>\n      <td>29</td>\n      <td>0.552</td>\n      <td>0.571</td>\n      <td>8</td>\n      <td>3</td>\n      <td>48</td>\n    </tr>\n    <tr>\n      <th>24</th>\n      <td>鹈鹕</td>\n      <td>胜</td>\n      <td>主</td>\n      <td>8</td>\n      <td>16</td>\n      <td>0.500</td>\n      <td>0.400</td>\n      <td>1</td>\n      <td>17</td>\n      <td>26</td>\n    </tr>\n  </tbody>\n</table>\n</div>"
     },
     "execution_count": 34,
     "metadata": {},
     "output_type": "execute_result"
    }
   ],
   "source": [
    "import pandas as pd\n",
    "import numpy as np\n",
    "df = pd.read_csv(\"boll.csv\",encoding='utf8')\n",
    "df"
   ]
  },
  {
   "cell_type": "markdown",
   "id": "4bd07c3e0acf7d52",
   "metadata": {},
   "source": []
  },
  {
   "cell_type": "markdown",
   "id": "34a4433f3e4aa44c",
   "metadata": {},
   "source": [
    "### pivot_table()函数的参数\n",
    "  - index: 分类汇总的分类条件\n",
    "  - columns: 用于分组的列名\n",
    "  - values: 用于聚合的列名(需要对计算的数据进行筛选)\n",
    "  - aggfunc: 聚合函数或者函数列表"
   ]
  },
  {
   "cell_type": "code",
   "execution_count": 41,
   "outputs": [
    {
     "data": {
      "text/plain": "     对手 胜负 主客场  命中  投篮数  投篮命中率  3分命中率  篮板  助攻  得分\n0    勇士  胜   客  10   23  0.435  0.444   6  11  27\n1    国王  胜   客   8   21  0.381  0.286   3   9  27\n2    小牛  胜   主  10   19  0.526  0.462   3   7  29\n3    灰熊  负   主   8   20  0.400  0.250   5   8  22\n5    黄蜂  胜   客   8   18  0.444  0.400  10  11  27\n6    灰熊  负   客   6   19  0.316  0.222   4   8  20\n8   尼克斯  胜   客   9   23  0.391  0.353   5   9  31\n9    老鹰  胜   客   8   15  0.533  0.545   3  11  29\n10   爵士  胜   主  19   25  0.760  0.875   2  13  56\n11   骑士  胜   主   8   21  0.381  0.429  11  13  35\n12   灰熊  胜   主  11   25  0.440  0.429   4   8  38\n13  步行者  胜   客   9   21  0.429  0.250   5  15  26\n14   猛龙  负   主   8   25  0.320  0.273   6  11  38\n15   太阳  胜   客  12   22  0.545  0.545   2   7  48\n16   灰熊  胜   客   9   20  0.450  0.500   5   7  29\n17   掘金  胜   主   6   16  0.375  0.143   8   9  21\n18  尼克斯  胜   主  12   27  0.444  0.385   2  10  37\n19   篮网  胜   主  13   20  0.650  0.615  10   8  37\n20  步行者  胜   主   8   22  0.364  0.333   8  10  29\n21   湖人  胜   客  13   22  0.591  0.444   4   9  36\n22   爵士  胜   客   8   19  0.421  0.333   5   3  29\n23  开拓者  胜   客  16   29  0.552  0.571   8   3  48\n24   鹈鹕  胜   主   8   16  0.500  0.400   1  17  26",
      "text/html": "<div>\n<style scoped>\n    .dataframe tbody tr th:only-of-type {\n        vertical-align: middle;\n    }\n\n    .dataframe tbody tr th {\n        vertical-align: top;\n    }\n\n    .dataframe thead th {\n        text-align: right;\n    }\n</style>\n<table border=\"1\" class=\"dataframe\">\n  <thead>\n    <tr style=\"text-align: right;\">\n      <th></th>\n      <th>对手</th>\n      <th>胜负</th>\n      <th>主客场</th>\n      <th>命中</th>\n      <th>投篮数</th>\n      <th>投篮命中率</th>\n      <th>3分命中率</th>\n      <th>篮板</th>\n      <th>助攻</th>\n      <th>得分</th>\n    </tr>\n  </thead>\n  <tbody>\n    <tr>\n      <th>0</th>\n      <td>勇士</td>\n      <td>胜</td>\n      <td>客</td>\n      <td>10</td>\n      <td>23</td>\n      <td>0.435</td>\n      <td>0.444</td>\n      <td>6</td>\n      <td>11</td>\n      <td>27</td>\n    </tr>\n    <tr>\n      <th>1</th>\n      <td>国王</td>\n      <td>胜</td>\n      <td>客</td>\n      <td>8</td>\n      <td>21</td>\n      <td>0.381</td>\n      <td>0.286</td>\n      <td>3</td>\n      <td>9</td>\n      <td>27</td>\n    </tr>\n    <tr>\n      <th>2</th>\n      <td>小牛</td>\n      <td>胜</td>\n      <td>主</td>\n      <td>10</td>\n      <td>19</td>\n      <td>0.526</td>\n      <td>0.462</td>\n      <td>3</td>\n      <td>7</td>\n      <td>29</td>\n    </tr>\n    <tr>\n      <th>3</th>\n      <td>灰熊</td>\n      <td>负</td>\n      <td>主</td>\n      <td>8</td>\n      <td>20</td>\n      <td>0.400</td>\n      <td>0.250</td>\n      <td>5</td>\n      <td>8</td>\n      <td>22</td>\n    </tr>\n    <tr>\n      <th>5</th>\n      <td>黄蜂</td>\n      <td>胜</td>\n      <td>客</td>\n      <td>8</td>\n      <td>18</td>\n      <td>0.444</td>\n      <td>0.400</td>\n      <td>10</td>\n      <td>11</td>\n      <td>27</td>\n    </tr>\n    <tr>\n      <th>6</th>\n      <td>灰熊</td>\n      <td>负</td>\n      <td>客</td>\n      <td>6</td>\n      <td>19</td>\n      <td>0.316</td>\n      <td>0.222</td>\n      <td>4</td>\n      <td>8</td>\n      <td>20</td>\n    </tr>\n    <tr>\n      <th>8</th>\n      <td>尼克斯</td>\n      <td>胜</td>\n      <td>客</td>\n      <td>9</td>\n      <td>23</td>\n      <td>0.391</td>\n      <td>0.353</td>\n      <td>5</td>\n      <td>9</td>\n      <td>31</td>\n    </tr>\n    <tr>\n      <th>9</th>\n      <td>老鹰</td>\n      <td>胜</td>\n      <td>客</td>\n      <td>8</td>\n      <td>15</td>\n      <td>0.533</td>\n      <td>0.545</td>\n      <td>3</td>\n      <td>11</td>\n      <td>29</td>\n    </tr>\n    <tr>\n      <th>10</th>\n      <td>爵士</td>\n      <td>胜</td>\n      <td>主</td>\n      <td>19</td>\n      <td>25</td>\n      <td>0.760</td>\n      <td>0.875</td>\n      <td>2</td>\n      <td>13</td>\n      <td>56</td>\n    </tr>\n    <tr>\n      <th>11</th>\n      <td>骑士</td>\n      <td>胜</td>\n      <td>主</td>\n      <td>8</td>\n      <td>21</td>\n      <td>0.381</td>\n      <td>0.429</td>\n      <td>11</td>\n      <td>13</td>\n      <td>35</td>\n    </tr>\n    <tr>\n      <th>12</th>\n      <td>灰熊</td>\n      <td>胜</td>\n      <td>主</td>\n      <td>11</td>\n      <td>25</td>\n      <td>0.440</td>\n      <td>0.429</td>\n      <td>4</td>\n      <td>8</td>\n      <td>38</td>\n    </tr>\n    <tr>\n      <th>13</th>\n      <td>步行者</td>\n      <td>胜</td>\n      <td>客</td>\n      <td>9</td>\n      <td>21</td>\n      <td>0.429</td>\n      <td>0.250</td>\n      <td>5</td>\n      <td>15</td>\n      <td>26</td>\n    </tr>\n    <tr>\n      <th>14</th>\n      <td>猛龙</td>\n      <td>负</td>\n      <td>主</td>\n      <td>8</td>\n      <td>25</td>\n      <td>0.320</td>\n      <td>0.273</td>\n      <td>6</td>\n      <td>11</td>\n      <td>38</td>\n    </tr>\n    <tr>\n      <th>15</th>\n      <td>太阳</td>\n      <td>胜</td>\n      <td>客</td>\n      <td>12</td>\n      <td>22</td>\n      <td>0.545</td>\n      <td>0.545</td>\n      <td>2</td>\n      <td>7</td>\n      <td>48</td>\n    </tr>\n    <tr>\n      <th>16</th>\n      <td>灰熊</td>\n      <td>胜</td>\n      <td>客</td>\n      <td>9</td>\n      <td>20</td>\n      <td>0.450</td>\n      <td>0.500</td>\n      <td>5</td>\n      <td>7</td>\n      <td>29</td>\n    </tr>\n    <tr>\n      <th>17</th>\n      <td>掘金</td>\n      <td>胜</td>\n      <td>主</td>\n      <td>6</td>\n      <td>16</td>\n      <td>0.375</td>\n      <td>0.143</td>\n      <td>8</td>\n      <td>9</td>\n      <td>21</td>\n    </tr>\n    <tr>\n      <th>18</th>\n      <td>尼克斯</td>\n      <td>胜</td>\n      <td>主</td>\n      <td>12</td>\n      <td>27</td>\n      <td>0.444</td>\n      <td>0.385</td>\n      <td>2</td>\n      <td>10</td>\n      <td>37</td>\n    </tr>\n    <tr>\n      <th>19</th>\n      <td>篮网</td>\n      <td>胜</td>\n      <td>主</td>\n      <td>13</td>\n      <td>20</td>\n      <td>0.650</td>\n      <td>0.615</td>\n      <td>10</td>\n      <td>8</td>\n      <td>37</td>\n    </tr>\n    <tr>\n      <th>20</th>\n      <td>步行者</td>\n      <td>胜</td>\n      <td>主</td>\n      <td>8</td>\n      <td>22</td>\n      <td>0.364</td>\n      <td>0.333</td>\n      <td>8</td>\n      <td>10</td>\n      <td>29</td>\n    </tr>\n    <tr>\n      <th>21</th>\n      <td>湖人</td>\n      <td>胜</td>\n      <td>客</td>\n      <td>13</td>\n      <td>22</td>\n      <td>0.591</td>\n      <td>0.444</td>\n      <td>4</td>\n      <td>9</td>\n      <td>36</td>\n    </tr>\n    <tr>\n      <th>22</th>\n      <td>爵士</td>\n      <td>胜</td>\n      <td>客</td>\n      <td>8</td>\n      <td>19</td>\n      <td>0.421</td>\n      <td>0.333</td>\n      <td>5</td>\n      <td>3</td>\n      <td>29</td>\n    </tr>\n    <tr>\n      <th>23</th>\n      <td>开拓者</td>\n      <td>胜</td>\n      <td>客</td>\n      <td>16</td>\n      <td>29</td>\n      <td>0.552</td>\n      <td>0.571</td>\n      <td>8</td>\n      <td>3</td>\n      <td>48</td>\n    </tr>\n    <tr>\n      <th>24</th>\n      <td>鹈鹕</td>\n      <td>胜</td>\n      <td>主</td>\n      <td>8</td>\n      <td>16</td>\n      <td>0.500</td>\n      <td>0.400</td>\n      <td>1</td>\n      <td>17</td>\n      <td>26</td>\n    </tr>\n  </tbody>\n</table>\n</div>"
     },
     "execution_count": 41,
     "metadata": {},
     "output_type": "execute_result"
    }
   ],
   "source": [
    "# 数据清洗\n",
    "df['对手'] = df['对手'].astype(str)\n",
    "df = df[df['对手'] != '76人'] # 把76人的数据清洗掉\n",
    "df"
   ],
   "metadata": {
    "collapsed": false,
    "ExecuteTime": {
     "end_time": "2023-12-01T02:25:47.327564Z",
     "start_time": "2023-12-01T02:25:47.320470Z"
    }
   },
   "id": "290251cb68bca219"
  },
  {
   "cell_type": "code",
   "execution_count": 49,
   "id": "fc8ab1b7934e9da6",
   "metadata": {
    "ExecuteTime": {
     "end_time": "2023-12-01T02:27:54.102488Z",
     "start_time": "2023-12-01T02:27:54.093355Z"
    }
   },
   "outputs": [
    {
     "data": {
      "text/plain": "           助攻    得分    篮板\n对手  主客场                  \n勇士  客    11.0  27.0   6.0\n国王  客     9.0  27.0   3.0\n太阳  客     7.0  48.0   2.0\n小牛  主     7.0  29.0   3.0\n尼克斯 主    10.0  37.0   2.0\n    客     9.0  31.0   5.0\n开拓者 客     3.0  48.0   8.0\n掘金  主     9.0  21.0   8.0\n步行者 主    10.0  29.0   8.0\n    客    15.0  26.0   5.0\n湖人  客     9.0  36.0   4.0\n灰熊  主     8.0  30.0   4.5\n    客     7.5  24.5   4.5\n爵士  主    13.0  56.0   2.0\n    客     3.0  29.0   5.0\n猛龙  主    11.0  38.0   6.0\n篮网  主     8.0  37.0  10.0\n老鹰  客    11.0  29.0   3.0\n骑士  主    13.0  35.0  11.0\n鹈鹕  主    17.0  26.0   1.0\n黄蜂  客    11.0  27.0  10.0",
      "text/html": "<div>\n<style scoped>\n    .dataframe tbody tr th:only-of-type {\n        vertical-align: middle;\n    }\n\n    .dataframe tbody tr th {\n        vertical-align: top;\n    }\n\n    .dataframe thead th {\n        text-align: right;\n    }\n</style>\n<table border=\"1\" class=\"dataframe\">\n  <thead>\n    <tr style=\"text-align: right;\">\n      <th></th>\n      <th></th>\n      <th>助攻</th>\n      <th>得分</th>\n      <th>篮板</th>\n    </tr>\n    <tr>\n      <th>对手</th>\n      <th>主客场</th>\n      <th></th>\n      <th></th>\n      <th></th>\n    </tr>\n  </thead>\n  <tbody>\n    <tr>\n      <th>勇士</th>\n      <th>客</th>\n      <td>11.0</td>\n      <td>27.0</td>\n      <td>6.0</td>\n    </tr>\n    <tr>\n      <th>国王</th>\n      <th>客</th>\n      <td>9.0</td>\n      <td>27.0</td>\n      <td>3.0</td>\n    </tr>\n    <tr>\n      <th>太阳</th>\n      <th>客</th>\n      <td>7.0</td>\n      <td>48.0</td>\n      <td>2.0</td>\n    </tr>\n    <tr>\n      <th>小牛</th>\n      <th>主</th>\n      <td>7.0</td>\n      <td>29.0</td>\n      <td>3.0</td>\n    </tr>\n    <tr>\n      <th rowspan=\"2\" valign=\"top\">尼克斯</th>\n      <th>主</th>\n      <td>10.0</td>\n      <td>37.0</td>\n      <td>2.0</td>\n    </tr>\n    <tr>\n      <th>客</th>\n      <td>9.0</td>\n      <td>31.0</td>\n      <td>5.0</td>\n    </tr>\n    <tr>\n      <th>开拓者</th>\n      <th>客</th>\n      <td>3.0</td>\n      <td>48.0</td>\n      <td>8.0</td>\n    </tr>\n    <tr>\n      <th>掘金</th>\n      <th>主</th>\n      <td>9.0</td>\n      <td>21.0</td>\n      <td>8.0</td>\n    </tr>\n    <tr>\n      <th rowspan=\"2\" valign=\"top\">步行者</th>\n      <th>主</th>\n      <td>10.0</td>\n      <td>29.0</td>\n      <td>8.0</td>\n    </tr>\n    <tr>\n      <th>客</th>\n      <td>15.0</td>\n      <td>26.0</td>\n      <td>5.0</td>\n    </tr>\n    <tr>\n      <th>湖人</th>\n      <th>客</th>\n      <td>9.0</td>\n      <td>36.0</td>\n      <td>4.0</td>\n    </tr>\n    <tr>\n      <th rowspan=\"2\" valign=\"top\">灰熊</th>\n      <th>主</th>\n      <td>8.0</td>\n      <td>30.0</td>\n      <td>4.5</td>\n    </tr>\n    <tr>\n      <th>客</th>\n      <td>7.5</td>\n      <td>24.5</td>\n      <td>4.5</td>\n    </tr>\n    <tr>\n      <th rowspan=\"2\" valign=\"top\">爵士</th>\n      <th>主</th>\n      <td>13.0</td>\n      <td>56.0</td>\n      <td>2.0</td>\n    </tr>\n    <tr>\n      <th>客</th>\n      <td>3.0</td>\n      <td>29.0</td>\n      <td>5.0</td>\n    </tr>\n    <tr>\n      <th>猛龙</th>\n      <th>主</th>\n      <td>11.0</td>\n      <td>38.0</td>\n      <td>6.0</td>\n    </tr>\n    <tr>\n      <th>篮网</th>\n      <th>主</th>\n      <td>8.0</td>\n      <td>37.0</td>\n      <td>10.0</td>\n    </tr>\n    <tr>\n      <th>老鹰</th>\n      <th>客</th>\n      <td>11.0</td>\n      <td>29.0</td>\n      <td>3.0</td>\n    </tr>\n    <tr>\n      <th>骑士</th>\n      <th>主</th>\n      <td>13.0</td>\n      <td>35.0</td>\n      <td>11.0</td>\n    </tr>\n    <tr>\n      <th>鹈鹕</th>\n      <th>主</th>\n      <td>17.0</td>\n      <td>26.0</td>\n      <td>1.0</td>\n    </tr>\n    <tr>\n      <th>黄蜂</th>\n      <th>客</th>\n      <td>11.0</td>\n      <td>27.0</td>\n      <td>10.0</td>\n    </tr>\n  </tbody>\n</table>\n</div>"
     },
     "execution_count": 49,
     "metadata": {},
     "output_type": "execute_result"
    }
   ],
   "source": [
    "# 查看主客场下的数据,分类条件为对手的主客场\n",
    "df.pivot_table(index=['对手','主客场'],values=['得分','篮板','助攻'])"
   ]
  },
  {
   "cell_type": "code",
   "execution_count": 58,
   "outputs": [
    {
     "data": {
      "text/plain": "               助攻         得分        篮板\n主客场 胜负                                \n主   胜   10.555556  34.222222  5.444444\n    负    9.500000  30.000000  5.500000\n客   胜    8.636364  32.454545  5.090909\n    负    8.000000  20.000000  4.000000",
      "text/html": "<div>\n<style scoped>\n    .dataframe tbody tr th:only-of-type {\n        vertical-align: middle;\n    }\n\n    .dataframe tbody tr th {\n        vertical-align: top;\n    }\n\n    .dataframe thead th {\n        text-align: right;\n    }\n</style>\n<table border=\"1\" class=\"dataframe\">\n  <thead>\n    <tr style=\"text-align: right;\">\n      <th></th>\n      <th></th>\n      <th>助攻</th>\n      <th>得分</th>\n      <th>篮板</th>\n    </tr>\n    <tr>\n      <th>主客场</th>\n      <th>胜负</th>\n      <th></th>\n      <th></th>\n      <th></th>\n    </tr>\n  </thead>\n  <tbody>\n    <tr>\n      <th rowspan=\"2\" valign=\"top\">主</th>\n      <th>胜</th>\n      <td>10.555556</td>\n      <td>34.222222</td>\n      <td>5.444444</td>\n    </tr>\n    <tr>\n      <th>负</th>\n      <td>9.500000</td>\n      <td>30.000000</td>\n      <td>5.500000</td>\n    </tr>\n    <tr>\n      <th rowspan=\"2\" valign=\"top\">客</th>\n      <th>胜</th>\n      <td>8.636364</td>\n      <td>32.454545</td>\n      <td>5.090909</td>\n    </tr>\n    <tr>\n      <th>负</th>\n      <td>8.000000</td>\n      <td>20.000000</td>\n      <td>4.000000</td>\n    </tr>\n  </tbody>\n</table>\n</div>"
     },
     "execution_count": 58,
     "metadata": {},
     "output_type": "execute_result"
    }
   ],
   "source": [
    "df.pivot_table(index=['主客场','胜负'],values=['得分','篮板','助攻'])"
   ],
   "metadata": {
    "collapsed": false,
    "ExecuteTime": {
     "end_time": "2023-12-01T02:38:07.962735Z",
     "start_time": "2023-12-01T02:38:07.956824Z"
    }
   },
   "id": "e73a78c54a57e748"
  },
  {
   "cell_type": "code",
   "execution_count": 57,
   "outputs": [
    {
     "data": {
      "text/plain": "        助攻   得分  篮板\n主客场 胜负             \n主   胜   95  308  49\n    负   19   60  11\n客   胜   95  357  56\n    负    8   20   4",
      "text/html": "<div>\n<style scoped>\n    .dataframe tbody tr th:only-of-type {\n        vertical-align: middle;\n    }\n\n    .dataframe tbody tr th {\n        vertical-align: top;\n    }\n\n    .dataframe thead th {\n        text-align: right;\n    }\n</style>\n<table border=\"1\" class=\"dataframe\">\n  <thead>\n    <tr style=\"text-align: right;\">\n      <th></th>\n      <th></th>\n      <th>助攻</th>\n      <th>得分</th>\n      <th>篮板</th>\n    </tr>\n    <tr>\n      <th>主客场</th>\n      <th>胜负</th>\n      <th></th>\n      <th></th>\n      <th></th>\n    </tr>\n  </thead>\n  <tbody>\n    <tr>\n      <th rowspan=\"2\" valign=\"top\">主</th>\n      <th>胜</th>\n      <td>95</td>\n      <td>308</td>\n      <td>49</td>\n    </tr>\n    <tr>\n      <th>负</th>\n      <td>19</td>\n      <td>60</td>\n      <td>11</td>\n    </tr>\n    <tr>\n      <th rowspan=\"2\" valign=\"top\">客</th>\n      <th>胜</th>\n      <td>95</td>\n      <td>357</td>\n      <td>56</td>\n    </tr>\n    <tr>\n      <th>负</th>\n      <td>8</td>\n      <td>20</td>\n      <td>4</td>\n    </tr>\n  </tbody>\n</table>\n</div>"
     },
     "execution_count": 57,
     "metadata": {},
     "output_type": "execute_result"
    }
   ],
   "source": [
    "# 查看主客场下的数据,分类条件为对手的主客场,并且计算每个主客场的平均得分\n",
    "df.pivot_table(index=['主客场','胜负'],values=['得分','篮板','助攻'], aggfunc='sum')"
   ],
   "metadata": {
    "collapsed": false,
    "ExecuteTime": {
     "end_time": "2023-12-01T02:36:58.021305Z",
     "start_time": "2023-12-01T02:36:58.018166Z"
    }
   },
   "id": "6e100303c0ce8ae2"
  },
  {
   "cell_type": "code",
   "execution_count": 60,
   "outputs": [
    {
     "data": {
      "text/plain": "      得分\n主客场     \n主    368\n客    377",
      "text/html": "<div>\n<style scoped>\n    .dataframe tbody tr th:only-of-type {\n        vertical-align: middle;\n    }\n\n    .dataframe tbody tr th {\n        vertical-align: top;\n    }\n\n    .dataframe thead th {\n        text-align: right;\n    }\n</style>\n<table border=\"1\" class=\"dataframe\">\n  <thead>\n    <tr style=\"text-align: right;\">\n      <th></th>\n      <th>得分</th>\n    </tr>\n    <tr>\n      <th>主客场</th>\n      <th></th>\n    </tr>\n  </thead>\n  <tbody>\n    <tr>\n      <th>主</th>\n      <td>368</td>\n    </tr>\n    <tr>\n      <th>客</th>\n      <td>377</td>\n    </tr>\n  </tbody>\n</table>\n</div>"
     },
     "execution_count": 60,
     "metadata": {},
     "output_type": "execute_result"
    }
   ],
   "source": [
    "# 获取所有队主客场的总得分\n",
    "df.pivot_table(index='主客场',values='得分',aggfunc='sum')"
   ],
   "metadata": {
    "collapsed": false,
    "ExecuteTime": {
     "end_time": "2023-12-01T02:41:09.385584Z",
     "start_time": "2023-12-01T02:41:09.381845Z"
    }
   },
   "id": "d372a8bb67363d52"
  },
  {
   "cell_type": "code",
   "execution_count": 64,
   "outputs": [
    {
     "data": {
      "text/plain": "对手   勇士  国王  太阳  小牛  尼克斯  开拓者  掘金  步行者  湖人  灰熊  爵士  猛龙  篮网  老鹰  骑士  鹈鹕  黄蜂\n主客场                                                                       \n主     0   0   0  29   37    0  21   29   0  60  56  38  37   0  35  26   0\n客    27  27  48   0   31   48   0   26  36  49  29   0   0  29   0   0  27",
      "text/html": "<div>\n<style scoped>\n    .dataframe tbody tr th:only-of-type {\n        vertical-align: middle;\n    }\n\n    .dataframe tbody tr th {\n        vertical-align: top;\n    }\n\n    .dataframe thead th {\n        text-align: right;\n    }\n</style>\n<table border=\"1\" class=\"dataframe\">\n  <thead>\n    <tr style=\"text-align: right;\">\n      <th>对手</th>\n      <th>勇士</th>\n      <th>国王</th>\n      <th>太阳</th>\n      <th>小牛</th>\n      <th>尼克斯</th>\n      <th>开拓者</th>\n      <th>掘金</th>\n      <th>步行者</th>\n      <th>湖人</th>\n      <th>灰熊</th>\n      <th>爵士</th>\n      <th>猛龙</th>\n      <th>篮网</th>\n      <th>老鹰</th>\n      <th>骑士</th>\n      <th>鹈鹕</th>\n      <th>黄蜂</th>\n    </tr>\n    <tr>\n      <th>主客场</th>\n      <th></th>\n      <th></th>\n      <th></th>\n      <th></th>\n      <th></th>\n      <th></th>\n      <th></th>\n      <th></th>\n      <th></th>\n      <th></th>\n      <th></th>\n      <th></th>\n      <th></th>\n      <th></th>\n      <th></th>\n      <th></th>\n      <th></th>\n    </tr>\n  </thead>\n  <tbody>\n    <tr>\n      <th>主</th>\n      <td>0</td>\n      <td>0</td>\n      <td>0</td>\n      <td>29</td>\n      <td>37</td>\n      <td>0</td>\n      <td>21</td>\n      <td>29</td>\n      <td>0</td>\n      <td>60</td>\n      <td>56</td>\n      <td>38</td>\n      <td>37</td>\n      <td>0</td>\n      <td>35</td>\n      <td>26</td>\n      <td>0</td>\n    </tr>\n    <tr>\n      <th>客</th>\n      <td>27</td>\n      <td>27</td>\n      <td>48</td>\n      <td>0</td>\n      <td>31</td>\n      <td>48</td>\n      <td>0</td>\n      <td>26</td>\n      <td>36</td>\n      <td>49</td>\n      <td>29</td>\n      <td>0</td>\n      <td>0</td>\n      <td>29</td>\n      <td>0</td>\n      <td>0</td>\n      <td>27</td>\n    </tr>\n  </tbody>\n</table>\n</div>"
     },
     "execution_count": 64,
     "metadata": {},
     "output_type": "execute_result"
    }
   ],
   "source": [
    "# 获取每个队主客场的总得分 (在总得分的基础上又进行了对手的分类)\n",
    "df.pivot_table(index='主客场',columns='对手',values='得分',aggfunc='sum',fill_value=0)"
   ],
   "metadata": {
    "collapsed": false,
    "ExecuteTime": {
     "end_time": "2023-12-01T02:43:32.431340Z",
     "start_time": "2023-12-01T02:43:32.417917Z"
    }
   },
   "id": "27347e49e8faa7f7"
  },
  {
   "cell_type": "markdown",
   "source": [
    "### 交叉表\n",
    "  - 是一种用于计算分组的特殊透视表,对数据进行汇总\n",
    "  - pd.crosstab(index,columns,values)\n",
    "     - index: 分组数据,交叉表的行索引\n",
    "     - columns: 交叉表的列索引"
   ],
   "metadata": {
    "collapsed": false
   },
   "id": "b5e793d1cb294fec"
  },
  {
   "cell_type": "code",
   "execution_count": 65,
   "outputs": [],
   "source": [
    "import pandas as pd\n",
    "from pandas import DataFrame"
   ],
   "metadata": {
    "collapsed": false,
    "ExecuteTime": {
     "end_time": "2023-12-01T03:06:56.943302Z",
     "start_time": "2023-12-01T03:06:56.918593Z"
    }
   },
   "id": "f31f37c3ad2f78a2"
  },
  {
   "cell_type": "code",
   "execution_count": 66,
   "outputs": [
    {
     "data": {
      "text/plain": "     sex  age  smoke  height\n0    man   15   True     168\n1    man   23  False     179\n2  women   25   True     181\n3  women   17  False     166\n4    man   35  False     173",
      "text/html": "<div>\n<style scoped>\n    .dataframe tbody tr th:only-of-type {\n        vertical-align: middle;\n    }\n\n    .dataframe tbody tr th {\n        vertical-align: top;\n    }\n\n    .dataframe thead th {\n        text-align: right;\n    }\n</style>\n<table border=\"1\" class=\"dataframe\">\n  <thead>\n    <tr style=\"text-align: right;\">\n      <th></th>\n      <th>sex</th>\n      <th>age</th>\n      <th>smoke</th>\n      <th>height</th>\n    </tr>\n  </thead>\n  <tbody>\n    <tr>\n      <th>0</th>\n      <td>man</td>\n      <td>15</td>\n      <td>True</td>\n      <td>168</td>\n    </tr>\n    <tr>\n      <th>1</th>\n      <td>man</td>\n      <td>23</td>\n      <td>False</td>\n      <td>179</td>\n    </tr>\n    <tr>\n      <th>2</th>\n      <td>women</td>\n      <td>25</td>\n      <td>True</td>\n      <td>181</td>\n    </tr>\n    <tr>\n      <th>3</th>\n      <td>women</td>\n      <td>17</td>\n      <td>False</td>\n      <td>166</td>\n    </tr>\n    <tr>\n      <th>4</th>\n      <td>man</td>\n      <td>35</td>\n      <td>False</td>\n      <td>173</td>\n    </tr>\n  </tbody>\n</table>\n</div>"
     },
     "execution_count": 66,
     "metadata": {},
     "output_type": "execute_result"
    }
   ],
   "source": [
    "df = DataFrame({'sex': ['man','man','women','women','man'],\n",
    "                'age': [15,23,25,17,35],\n",
    "                'smoke': [True,False,True,False,False],\n",
    "                'height': [168,179,181,166,173],})\n",
    "df"
   ],
   "metadata": {
    "collapsed": false,
    "ExecuteTime": {
     "end_time": "2023-12-01T03:12:13.234636Z",
     "start_time": "2023-12-01T03:12:13.222829Z"
    }
   },
   "id": "cad385f2f60976fd"
  },
  {
   "cell_type": "code",
   "execution_count": 68,
   "outputs": [
    {
     "data": {
      "text/plain": "sex    man  women\nsmoke            \nFalse    2      1\nTrue     1      1",
      "text/html": "<div>\n<style scoped>\n    .dataframe tbody tr th:only-of-type {\n        vertical-align: middle;\n    }\n\n    .dataframe tbody tr th {\n        vertical-align: top;\n    }\n\n    .dataframe thead th {\n        text-align: right;\n    }\n</style>\n<table border=\"1\" class=\"dataframe\">\n  <thead>\n    <tr style=\"text-align: right;\">\n      <th>sex</th>\n      <th>man</th>\n      <th>women</th>\n    </tr>\n    <tr>\n      <th>smoke</th>\n      <th></th>\n      <th></th>\n    </tr>\n  </thead>\n  <tbody>\n    <tr>\n      <th>False</th>\n      <td>2</td>\n      <td>1</td>\n    </tr>\n    <tr>\n      <th>True</th>\n      <td>1</td>\n      <td>1</td>\n    </tr>\n  </tbody>\n</table>\n</div>"
     },
     "execution_count": 68,
     "metadata": {},
     "output_type": "execute_result"
    }
   ],
   "source": [
    "# 求出各个性别抽烟的人数\n",
    "pd.crosstab(df.smoke,df.sex)"
   ],
   "metadata": {
    "collapsed": false,
    "ExecuteTime": {
     "end_time": "2023-12-01T03:13:57.214698Z",
     "start_time": "2023-12-01T03:13:57.201825Z"
    }
   },
   "id": "a4bef25e2599da1a"
  },
  {
   "cell_type": "code",
   "execution_count": 70,
   "outputs": [
    {
     "data": {
      "text/plain": "smoke  False  True \nage                \n15         0      1\n17         1      0\n23         1      0\n25         0      1\n35         1      0",
      "text/html": "<div>\n<style scoped>\n    .dataframe tbody tr th:only-of-type {\n        vertical-align: middle;\n    }\n\n    .dataframe tbody tr th {\n        vertical-align: top;\n    }\n\n    .dataframe thead th {\n        text-align: right;\n    }\n</style>\n<table border=\"1\" class=\"dataframe\">\n  <thead>\n    <tr style=\"text-align: right;\">\n      <th>smoke</th>\n      <th>False</th>\n      <th>True</th>\n    </tr>\n    <tr>\n      <th>age</th>\n      <th></th>\n      <th></th>\n    </tr>\n  </thead>\n  <tbody>\n    <tr>\n      <th>15</th>\n      <td>0</td>\n      <td>1</td>\n    </tr>\n    <tr>\n      <th>17</th>\n      <td>1</td>\n      <td>0</td>\n    </tr>\n    <tr>\n      <th>23</th>\n      <td>1</td>\n      <td>0</td>\n    </tr>\n    <tr>\n      <th>25</th>\n      <td>0</td>\n      <td>1</td>\n    </tr>\n    <tr>\n      <th>35</th>\n      <td>1</td>\n      <td>0</td>\n    </tr>\n  </tbody>\n</table>\n</div>"
     },
     "execution_count": 70,
     "metadata": {},
     "output_type": "execute_result"
    }
   ],
   "source": [
    "# 求出各个年龄段抽烟人情况\n",
    "pd.crosstab(df.age,df.smoke)"
   ],
   "metadata": {
    "collapsed": false,
    "ExecuteTime": {
     "end_time": "2023-12-01T03:16:39.266868Z",
     "start_time": "2023-12-01T03:16:39.261667Z"
    }
   },
   "id": "a2a182c2ed58ef65"
  }
 ],
 "metadata": {
  "kernelspec": {
   "display_name": "Python 3 (ipykernel)",
   "language": "python",
   "name": "python3"
  },
  "language_info": {
   "codemirror_mode": {
    "name": "ipython",
    "version": 3
   },
   "file_extension": ".py",
   "mimetype": "text/x-python",
   "name": "python",
   "nbconvert_exporter": "python",
   "pygments_lexer": "ipython3",
   "version": "3.10.9"
  }
 },
 "nbformat": 4,
 "nbformat_minor": 5
}
