{
 "cells": [
  {
   "cell_type": "code",
   "execution_count": 76,
   "id": "initial_id",
   "metadata": {
    "collapsed": true,
    "ExecuteTime": {
     "end_time": "2023-11-30T12:12:29.714361Z",
     "start_time": "2023-11-30T12:12:29.629989Z"
    }
   },
   "outputs": [],
   "source": [
    "import pandas as pd\n",
    "import numpy as np\n",
    "from pandas import DataFrame"
   ]
  },
  {
   "cell_type": "markdown",
   "source": [
    "#### 替换操作\n",
    "  - 替换操作可以同步作用于Series和DataFrame中\n",
    "  - 单值替换\n",
    "    - 普通替换: 替换所有符合要求的元素: to_replace=15,value='e'\n",
    "    - 按照指定单值替换: to_replace={列标签: 替换值} value='value'\n",
    "  - 多值替换\n",
    "    - 列表替换: to_replace=[] value=[]\n",
    "    - 字典替换(推荐) to_replace=(to_replace:value,to_replace:value)"
   ],
   "metadata": {
    "collapsed": false
   },
   "id": "61c28c5e3e59c9c6"
  },
  {
   "cell_type": "code",
   "execution_count": 77,
   "outputs": [
    {
     "data": {
      "text/plain": "    0   1   2   3   4   5\n0  99  93  10  71  42  63\n1   5  39  22  20  21  77\n2  75  30  64  72  18  31\n3  96  27  86  39  16  72\n4  33  71  73  78   3  58",
      "text/html": "<div>\n<style scoped>\n    .dataframe tbody tr th:only-of-type {\n        vertical-align: middle;\n    }\n\n    .dataframe tbody tr th {\n        vertical-align: top;\n    }\n\n    .dataframe thead th {\n        text-align: right;\n    }\n</style>\n<table border=\"1\" class=\"dataframe\">\n  <thead>\n    <tr style=\"text-align: right;\">\n      <th></th>\n      <th>0</th>\n      <th>1</th>\n      <th>2</th>\n      <th>3</th>\n      <th>4</th>\n      <th>5</th>\n    </tr>\n  </thead>\n  <tbody>\n    <tr>\n      <th>0</th>\n      <td>99</td>\n      <td>93</td>\n      <td>10</td>\n      <td>71</td>\n      <td>42</td>\n      <td>63</td>\n    </tr>\n    <tr>\n      <th>1</th>\n      <td>5</td>\n      <td>39</td>\n      <td>22</td>\n      <td>20</td>\n      <td>21</td>\n      <td>77</td>\n    </tr>\n    <tr>\n      <th>2</th>\n      <td>75</td>\n      <td>30</td>\n      <td>64</td>\n      <td>72</td>\n      <td>18</td>\n      <td>31</td>\n    </tr>\n    <tr>\n      <th>3</th>\n      <td>96</td>\n      <td>27</td>\n      <td>86</td>\n      <td>39</td>\n      <td>16</td>\n      <td>72</td>\n    </tr>\n    <tr>\n      <th>4</th>\n      <td>33</td>\n      <td>71</td>\n      <td>73</td>\n      <td>78</td>\n      <td>3</td>\n      <td>58</td>\n    </tr>\n  </tbody>\n</table>\n</div>"
     },
     "execution_count": 77,
     "metadata": {},
     "output_type": "execute_result"
    }
   ],
   "source": [
    "df = DataFrame(np.random.randint(0,100,size=(5,6)))\n",
    "df"
   ],
   "metadata": {
    "collapsed": false,
    "ExecuteTime": {
     "end_time": "2023-11-30T12:12:29.714769Z",
     "start_time": "2023-11-30T12:12:29.669505Z"
    }
   },
   "id": "f688a01a46128ba8"
  },
  {
   "cell_type": "code",
   "execution_count": 78,
   "outputs": [
    {
     "data": {
      "text/plain": "    0   1   2   3    4   5\n0  99  93  10  71   42  63\n1   5  39  22  20   21  77\n2  75  30  64  72   18  31\n3  96  27  86  39  Two  72\n4  33  71  73  78    3  58",
      "text/html": "<div>\n<style scoped>\n    .dataframe tbody tr th:only-of-type {\n        vertical-align: middle;\n    }\n\n    .dataframe tbody tr th {\n        vertical-align: top;\n    }\n\n    .dataframe thead th {\n        text-align: right;\n    }\n</style>\n<table border=\"1\" class=\"dataframe\">\n  <thead>\n    <tr style=\"text-align: right;\">\n      <th></th>\n      <th>0</th>\n      <th>1</th>\n      <th>2</th>\n      <th>3</th>\n      <th>4</th>\n      <th>5</th>\n    </tr>\n  </thead>\n  <tbody>\n    <tr>\n      <th>0</th>\n      <td>99</td>\n      <td>93</td>\n      <td>10</td>\n      <td>71</td>\n      <td>42</td>\n      <td>63</td>\n    </tr>\n    <tr>\n      <th>1</th>\n      <td>5</td>\n      <td>39</td>\n      <td>22</td>\n      <td>20</td>\n      <td>21</td>\n      <td>77</td>\n    </tr>\n    <tr>\n      <th>2</th>\n      <td>75</td>\n      <td>30</td>\n      <td>64</td>\n      <td>72</td>\n      <td>18</td>\n      <td>31</td>\n    </tr>\n    <tr>\n      <th>3</th>\n      <td>96</td>\n      <td>27</td>\n      <td>86</td>\n      <td>39</td>\n      <td>Two</td>\n      <td>72</td>\n    </tr>\n    <tr>\n      <th>4</th>\n      <td>33</td>\n      <td>71</td>\n      <td>73</td>\n      <td>78</td>\n      <td>3</td>\n      <td>58</td>\n    </tr>\n  </tbody>\n</table>\n</div>"
     },
     "execution_count": 78,
     "metadata": {},
     "output_type": "execute_result"
    }
   ],
   "source": [
    "df.replace(to_replace=16,value='Two') # 把16的值都进行替换"
   ],
   "metadata": {
    "collapsed": false,
    "ExecuteTime": {
     "end_time": "2023-11-30T12:12:29.715014Z",
     "start_time": "2023-11-30T12:12:29.682017Z"
    }
   },
   "id": "9f123f100d956f57"
  },
  {
   "cell_type": "code",
   "execution_count": 79,
   "outputs": [
    {
     "data": {
      "text/plain": "    0   1   2   3   4   5\n0  99  93  10  71  42  63\n1   5  39  22  20  21  77\n2  75  30  64  72  18  31\n3  96  27  86  39  16  72\n4  33  71  73  78   3  58",
      "text/html": "<div>\n<style scoped>\n    .dataframe tbody tr th:only-of-type {\n        vertical-align: middle;\n    }\n\n    .dataframe tbody tr th {\n        vertical-align: top;\n    }\n\n    .dataframe thead th {\n        text-align: right;\n    }\n</style>\n<table border=\"1\" class=\"dataframe\">\n  <thead>\n    <tr style=\"text-align: right;\">\n      <th></th>\n      <th>0</th>\n      <th>1</th>\n      <th>2</th>\n      <th>3</th>\n      <th>4</th>\n      <th>5</th>\n    </tr>\n  </thead>\n  <tbody>\n    <tr>\n      <th>0</th>\n      <td>99</td>\n      <td>93</td>\n      <td>10</td>\n      <td>71</td>\n      <td>42</td>\n      <td>63</td>\n    </tr>\n    <tr>\n      <th>1</th>\n      <td>5</td>\n      <td>39</td>\n      <td>22</td>\n      <td>20</td>\n      <td>21</td>\n      <td>77</td>\n    </tr>\n    <tr>\n      <th>2</th>\n      <td>75</td>\n      <td>30</td>\n      <td>64</td>\n      <td>72</td>\n      <td>18</td>\n      <td>31</td>\n    </tr>\n    <tr>\n      <th>3</th>\n      <td>96</td>\n      <td>27</td>\n      <td>86</td>\n      <td>39</td>\n      <td>16</td>\n      <td>72</td>\n    </tr>\n    <tr>\n      <th>4</th>\n      <td>33</td>\n      <td>71</td>\n      <td>73</td>\n      <td>78</td>\n      <td>3</td>\n      <td>58</td>\n    </tr>\n  </tbody>\n</table>\n</div>"
     },
     "execution_count": 79,
     "metadata": {},
     "output_type": "execute_result"
    }
   ],
   "source": [
    "df.replace(to_replace={62:'John'}) # 把62的值都进行替换 "
   ],
   "metadata": {
    "collapsed": false,
    "ExecuteTime": {
     "end_time": "2023-11-30T12:12:29.728866Z",
     "start_time": "2023-11-30T12:12:29.714461Z"
    }
   },
   "id": "d62d02d11461d656"
  },
  {
   "cell_type": "code",
   "execution_count": 80,
   "outputs": [
    {
     "data": {
      "text/plain": "    0   1   2   3   4   5\n0  99  93  10  71  42  63\n1   5  39  22  20  21  77\n2  75  30  64  72  18  31\n3  96  27  86  39  16  72\n4  33  71  73  78   3  58",
      "text/html": "<div>\n<style scoped>\n    .dataframe tbody tr th:only-of-type {\n        vertical-align: middle;\n    }\n\n    .dataframe tbody tr th {\n        vertical-align: top;\n    }\n\n    .dataframe thead th {\n        text-align: right;\n    }\n</style>\n<table border=\"1\" class=\"dataframe\">\n  <thead>\n    <tr style=\"text-align: right;\">\n      <th></th>\n      <th>0</th>\n      <th>1</th>\n      <th>2</th>\n      <th>3</th>\n      <th>4</th>\n      <th>5</th>\n    </tr>\n  </thead>\n  <tbody>\n    <tr>\n      <th>0</th>\n      <td>99</td>\n      <td>93</td>\n      <td>10</td>\n      <td>71</td>\n      <td>42</td>\n      <td>63</td>\n    </tr>\n    <tr>\n      <th>1</th>\n      <td>5</td>\n      <td>39</td>\n      <td>22</td>\n      <td>20</td>\n      <td>21</td>\n      <td>77</td>\n    </tr>\n    <tr>\n      <th>2</th>\n      <td>75</td>\n      <td>30</td>\n      <td>64</td>\n      <td>72</td>\n      <td>18</td>\n      <td>31</td>\n    </tr>\n    <tr>\n      <th>3</th>\n      <td>96</td>\n      <td>27</td>\n      <td>86</td>\n      <td>39</td>\n      <td>16</td>\n      <td>72</td>\n    </tr>\n    <tr>\n      <th>4</th>\n      <td>33</td>\n      <td>71</td>\n      <td>73</td>\n      <td>78</td>\n      <td>3</td>\n      <td>58</td>\n    </tr>\n  </tbody>\n</table>\n</div>"
     },
     "execution_count": 80,
     "metadata": {},
     "output_type": "execute_result"
    }
   ],
   "source": [
    "df.replace(to_replace={2:17},value='five') # 将2列的17替换为five\n",
    "# 将指定列的元素进行替换to_replace={列标签: 被替换值} value='value'"
   ],
   "metadata": {
    "collapsed": false,
    "ExecuteTime": {
     "end_time": "2023-11-30T12:12:29.735995Z",
     "start_time": "2023-11-30T12:12:29.728407Z"
    }
   },
   "id": "27a7cd6c87cd5ce5"
  },
  {
   "cell_type": "markdown",
   "source": [
    "### 映射操作\n",
    "  - 概念: 创建一个映射关系列表,把values元素和一个特定的标签或者字符串绑定(给一个元素值提供不同的表现形式)\n",
    "  - 创建一个df,两列分别是姓名和薪资,然后给其名字起对应的英文名"
   ],
   "metadata": {
    "collapsed": false
   },
   "id": "f47f0f555e47acaf"
  },
  {
   "cell_type": "code",
   "execution_count": 81,
   "outputs": [
    {
     "data": {
      "text/plain": "    name  salary\n0   John   10000\n1   Jack    4500\n2    Tom    8000\n3  Marry    6000\n4   Zack    7000",
      "text/html": "<div>\n<style scoped>\n    .dataframe tbody tr th:only-of-type {\n        vertical-align: middle;\n    }\n\n    .dataframe tbody tr th {\n        vertical-align: top;\n    }\n\n    .dataframe thead th {\n        text-align: right;\n    }\n</style>\n<table border=\"1\" class=\"dataframe\">\n  <thead>\n    <tr style=\"text-align: right;\">\n      <th></th>\n      <th>name</th>\n      <th>salary</th>\n    </tr>\n  </thead>\n  <tbody>\n    <tr>\n      <th>0</th>\n      <td>John</td>\n      <td>10000</td>\n    </tr>\n    <tr>\n      <th>1</th>\n      <td>Jack</td>\n      <td>4500</td>\n    </tr>\n    <tr>\n      <th>2</th>\n      <td>Tom</td>\n      <td>8000</td>\n    </tr>\n    <tr>\n      <th>3</th>\n      <td>Marry</td>\n      <td>6000</td>\n    </tr>\n    <tr>\n      <th>4</th>\n      <td>Zack</td>\n      <td>7000</td>\n    </tr>\n  </tbody>\n</table>\n</div>"
     },
     "execution_count": 81,
     "metadata": {},
     "output_type": "execute_result"
    }
   ],
   "source": [
    "dic = {\n",
    "    'name': ['John','Jack','Tom','Marry','Zack'],\n",
    "    'salary': [10000,4500,8000,6000,7000]\n",
    "}\n",
    "df = DataFrame(dic)\n",
    "df"
   ],
   "metadata": {
    "collapsed": false,
    "ExecuteTime": {
     "end_time": "2023-11-30T12:12:29.833129Z",
     "start_time": "2023-11-30T12:12:29.740508Z"
    }
   },
   "id": "dbc3860f2a9cd830"
  },
  {
   "cell_type": "code",
   "execution_count": 82,
   "outputs": [],
   "source": [
    "# 创建一个映射关系列表\n",
    "dic = {\n",
    "    'John': '约翰',\n",
    "    'Jack': '杰克',\n",
    "    'Tom': '汤姆',\n",
    "    'Marry': '玛丽',\n",
    "    'Zack': '扎克'\n",
    "}\n",
    "df['e_name'] = df['name'].map(dic) # 将name列的值进行映射"
   ],
   "metadata": {
    "collapsed": false,
    "ExecuteTime": {
     "end_time": "2023-11-30T12:12:29.858491Z",
     "start_time": "2023-11-30T12:12:29.771757Z"
    }
   },
   "id": "d30916eedf12f7cf"
  },
  {
   "cell_type": "markdown",
   "source": [
    "- map是一个Series的方法,只能被Series调用"
   ],
   "metadata": {
    "collapsed": false
   },
   "id": "7005e3f44bbcc6e1"
  },
  {
   "cell_type": "markdown",
   "source": [
    "### 运算工具\n",
    "  - 超过3000部分的钱缴纳50%的税,计算每个人的税后薪资"
   ],
   "metadata": {
    "collapsed": false
   },
   "id": "9a5ecd14c4b7da49"
  },
  {
   "cell_type": "code",
   "execution_count": 83,
   "outputs": [
    {
     "data": {
      "text/plain": "    name  salary e_name\n0   John   10000     约翰\n1   Jack    4500     杰克\n2    Tom    8000     汤姆\n3  Marry    6000     玛丽\n4   Zack    7000     扎克",
      "text/html": "<div>\n<style scoped>\n    .dataframe tbody tr th:only-of-type {\n        vertical-align: middle;\n    }\n\n    .dataframe tbody tr th {\n        vertical-align: top;\n    }\n\n    .dataframe thead th {\n        text-align: right;\n    }\n</style>\n<table border=\"1\" class=\"dataframe\">\n  <thead>\n    <tr style=\"text-align: right;\">\n      <th></th>\n      <th>name</th>\n      <th>salary</th>\n      <th>e_name</th>\n    </tr>\n  </thead>\n  <tbody>\n    <tr>\n      <th>0</th>\n      <td>John</td>\n      <td>10000</td>\n      <td>约翰</td>\n    </tr>\n    <tr>\n      <th>1</th>\n      <td>Jack</td>\n      <td>4500</td>\n      <td>杰克</td>\n    </tr>\n    <tr>\n      <th>2</th>\n      <td>Tom</td>\n      <td>8000</td>\n      <td>汤姆</td>\n    </tr>\n    <tr>\n      <th>3</th>\n      <td>Marry</td>\n      <td>6000</td>\n      <td>玛丽</td>\n    </tr>\n    <tr>\n      <th>4</th>\n      <td>Zack</td>\n      <td>7000</td>\n      <td>扎克</td>\n    </tr>\n  </tbody>\n</table>\n</div>"
     },
     "execution_count": 83,
     "metadata": {},
     "output_type": "execute_result"
    }
   ],
   "source": [
    "df"
   ],
   "metadata": {
    "collapsed": false,
    "ExecuteTime": {
     "end_time": "2023-11-30T12:12:29.867555Z",
     "start_time": "2023-11-30T12:12:29.782789Z"
    }
   },
   "id": "fa934fc975ec7ebf"
  },
  {
   "cell_type": "code",
   "execution_count": 84,
   "outputs": [
    {
     "data": {
      "text/plain": "0    6500.0\n1    3750.0\n2    5500.0\n3    4500.0\n4    5000.0\nName: salary, dtype: float64"
     },
     "execution_count": 84,
     "metadata": {},
     "output_type": "execute_result"
    }
   ],
   "source": [
    "def after_sal(s):\n",
    "    return s - (s-3000)*0.5\n",
    "df['salary'].map(after_sal) # salary的每个元素都会被传入到after_sal函数中"
   ],
   "metadata": {
    "collapsed": false,
    "ExecuteTime": {
     "end_time": "2023-11-30T12:12:29.867820Z",
     "start_time": "2023-11-30T12:12:29.789424Z"
    }
   },
   "id": "397dc7609c41e438"
  },
  {
   "cell_type": "markdown",
   "source": [
    "### 排序实现的随机抽样\n",
    "  - take()\n",
    "  - np.random.permutation()"
   ],
   "metadata": {
    "collapsed": false
   },
   "id": "8a79df97fbd81721"
  },
  {
   "cell_type": "code",
   "execution_count": 85,
   "outputs": [
    {
     "data": {
      "text/plain": "     A   B   C\n0   43  12  92\n1   79  62  55\n2   10  76  15\n3   49  30  23\n4   74  77  91\n..  ..  ..  ..\n95  89  64  36\n96   4  38  37\n97  60   8  49\n98   6  95  15\n99  57  32  56\n\n[100 rows x 3 columns]",
      "text/html": "<div>\n<style scoped>\n    .dataframe tbody tr th:only-of-type {\n        vertical-align: middle;\n    }\n\n    .dataframe tbody tr th {\n        vertical-align: top;\n    }\n\n    .dataframe thead th {\n        text-align: right;\n    }\n</style>\n<table border=\"1\" class=\"dataframe\">\n  <thead>\n    <tr style=\"text-align: right;\">\n      <th></th>\n      <th>A</th>\n      <th>B</th>\n      <th>C</th>\n    </tr>\n  </thead>\n  <tbody>\n    <tr>\n      <th>0</th>\n      <td>43</td>\n      <td>12</td>\n      <td>92</td>\n    </tr>\n    <tr>\n      <th>1</th>\n      <td>79</td>\n      <td>62</td>\n      <td>55</td>\n    </tr>\n    <tr>\n      <th>2</th>\n      <td>10</td>\n      <td>76</td>\n      <td>15</td>\n    </tr>\n    <tr>\n      <th>3</th>\n      <td>49</td>\n      <td>30</td>\n      <td>23</td>\n    </tr>\n    <tr>\n      <th>4</th>\n      <td>74</td>\n      <td>77</td>\n      <td>91</td>\n    </tr>\n    <tr>\n      <th>...</th>\n      <td>...</td>\n      <td>...</td>\n      <td>...</td>\n    </tr>\n    <tr>\n      <th>95</th>\n      <td>89</td>\n      <td>64</td>\n      <td>36</td>\n    </tr>\n    <tr>\n      <th>96</th>\n      <td>4</td>\n      <td>38</td>\n      <td>37</td>\n    </tr>\n    <tr>\n      <th>97</th>\n      <td>60</td>\n      <td>8</td>\n      <td>49</td>\n    </tr>\n    <tr>\n      <th>98</th>\n      <td>6</td>\n      <td>95</td>\n      <td>15</td>\n    </tr>\n    <tr>\n      <th>99</th>\n      <td>57</td>\n      <td>32</td>\n      <td>56</td>\n    </tr>\n  </tbody>\n</table>\n<p>100 rows × 3 columns</p>\n</div>"
     },
     "execution_count": 85,
     "metadata": {},
     "output_type": "execute_result"
    }
   ],
   "source": [
    "df = DataFrame(np.random.randint(0,100,size=(100,3)),columns=['A','B','C'])\n",
    "df"
   ],
   "metadata": {
    "collapsed": false,
    "ExecuteTime": {
     "end_time": "2023-11-30T12:12:29.867985Z",
     "start_time": "2023-11-30T12:12:29.814928Z"
    }
   },
   "id": "5bc5e57e26b1a81a"
  },
  {
   "cell_type": "code",
   "execution_count": 86,
   "outputs": [
    {
     "data": {
      "text/plain": "array([45, 96, 37, 23, 90,  8, 46,  3, 25, 13, 73, 11, 86, 67, 70, 10,  6,\n       83, 27, 47, 41, 43, 65, 16, 79, 94, 66, 84,  9, 24, 56, 22, 38, 55,\n       54,  5, 69, 19, 81, 98, 95, 85, 29, 60, 14, 92, 18, 31, 91, 50, 32,\n       26, 48, 40, 99, 58, 82, 17, 59, 53, 44, 71, 57, 88, 97,  2, 12, 61,\n       80, 87, 78,  1, 42, 36,  0, 39, 34, 72,  4, 20, 33, 68, 77, 52, 89,\n       93, 35,  7, 49, 75, 62, 63, 28, 74, 51, 76, 21, 64, 30, 15])"
     },
     "execution_count": 86,
     "metadata": {},
     "output_type": "execute_result"
    }
   ],
   "source": [
    "np.random.permutation(100) # 生成一个0-99的随机排列"
   ],
   "metadata": {
    "collapsed": false,
    "ExecuteTime": {
     "end_time": "2023-11-30T12:12:29.903185Z",
     "start_time": "2023-11-30T12:12:29.826138Z"
    }
   },
   "id": "d1beef821b77ba4d"
  },
  {
   "cell_type": "code",
   "execution_count": 87,
   "outputs": [
    {
     "data": {
      "text/plain": "     C   A   B\n0   92  43  12\n1   55  79  62\n2   15  10  76\n3   23  49  30\n4   91  74  77\n..  ..  ..  ..\n95  36  89  64\n96  37   4  38\n97  49  60   8\n98  15   6  95\n99  56  57  32\n\n[100 rows x 3 columns]",
      "text/html": "<div>\n<style scoped>\n    .dataframe tbody tr th:only-of-type {\n        vertical-align: middle;\n    }\n\n    .dataframe tbody tr th {\n        vertical-align: top;\n    }\n\n    .dataframe thead th {\n        text-align: right;\n    }\n</style>\n<table border=\"1\" class=\"dataframe\">\n  <thead>\n    <tr style=\"text-align: right;\">\n      <th></th>\n      <th>C</th>\n      <th>A</th>\n      <th>B</th>\n    </tr>\n  </thead>\n  <tbody>\n    <tr>\n      <th>0</th>\n      <td>92</td>\n      <td>43</td>\n      <td>12</td>\n    </tr>\n    <tr>\n      <th>1</th>\n      <td>55</td>\n      <td>79</td>\n      <td>62</td>\n    </tr>\n    <tr>\n      <th>2</th>\n      <td>15</td>\n      <td>10</td>\n      <td>76</td>\n    </tr>\n    <tr>\n      <th>3</th>\n      <td>23</td>\n      <td>49</td>\n      <td>30</td>\n    </tr>\n    <tr>\n      <th>4</th>\n      <td>91</td>\n      <td>74</td>\n      <td>77</td>\n    </tr>\n    <tr>\n      <th>...</th>\n      <td>...</td>\n      <td>...</td>\n      <td>...</td>\n    </tr>\n    <tr>\n      <th>95</th>\n      <td>36</td>\n      <td>89</td>\n      <td>64</td>\n    </tr>\n    <tr>\n      <th>96</th>\n      <td>37</td>\n      <td>4</td>\n      <td>38</td>\n    </tr>\n    <tr>\n      <th>97</th>\n      <td>49</td>\n      <td>60</td>\n      <td>8</td>\n    </tr>\n    <tr>\n      <th>98</th>\n      <td>15</td>\n      <td>6</td>\n      <td>95</td>\n    </tr>\n    <tr>\n      <th>99</th>\n      <td>56</td>\n      <td>57</td>\n      <td>32</td>\n    </tr>\n  </tbody>\n</table>\n<p>100 rows × 3 columns</p>\n</div>"
     },
     "execution_count": 87,
     "metadata": {},
     "output_type": "execute_result"
    }
   ],
   "source": [
    "# 将原始数据打乱\n",
    "df.take([2,0,1],axis=1) # axis=1表示按照列进行打乱"
   ],
   "metadata": {
    "collapsed": false,
    "ExecuteTime": {
     "end_time": "2023-11-30T12:12:29.903642Z",
     "start_time": "2023-11-30T12:12:29.846899Z"
    }
   },
   "id": "f0749621c6e7d340"
  },
  {
   "cell_type": "code",
   "execution_count": 88,
   "outputs": [
    {
     "data": {
      "text/plain": "     C   B   A\n26   3  38  70\n38  83  53   8\n21  86  91  17\n64  17  65  89\n40  85  48  78\n19  33  21  77\n89  92  27  42\n39  37  87  80\n75  72  32  43\n56  36  50  95\n44  85  27  26\n47  45   7  55\n20  79   3  74\n31  69  38  68\n67  97  20  48\n74  17  19  82\n62  46  62  22\n91  90  18  18\n13  31  22  87\n7   13  34  57\n6   81  59  73\n88  18  15  33\n4   91  77  74\n72   4  76  78\n9   63  81  28\n66  47  96   5\n46  49  78  44\n68  49   8  23\n81  58   5  23\n82   6  80  67\n1   55  62  79\n94  41   4  94\n87  29   6  46\n63  16  54  64\n5   87  48  83\n90  98  97  55\n84  25  75  54\n93  17  57  90\n77   6  18  66\n83  30  47  72\n42  64  84  28\n80  19  19  61\n58  40  51  80\n28  73  85   8\n15  54  99  92\n22  44  10  99\n97  49   8  60\n14  76  44   4\n41  99  92  68\n57   1  74  23",
      "text/html": "<div>\n<style scoped>\n    .dataframe tbody tr th:only-of-type {\n        vertical-align: middle;\n    }\n\n    .dataframe tbody tr th {\n        vertical-align: top;\n    }\n\n    .dataframe thead th {\n        text-align: right;\n    }\n</style>\n<table border=\"1\" class=\"dataframe\">\n  <thead>\n    <tr style=\"text-align: right;\">\n      <th></th>\n      <th>C</th>\n      <th>B</th>\n      <th>A</th>\n    </tr>\n  </thead>\n  <tbody>\n    <tr>\n      <th>26</th>\n      <td>3</td>\n      <td>38</td>\n      <td>70</td>\n    </tr>\n    <tr>\n      <th>38</th>\n      <td>83</td>\n      <td>53</td>\n      <td>8</td>\n    </tr>\n    <tr>\n      <th>21</th>\n      <td>86</td>\n      <td>91</td>\n      <td>17</td>\n    </tr>\n    <tr>\n      <th>64</th>\n      <td>17</td>\n      <td>65</td>\n      <td>89</td>\n    </tr>\n    <tr>\n      <th>40</th>\n      <td>85</td>\n      <td>48</td>\n      <td>78</td>\n    </tr>\n    <tr>\n      <th>19</th>\n      <td>33</td>\n      <td>21</td>\n      <td>77</td>\n    </tr>\n    <tr>\n      <th>89</th>\n      <td>92</td>\n      <td>27</td>\n      <td>42</td>\n    </tr>\n    <tr>\n      <th>39</th>\n      <td>37</td>\n      <td>87</td>\n      <td>80</td>\n    </tr>\n    <tr>\n      <th>75</th>\n      <td>72</td>\n      <td>32</td>\n      <td>43</td>\n    </tr>\n    <tr>\n      <th>56</th>\n      <td>36</td>\n      <td>50</td>\n      <td>95</td>\n    </tr>\n    <tr>\n      <th>44</th>\n      <td>85</td>\n      <td>27</td>\n      <td>26</td>\n    </tr>\n    <tr>\n      <th>47</th>\n      <td>45</td>\n      <td>7</td>\n      <td>55</td>\n    </tr>\n    <tr>\n      <th>20</th>\n      <td>79</td>\n      <td>3</td>\n      <td>74</td>\n    </tr>\n    <tr>\n      <th>31</th>\n      <td>69</td>\n      <td>38</td>\n      <td>68</td>\n    </tr>\n    <tr>\n      <th>67</th>\n      <td>97</td>\n      <td>20</td>\n      <td>48</td>\n    </tr>\n    <tr>\n      <th>74</th>\n      <td>17</td>\n      <td>19</td>\n      <td>82</td>\n    </tr>\n    <tr>\n      <th>62</th>\n      <td>46</td>\n      <td>62</td>\n      <td>22</td>\n    </tr>\n    <tr>\n      <th>91</th>\n      <td>90</td>\n      <td>18</td>\n      <td>18</td>\n    </tr>\n    <tr>\n      <th>13</th>\n      <td>31</td>\n      <td>22</td>\n      <td>87</td>\n    </tr>\n    <tr>\n      <th>7</th>\n      <td>13</td>\n      <td>34</td>\n      <td>57</td>\n    </tr>\n    <tr>\n      <th>6</th>\n      <td>81</td>\n      <td>59</td>\n      <td>73</td>\n    </tr>\n    <tr>\n      <th>88</th>\n      <td>18</td>\n      <td>15</td>\n      <td>33</td>\n    </tr>\n    <tr>\n      <th>4</th>\n      <td>91</td>\n      <td>77</td>\n      <td>74</td>\n    </tr>\n    <tr>\n      <th>72</th>\n      <td>4</td>\n      <td>76</td>\n      <td>78</td>\n    </tr>\n    <tr>\n      <th>9</th>\n      <td>63</td>\n      <td>81</td>\n      <td>28</td>\n    </tr>\n    <tr>\n      <th>66</th>\n      <td>47</td>\n      <td>96</td>\n      <td>5</td>\n    </tr>\n    <tr>\n      <th>46</th>\n      <td>49</td>\n      <td>78</td>\n      <td>44</td>\n    </tr>\n    <tr>\n      <th>68</th>\n      <td>49</td>\n      <td>8</td>\n      <td>23</td>\n    </tr>\n    <tr>\n      <th>81</th>\n      <td>58</td>\n      <td>5</td>\n      <td>23</td>\n    </tr>\n    <tr>\n      <th>82</th>\n      <td>6</td>\n      <td>80</td>\n      <td>67</td>\n    </tr>\n    <tr>\n      <th>1</th>\n      <td>55</td>\n      <td>62</td>\n      <td>79</td>\n    </tr>\n    <tr>\n      <th>94</th>\n      <td>41</td>\n      <td>4</td>\n      <td>94</td>\n    </tr>\n    <tr>\n      <th>87</th>\n      <td>29</td>\n      <td>6</td>\n      <td>46</td>\n    </tr>\n    <tr>\n      <th>63</th>\n      <td>16</td>\n      <td>54</td>\n      <td>64</td>\n    </tr>\n    <tr>\n      <th>5</th>\n      <td>87</td>\n      <td>48</td>\n      <td>83</td>\n    </tr>\n    <tr>\n      <th>90</th>\n      <td>98</td>\n      <td>97</td>\n      <td>55</td>\n    </tr>\n    <tr>\n      <th>84</th>\n      <td>25</td>\n      <td>75</td>\n      <td>54</td>\n    </tr>\n    <tr>\n      <th>93</th>\n      <td>17</td>\n      <td>57</td>\n      <td>90</td>\n    </tr>\n    <tr>\n      <th>77</th>\n      <td>6</td>\n      <td>18</td>\n      <td>66</td>\n    </tr>\n    <tr>\n      <th>83</th>\n      <td>30</td>\n      <td>47</td>\n      <td>72</td>\n    </tr>\n    <tr>\n      <th>42</th>\n      <td>64</td>\n      <td>84</td>\n      <td>28</td>\n    </tr>\n    <tr>\n      <th>80</th>\n      <td>19</td>\n      <td>19</td>\n      <td>61</td>\n    </tr>\n    <tr>\n      <th>58</th>\n      <td>40</td>\n      <td>51</td>\n      <td>80</td>\n    </tr>\n    <tr>\n      <th>28</th>\n      <td>73</td>\n      <td>85</td>\n      <td>8</td>\n    </tr>\n    <tr>\n      <th>15</th>\n      <td>54</td>\n      <td>99</td>\n      <td>92</td>\n    </tr>\n    <tr>\n      <th>22</th>\n      <td>44</td>\n      <td>10</td>\n      <td>99</td>\n    </tr>\n    <tr>\n      <th>97</th>\n      <td>49</td>\n      <td>8</td>\n      <td>60</td>\n    </tr>\n    <tr>\n      <th>14</th>\n      <td>76</td>\n      <td>44</td>\n      <td>4</td>\n    </tr>\n    <tr>\n      <th>41</th>\n      <td>99</td>\n      <td>92</td>\n      <td>68</td>\n    </tr>\n    <tr>\n      <th>57</th>\n      <td>1</td>\n      <td>74</td>\n      <td>23</td>\n    </tr>\n  </tbody>\n</table>\n</div>"
     },
     "execution_count": 88,
     "metadata": {},
     "output_type": "execute_result"
    }
   ],
   "source": [
    "# 将行和列都打乱,并且随机抽取50行\n",
    "df.take(np.random.permutation(3),axis=1).take(np.random.permutation(100),axis=0)[0:50]\n"
   ],
   "metadata": {
    "collapsed": false,
    "ExecuteTime": {
     "end_time": "2023-11-30T12:12:29.952949Z",
     "start_time": "2023-11-30T12:12:29.861603Z"
    }
   },
   "id": "47ef9f588fdc5f45"
  },
  {
   "cell_type": "markdown",
   "source": [
    "### 数据的分类处理\n",
    "  - 数据分类处理的核心\n",
    "    - groupby()\n",
    "    - groups属性查看分组情况"
   ],
   "metadata": {
    "collapsed": false
   },
   "id": "c22f1efda98102ff"
  },
  {
   "cell_type": "code",
   "execution_count": 89,
   "outputs": [
    {
     "data": {
      "text/plain": "  item  price   color  weight\n0   苹果    4.0     red      12\n1   香蕉    3.0  yellow      20\n2   橘子    3.5  yellow      21\n3   苹果    4.5   green      15\n4   香蕉    3.2   green      16\n5   橘子    3.8  yellow      19",
      "text/html": "<div>\n<style scoped>\n    .dataframe tbody tr th:only-of-type {\n        vertical-align: middle;\n    }\n\n    .dataframe tbody tr th {\n        vertical-align: top;\n    }\n\n    .dataframe thead th {\n        text-align: right;\n    }\n</style>\n<table border=\"1\" class=\"dataframe\">\n  <thead>\n    <tr style=\"text-align: right;\">\n      <th></th>\n      <th>item</th>\n      <th>price</th>\n      <th>color</th>\n      <th>weight</th>\n    </tr>\n  </thead>\n  <tbody>\n    <tr>\n      <th>0</th>\n      <td>苹果</td>\n      <td>4.0</td>\n      <td>red</td>\n      <td>12</td>\n    </tr>\n    <tr>\n      <th>1</th>\n      <td>香蕉</td>\n      <td>3.0</td>\n      <td>yellow</td>\n      <td>20</td>\n    </tr>\n    <tr>\n      <th>2</th>\n      <td>橘子</td>\n      <td>3.5</td>\n      <td>yellow</td>\n      <td>21</td>\n    </tr>\n    <tr>\n      <th>3</th>\n      <td>苹果</td>\n      <td>4.5</td>\n      <td>green</td>\n      <td>15</td>\n    </tr>\n    <tr>\n      <th>4</th>\n      <td>香蕉</td>\n      <td>3.2</td>\n      <td>green</td>\n      <td>16</td>\n    </tr>\n    <tr>\n      <th>5</th>\n      <td>橘子</td>\n      <td>3.8</td>\n      <td>yellow</td>\n      <td>19</td>\n    </tr>\n  </tbody>\n</table>\n</div>"
     },
     "execution_count": 89,
     "metadata": {},
     "output_type": "execute_result"
    }
   ],
   "source": [
    "df = DataFrame({'item':['苹果','香蕉','橘子','苹果','香蕉','橘子'],\n",
    "                'price':[4,3,3.5,4.5,3.2,3.8],\n",
    "                'color':['red','yellow','yellow','green','green','yellow'],\n",
    "                'weight':[12,20,21,15,16,19]})\n",
    "df"
   ],
   "metadata": {
    "collapsed": false,
    "ExecuteTime": {
     "end_time": "2023-11-30T12:12:29.953340Z",
     "start_time": "2023-11-30T12:12:29.888100Z"
    }
   },
   "id": "4cb5372b0d4a2a27"
  },
  {
   "cell_type": "code",
   "execution_count": 90,
   "outputs": [
    {
     "data": {
      "text/plain": "<pandas.core.groupby.generic.DataFrameGroupBy object at 0x7f201cf812b0>"
     },
     "execution_count": 90,
     "metadata": {},
     "output_type": "execute_result"
    }
   ],
   "source": [
    "# 对水果的种类进行分组\n",
    "df.groupby(by='item')"
   ],
   "metadata": {
    "collapsed": false,
    "ExecuteTime": {
     "end_time": "2023-11-30T12:12:29.969427Z",
     "start_time": "2023-11-30T12:12:29.897594Z"
    }
   },
   "id": "4176256d6c9b1929"
  },
  {
   "cell_type": "code",
   "execution_count": 91,
   "outputs": [
    {
     "data": {
      "text/plain": "{'橘子': [2, 5], '苹果': [0, 3], '香蕉': [1, 4]}"
     },
     "execution_count": 91,
     "metadata": {},
     "output_type": "execute_result"
    }
   ],
   "source": [
    "# 查看详细的分组情况\n",
    "df.groupby(by='item').groups"
   ],
   "metadata": {
    "collapsed": false,
    "ExecuteTime": {
     "end_time": "2023-11-30T12:12:30.007721Z",
     "start_time": "2023-11-30T12:12:29.907189Z"
    }
   },
   "id": "968555ac77916182"
  },
  {
   "cell_type": "code",
   "execution_count": 92,
   "outputs": [
    {
     "data": {
      "text/plain": "item\n橘子    3.65\n苹果    4.25\n香蕉    3.10\nName: price, dtype: float64"
     },
     "execution_count": 92,
     "metadata": {},
     "output_type": "execute_result"
    }
   ],
   "source": [
    "# 计算出每一种水果的平均价值\n",
    "df.groupby(by='item')['price'].mean()"
   ],
   "metadata": {
    "collapsed": false,
    "ExecuteTime": {
     "end_time": "2023-11-30T12:12:30.015844Z",
     "start_time": "2023-11-30T12:12:29.932595Z"
    }
   },
   "id": "9edb10ec12d7d57a"
  },
  {
   "cell_type": "code",
   "execution_count": 93,
   "outputs": [
    {
     "data": {
      "text/plain": "color\ngreen     15.5\nred       12.0\nyellow    20.0\nName: weight, dtype: float64"
     },
     "execution_count": 93,
     "metadata": {},
     "output_type": "execute_result"
    }
   ],
   "source": [
    "# 计算每一种颜色对应水果的平均重量\n",
    "df.groupby(by='color')['weight'].mean()"
   ],
   "metadata": {
    "collapsed": false,
    "ExecuteTime": {
     "end_time": "2023-11-30T12:12:30.016248Z",
     "start_time": "2023-11-30T12:12:29.952586Z"
    }
   },
   "id": "418c96271810ead4"
  },
  {
   "cell_type": "code",
   "execution_count": 94,
   "outputs": [
    {
     "data": {
      "text/plain": "  item  price   color  weight\n0   苹果    4.0     red      12\n1   香蕉    3.0  yellow      20\n2   橘子    3.5  yellow      21\n3   苹果    4.5   green      15\n4   香蕉    3.2   green      16\n5   橘子    3.8  yellow      19",
      "text/html": "<div>\n<style scoped>\n    .dataframe tbody tr th:only-of-type {\n        vertical-align: middle;\n    }\n\n    .dataframe tbody tr th {\n        vertical-align: top;\n    }\n\n    .dataframe thead th {\n        text-align: right;\n    }\n</style>\n<table border=\"1\" class=\"dataframe\">\n  <thead>\n    <tr style=\"text-align: right;\">\n      <th></th>\n      <th>item</th>\n      <th>price</th>\n      <th>color</th>\n      <th>weight</th>\n    </tr>\n  </thead>\n  <tbody>\n    <tr>\n      <th>0</th>\n      <td>苹果</td>\n      <td>4.0</td>\n      <td>red</td>\n      <td>12</td>\n    </tr>\n    <tr>\n      <th>1</th>\n      <td>香蕉</td>\n      <td>3.0</td>\n      <td>yellow</td>\n      <td>20</td>\n    </tr>\n    <tr>\n      <th>2</th>\n      <td>橘子</td>\n      <td>3.5</td>\n      <td>yellow</td>\n      <td>21</td>\n    </tr>\n    <tr>\n      <th>3</th>\n      <td>苹果</td>\n      <td>4.5</td>\n      <td>green</td>\n      <td>15</td>\n    </tr>\n    <tr>\n      <th>4</th>\n      <td>香蕉</td>\n      <td>3.2</td>\n      <td>green</td>\n      <td>16</td>\n    </tr>\n    <tr>\n      <th>5</th>\n      <td>橘子</td>\n      <td>3.8</td>\n      <td>yellow</td>\n      <td>19</td>\n    </tr>\n  </tbody>\n</table>\n</div>"
     },
     "execution_count": 94,
     "metadata": {},
     "output_type": "execute_result"
    }
   ],
   "source": [
    "df"
   ],
   "metadata": {
    "collapsed": false,
    "ExecuteTime": {
     "end_time": "2023-11-30T12:12:30.071197Z",
     "start_time": "2023-11-30T12:12:29.967009Z"
    }
   },
   "id": "1ca7228303ce05f"
  },
  {
   "cell_type": "code",
   "execution_count": 98,
   "outputs": [
    {
     "data": {
      "text/plain": "  item  price   color  weight   总数据\n0   苹果    4.0     red      12  12.0\n1   香蕉    3.0  yellow      20  20.0\n2   橘子    3.5  yellow      21  20.0\n3   苹果    4.5   green      15  15.5\n4   香蕉    3.2   green      16  15.5\n5   橘子    3.8  yellow      19  20.0",
      "text/html": "<div>\n<style scoped>\n    .dataframe tbody tr th:only-of-type {\n        vertical-align: middle;\n    }\n\n    .dataframe tbody tr th {\n        vertical-align: top;\n    }\n\n    .dataframe thead th {\n        text-align: right;\n    }\n</style>\n<table border=\"1\" class=\"dataframe\">\n  <thead>\n    <tr style=\"text-align: right;\">\n      <th></th>\n      <th>item</th>\n      <th>price</th>\n      <th>color</th>\n      <th>weight</th>\n      <th>总数据</th>\n    </tr>\n  </thead>\n  <tbody>\n    <tr>\n      <th>0</th>\n      <td>苹果</td>\n      <td>4.0</td>\n      <td>red</td>\n      <td>12</td>\n      <td>12.0</td>\n    </tr>\n    <tr>\n      <th>1</th>\n      <td>香蕉</td>\n      <td>3.0</td>\n      <td>yellow</td>\n      <td>20</td>\n      <td>20.0</td>\n    </tr>\n    <tr>\n      <th>2</th>\n      <td>橘子</td>\n      <td>3.5</td>\n      <td>yellow</td>\n      <td>21</td>\n      <td>20.0</td>\n    </tr>\n    <tr>\n      <th>3</th>\n      <td>苹果</td>\n      <td>4.5</td>\n      <td>green</td>\n      <td>15</td>\n      <td>15.5</td>\n    </tr>\n    <tr>\n      <th>4</th>\n      <td>香蕉</td>\n      <td>3.2</td>\n      <td>green</td>\n      <td>16</td>\n      <td>15.5</td>\n    </tr>\n    <tr>\n      <th>5</th>\n      <td>橘子</td>\n      <td>3.8</td>\n      <td>yellow</td>\n      <td>19</td>\n      <td>20.0</td>\n    </tr>\n  </tbody>\n</table>\n</div>"
     },
     "execution_count": 98,
     "metadata": {},
     "output_type": "execute_result"
    }
   ],
   "source": [
    "# 将计算出的平均重量汇总到源数据\n",
    "df_dic = df.groupby(by='color')['weight'].mean().to_dict() # to_dict()将Series转换为字典\n",
    "df['总数据'] = df['color'].map(df_dic)\n",
    "df"
   ],
   "metadata": {
    "collapsed": false,
    "ExecuteTime": {
     "end_time": "2023-11-30T12:12:55.078460Z",
     "start_time": "2023-11-30T12:12:55.052653Z"
    }
   },
   "id": "543c2b849cf47657"
  },
  {
   "cell_type": "markdown",
   "source": [
    "### 高级数据聚合\n",
    "  - 使用groupby()分组后,也可以使用transform()和apply()提供自定义函数实现更多运算\n",
    "  - df.groupby('item')['price'].sum() <==> df.groupby('item')['price'].apply(sum)\n",
    "  - transform()和apply()都可以进行运算\n",
    "  - transform()和apply()也可以传入一个lambda表达式 "
   ],
   "metadata": {
    "collapsed": false
   },
   "id": "8b9b9c80cdbf087c"
  },
  {
   "cell_type": "code",
   "execution_count": 99,
   "outputs": [],
   "source": [
    "def my_mean(a):\n",
    "    pass"
   ],
   "metadata": {
    "collapsed": false,
    "ExecuteTime": {
     "end_time": "2023-11-30T12:25:25.447222Z",
     "start_time": "2023-11-30T12:25:25.436934Z"
    }
   },
   "id": "1bd7ee41643d6666"
  },
  {
   "cell_type": "code",
   "execution_count": 100,
   "outputs": [
    {
     "data": {
      "text/plain": "<pandas.core.groupby.generic.SeriesGroupBy object at 0x7f1fe8d20d30>"
     },
     "execution_count": 100,
     "metadata": {},
     "output_type": "execute_result"
    }
   ],
   "source": [
    "# 如果你想要对分组后的数据进行运算调用 my_mean函数, 那么就需要使用apply()函数\n",
    "# 为什么要使用apply()函数呢? 不可以直接.my_mean()吗?\n",
    "# 通常来说,使用“.”来调用方法的话,那么这个方法必须是需要被调用的对象的方法,所以我们需要使用apply()函数或者transform()函数\n",
    "df.groupby(by='item')['price'].apply(my_mean)"
   ],
   "metadata": {
    "collapsed": false,
    "ExecuteTime": {
     "end_time": "2023-11-30T12:29:06.285930Z",
     "start_time": "2023-11-30T12:29:06.271532Z"
    }
   },
   "id": "92dfb2c4b95a995f"
  }
 ],
 "metadata": {
  "kernelspec": {
   "display_name": "Python 3",
   "language": "python",
   "name": "python3"
  },
  "language_info": {
   "codemirror_mode": {
    "name": "ipython",
    "version": 2
   },
   "file_extension": ".py",
   "mimetype": "text/x-python",
   "name": "python",
   "nbconvert_exporter": "python",
   "pygments_lexer": "ipython2",
   "version": "2.7.6"
  }
 },
 "nbformat": 4,
 "nbformat_minor": 5
}
