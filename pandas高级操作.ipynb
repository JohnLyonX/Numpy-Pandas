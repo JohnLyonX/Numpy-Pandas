{
 "cells": [
  {
   "cell_type": "code",
   "execution_count": 4,
   "id": "initial_id",
   "metadata": {
    "collapsed": true,
    "ExecuteTime": {
     "end_time": "2023-11-30T11:03:36.387838Z",
     "start_time": "2023-11-30T11:03:35.732485Z"
    }
   },
   "outputs": [],
   "source": [
    "import pandas as pd\n",
    "import numpy as np\n",
    "from pandas import DataFrame"
   ]
  },
  {
   "cell_type": "markdown",
   "source": [
    "#### 替换操作\n",
    "  - 替换操作可以同步作用于Series和DataFrame中\n",
    "  - 单值替换\n",
    "    - 普通替换: 替换所有符合要求的元素: to_replace=15,value='e'\n",
    "    - 按照指定单值替换: to_replace={列标签: 替换值} value='value'\n",
    "  - 多值替换\n",
    "    - 列表替换: to_replace=[] value=[]\n",
    "    - 字典替换(推荐) to_replace=(to_replace:value,to_replace:value)"
   ],
   "metadata": {
    "collapsed": false
   },
   "id": "61c28c5e3e59c9c6"
  },
  {
   "cell_type": "code",
   "execution_count": 5,
   "outputs": [
    {
     "data": {
      "text/plain": "    0   1   2   3   4   5\n0  96   8  81   7  26  20\n1  82  87  18  59  22  13\n2  97  60   4  89  62  34\n3  83  59  98  57  16   5\n4  90  67  83   4  89  15",
      "text/html": "<div>\n<style scoped>\n    .dataframe tbody tr th:only-of-type {\n        vertical-align: middle;\n    }\n\n    .dataframe tbody tr th {\n        vertical-align: top;\n    }\n\n    .dataframe thead th {\n        text-align: right;\n    }\n</style>\n<table border=\"1\" class=\"dataframe\">\n  <thead>\n    <tr style=\"text-align: right;\">\n      <th></th>\n      <th>0</th>\n      <th>1</th>\n      <th>2</th>\n      <th>3</th>\n      <th>4</th>\n      <th>5</th>\n    </tr>\n  </thead>\n  <tbody>\n    <tr>\n      <th>0</th>\n      <td>96</td>\n      <td>8</td>\n      <td>81</td>\n      <td>7</td>\n      <td>26</td>\n      <td>20</td>\n    </tr>\n    <tr>\n      <th>1</th>\n      <td>82</td>\n      <td>87</td>\n      <td>18</td>\n      <td>59</td>\n      <td>22</td>\n      <td>13</td>\n    </tr>\n    <tr>\n      <th>2</th>\n      <td>97</td>\n      <td>60</td>\n      <td>4</td>\n      <td>89</td>\n      <td>62</td>\n      <td>34</td>\n    </tr>\n    <tr>\n      <th>3</th>\n      <td>83</td>\n      <td>59</td>\n      <td>98</td>\n      <td>57</td>\n      <td>16</td>\n      <td>5</td>\n    </tr>\n    <tr>\n      <th>4</th>\n      <td>90</td>\n      <td>67</td>\n      <td>83</td>\n      <td>4</td>\n      <td>89</td>\n      <td>15</td>\n    </tr>\n  </tbody>\n</table>\n</div>"
     },
     "execution_count": 5,
     "metadata": {},
     "output_type": "execute_result"
    }
   ],
   "source": [
    "df = DataFrame(np.random.randint(0,100,size=(5,6)))\n",
    "df"
   ],
   "metadata": {
    "collapsed": false,
    "ExecuteTime": {
     "end_time": "2023-11-30T11:03:36.430539Z",
     "start_time": "2023-11-30T11:03:36.407603Z"
    }
   },
   "id": "f688a01a46128ba8"
  },
  {
   "cell_type": "code",
   "execution_count": 6,
   "outputs": [
    {
     "data": {
      "text/plain": "    0   1   2   3    4   5\n0  96   8  81   7   26  20\n1  82  87  18  59   22  13\n2  97  60   4  89   62  34\n3  83  59  98  57  Two   5\n4  90  67  83   4   89  15",
      "text/html": "<div>\n<style scoped>\n    .dataframe tbody tr th:only-of-type {\n        vertical-align: middle;\n    }\n\n    .dataframe tbody tr th {\n        vertical-align: top;\n    }\n\n    .dataframe thead th {\n        text-align: right;\n    }\n</style>\n<table border=\"1\" class=\"dataframe\">\n  <thead>\n    <tr style=\"text-align: right;\">\n      <th></th>\n      <th>0</th>\n      <th>1</th>\n      <th>2</th>\n      <th>3</th>\n      <th>4</th>\n      <th>5</th>\n    </tr>\n  </thead>\n  <tbody>\n    <tr>\n      <th>0</th>\n      <td>96</td>\n      <td>8</td>\n      <td>81</td>\n      <td>7</td>\n      <td>26</td>\n      <td>20</td>\n    </tr>\n    <tr>\n      <th>1</th>\n      <td>82</td>\n      <td>87</td>\n      <td>18</td>\n      <td>59</td>\n      <td>22</td>\n      <td>13</td>\n    </tr>\n    <tr>\n      <th>2</th>\n      <td>97</td>\n      <td>60</td>\n      <td>4</td>\n      <td>89</td>\n      <td>62</td>\n      <td>34</td>\n    </tr>\n    <tr>\n      <th>3</th>\n      <td>83</td>\n      <td>59</td>\n      <td>98</td>\n      <td>57</td>\n      <td>Two</td>\n      <td>5</td>\n    </tr>\n    <tr>\n      <th>4</th>\n      <td>90</td>\n      <td>67</td>\n      <td>83</td>\n      <td>4</td>\n      <td>89</td>\n      <td>15</td>\n    </tr>\n  </tbody>\n</table>\n</div>"
     },
     "execution_count": 6,
     "metadata": {},
     "output_type": "execute_result"
    }
   ],
   "source": [
    "df.replace(to_replace=16,value='Two') # 把16的值都进行替换"
   ],
   "metadata": {
    "collapsed": false,
    "ExecuteTime": {
     "end_time": "2023-11-30T11:03:36.490282Z",
     "start_time": "2023-11-30T11:03:36.445057Z"
    }
   },
   "id": "9f123f100d956f57"
  },
  {
   "cell_type": "code",
   "execution_count": 7,
   "outputs": [
    {
     "data": {
      "text/plain": "    0   1   2   3     4   5\n0  96   8  81   7    26  20\n1  82  87  18  59    22  13\n2  97  60   4  89  John  34\n3  83  59  98  57    16   5\n4  90  67  83   4    89  15",
      "text/html": "<div>\n<style scoped>\n    .dataframe tbody tr th:only-of-type {\n        vertical-align: middle;\n    }\n\n    .dataframe tbody tr th {\n        vertical-align: top;\n    }\n\n    .dataframe thead th {\n        text-align: right;\n    }\n</style>\n<table border=\"1\" class=\"dataframe\">\n  <thead>\n    <tr style=\"text-align: right;\">\n      <th></th>\n      <th>0</th>\n      <th>1</th>\n      <th>2</th>\n      <th>3</th>\n      <th>4</th>\n      <th>5</th>\n    </tr>\n  </thead>\n  <tbody>\n    <tr>\n      <th>0</th>\n      <td>96</td>\n      <td>8</td>\n      <td>81</td>\n      <td>7</td>\n      <td>26</td>\n      <td>20</td>\n    </tr>\n    <tr>\n      <th>1</th>\n      <td>82</td>\n      <td>87</td>\n      <td>18</td>\n      <td>59</td>\n      <td>22</td>\n      <td>13</td>\n    </tr>\n    <tr>\n      <th>2</th>\n      <td>97</td>\n      <td>60</td>\n      <td>4</td>\n      <td>89</td>\n      <td>John</td>\n      <td>34</td>\n    </tr>\n    <tr>\n      <th>3</th>\n      <td>83</td>\n      <td>59</td>\n      <td>98</td>\n      <td>57</td>\n      <td>16</td>\n      <td>5</td>\n    </tr>\n    <tr>\n      <th>4</th>\n      <td>90</td>\n      <td>67</td>\n      <td>83</td>\n      <td>4</td>\n      <td>89</td>\n      <td>15</td>\n    </tr>\n  </tbody>\n</table>\n</div>"
     },
     "execution_count": 7,
     "metadata": {},
     "output_type": "execute_result"
    }
   ],
   "source": [
    "df.replace(to_replace={62:'John'}) # 把62的值都进行替换 "
   ],
   "metadata": {
    "collapsed": false,
    "ExecuteTime": {
     "end_time": "2023-11-30T11:03:36.494726Z",
     "start_time": "2023-11-30T11:03:36.466408Z"
    }
   },
   "id": "d62d02d11461d656"
  },
  {
   "cell_type": "code",
   "execution_count": 8,
   "outputs": [
    {
     "data": {
      "text/plain": "    0   1   2   3   4   5\n0  96   8  81   7  26  20\n1  82  87  18  59  22  13\n2  97  60   4  89  62  34\n3  83  59  98  57  16   5\n4  90  67  83   4  89  15",
      "text/html": "<div>\n<style scoped>\n    .dataframe tbody tr th:only-of-type {\n        vertical-align: middle;\n    }\n\n    .dataframe tbody tr th {\n        vertical-align: top;\n    }\n\n    .dataframe thead th {\n        text-align: right;\n    }\n</style>\n<table border=\"1\" class=\"dataframe\">\n  <thead>\n    <tr style=\"text-align: right;\">\n      <th></th>\n      <th>0</th>\n      <th>1</th>\n      <th>2</th>\n      <th>3</th>\n      <th>4</th>\n      <th>5</th>\n    </tr>\n  </thead>\n  <tbody>\n    <tr>\n      <th>0</th>\n      <td>96</td>\n      <td>8</td>\n      <td>81</td>\n      <td>7</td>\n      <td>26</td>\n      <td>20</td>\n    </tr>\n    <tr>\n      <th>1</th>\n      <td>82</td>\n      <td>87</td>\n      <td>18</td>\n      <td>59</td>\n      <td>22</td>\n      <td>13</td>\n    </tr>\n    <tr>\n      <th>2</th>\n      <td>97</td>\n      <td>60</td>\n      <td>4</td>\n      <td>89</td>\n      <td>62</td>\n      <td>34</td>\n    </tr>\n    <tr>\n      <th>3</th>\n      <td>83</td>\n      <td>59</td>\n      <td>98</td>\n      <td>57</td>\n      <td>16</td>\n      <td>5</td>\n    </tr>\n    <tr>\n      <th>4</th>\n      <td>90</td>\n      <td>67</td>\n      <td>83</td>\n      <td>4</td>\n      <td>89</td>\n      <td>15</td>\n    </tr>\n  </tbody>\n</table>\n</div>"
     },
     "execution_count": 8,
     "metadata": {},
     "output_type": "execute_result"
    }
   ],
   "source": [
    "df.replace(to_replace={2:17},value='five') # 将2列的17替换为five\n",
    "# 将指定列的元素进行替换to_replace={列标签: 被替换值} value='value'"
   ],
   "metadata": {
    "collapsed": false,
    "ExecuteTime": {
     "end_time": "2023-11-30T11:03:36.542874Z",
     "start_time": "2023-11-30T11:03:36.506382Z"
    }
   },
   "id": "27a7cd6c87cd5ce5"
  },
  {
   "cell_type": "markdown",
   "source": [
    "### 映射操作\n",
    "  - 概念: 创建一个映射关系列表,把values元素和一个特定的标签或者字符串绑定(给一个元素值提供不同的表现形式)\n",
    "  - 创建一个df,两列分别是姓名和薪资,然后给其名字起对应的英文名"
   ],
   "metadata": {
    "collapsed": false
   },
   "id": "f47f0f555e47acaf"
  },
  {
   "cell_type": "code",
   "execution_count": 9,
   "outputs": [
    {
     "data": {
      "text/plain": "    name  salary\n0   John   10000\n1   Jack    4500\n2    Tom    8000\n3  Marry    6000\n4   Zack    7000",
      "text/html": "<div>\n<style scoped>\n    .dataframe tbody tr th:only-of-type {\n        vertical-align: middle;\n    }\n\n    .dataframe tbody tr th {\n        vertical-align: top;\n    }\n\n    .dataframe thead th {\n        text-align: right;\n    }\n</style>\n<table border=\"1\" class=\"dataframe\">\n  <thead>\n    <tr style=\"text-align: right;\">\n      <th></th>\n      <th>name</th>\n      <th>salary</th>\n    </tr>\n  </thead>\n  <tbody>\n    <tr>\n      <th>0</th>\n      <td>John</td>\n      <td>10000</td>\n    </tr>\n    <tr>\n      <th>1</th>\n      <td>Jack</td>\n      <td>4500</td>\n    </tr>\n    <tr>\n      <th>2</th>\n      <td>Tom</td>\n      <td>8000</td>\n    </tr>\n    <tr>\n      <th>3</th>\n      <td>Marry</td>\n      <td>6000</td>\n    </tr>\n    <tr>\n      <th>4</th>\n      <td>Zack</td>\n      <td>7000</td>\n    </tr>\n  </tbody>\n</table>\n</div>"
     },
     "execution_count": 9,
     "metadata": {},
     "output_type": "execute_result"
    }
   ],
   "source": [
    "dic = {\n",
    "    'name': ['John','Jack','Tom','Marry','Zack'],\n",
    "    'salary': [10000,4500,8000,6000,7000]\n",
    "}\n",
    "df = DataFrame(dic)\n",
    "df"
   ],
   "metadata": {
    "collapsed": false,
    "ExecuteTime": {
     "end_time": "2023-11-30T11:03:36.580033Z",
     "start_time": "2023-11-30T11:03:36.546722Z"
    }
   },
   "id": "dbc3860f2a9cd830"
  },
  {
   "cell_type": "code",
   "execution_count": 10,
   "outputs": [],
   "source": [
    "# 创建一个映射关系列表\n",
    "dic = {\n",
    "    'John': '约翰',\n",
    "    'Jack': '杰克',\n",
    "    'Tom': '汤姆',\n",
    "    'Marry': '玛丽',\n",
    "    'Zack': '扎克'\n",
    "}\n",
    "df['e_name'] = df['name'].map(dic) # 将name列的值进行映射"
   ],
   "metadata": {
    "collapsed": false,
    "ExecuteTime": {
     "end_time": "2023-11-30T11:03:36.605129Z",
     "start_time": "2023-11-30T11:03:36.550711Z"
    }
   },
   "id": "d30916eedf12f7cf"
  },
  {
   "cell_type": "markdown",
   "source": [
    "- map是一个Series的方法,只能被Series调用"
   ],
   "metadata": {
    "collapsed": false
   },
   "id": "7005e3f44bbcc6e1"
  },
  {
   "cell_type": "markdown",
   "source": [
    "### 运算工具\n",
    "  - 超过3000部分的钱缴纳50%的税,计算每个人的税后薪资"
   ],
   "metadata": {
    "collapsed": false
   },
   "id": "9a5ecd14c4b7da49"
  },
  {
   "cell_type": "code",
   "execution_count": 11,
   "outputs": [
    {
     "data": {
      "text/plain": "    name  salary e_name\n0   John   10000     约翰\n1   Jack    4500     杰克\n2    Tom    8000     汤姆\n3  Marry    6000     玛丽\n4   Zack    7000     扎克",
      "text/html": "<div>\n<style scoped>\n    .dataframe tbody tr th:only-of-type {\n        vertical-align: middle;\n    }\n\n    .dataframe tbody tr th {\n        vertical-align: top;\n    }\n\n    .dataframe thead th {\n        text-align: right;\n    }\n</style>\n<table border=\"1\" class=\"dataframe\">\n  <thead>\n    <tr style=\"text-align: right;\">\n      <th></th>\n      <th>name</th>\n      <th>salary</th>\n      <th>e_name</th>\n    </tr>\n  </thead>\n  <tbody>\n    <tr>\n      <th>0</th>\n      <td>John</td>\n      <td>10000</td>\n      <td>约翰</td>\n    </tr>\n    <tr>\n      <th>1</th>\n      <td>Jack</td>\n      <td>4500</td>\n      <td>杰克</td>\n    </tr>\n    <tr>\n      <th>2</th>\n      <td>Tom</td>\n      <td>8000</td>\n      <td>汤姆</td>\n    </tr>\n    <tr>\n      <th>3</th>\n      <td>Marry</td>\n      <td>6000</td>\n      <td>玛丽</td>\n    </tr>\n    <tr>\n      <th>4</th>\n      <td>Zack</td>\n      <td>7000</td>\n      <td>扎克</td>\n    </tr>\n  </tbody>\n</table>\n</div>"
     },
     "execution_count": 11,
     "metadata": {},
     "output_type": "execute_result"
    }
   ],
   "source": [
    "df"
   ],
   "metadata": {
    "collapsed": false,
    "ExecuteTime": {
     "end_time": "2023-11-30T11:03:36.624503Z",
     "start_time": "2023-11-30T11:03:36.574960Z"
    }
   },
   "id": "fa934fc975ec7ebf"
  },
  {
   "cell_type": "code",
   "execution_count": 12,
   "outputs": [
    {
     "data": {
      "text/plain": "0    6500.0\n1    3750.0\n2    5500.0\n3    4500.0\n4    5000.0\nName: salary, dtype: float64"
     },
     "execution_count": 12,
     "metadata": {},
     "output_type": "execute_result"
    }
   ],
   "source": [
    "def after_sal(s):\n",
    "    return s - (s-3000)*0.5\n",
    "df['salary'].map(after_sal) # salary的每个元素都会被传入到after_sal函数中"
   ],
   "metadata": {
    "collapsed": false,
    "ExecuteTime": {
     "end_time": "2023-11-30T11:03:36.663836Z",
     "start_time": "2023-11-30T11:03:36.599127Z"
    }
   },
   "id": "397dc7609c41e438"
  },
  {
   "cell_type": "markdown",
   "source": [
    "### 排序实现的随机抽样\n",
    "  - take()\n",
    "  - np.random.permutation()"
   ],
   "metadata": {
    "collapsed": false
   },
   "id": "8a79df97fbd81721"
  },
  {
   "cell_type": "code",
   "execution_count": 13,
   "outputs": [
    {
     "data": {
      "text/plain": "     A   B   C\n0   42  86  24\n1   55  22  82\n2   74  54  86\n3   51  97  19\n4   61  11  72\n..  ..  ..  ..\n95  18  75  42\n96  66  79  47\n97  20  81  94\n98  62  32  64\n99  85   1  15\n\n[100 rows x 3 columns]",
      "text/html": "<div>\n<style scoped>\n    .dataframe tbody tr th:only-of-type {\n        vertical-align: middle;\n    }\n\n    .dataframe tbody tr th {\n        vertical-align: top;\n    }\n\n    .dataframe thead th {\n        text-align: right;\n    }\n</style>\n<table border=\"1\" class=\"dataframe\">\n  <thead>\n    <tr style=\"text-align: right;\">\n      <th></th>\n      <th>A</th>\n      <th>B</th>\n      <th>C</th>\n    </tr>\n  </thead>\n  <tbody>\n    <tr>\n      <th>0</th>\n      <td>42</td>\n      <td>86</td>\n      <td>24</td>\n    </tr>\n    <tr>\n      <th>1</th>\n      <td>55</td>\n      <td>22</td>\n      <td>82</td>\n    </tr>\n    <tr>\n      <th>2</th>\n      <td>74</td>\n      <td>54</td>\n      <td>86</td>\n    </tr>\n    <tr>\n      <th>3</th>\n      <td>51</td>\n      <td>97</td>\n      <td>19</td>\n    </tr>\n    <tr>\n      <th>4</th>\n      <td>61</td>\n      <td>11</td>\n      <td>72</td>\n    </tr>\n    <tr>\n      <th>...</th>\n      <td>...</td>\n      <td>...</td>\n      <td>...</td>\n    </tr>\n    <tr>\n      <th>95</th>\n      <td>18</td>\n      <td>75</td>\n      <td>42</td>\n    </tr>\n    <tr>\n      <th>96</th>\n      <td>66</td>\n      <td>79</td>\n      <td>47</td>\n    </tr>\n    <tr>\n      <th>97</th>\n      <td>20</td>\n      <td>81</td>\n      <td>94</td>\n    </tr>\n    <tr>\n      <th>98</th>\n      <td>62</td>\n      <td>32</td>\n      <td>64</td>\n    </tr>\n    <tr>\n      <th>99</th>\n      <td>85</td>\n      <td>1</td>\n      <td>15</td>\n    </tr>\n  </tbody>\n</table>\n<p>100 rows × 3 columns</p>\n</div>"
     },
     "execution_count": 13,
     "metadata": {},
     "output_type": "execute_result"
    }
   ],
   "source": [
    "df = DataFrame(np.random.randint(0,100,size=(100,3)),columns=['A','B','C'])\n",
    "df"
   ],
   "metadata": {
    "collapsed": false,
    "ExecuteTime": {
     "end_time": "2023-11-30T11:03:36.699310Z",
     "start_time": "2023-11-30T11:03:36.625679Z"
    }
   },
   "id": "5bc5e57e26b1a81a"
  },
  {
   "cell_type": "code",
   "execution_count": 16,
   "outputs": [
    {
     "data": {
      "text/plain": "array([ 5, 89, 63, 65, 31, 66, 39, 46, 60,  2, 79, 32, 73, 29,  7, 81, 64,\n       54, 98, 90, 15, 10, 62, 11, 91, 40, 33, 84, 28, 41, 83, 87, 68, 22,\n        8, 94, 43, 55,  3, 75, 58, 77, 59,  6, 76, 45, 86, 96, 85, 74, 51,\n       13,  4, 82, 71, 50, 42, 20, 19,  0, 48, 70, 88, 69, 78, 12, 67, 44,\n       61, 36, 35,  1, 24, 18, 57, 93, 17, 95, 99, 38,  9, 56, 47, 25, 49,\n       16, 92, 26, 72, 14, 21, 52, 27, 37, 53, 30, 34, 97, 80, 23])"
     },
     "execution_count": 16,
     "metadata": {},
     "output_type": "execute_result"
    }
   ],
   "source": [
    "np.random.permutation(100) # 生成一个0-99的随机排列"
   ],
   "metadata": {
    "collapsed": false,
    "ExecuteTime": {
     "end_time": "2023-11-30T11:14:34.913614Z",
     "start_time": "2023-11-30T11:14:34.902503Z"
    }
   },
   "id": "d1beef821b77ba4d"
  },
  {
   "cell_type": "code",
   "execution_count": 15,
   "outputs": [
    {
     "data": {
      "text/plain": "     C   A   B\n0   24  42  86\n1   82  55  22\n2   86  74  54\n3   19  51  97\n4   72  61  11\n..  ..  ..  ..\n95  42  18  75\n96  47  66  79\n97  94  20  81\n98  64  62  32\n99  15  85   1\n\n[100 rows x 3 columns]",
      "text/html": "<div>\n<style scoped>\n    .dataframe tbody tr th:only-of-type {\n        vertical-align: middle;\n    }\n\n    .dataframe tbody tr th {\n        vertical-align: top;\n    }\n\n    .dataframe thead th {\n        text-align: right;\n    }\n</style>\n<table border=\"1\" class=\"dataframe\">\n  <thead>\n    <tr style=\"text-align: right;\">\n      <th></th>\n      <th>C</th>\n      <th>A</th>\n      <th>B</th>\n    </tr>\n  </thead>\n  <tbody>\n    <tr>\n      <th>0</th>\n      <td>24</td>\n      <td>42</td>\n      <td>86</td>\n    </tr>\n    <tr>\n      <th>1</th>\n      <td>82</td>\n      <td>55</td>\n      <td>22</td>\n    </tr>\n    <tr>\n      <th>2</th>\n      <td>86</td>\n      <td>74</td>\n      <td>54</td>\n    </tr>\n    <tr>\n      <th>3</th>\n      <td>19</td>\n      <td>51</td>\n      <td>97</td>\n    </tr>\n    <tr>\n      <th>4</th>\n      <td>72</td>\n      <td>61</td>\n      <td>11</td>\n    </tr>\n    <tr>\n      <th>...</th>\n      <td>...</td>\n      <td>...</td>\n      <td>...</td>\n    </tr>\n    <tr>\n      <th>95</th>\n      <td>42</td>\n      <td>18</td>\n      <td>75</td>\n    </tr>\n    <tr>\n      <th>96</th>\n      <td>47</td>\n      <td>66</td>\n      <td>79</td>\n    </tr>\n    <tr>\n      <th>97</th>\n      <td>94</td>\n      <td>20</td>\n      <td>81</td>\n    </tr>\n    <tr>\n      <th>98</th>\n      <td>64</td>\n      <td>62</td>\n      <td>32</td>\n    </tr>\n    <tr>\n      <th>99</th>\n      <td>15</td>\n      <td>85</td>\n      <td>1</td>\n    </tr>\n  </tbody>\n</table>\n<p>100 rows × 3 columns</p>\n</div>"
     },
     "execution_count": 15,
     "metadata": {},
     "output_type": "execute_result"
    }
   ],
   "source": [
    "# 将原始数据打乱\n",
    "df.take([2,0,1],axis=1) # axis=1表示按照列进行打乱"
   ],
   "metadata": {
    "collapsed": false,
    "ExecuteTime": {
     "end_time": "2023-11-30T11:04:52.832889Z",
     "start_time": "2023-11-30T11:04:52.809619Z"
    }
   },
   "id": "f0749621c6e7d340"
  },
  {
   "cell_type": "code",
   "execution_count": 21,
   "outputs": [
    {
     "data": {
      "text/plain": "     A   C   B\n59  39  10  84\n32  37   2  81\n66  57  10  80\n92  15  34  12\n75  48  40  63\n1   55  82  22\n25  57  22   2\n27  17  71  47\n70   1  60  46\n87  52   6  54\n20  63  55  64\n12  42  74   0\n39  18   0  15\n41  50  70  10\n67  15  23  24\n48  12  87  18\n35  26  95  97\n58  12  61  44\n34  64  78  59\n88  61  45  60\n26  28  28  89\n19  19  60  86\n23  19  86  52\n9   50  58   9\n4   61  72  11\n29  10  12  36\n13  41  54  65\n90  70  92  73\n98  62  64  32\n37   6  67  57\n51  16  67  17\n72  48  72  98\n65  28  54  93\n96  66  47  79\n91  18  30  78\n5    2  20  75\n80  38  44  32\n68  44  55  82\n16  20  15  18\n14   1  17  11\n49  96   8  28\n73  96   1  21\n86  87  47  22\n8   53  68  74\n50  25  34  43\n82  62  79  69\n53  36  99  59\n83  11  22  18\n28  25  29  88\n64  86  63  94",
      "text/html": "<div>\n<style scoped>\n    .dataframe tbody tr th:only-of-type {\n        vertical-align: middle;\n    }\n\n    .dataframe tbody tr th {\n        vertical-align: top;\n    }\n\n    .dataframe thead th {\n        text-align: right;\n    }\n</style>\n<table border=\"1\" class=\"dataframe\">\n  <thead>\n    <tr style=\"text-align: right;\">\n      <th></th>\n      <th>A</th>\n      <th>C</th>\n      <th>B</th>\n    </tr>\n  </thead>\n  <tbody>\n    <tr>\n      <th>59</th>\n      <td>39</td>\n      <td>10</td>\n      <td>84</td>\n    </tr>\n    <tr>\n      <th>32</th>\n      <td>37</td>\n      <td>2</td>\n      <td>81</td>\n    </tr>\n    <tr>\n      <th>66</th>\n      <td>57</td>\n      <td>10</td>\n      <td>80</td>\n    </tr>\n    <tr>\n      <th>92</th>\n      <td>15</td>\n      <td>34</td>\n      <td>12</td>\n    </tr>\n    <tr>\n      <th>75</th>\n      <td>48</td>\n      <td>40</td>\n      <td>63</td>\n    </tr>\n    <tr>\n      <th>1</th>\n      <td>55</td>\n      <td>82</td>\n      <td>22</td>\n    </tr>\n    <tr>\n      <th>25</th>\n      <td>57</td>\n      <td>22</td>\n      <td>2</td>\n    </tr>\n    <tr>\n      <th>27</th>\n      <td>17</td>\n      <td>71</td>\n      <td>47</td>\n    </tr>\n    <tr>\n      <th>70</th>\n      <td>1</td>\n      <td>60</td>\n      <td>46</td>\n    </tr>\n    <tr>\n      <th>87</th>\n      <td>52</td>\n      <td>6</td>\n      <td>54</td>\n    </tr>\n    <tr>\n      <th>20</th>\n      <td>63</td>\n      <td>55</td>\n      <td>64</td>\n    </tr>\n    <tr>\n      <th>12</th>\n      <td>42</td>\n      <td>74</td>\n      <td>0</td>\n    </tr>\n    <tr>\n      <th>39</th>\n      <td>18</td>\n      <td>0</td>\n      <td>15</td>\n    </tr>\n    <tr>\n      <th>41</th>\n      <td>50</td>\n      <td>70</td>\n      <td>10</td>\n    </tr>\n    <tr>\n      <th>67</th>\n      <td>15</td>\n      <td>23</td>\n      <td>24</td>\n    </tr>\n    <tr>\n      <th>48</th>\n      <td>12</td>\n      <td>87</td>\n      <td>18</td>\n    </tr>\n    <tr>\n      <th>35</th>\n      <td>26</td>\n      <td>95</td>\n      <td>97</td>\n    </tr>\n    <tr>\n      <th>58</th>\n      <td>12</td>\n      <td>61</td>\n      <td>44</td>\n    </tr>\n    <tr>\n      <th>34</th>\n      <td>64</td>\n      <td>78</td>\n      <td>59</td>\n    </tr>\n    <tr>\n      <th>88</th>\n      <td>61</td>\n      <td>45</td>\n      <td>60</td>\n    </tr>\n    <tr>\n      <th>26</th>\n      <td>28</td>\n      <td>28</td>\n      <td>89</td>\n    </tr>\n    <tr>\n      <th>19</th>\n      <td>19</td>\n      <td>60</td>\n      <td>86</td>\n    </tr>\n    <tr>\n      <th>23</th>\n      <td>19</td>\n      <td>86</td>\n      <td>52</td>\n    </tr>\n    <tr>\n      <th>9</th>\n      <td>50</td>\n      <td>58</td>\n      <td>9</td>\n    </tr>\n    <tr>\n      <th>4</th>\n      <td>61</td>\n      <td>72</td>\n      <td>11</td>\n    </tr>\n    <tr>\n      <th>29</th>\n      <td>10</td>\n      <td>12</td>\n      <td>36</td>\n    </tr>\n    <tr>\n      <th>13</th>\n      <td>41</td>\n      <td>54</td>\n      <td>65</td>\n    </tr>\n    <tr>\n      <th>90</th>\n      <td>70</td>\n      <td>92</td>\n      <td>73</td>\n    </tr>\n    <tr>\n      <th>98</th>\n      <td>62</td>\n      <td>64</td>\n      <td>32</td>\n    </tr>\n    <tr>\n      <th>37</th>\n      <td>6</td>\n      <td>67</td>\n      <td>57</td>\n    </tr>\n    <tr>\n      <th>51</th>\n      <td>16</td>\n      <td>67</td>\n      <td>17</td>\n    </tr>\n    <tr>\n      <th>72</th>\n      <td>48</td>\n      <td>72</td>\n      <td>98</td>\n    </tr>\n    <tr>\n      <th>65</th>\n      <td>28</td>\n      <td>54</td>\n      <td>93</td>\n    </tr>\n    <tr>\n      <th>96</th>\n      <td>66</td>\n      <td>47</td>\n      <td>79</td>\n    </tr>\n    <tr>\n      <th>91</th>\n      <td>18</td>\n      <td>30</td>\n      <td>78</td>\n    </tr>\n    <tr>\n      <th>5</th>\n      <td>2</td>\n      <td>20</td>\n      <td>75</td>\n    </tr>\n    <tr>\n      <th>80</th>\n      <td>38</td>\n      <td>44</td>\n      <td>32</td>\n    </tr>\n    <tr>\n      <th>68</th>\n      <td>44</td>\n      <td>55</td>\n      <td>82</td>\n    </tr>\n    <tr>\n      <th>16</th>\n      <td>20</td>\n      <td>15</td>\n      <td>18</td>\n    </tr>\n    <tr>\n      <th>14</th>\n      <td>1</td>\n      <td>17</td>\n      <td>11</td>\n    </tr>\n    <tr>\n      <th>49</th>\n      <td>96</td>\n      <td>8</td>\n      <td>28</td>\n    </tr>\n    <tr>\n      <th>73</th>\n      <td>96</td>\n      <td>1</td>\n      <td>21</td>\n    </tr>\n    <tr>\n      <th>86</th>\n      <td>87</td>\n      <td>47</td>\n      <td>22</td>\n    </tr>\n    <tr>\n      <th>8</th>\n      <td>53</td>\n      <td>68</td>\n      <td>74</td>\n    </tr>\n    <tr>\n      <th>50</th>\n      <td>25</td>\n      <td>34</td>\n      <td>43</td>\n    </tr>\n    <tr>\n      <th>82</th>\n      <td>62</td>\n      <td>79</td>\n      <td>69</td>\n    </tr>\n    <tr>\n      <th>53</th>\n      <td>36</td>\n      <td>99</td>\n      <td>59</td>\n    </tr>\n    <tr>\n      <th>83</th>\n      <td>11</td>\n      <td>22</td>\n      <td>18</td>\n    </tr>\n    <tr>\n      <th>28</th>\n      <td>25</td>\n      <td>29</td>\n      <td>88</td>\n    </tr>\n    <tr>\n      <th>64</th>\n      <td>86</td>\n      <td>63</td>\n      <td>94</td>\n    </tr>\n  </tbody>\n</table>\n</div>"
     },
     "execution_count": 21,
     "metadata": {},
     "output_type": "execute_result"
    }
   ],
   "source": [
    "# 将行和列都打乱,并且随机抽取50行\n",
    "df.take(np.random.permutation(3),axis=1).take(np.random.permutation(100),axis=0)[0:50]"
   ],
   "metadata": {
    "collapsed": false,
    "ExecuteTime": {
     "end_time": "2023-11-30T11:18:07.679253Z",
     "start_time": "2023-11-30T11:18:07.650951Z"
    }
   },
   "id": "47ef9f588fdc5f45"
  }
 ],
 "metadata": {
  "kernelspec": {
   "display_name": "Python 3",
   "language": "python",
   "name": "python3"
  },
  "language_info": {
   "codemirror_mode": {
    "name": "ipython",
    "version": 2
   },
   "file_extension": ".py",
   "mimetype": "text/x-python",
   "name": "python",
   "nbconvert_exporter": "python",
   "pygments_lexer": "ipython2",
   "version": "2.7.6"
  }
 },
 "nbformat": 4,
 "nbformat_minor": 5
}
