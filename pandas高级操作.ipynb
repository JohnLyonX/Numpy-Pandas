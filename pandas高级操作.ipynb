{
 "cells": [
  {
   "cell_type": "code",
   "execution_count": 1,
   "id": "initial_id",
   "metadata": {
    "collapsed": true,
    "ExecuteTime": {
     "end_time": "2023-11-29T02:38:49.942904Z",
     "start_time": "2023-11-29T02:38:49.253292Z"
    }
   },
   "outputs": [],
   "source": [
    "import pandas as pd\n",
    "import numpy as np\n",
    "from pandas import DataFrame"
   ]
  },
  {
   "cell_type": "markdown",
   "source": [
    "#### 替换操作\n",
    "  - 替换操作可以同步作用于Series和DataFrame中\n",
    "  - 单值替换\n",
    "    - 普通替换: 替换所有符合要求的元素: to_replace=15,value='e'\n",
    "    - 按照指定单值替换: to_replace={列标签: 替换值} value='value'\n",
    "  - 多值替换\n",
    "    - 列表替换: to_replace=[] value=[]\n",
    "    - 字典替换(推荐) to_replace=(to_replace:value,to_replace:value)"
   ],
   "metadata": {
    "collapsed": false
   },
   "id": "61c28c5e3e59c9c6"
  },
  {
   "cell_type": "code",
   "execution_count": 2,
   "outputs": [
    {
     "data": {
      "text/plain": "    0   1   2   3   4   5\n0  16  91   8  33  34  83\n1  84  62  86  74  70  26\n2  83  27  17  45  15  11\n3   3  18  18  38  36  75\n4  91  93  19  51  29  34",
      "text/html": "<div>\n<style scoped>\n    .dataframe tbody tr th:only-of-type {\n        vertical-align: middle;\n    }\n\n    .dataframe tbody tr th {\n        vertical-align: top;\n    }\n\n    .dataframe thead th {\n        text-align: right;\n    }\n</style>\n<table border=\"1\" class=\"dataframe\">\n  <thead>\n    <tr style=\"text-align: right;\">\n      <th></th>\n      <th>0</th>\n      <th>1</th>\n      <th>2</th>\n      <th>3</th>\n      <th>4</th>\n      <th>5</th>\n    </tr>\n  </thead>\n  <tbody>\n    <tr>\n      <th>0</th>\n      <td>16</td>\n      <td>91</td>\n      <td>8</td>\n      <td>33</td>\n      <td>34</td>\n      <td>83</td>\n    </tr>\n    <tr>\n      <th>1</th>\n      <td>84</td>\n      <td>62</td>\n      <td>86</td>\n      <td>74</td>\n      <td>70</td>\n      <td>26</td>\n    </tr>\n    <tr>\n      <th>2</th>\n      <td>83</td>\n      <td>27</td>\n      <td>17</td>\n      <td>45</td>\n      <td>15</td>\n      <td>11</td>\n    </tr>\n    <tr>\n      <th>3</th>\n      <td>3</td>\n      <td>18</td>\n      <td>18</td>\n      <td>38</td>\n      <td>36</td>\n      <td>75</td>\n    </tr>\n    <tr>\n      <th>4</th>\n      <td>91</td>\n      <td>93</td>\n      <td>19</td>\n      <td>51</td>\n      <td>29</td>\n      <td>34</td>\n    </tr>\n  </tbody>\n</table>\n</div>"
     },
     "execution_count": 2,
     "metadata": {},
     "output_type": "execute_result"
    }
   ],
   "source": [
    "df = DataFrame(np.random.randint(0,100,size=(5,6)))\n",
    "df"
   ],
   "metadata": {
    "collapsed": false,
    "ExecuteTime": {
     "end_time": "2023-11-29T02:49:20.254628Z",
     "start_time": "2023-11-29T02:49:20.198914Z"
    }
   },
   "id": "f688a01a46128ba8"
  },
  {
   "cell_type": "code",
   "execution_count": 6,
   "outputs": [
    {
     "data": {
      "text/plain": "     0   1   2   3   4   5\n0  Two  91   8  33  34  83\n1   84  62  86  74  70  26\n2   83  27  17  45  15  11\n3    3  18  18  38  36  75\n4   91  93  19  51  29  34",
      "text/html": "<div>\n<style scoped>\n    .dataframe tbody tr th:only-of-type {\n        vertical-align: middle;\n    }\n\n    .dataframe tbody tr th {\n        vertical-align: top;\n    }\n\n    .dataframe thead th {\n        text-align: right;\n    }\n</style>\n<table border=\"1\" class=\"dataframe\">\n  <thead>\n    <tr style=\"text-align: right;\">\n      <th></th>\n      <th>0</th>\n      <th>1</th>\n      <th>2</th>\n      <th>3</th>\n      <th>4</th>\n      <th>5</th>\n    </tr>\n  </thead>\n  <tbody>\n    <tr>\n      <th>0</th>\n      <td>Two</td>\n      <td>91</td>\n      <td>8</td>\n      <td>33</td>\n      <td>34</td>\n      <td>83</td>\n    </tr>\n    <tr>\n      <th>1</th>\n      <td>84</td>\n      <td>62</td>\n      <td>86</td>\n      <td>74</td>\n      <td>70</td>\n      <td>26</td>\n    </tr>\n    <tr>\n      <th>2</th>\n      <td>83</td>\n      <td>27</td>\n      <td>17</td>\n      <td>45</td>\n      <td>15</td>\n      <td>11</td>\n    </tr>\n    <tr>\n      <th>3</th>\n      <td>3</td>\n      <td>18</td>\n      <td>18</td>\n      <td>38</td>\n      <td>36</td>\n      <td>75</td>\n    </tr>\n    <tr>\n      <th>4</th>\n      <td>91</td>\n      <td>93</td>\n      <td>19</td>\n      <td>51</td>\n      <td>29</td>\n      <td>34</td>\n    </tr>\n  </tbody>\n</table>\n</div>"
     },
     "execution_count": 6,
     "metadata": {},
     "output_type": "execute_result"
    }
   ],
   "source": [
    "df.replace(to_replace=16,value='Two') # 把16的值都进行替换"
   ],
   "metadata": {
    "collapsed": false,
    "ExecuteTime": {
     "end_time": "2023-11-29T03:00:53.746150Z",
     "start_time": "2023-11-29T03:00:53.709504Z"
    }
   },
   "id": "9f123f100d956f57"
  },
  {
   "cell_type": "code",
   "execution_count": 7,
   "outputs": [
    {
     "data": {
      "text/plain": "    0     1   2   3   4   5\n0  16    91   8  33  34  83\n1  84  John  86  74  70  26\n2  83    27  17  45  15  11\n3   3    18  18  38  36  75\n4  91    93  19  51  29  34",
      "text/html": "<div>\n<style scoped>\n    .dataframe tbody tr th:only-of-type {\n        vertical-align: middle;\n    }\n\n    .dataframe tbody tr th {\n        vertical-align: top;\n    }\n\n    .dataframe thead th {\n        text-align: right;\n    }\n</style>\n<table border=\"1\" class=\"dataframe\">\n  <thead>\n    <tr style=\"text-align: right;\">\n      <th></th>\n      <th>0</th>\n      <th>1</th>\n      <th>2</th>\n      <th>3</th>\n      <th>4</th>\n      <th>5</th>\n    </tr>\n  </thead>\n  <tbody>\n    <tr>\n      <th>0</th>\n      <td>16</td>\n      <td>91</td>\n      <td>8</td>\n      <td>33</td>\n      <td>34</td>\n      <td>83</td>\n    </tr>\n    <tr>\n      <th>1</th>\n      <td>84</td>\n      <td>John</td>\n      <td>86</td>\n      <td>74</td>\n      <td>70</td>\n      <td>26</td>\n    </tr>\n    <tr>\n      <th>2</th>\n      <td>83</td>\n      <td>27</td>\n      <td>17</td>\n      <td>45</td>\n      <td>15</td>\n      <td>11</td>\n    </tr>\n    <tr>\n      <th>3</th>\n      <td>3</td>\n      <td>18</td>\n      <td>18</td>\n      <td>38</td>\n      <td>36</td>\n      <td>75</td>\n    </tr>\n    <tr>\n      <th>4</th>\n      <td>91</td>\n      <td>93</td>\n      <td>19</td>\n      <td>51</td>\n      <td>29</td>\n      <td>34</td>\n    </tr>\n  </tbody>\n</table>\n</div>"
     },
     "execution_count": 7,
     "metadata": {},
     "output_type": "execute_result"
    }
   ],
   "source": [
    "df.replace(to_replace={62:'John'}) # 把62的值都进行替换 "
   ],
   "metadata": {
    "collapsed": false,
    "ExecuteTime": {
     "end_time": "2023-11-29T03:14:25.291316Z",
     "start_time": "2023-11-29T03:14:25.181715Z"
    }
   },
   "id": "d62d02d11461d656"
  },
  {
   "cell_type": "code",
   "execution_count": 14,
   "outputs": [
    {
     "data": {
      "text/plain": "    0   1     2   3   4   5\n0  16  91     8  33  34  83\n1  84  62    86  74  70  26\n2  83  27  five  45  15  11\n3   3  18    18  38  36  75\n4  91  93    19  51  29  34",
      "text/html": "<div>\n<style scoped>\n    .dataframe tbody tr th:only-of-type {\n        vertical-align: middle;\n    }\n\n    .dataframe tbody tr th {\n        vertical-align: top;\n    }\n\n    .dataframe thead th {\n        text-align: right;\n    }\n</style>\n<table border=\"1\" class=\"dataframe\">\n  <thead>\n    <tr style=\"text-align: right;\">\n      <th></th>\n      <th>0</th>\n      <th>1</th>\n      <th>2</th>\n      <th>3</th>\n      <th>4</th>\n      <th>5</th>\n    </tr>\n  </thead>\n  <tbody>\n    <tr>\n      <th>0</th>\n      <td>16</td>\n      <td>91</td>\n      <td>8</td>\n      <td>33</td>\n      <td>34</td>\n      <td>83</td>\n    </tr>\n    <tr>\n      <th>1</th>\n      <td>84</td>\n      <td>62</td>\n      <td>86</td>\n      <td>74</td>\n      <td>70</td>\n      <td>26</td>\n    </tr>\n    <tr>\n      <th>2</th>\n      <td>83</td>\n      <td>27</td>\n      <td>five</td>\n      <td>45</td>\n      <td>15</td>\n      <td>11</td>\n    </tr>\n    <tr>\n      <th>3</th>\n      <td>3</td>\n      <td>18</td>\n      <td>18</td>\n      <td>38</td>\n      <td>36</td>\n      <td>75</td>\n    </tr>\n    <tr>\n      <th>4</th>\n      <td>91</td>\n      <td>93</td>\n      <td>19</td>\n      <td>51</td>\n      <td>29</td>\n      <td>34</td>\n    </tr>\n  </tbody>\n</table>\n</div>"
     },
     "execution_count": 14,
     "metadata": {},
     "output_type": "execute_result"
    }
   ],
   "source": [
    "df.replace(to_replace={2:17},value='five') # 将2列的17替换为five\n",
    "# 将指定列的元素进行替换to_replace={列标签: 被替换值} value='value'"
   ],
   "metadata": {
    "collapsed": false,
    "ExecuteTime": {
     "end_time": "2023-11-29T03:32:50.616615Z",
     "start_time": "2023-11-29T03:32:50.566652Z"
    }
   },
   "id": "27a7cd6c87cd5ce5"
  },
  {
   "cell_type": "markdown",
   "source": [
    "### 映射操作\n",
    "  - 概念: 创建一个映射关系列表,把values元素和一个特定的标签或者字符串绑定(给一个元素值提供不同的表现形式)\n",
    "  - 创建一个df,两列分别是姓名和薪资,然后给其名字起对应的英文名"
   ],
   "metadata": {
    "collapsed": false
   },
   "id": "f47f0f555e47acaf"
  },
  {
   "cell_type": "code",
   "execution_count": 17,
   "outputs": [
    {
     "data": {
      "text/plain": "    name  salary\n0   John   10000\n1   Jack    4500\n2    Tom    8000\n3  Marry    6000\n4   Zack    7000",
      "text/html": "<div>\n<style scoped>\n    .dataframe tbody tr th:only-of-type {\n        vertical-align: middle;\n    }\n\n    .dataframe tbody tr th {\n        vertical-align: top;\n    }\n\n    .dataframe thead th {\n        text-align: right;\n    }\n</style>\n<table border=\"1\" class=\"dataframe\">\n  <thead>\n    <tr style=\"text-align: right;\">\n      <th></th>\n      <th>name</th>\n      <th>salary</th>\n    </tr>\n  </thead>\n  <tbody>\n    <tr>\n      <th>0</th>\n      <td>John</td>\n      <td>10000</td>\n    </tr>\n    <tr>\n      <th>1</th>\n      <td>Jack</td>\n      <td>4500</td>\n    </tr>\n    <tr>\n      <th>2</th>\n      <td>Tom</td>\n      <td>8000</td>\n    </tr>\n    <tr>\n      <th>3</th>\n      <td>Marry</td>\n      <td>6000</td>\n    </tr>\n    <tr>\n      <th>4</th>\n      <td>Zack</td>\n      <td>7000</td>\n    </tr>\n  </tbody>\n</table>\n</div>"
     },
     "execution_count": 17,
     "metadata": {},
     "output_type": "execute_result"
    }
   ],
   "source": [
    "dic = {\n",
    "    'name': ['John','Jack','Tom','Marry','Zack'],\n",
    "    'salary': [10000,4500,8000,6000,7000]\n",
    "}\n",
    "df = DataFrame(dic)\n",
    "df"
   ],
   "metadata": {
    "collapsed": false,
    "ExecuteTime": {
     "end_time": "2023-11-29T03:58:12.473595Z",
     "start_time": "2023-11-29T03:58:12.460562Z"
    }
   },
   "id": "dbc3860f2a9cd830"
  },
  {
   "cell_type": "code",
   "execution_count": 21,
   "outputs": [
    {
     "data": {
      "text/plain": "    name  salary e_name\n0   John   10000     约翰\n1   Jack    4500     杰克\n2    Tom    8000     汤姆\n3  Marry    6000     玛丽\n4   Zack    7000     扎克",
      "text/html": "<div>\n<style scoped>\n    .dataframe tbody tr th:only-of-type {\n        vertical-align: middle;\n    }\n\n    .dataframe tbody tr th {\n        vertical-align: top;\n    }\n\n    .dataframe thead th {\n        text-align: right;\n    }\n</style>\n<table border=\"1\" class=\"dataframe\">\n  <thead>\n    <tr style=\"text-align: right;\">\n      <th></th>\n      <th>name</th>\n      <th>salary</th>\n      <th>e_name</th>\n    </tr>\n  </thead>\n  <tbody>\n    <tr>\n      <th>0</th>\n      <td>John</td>\n      <td>10000</td>\n      <td>约翰</td>\n    </tr>\n    <tr>\n      <th>1</th>\n      <td>Jack</td>\n      <td>4500</td>\n      <td>杰克</td>\n    </tr>\n    <tr>\n      <th>2</th>\n      <td>Tom</td>\n      <td>8000</td>\n      <td>汤姆</td>\n    </tr>\n    <tr>\n      <th>3</th>\n      <td>Marry</td>\n      <td>6000</td>\n      <td>玛丽</td>\n    </tr>\n    <tr>\n      <th>4</th>\n      <td>Zack</td>\n      <td>7000</td>\n      <td>扎克</td>\n    </tr>\n  </tbody>\n</table>\n</div>"
     },
     "execution_count": 21,
     "metadata": {},
     "output_type": "execute_result"
    }
   ],
   "source": [
    "# 创建一个映射关系列表\n",
    "dic = {\n",
    "    'John': '约翰',\n",
    "    'Jack': '杰克',\n",
    "    'Tom': '汤姆',\n",
    "    'Marry': '玛丽',\n",
    "    'Zack': '扎克'\n",
    "}\n",
    "df['e_name'] = df['name'].map(dic) # 将name列的值进行映射\n",
    "df"
   ],
   "metadata": {
    "collapsed": false,
    "ExecuteTime": {
     "end_time": "2023-11-29T04:00:27.884416Z",
     "start_time": "2023-11-29T04:00:27.866771Z"
    }
   },
   "id": "d30916eedf12f7cf"
  }
 ],
 "metadata": {
  "kernelspec": {
   "display_name": "Python 3",
   "language": "python",
   "name": "python3"
  },
  "language_info": {
   "codemirror_mode": {
    "name": "ipython",
    "version": 2
   },
   "file_extension": ".py",
   "mimetype": "text/x-python",
   "name": "python",
   "nbconvert_exporter": "python",
   "pygments_lexer": "ipython2",
   "version": "2.7.6"
  }
 },
 "nbformat": 4,
 "nbformat_minor": 5
}
